{
  "nbformat": 4,
  "nbformat_minor": 0,
  "metadata": {
    "kernelspec": {
      "display_name": "Python 3",
      "language": "python",
      "name": "python3"
    },
    "language_info": {
      "codemirror_mode": {
        "name": "ipython",
        "version": 3
      },
      "file_extension": ".py",
      "mimetype": "text/x-python",
      "name": "python",
      "nbconvert_exporter": "python",
      "pygments_lexer": "ipython3",
      "version": "3.7.3"
    },
    "colab": {
      "name": "Rain_in_Australia_template.ipynb",
      "provenance": []
    }
  },
  "cells": [
    {
      "cell_type": "markdown",
      "metadata": {
        "id": "40HCfCO9DEHp",
        "colab_type": "text"
      },
      "source": [
        "\n",
        "# Rain In Australia\n"
      ]
    },
    {
      "cell_type": "markdown",
      "metadata": {
        "id": "YP32YwqUDEH5",
        "colab_type": "text"
      },
      "source": [
        "Rains are essential part of our lives. Clouds give the gift of rains to humans. Weather department tries to forecast when will it rain. So,try to predict whether it will rain in Australia tomorrow or not."
      ]
    },
    {
      "cell_type": "markdown",
      "metadata": {
        "id": "EWPpV-rVDEID",
        "colab_type": "text"
      },
      "source": [
        "Hence, in this kernel,we are going to implement Decision Tree Classifier with Python and Scikit-Learn and build a classifier to predict whether or not it will rain tomorrow in Australia.lets train a binary classification model using Decision Tree Classifier."
      ]
    },
    {
      "cell_type": "markdown",
      "metadata": {
        "id": "aycO_jwuDEIK",
        "colab_type": "text"
      },
      "source": [
        "## Import libraries\n",
        "Lets import all the libraries that we'll need during this project."
      ]
    },
    {
      "cell_type": "code",
      "metadata": {
        "trusted": true,
        "id": "8DP0mv0VDEIS",
        "colab_type": "code",
        "colab": {
          "base_uri": "https://localhost:8080/",
          "height": 74
        },
        "outputId": "21a77cc9-2da9-42bb-cf86-825be4ce9545"
      },
      "source": [
        "import numpy as np # linear algebra\n",
        "import pandas as pd # data processing,\n",
        "import matplotlib.pyplot as plt\n",
        "import seaborn as sns\n",
        "%matplotlib inline"
      ],
      "execution_count": 1,
      "outputs": [
        {
          "output_type": "stream",
          "text": [
            "/usr/local/lib/python3.6/dist-packages/statsmodels/tools/_testing.py:19: FutureWarning: pandas.util.testing is deprecated. Use the functions in the public API at pandas.testing instead.\n",
            "  import pandas.util.testing as tm\n"
          ],
          "name": "stderr"
        }
      ]
    },
    {
      "cell_type": "markdown",
      "metadata": {
        "id": "ViKbZahcDEJP",
        "colab_type": "text"
      },
      "source": [
        "## Import dataset\n",
        "The next step is to import the dataset."
      ]
    },
    {
      "cell_type": "code",
      "metadata": {
        "trusted": true,
        "id": "oiW0d6iBDEJX",
        "colab_type": "code",
        "colab": {}
      },
      "source": [
        "data = '../weatherAUS.csv'\n",
        "\n",
        "df = pd.read_csv(data)"
      ],
      "execution_count": 0,
      "outputs": []
    },
    {
      "cell_type": "markdown",
      "metadata": {
        "id": "hx93hKjYDEJz",
        "colab_type": "text"
      },
      "source": [
        "## Data Analysis \n",
        "\n",
        "- We have imported the data. \n",
        "- Now, its time to explore the data to gain insights about it. "
      ]
    },
    {
      "cell_type": "code",
      "metadata": {
        "trusted": true,
        "id": "t_7-HRFTDEJ9",
        "colab_type": "code",
        "colab": {}
      },
      "source": [
        "# View dimensions of dataset "
      ],
      "execution_count": 0,
      "outputs": []
    },
    {
      "cell_type": "markdown",
      "metadata": {
        "id": "3WJdqorFDEKf",
        "colab_type": "text"
      },
      "source": [
        "We can see how many instances and variables are there in the data set."
      ]
    },
    {
      "cell_type": "code",
      "metadata": {
        "trusted": true,
        "id": "slFOIxh6DEKq",
        "colab_type": "code",
        "colab": {},
        "outputId": "07bd542a-ee3a-4989-9233-eb36098de68e"
      },
      "source": [
        "# Preview the dataset \n",
        "df.head()"
      ],
      "execution_count": 0,
      "outputs": [
        {
          "output_type": "execute_result",
          "data": {
            "text/plain": [
              "         Date Location  MinTemp  MaxTemp  Rainfall  Evaporation  Sunshine  \\\n",
              "0  2008-12-01   Albury     13.4     22.9       0.6          NaN       NaN   \n",
              "1  2008-12-02   Albury      7.4     25.1       0.0          NaN       NaN   \n",
              "2  2008-12-03   Albury     12.9     25.7       0.0          NaN       NaN   \n",
              "3  2008-12-04   Albury      9.2     28.0       0.0          NaN       NaN   \n",
              "4  2008-12-05   Albury     17.5     32.3       1.0          NaN       NaN   \n",
              "\n",
              "  WindGustDir  WindGustSpeed WindDir9am  ... Humidity3pm  Pressure9am  \\\n",
              "0           W           44.0          W  ...        22.0       1007.7   \n",
              "1         WNW           44.0        NNW  ...        25.0       1010.6   \n",
              "2         WSW           46.0          W  ...        30.0       1007.6   \n",
              "3          NE           24.0         SE  ...        16.0       1017.6   \n",
              "4           W           41.0        ENE  ...        33.0       1010.8   \n",
              "\n",
              "   Pressure3pm  Cloud9am  Cloud3pm  Temp9am  Temp3pm  RainToday  RISK_MM  \\\n",
              "0       1007.1       8.0       NaN     16.9     21.8         No      0.0   \n",
              "1       1007.8       NaN       NaN     17.2     24.3         No      0.0   \n",
              "2       1008.7       NaN       2.0     21.0     23.2         No      0.0   \n",
              "3       1012.8       NaN       NaN     18.1     26.5         No      1.0   \n",
              "4       1006.0       7.0       8.0     17.8     29.7         No      0.2   \n",
              "\n",
              "   RainTomorrow  \n",
              "0            No  \n",
              "1            No  \n",
              "2            No  \n",
              "3            No  \n",
              "4            No  \n",
              "\n",
              "[5 rows x 24 columns]"
            ],
            "text/html": [
              "<div>\n",
              "<style scoped>\n",
              "    .dataframe tbody tr th:only-of-type {\n",
              "        vertical-align: middle;\n",
              "    }\n",
              "\n",
              "    .dataframe tbody tr th {\n",
              "        vertical-align: top;\n",
              "    }\n",
              "\n",
              "    .dataframe thead th {\n",
              "        text-align: right;\n",
              "    }\n",
              "</style>\n",
              "<table border=\"1\" class=\"dataframe\">\n",
              "  <thead>\n",
              "    <tr style=\"text-align: right;\">\n",
              "      <th></th>\n",
              "      <th>Date</th>\n",
              "      <th>Location</th>\n",
              "      <th>MinTemp</th>\n",
              "      <th>MaxTemp</th>\n",
              "      <th>Rainfall</th>\n",
              "      <th>Evaporation</th>\n",
              "      <th>Sunshine</th>\n",
              "      <th>WindGustDir</th>\n",
              "      <th>WindGustSpeed</th>\n",
              "      <th>WindDir9am</th>\n",
              "      <th>...</th>\n",
              "      <th>Humidity3pm</th>\n",
              "      <th>Pressure9am</th>\n",
              "      <th>Pressure3pm</th>\n",
              "      <th>Cloud9am</th>\n",
              "      <th>Cloud3pm</th>\n",
              "      <th>Temp9am</th>\n",
              "      <th>Temp3pm</th>\n",
              "      <th>RainToday</th>\n",
              "      <th>RISK_MM</th>\n",
              "      <th>RainTomorrow</th>\n",
              "    </tr>\n",
              "  </thead>\n",
              "  <tbody>\n",
              "    <tr>\n",
              "      <td>0</td>\n",
              "      <td>2008-12-01</td>\n",
              "      <td>Albury</td>\n",
              "      <td>13.4</td>\n",
              "      <td>22.9</td>\n",
              "      <td>0.6</td>\n",
              "      <td>NaN</td>\n",
              "      <td>NaN</td>\n",
              "      <td>W</td>\n",
              "      <td>44.0</td>\n",
              "      <td>W</td>\n",
              "      <td>...</td>\n",
              "      <td>22.0</td>\n",
              "      <td>1007.7</td>\n",
              "      <td>1007.1</td>\n",
              "      <td>8.0</td>\n",
              "      <td>NaN</td>\n",
              "      <td>16.9</td>\n",
              "      <td>21.8</td>\n",
              "      <td>No</td>\n",
              "      <td>0.0</td>\n",
              "      <td>No</td>\n",
              "    </tr>\n",
              "    <tr>\n",
              "      <td>1</td>\n",
              "      <td>2008-12-02</td>\n",
              "      <td>Albury</td>\n",
              "      <td>7.4</td>\n",
              "      <td>25.1</td>\n",
              "      <td>0.0</td>\n",
              "      <td>NaN</td>\n",
              "      <td>NaN</td>\n",
              "      <td>WNW</td>\n",
              "      <td>44.0</td>\n",
              "      <td>NNW</td>\n",
              "      <td>...</td>\n",
              "      <td>25.0</td>\n",
              "      <td>1010.6</td>\n",
              "      <td>1007.8</td>\n",
              "      <td>NaN</td>\n",
              "      <td>NaN</td>\n",
              "      <td>17.2</td>\n",
              "      <td>24.3</td>\n",
              "      <td>No</td>\n",
              "      <td>0.0</td>\n",
              "      <td>No</td>\n",
              "    </tr>\n",
              "    <tr>\n",
              "      <td>2</td>\n",
              "      <td>2008-12-03</td>\n",
              "      <td>Albury</td>\n",
              "      <td>12.9</td>\n",
              "      <td>25.7</td>\n",
              "      <td>0.0</td>\n",
              "      <td>NaN</td>\n",
              "      <td>NaN</td>\n",
              "      <td>WSW</td>\n",
              "      <td>46.0</td>\n",
              "      <td>W</td>\n",
              "      <td>...</td>\n",
              "      <td>30.0</td>\n",
              "      <td>1007.6</td>\n",
              "      <td>1008.7</td>\n",
              "      <td>NaN</td>\n",
              "      <td>2.0</td>\n",
              "      <td>21.0</td>\n",
              "      <td>23.2</td>\n",
              "      <td>No</td>\n",
              "      <td>0.0</td>\n",
              "      <td>No</td>\n",
              "    </tr>\n",
              "    <tr>\n",
              "      <td>3</td>\n",
              "      <td>2008-12-04</td>\n",
              "      <td>Albury</td>\n",
              "      <td>9.2</td>\n",
              "      <td>28.0</td>\n",
              "      <td>0.0</td>\n",
              "      <td>NaN</td>\n",
              "      <td>NaN</td>\n",
              "      <td>NE</td>\n",
              "      <td>24.0</td>\n",
              "      <td>SE</td>\n",
              "      <td>...</td>\n",
              "      <td>16.0</td>\n",
              "      <td>1017.6</td>\n",
              "      <td>1012.8</td>\n",
              "      <td>NaN</td>\n",
              "      <td>NaN</td>\n",
              "      <td>18.1</td>\n",
              "      <td>26.5</td>\n",
              "      <td>No</td>\n",
              "      <td>1.0</td>\n",
              "      <td>No</td>\n",
              "    </tr>\n",
              "    <tr>\n",
              "      <td>4</td>\n",
              "      <td>2008-12-05</td>\n",
              "      <td>Albury</td>\n",
              "      <td>17.5</td>\n",
              "      <td>32.3</td>\n",
              "      <td>1.0</td>\n",
              "      <td>NaN</td>\n",
              "      <td>NaN</td>\n",
              "      <td>W</td>\n",
              "      <td>41.0</td>\n",
              "      <td>ENE</td>\n",
              "      <td>...</td>\n",
              "      <td>33.0</td>\n",
              "      <td>1010.8</td>\n",
              "      <td>1006.0</td>\n",
              "      <td>7.0</td>\n",
              "      <td>8.0</td>\n",
              "      <td>17.8</td>\n",
              "      <td>29.7</td>\n",
              "      <td>No</td>\n",
              "      <td>0.2</td>\n",
              "      <td>No</td>\n",
              "    </tr>\n",
              "  </tbody>\n",
              "</table>\n",
              "<p>5 rows × 24 columns</p>\n",
              "</div>"
            ]
          },
          "metadata": {
            "tags": []
          },
          "execution_count": 39
        }
      ]
    },
    {
      "cell_type": "markdown",
      "metadata": {
        "id": "mshZxh8XDELF",
        "colab_type": "text"
      },
      "source": [
        "### View column names <a class=\"anchor\" id=\"4.3\"></a>"
      ]
    },
    {
      "cell_type": "code",
      "metadata": {
        "trusted": true,
        "id": "KPxBg8TLDELM",
        "colab_type": "code",
        "colab": {},
        "outputId": "e9d89466-67f1-4d93-c956-00f099138100"
      },
      "source": [
        "col_names = df.columns\n",
        "\n",
        "col_names"
      ],
      "execution_count": 0,
      "outputs": [
        {
          "output_type": "execute_result",
          "data": {
            "text/plain": [
              "Index(['Date', 'Location', 'MinTemp', 'MaxTemp', 'Rainfall', 'Evaporation',\n",
              "       'Sunshine', 'WindGustDir', 'WindGustSpeed', 'WindDir9am', 'WindDir3pm',\n",
              "       'WindSpeed9am', 'WindSpeed3pm', 'Humidity9am', 'Humidity3pm',\n",
              "       'Pressure9am', 'Pressure3pm', 'Cloud9am', 'Cloud3pm', 'Temp9am',\n",
              "       'Temp3pm', 'RainToday', 'RISK_MM', 'RainTomorrow'],\n",
              "      dtype='object')"
            ]
          },
          "metadata": {
            "tags": []
          },
          "execution_count": 40
        }
      ]
    },
    {
      "cell_type": "markdown",
      "metadata": {
        "id": "aPn0oCO9DELt",
        "colab_type": "text"
      },
      "source": [
        "### Drop  RISK_MM variable <a class=\"anchor\" id=\"4.4\"></a>\n",
        "\n",
        "It is given in the dataset description, that we should drop the `RISK_MM` feature variable from the dataset description. So, we \n",
        "should drop it as follows-"
      ]
    },
    {
      "cell_type": "code",
      "metadata": {
        "trusted": true,
        "id": "JrXEDM5oDELx",
        "colab_type": "code",
        "colab": {}
      },
      "source": [
        "df.drop(['RISK_MM'], axis=1, inplace=True)"
      ],
      "execution_count": 0,
      "outputs": []
    },
    {
      "cell_type": "code",
      "metadata": {
        "trusted": true,
        "id": "4pRGbu2pDEMV",
        "colab_type": "code",
        "colab": {}
      },
      "source": [
        "# View summary of dataset "
      ],
      "execution_count": 0,
      "outputs": []
    },
    {
      "cell_type": "markdown",
      "metadata": {
        "id": "EcjnFWF3HnZ6",
        "colab_type": "text"
      },
      "source": [
        "### Explore RainTomorrow target variable"
      ]
    },
    {
      "cell_type": "code",
      "metadata": {
        "id": "OOkmv7xpG3fN",
        "colab_type": "code",
        "colab": {}
      },
      "source": [
        "# Explore RainTomorrow target variable"
      ],
      "execution_count": 0,
      "outputs": []
    },
    {
      "cell_type": "code",
      "metadata": {
        "id": "Sp6WtaAPG_51",
        "colab_type": "code",
        "colab": {}
      },
      "source": [
        "# Check for missing values in RainTomorrow"
      ],
      "execution_count": 0,
      "outputs": []
    },
    {
      "cell_type": "code",
      "metadata": {
        "trusted": true,
        "id": "Mt6JeX02DEOX",
        "colab_type": "code",
        "colab": {}
      },
      "source": [
        "# View number of unique values\n"
      ],
      "execution_count": 0,
      "outputs": []
    },
    {
      "cell_type": "markdown",
      "metadata": {
        "id": "XTG8tlIgDEOx",
        "colab_type": "text"
      },
      "source": [
        "We can see that the number of unique values in `RainTomorrow` variable."
      ]
    },
    {
      "cell_type": "markdown",
      "metadata": {
        "id": "Z9r-4IOMDEP_",
        "colab_type": "text"
      },
      "source": [
        "#### View percentage of frequency distribution of values"
      ]
    },
    {
      "cell_type": "code",
      "metadata": {
        "trusted": true,
        "id": "mH_m06ntDEQC",
        "colab_type": "code",
        "colab": {}
      },
      "source": [
        "# View percentage of frequency distribution of values\n"
      ],
      "execution_count": 0,
      "outputs": []
    },
    {
      "cell_type": "code",
      "metadata": {
        "trusted": true,
        "id": "sZazq6TvDEQh",
        "colab_type": "code",
        "colab": {}
      },
      "source": [
        "#Visualize frequency distribution of RainTomorrow variable\n"
      ],
      "execution_count": 0,
      "outputs": []
    },
    {
      "cell_type": "markdown",
      "metadata": {
        "id": "BdVa6GIUDERV",
        "colab_type": "text"
      },
      "source": [
        "### Explore Categorical Variables <a class=\"anchor\" id=\"6.2\"></a>"
      ]
    },
    {
      "cell_type": "code",
      "metadata": {
        "trusted": true,
        "id": "JbXRnENIDERX",
        "colab_type": "code",
        "colab": {}
      },
      "source": [
        "# find categorical variables\n"
      ],
      "execution_count": 0,
      "outputs": []
    },
    {
      "cell_type": "code",
      "metadata": {
        "trusted": true,
        "id": "otc4DGtUDERu",
        "colab_type": "code",
        "colab": {}
      },
      "source": [
        "# view the categorical variables\n"
      ],
      "execution_count": 0,
      "outputs": []
    },
    {
      "cell_type": "markdown",
      "metadata": {
        "id": "I4KSLajDDEV6",
        "colab_type": "text"
      },
      "source": [
        "### Explore `Location` variable\n",
        "\n",
        "\n"
      ]
    },
    {
      "cell_type": "code",
      "metadata": {
        "trusted": true,
        "id": "PJbccrE7DEV9",
        "colab_type": "code",
        "colab": {}
      },
      "source": [
        "# print number of labels in Location variable\n",
        "\n"
      ],
      "execution_count": 0,
      "outputs": []
    },
    {
      "cell_type": "code",
      "metadata": {
        "trusted": true,
        "id": "6hTf_eEDDEWN",
        "colab_type": "code",
        "colab": {}
      },
      "source": [
        "# check labels in location variable\n",
        "\n"
      ],
      "execution_count": 0,
      "outputs": []
    },
    {
      "cell_type": "code",
      "metadata": {
        "trusted": true,
        "id": "54D1lL9VDEWf",
        "colab_type": "code",
        "colab": {}
      },
      "source": [
        "# check frequency distribution of values in Location variable\n",
        "\n"
      ],
      "execution_count": 0,
      "outputs": []
    },
    {
      "cell_type": "code",
      "metadata": {
        "trusted": true,
        "id": "4mEA97AtDEW1",
        "colab_type": "code",
        "colab": {}
      },
      "source": [
        "# let's do One Hot Encoding of Location variable\n",
        "# get k-1 dummy variables after One Hot Encoding \n",
        "# preview the dataset with head() method\n",
        "\n"
      ],
      "execution_count": 0,
      "outputs": []
    },
    {
      "cell_type": "markdown",
      "metadata": {
        "id": "MgLQL6uLDEXI",
        "colab_type": "text"
      },
      "source": [
        "### Explore `WindGustDir` variable"
      ]
    },
    {
      "cell_type": "code",
      "metadata": {
        "trusted": true,
        "id": "29mK557EDEXL",
        "colab_type": "code",
        "colab": {}
      },
      "source": [
        "# print number of labels in WindGustDir variable\n",
        "\n"
      ],
      "execution_count": 0,
      "outputs": []
    },
    {
      "cell_type": "code",
      "metadata": {
        "trusted": true,
        "id": "qdNJVtl2DEXj",
        "colab_type": "code",
        "colab": {}
      },
      "source": [
        "# check labels in WindGustDir variable\n"
      ],
      "execution_count": 0,
      "outputs": []
    },
    {
      "cell_type": "code",
      "metadata": {
        "trusted": true,
        "id": "uLFIPpeXDEXy",
        "colab_type": "code",
        "colab": {}
      },
      "source": [
        "# check frequency distribution of values in WindGustDir variable\n"
      ],
      "execution_count": 0,
      "outputs": []
    },
    {
      "cell_type": "code",
      "metadata": {
        "trusted": true,
        "id": "E0WFrLbIDEX_",
        "colab_type": "code",
        "colab": {}
      },
      "source": [
        "# let's do One Hot Encoding of WindGustDir variable\n",
        "# get k-1 dummy variables after One Hot Encoding \n",
        "# also add an additional dummy variable to indicate there was missing data\n",
        "# preview the dataset with head() method\n"
      ],
      "execution_count": 0,
      "outputs": []
    },
    {
      "cell_type": "code",
      "metadata": {
        "trusted": true,
        "id": "LFbxFBgcDEYN",
        "colab_type": "code",
        "colab": {}
      },
      "source": [
        "# sum the number of 1s per boolean variable over the rows of the dataset\n",
        "# it will tell us how many observations we have for each category\n",
        "\n"
      ],
      "execution_count": 0,
      "outputs": []
    },
    {
      "cell_type": "markdown",
      "metadata": {
        "id": "vj4Uyl3qDEYh",
        "colab_type": "text"
      },
      "source": [
        "### Explore `WindDir9am` variable"
      ]
    },
    {
      "cell_type": "code",
      "metadata": {
        "trusted": true,
        "id": "P-DW_s99DEYk",
        "colab_type": "code",
        "colab": {}
      },
      "source": [
        "# print number of labels in WindDir9am variable\n"
      ],
      "execution_count": 0,
      "outputs": []
    },
    {
      "cell_type": "code",
      "metadata": {
        "trusted": true,
        "id": "-WMs5YNBDEY1",
        "colab_type": "code",
        "colab": {}
      },
      "source": [
        "# check labels in WindDir9am variable\n",
        "\n"
      ],
      "execution_count": 0,
      "outputs": []
    },
    {
      "cell_type": "code",
      "metadata": {
        "trusted": true,
        "id": "-p7fPdnMDEY_",
        "colab_type": "code",
        "colab": {}
      },
      "source": [
        "# check frequency distribution of values in WindDir9am variable\n",
        "\n"
      ],
      "execution_count": 0,
      "outputs": []
    },
    {
      "cell_type": "code",
      "metadata": {
        "trusted": true,
        "id": "BRC8Laa6DEZL",
        "colab_type": "code",
        "colab": {}
      },
      "source": [
        "# let's do One Hot Encoding of WindDir9am variable\n",
        "# get k-1 dummy variables after One Hot Encoding \n",
        "# also add an additional dummy variable to indicate there was missing data\n",
        "# preview the dataset with head() method\n"
      ],
      "execution_count": 0,
      "outputs": []
    },
    {
      "cell_type": "code",
      "metadata": {
        "trusted": true,
        "id": "1cVO_q8ADEZd",
        "colab_type": "code",
        "colab": {}
      },
      "source": [
        "# sum the number of 1s per boolean variable over the rows of the dataset\n",
        "# it will tell us how many observations we have for each category\n"
      ],
      "execution_count": 0,
      "outputs": []
    },
    {
      "cell_type": "markdown",
      "metadata": {
        "id": "6fhdzZJUDEZ7",
        "colab_type": "text"
      },
      "source": [
        "### Explore `WindDir3pm` variable"
      ]
    },
    {
      "cell_type": "code",
      "metadata": {
        "trusted": true,
        "id": "bJZ-mNImDEZ-",
        "colab_type": "code",
        "colab": {}
      },
      "source": [
        "# print number of labels in WindDir3pm variable\n",
        "\n"
      ],
      "execution_count": 0,
      "outputs": []
    },
    {
      "cell_type": "code",
      "metadata": {
        "trusted": true,
        "id": "wKdgT9iWDEaL",
        "colab_type": "code",
        "colab": {}
      },
      "source": [
        "# check labels in WindDir3pm variable\n",
        "\n"
      ],
      "execution_count": 0,
      "outputs": []
    },
    {
      "cell_type": "code",
      "metadata": {
        "trusted": true,
        "id": "nO2NQBsCDEaV",
        "colab_type": "code",
        "colab": {}
      },
      "source": [
        "# check frequency distribution of values in WindDir3pm variable\n",
        "\n"
      ],
      "execution_count": 0,
      "outputs": []
    },
    {
      "cell_type": "code",
      "metadata": {
        "trusted": true,
        "id": "bVAqcYqODEag",
        "colab_type": "code",
        "colab": {}
      },
      "source": [
        "# let's do One Hot Encoding of WindDir3pm variable\n",
        "# get k-1 dummy variables after One Hot Encoding \n",
        "# also add an additional dummy variable to indicate there was missing data\n",
        "# preview the dataset with head() method\n",
        "\n"
      ],
      "execution_count": 0,
      "outputs": []
    },
    {
      "cell_type": "code",
      "metadata": {
        "trusted": true,
        "id": "FeKWT0QtDEaw",
        "colab_type": "code",
        "colab": {}
      },
      "source": [
        "# sum the number of 1s per boolean variable over the rows of the dataset\n",
        "# it will tell us how many observations we have for each category\n"
      ],
      "execution_count": 0,
      "outputs": []
    },
    {
      "cell_type": "markdown",
      "metadata": {
        "id": "y-Rk4-DeDEa_",
        "colab_type": "text"
      },
      "source": [
        "### Explore `RainToday` variable"
      ]
    },
    {
      "cell_type": "code",
      "metadata": {
        "trusted": true,
        "id": "cKP-VsRgDEbB",
        "colab_type": "code",
        "colab": {}
      },
      "source": [
        "# print number of labels in RainToday variable\n",
        "\n"
      ],
      "execution_count": 0,
      "outputs": []
    },
    {
      "cell_type": "code",
      "metadata": {
        "trusted": true,
        "id": "sIYtYdzFDEbL",
        "colab_type": "code",
        "colab": {}
      },
      "source": [
        "# check labels in WindGustDir variable\n",
        "\n"
      ],
      "execution_count": 0,
      "outputs": []
    },
    {
      "cell_type": "code",
      "metadata": {
        "trusted": true,
        "id": "SjrYBTuhDEbU",
        "colab_type": "code",
        "colab": {}
      },
      "source": [
        "# check frequency distribution of values in WindGustDir variable\n"
      ],
      "execution_count": 0,
      "outputs": []
    },
    {
      "cell_type": "code",
      "metadata": {
        "trusted": true,
        "id": "cxK-5wlODEbc",
        "colab_type": "code",
        "colab": {}
      },
      "source": [
        "# let's do One Hot Encoding of RainToday variable\n",
        "# get k-1 dummy variables after One Hot Encoding \n",
        "# also add an additional dummy variable to indicate there was missing data\n",
        "# preview the dataset with head() method\n"
      ],
      "execution_count": 0,
      "outputs": []
    },
    {
      "cell_type": "code",
      "metadata": {
        "trusted": true,
        "id": "A5fybCpKDEbl",
        "colab_type": "code",
        "colab": {}
      },
      "source": [
        "# sum the number of 1s per boolean variable over the rows of the dataset\n",
        "# it will tell us how many observations we have for each category\n"
      ],
      "execution_count": 0,
      "outputs": []
    },
    {
      "cell_type": "markdown",
      "metadata": {
        "id": "V-rG7ZPWDEby",
        "colab_type": "text"
      },
      "source": [
        "### Explore Numerical Variables <a class=\"anchor\" id=\"6.5\"></a>"
      ]
    },
    {
      "cell_type": "code",
      "metadata": {
        "trusted": true,
        "id": "Z49HBp6sDEb2",
        "colab_type": "code",
        "colab": {}
      },
      "source": [
        "# find numerical variables\n"
      ],
      "execution_count": 0,
      "outputs": []
    },
    {
      "cell_type": "code",
      "metadata": {
        "trusted": true,
        "id": "g9ED6ScBDEcB",
        "colab_type": "code",
        "colab": {}
      },
      "source": [
        "# view the numerical variables\n",
        "\n"
      ],
      "execution_count": 0,
      "outputs": []
    },
    {
      "cell_type": "markdown",
      "metadata": {
        "id": "XUtNv8-fDEcQ",
        "colab_type": "text"
      },
      "source": [
        "### Explore problems within numerical variables \n"
      ]
    },
    {
      "cell_type": "code",
      "metadata": {
        "trusted": true,
        "id": "Pmg0l1wmDEca",
        "colab_type": "code",
        "colab": {}
      },
      "source": [
        "# check missing values in numerical variables\n"
      ],
      "execution_count": 0,
      "outputs": []
    },
    {
      "cell_type": "code",
      "metadata": {
        "trusted": true,
        "id": "VVsKxecPDEcu",
        "colab_type": "code",
        "colab": {}
      },
      "source": [
        "# view summary statistics in numerical variables\n",
        "\n"
      ],
      "execution_count": 0,
      "outputs": []
    },
    {
      "cell_type": "code",
      "metadata": {
        "trusted": true,
        "id": "4SYeTrFvDEc4",
        "colab_type": "code",
        "colab": {}
      },
      "source": [
        "# draw boxplots to visualize outliers\n",
        "\n"
      ],
      "execution_count": 0,
      "outputs": []
    },
    {
      "cell_type": "markdown",
      "metadata": {
        "id": "USAFjKm2DEdB",
        "colab_type": "text"
      },
      "source": [
        "The above boxplots will confirm number of outliers in these variables."
      ]
    },
    {
      "cell_type": "markdown",
      "metadata": {
        "id": "gsPYRjqxDEdC",
        "colab_type": "text"
      },
      "source": [
        "### Check the distribution of variables\n",
        "\n",
        "\n",
        "- Now,plot the histograms to check distributions to find out if they are normal or skewed. \n",
        "\n",
        "- If the variable follows normal distribution, then  do `Extreme Value Analysis` otherwise if they are skewed, find IQR (Interquantile range)."
      ]
    },
    {
      "cell_type": "code",
      "metadata": {
        "trusted": true,
        "id": "AVeTeXgzDEdD",
        "colab_type": "code",
        "colab": {}
      },
      "source": [
        "# plot histogram to check distribution\n",
        "\n"
      ],
      "execution_count": 0,
      "outputs": []
    },
    {
      "cell_type": "markdown",
      "metadata": {
        "id": "Sq_5G43cDEdQ",
        "colab_type": "text"
      },
      "source": [
        "We can see that all the four variables are skewed. So, I will use interquantile range to find outliers."
      ]
    },
    {
      "cell_type": "code",
      "metadata": {
        "trusted": true,
        "id": "y_8jB5xkDEdT",
        "colab_type": "code",
        "colab": {}
      },
      "source": [
        "# find outliers for Rainfall variable\n"
      ],
      "execution_count": 0,
      "outputs": []
    },
    {
      "cell_type": "code",
      "metadata": {
        "trusted": true,
        "id": "eTGEj90EDEdc",
        "colab_type": "code",
        "colab": {}
      },
      "source": [
        "# find outliers for Evaporation variable\n"
      ],
      "execution_count": 0,
      "outputs": []
    },
    {
      "cell_type": "code",
      "metadata": {
        "trusted": true,
        "id": "kp4gkzk0DEdv",
        "colab_type": "code",
        "colab": {}
      },
      "source": [
        "# find outliers for WindSpeed3pm variable\n",
        "\n"
      ],
      "execution_count": 0,
      "outputs": []
    },
    {
      "cell_type": "markdown",
      "metadata": {
        "id": "OAFLTZwmDEd4",
        "colab_type": "text"
      },
      "source": [
        "## Multivariate Analysis \n",
        "\n",
        "\n",
        "- An important step in EDA is to discover patterns and relationships between variables in the dataset.\n",
        "\n",
        "- use heat map and pair plot to discover the patterns and relationships in the dataset.\n"
      ]
    },
    {
      "cell_type": "code",
      "metadata": {
        "trusted": true,
        "id": "ss_I2QQmDEd6",
        "colab_type": "code",
        "colab": {}
      },
      "source": [
        "# check correlation between them"
      ],
      "execution_count": 0,
      "outputs": []
    },
    {
      "cell_type": "code",
      "metadata": {
        "trusted": true,
        "id": "KDYKH1riDEeD",
        "colab_type": "code",
        "colab": {}
      },
      "source": [
        "# Plot heatmap for correlation"
      ],
      "execution_count": 0,
      "outputs": []
    },
    {
      "cell_type": "markdown",
      "metadata": {
        "id": "uvMTeCe8DEey",
        "colab_type": "text"
      },
      "source": [
        "## Declare features and target variable "
      ]
    },
    {
      "cell_type": "code",
      "metadata": {
        "trusted": true,
        "id": "DPoi_aw3DEe0",
        "colab_type": "code",
        "colab": {}
      },
      "source": [
        "# code here"
      ],
      "execution_count": 0,
      "outputs": []
    },
    {
      "cell_type": "markdown",
      "metadata": {
        "id": "navyBRnhDEfE",
        "colab_type": "text"
      },
      "source": [
        "## Split data into separate training and test set "
      ]
    },
    {
      "cell_type": "code",
      "metadata": {
        "trusted": true,
        "id": "n7uQZQ8ZDEfJ",
        "colab_type": "code",
        "colab": {}
      },
      "source": [
        "# split X and y into training and testing sets\n",
        "from sklearn.model_selection import train_test_split\n",
        "\n",
        "\n"
      ],
      "execution_count": 0,
      "outputs": []
    },
    {
      "cell_type": "code",
      "metadata": {
        "trusted": true,
        "id": "p5YtW8PeDEfT",
        "colab_type": "code",
        "colab": {}
      },
      "source": [
        "# check the shape of X_train and X_test\n"
      ],
      "execution_count": 0,
      "outputs": []
    },
    {
      "cell_type": "markdown",
      "metadata": {
        "id": "0TyDD9C7DEle",
        "colab_type": "text"
      },
      "source": [
        "## Model training"
      ]
    },
    {
      "cell_type": "code",
      "metadata": {
        "trusted": true,
        "id": "7YewhSRiDElf",
        "colab_type": "code",
        "colab": {}
      },
      "source": [
        "# train a logistic regression model on the training set\n",
        "from sklearn.linear_model import LogisticRegression\n",
        "\n",
        "\n",
        "# instantiate the model\n",
        "\n",
        "\n",
        "# fit the model\n",
        "\n"
      ],
      "execution_count": 0,
      "outputs": []
    },
    {
      "cell_type": "markdown",
      "metadata": {
        "id": "ECkHHJ1KDElq",
        "colab_type": "text"
      },
      "source": [
        "## Predict results "
      ]
    },
    {
      "cell_type": "code",
      "metadata": {
        "trusted": true,
        "id": "_E52HZJ5DElr",
        "colab_type": "code",
        "colab": {}
      },
      "source": [
        "# code here"
      ],
      "execution_count": 0,
      "outputs": []
    },
    {
      "cell_type": "markdown",
      "metadata": {
        "id": "F-mDrYBDDEmD",
        "colab_type": "text"
      },
      "source": [
        "## Check accuracy score"
      ]
    },
    {
      "cell_type": "code",
      "metadata": {
        "trusted": true,
        "id": "8XzUTi4CDEmF",
        "colab_type": "code",
        "colab": {}
      },
      "source": [
        "from sklearn.metrics import accuracy_score\n"
      ],
      "execution_count": 0,
      "outputs": []
    },
    {
      "cell_type": "markdown",
      "metadata": {
        "id": "o0B7fqJrDEmh",
        "colab_type": "text"
      },
      "source": [
        "### Check for overfitting and underfitting <a class=\"anchor\" id=\"14.2\"></a>"
      ]
    },
    {
      "cell_type": "code",
      "metadata": {
        "trusted": true,
        "id": "2E-nMGfxDEmi",
        "colab_type": "code",
        "colab": {}
      },
      "source": [
        "# print the scores on training and test set\n"
      ],
      "execution_count": 0,
      "outputs": []
    },
    {
      "cell_type": "markdown",
      "metadata": {
        "id": "8jcYBKaFDEnf",
        "colab_type": "text"
      },
      "source": [
        "## Confusion matrix \n",
        "\n"
      ]
    },
    {
      "cell_type": "code",
      "metadata": {
        "trusted": true,
        "id": "Cz3yxqebDEnh",
        "colab_type": "code",
        "colab": {}
      },
      "source": [
        "# Print the Confusion Matrix and slice it into four pieces\n",
        "from sklearn.metrics import confusion_matrix\n",
        "\n"
      ],
      "execution_count": 0,
      "outputs": []
    },
    {
      "cell_type": "code",
      "metadata": {
        "trusted": true,
        "id": "9G_d5H9tDEno",
        "colab_type": "code",
        "colab": {}
      },
      "source": [
        "# visualize confusion matrix with seaborn heatmap\n"
      ],
      "execution_count": 0,
      "outputs": []
    },
    {
      "cell_type": "markdown",
      "metadata": {
        "id": "bjj3d1F_DErx",
        "colab_type": "text"
      },
      "source": [
        "## k-Fold Cross Validation"
      ]
    },
    {
      "cell_type": "code",
      "metadata": {
        "trusted": true,
        "id": "SfvaV46IDEry",
        "colab_type": "code",
        "colab": {}
      },
      "source": [
        "# Apply 5-Fold Cross Validation\n"
      ],
      "execution_count": 0,
      "outputs": []
    },
    {
      "cell_type": "code",
      "metadata": {
        "trusted": true,
        "id": "cUcvkUiDDEr5",
        "colab_type": "code",
        "colab": {}
      },
      "source": [
        "# compute Average cross-validation score\n"
      ],
      "execution_count": 0,
      "outputs": []
    },
    {
      "cell_type": "markdown",
      "metadata": {
        "id": "EldU-G8SDEsX",
        "colab_type": "text"
      },
      "source": [
        "Now try to use different classification algorithm and compare them."
      ]
    }
  ]
}