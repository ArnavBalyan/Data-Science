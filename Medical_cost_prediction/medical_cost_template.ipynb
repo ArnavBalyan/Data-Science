{
  "nbformat": 4,
  "nbformat_minor": 0,
  "metadata": {
    "kernelspec": {
      "display_name": "Python 3",
      "language": "python",
      "name": "python3"
    },
    "language_info": {
      "name": "python",
      "version": "3.6.6",
      "mimetype": "text/x-python",
      "codemirror_mode": {
        "name": "ipython",
        "version": 3
      },
      "pygments_lexer": "ipython3",
      "nbconvert_exporter": "python",
      "file_extension": ".py"
    },
    "colab": {
      "name": "medical_cost_template.ipynb",
      "provenance": []
    }
  },
  "cells": [
    {
      "cell_type": "markdown",
      "metadata": {
        "id": "OuAzhgDMM6iZ",
        "colab_type": "text"
      },
      "source": [
        "# Medical Cost Dataset"
      ]
    },
    {
      "cell_type": "markdown",
      "metadata": {
        "_uuid": "8f2839f25d086af736a60e9eeb907d3b93b6e0e5",
        "_cell_guid": "b1076dfc-b9ad-4769-8c92-a6c4dae69d19",
        "trusted": true,
        "id": "RGUWsG5CM6ii",
        "colab_type": "text"
      },
      "source": [
        "Today we will explore a data set dedicated to the cost of treatment of different patients. The cost of treatment depends on many factors: diagnosis, type of clinic, city of residence, age and so on. We have no data on the diagnosis of patients. But we have other information that can help us to make a conclusion about the health of patients and practice regression analysis. In any case, I wish you to be healthy! Let's look at our data. "
      ]
    },
    {
      "cell_type": "code",
      "metadata": {
        "trusted": true,
        "id": "XrVAkSthM6it",
        "colab_type": "code",
        "colab": {
          "base_uri": "https://localhost:8080/",
          "height": 74
        },
        "outputId": "8e5a0e29-a9e5-4d4c-df12-84047c7c9243"
      },
      "source": [
        "# lets import all the required libraries\n",
        "\n",
        "import numpy as np \n",
        "import pandas as pd \n",
        "import os\n",
        "import matplotlib.pyplot as pl\n",
        "import seaborn as sns"
      ],
      "execution_count": 1,
      "outputs": [
        {
          "output_type": "stream",
          "text": [
            "/usr/local/lib/python3.6/dist-packages/statsmodels/tools/_testing.py:19: FutureWarning: pandas.util.testing is deprecated. Use the functions in the public API at pandas.testing instead.\n",
            "  import pandas.util.testing as tm\n"
          ],
          "name": "stderr"
        }
      ]
    },
    {
      "cell_type": "code",
      "metadata": {
        "trusted": true,
        "id": "-BrAJp7eM6jb",
        "colab_type": "code",
        "colab": {}
      },
      "source": [
        "# reading data from the csv file\n",
        "data = pd.read_csv('../insurance.csv')"
      ],
      "execution_count": 0,
      "outputs": []
    },
    {
      "cell_type": "markdown",
      "metadata": {
        "id": "GYSF5T0jM6j5",
        "colab_type": "text"
      },
      "source": [
        "## Data Preprocessing"
      ]
    },
    {
      "cell_type": "code",
      "metadata": {
        "trusted": true,
        "_uuid": "97d89e70b07b50aabe4a4c85ac92eeef3772cb84",
        "id": "YwLuf-aZM6kG",
        "colab_type": "code",
        "colab": {},
        "outputId": "c877d6ec-cbad-4845-9bd3-3605fc5f1540"
      },
      "source": [
        "#lets see the data first\n",
        "data.head()"
      ],
      "execution_count": 0,
      "outputs": [
        {
          "output_type": "execute_result",
          "data": {
            "text/plain": [
              "   age     sex     bmi  children smoker     region      charges\n",
              "0   19  female  27.900         0    yes  southwest  16884.92400\n",
              "1   18    male  33.770         1     no  southeast   1725.55230\n",
              "2   28    male  33.000         3     no  southeast   4449.46200\n",
              "3   33    male  22.705         0     no  northwest  21984.47061\n",
              "4   32    male  28.880         0     no  northwest   3866.85520"
            ],
            "text/html": [
              "<div>\n",
              "<style scoped>\n",
              "    .dataframe tbody tr th:only-of-type {\n",
              "        vertical-align: middle;\n",
              "    }\n",
              "\n",
              "    .dataframe tbody tr th {\n",
              "        vertical-align: top;\n",
              "    }\n",
              "\n",
              "    .dataframe thead th {\n",
              "        text-align: right;\n",
              "    }\n",
              "</style>\n",
              "<table border=\"1\" class=\"dataframe\">\n",
              "  <thead>\n",
              "    <tr style=\"text-align: right;\">\n",
              "      <th></th>\n",
              "      <th>age</th>\n",
              "      <th>sex</th>\n",
              "      <th>bmi</th>\n",
              "      <th>children</th>\n",
              "      <th>smoker</th>\n",
              "      <th>region</th>\n",
              "      <th>charges</th>\n",
              "    </tr>\n",
              "  </thead>\n",
              "  <tbody>\n",
              "    <tr>\n",
              "      <th>0</th>\n",
              "      <td>19</td>\n",
              "      <td>female</td>\n",
              "      <td>27.900</td>\n",
              "      <td>0</td>\n",
              "      <td>yes</td>\n",
              "      <td>southwest</td>\n",
              "      <td>16884.92400</td>\n",
              "    </tr>\n",
              "    <tr>\n",
              "      <th>1</th>\n",
              "      <td>18</td>\n",
              "      <td>male</td>\n",
              "      <td>33.770</td>\n",
              "      <td>1</td>\n",
              "      <td>no</td>\n",
              "      <td>southeast</td>\n",
              "      <td>1725.55230</td>\n",
              "    </tr>\n",
              "    <tr>\n",
              "      <th>2</th>\n",
              "      <td>28</td>\n",
              "      <td>male</td>\n",
              "      <td>33.000</td>\n",
              "      <td>3</td>\n",
              "      <td>no</td>\n",
              "      <td>southeast</td>\n",
              "      <td>4449.46200</td>\n",
              "    </tr>\n",
              "    <tr>\n",
              "      <th>3</th>\n",
              "      <td>33</td>\n",
              "      <td>male</td>\n",
              "      <td>22.705</td>\n",
              "      <td>0</td>\n",
              "      <td>no</td>\n",
              "      <td>northwest</td>\n",
              "      <td>21984.47061</td>\n",
              "    </tr>\n",
              "    <tr>\n",
              "      <th>4</th>\n",
              "      <td>32</td>\n",
              "      <td>male</td>\n",
              "      <td>28.880</td>\n",
              "      <td>0</td>\n",
              "      <td>no</td>\n",
              "      <td>northwest</td>\n",
              "      <td>3866.85520</td>\n",
              "    </tr>\n",
              "  </tbody>\n",
              "</table>\n",
              "</div>"
            ]
          },
          "metadata": {
            "tags": []
          },
          "execution_count": 108
        }
      ]
    },
    {
      "cell_type": "code",
      "metadata": {
        "trusted": true,
        "_uuid": "6e52e4345af572ad533c561f955789c42dbbb4e7",
        "id": "SvRYOUPVM6k0",
        "colab_type": "code",
        "colab": {}
      },
      "source": [
        "# check for NaN values in the dataset\n"
      ],
      "execution_count": 0,
      "outputs": []
    },
    {
      "cell_type": "markdown",
      "metadata": {
        "_uuid": "b5c5638d94dd67c30fa6e0937b0f7147ab30ae76",
        "id": "cKl64yf5M6lN",
        "colab_type": "text"
      },
      "source": [
        "A good day is when there is no \"NaN\"in the data :D\n",
        "Let's look at our data to understand something about it.\n",
        "Since we are primarily interested in the amount of costs see what posts are more correlated with charges. For a start, we will encode categorical features.\n"
      ]
    },
    {
      "cell_type": "markdown",
      "metadata": {
        "id": "1pEMFpSeM6lQ",
        "colab_type": "text"
      },
      "source": [
        "## Label encoding\n",
        "As we can the attribute sex,smoker and region are categorical values so, we can use label encoding to convert them. You can also do one hot encoding to convert them."
      ]
    },
    {
      "cell_type": "code",
      "metadata": {
        "trusted": true,
        "_uuid": "9a65199cbbaa94b4a9edf744e23529d4e842cd6d",
        "id": "FHQKZYYjM6lV",
        "colab_type": "code",
        "colab": {}
      },
      "source": [
        "# import label encoder \n",
        "from sklearn.preprocessing import LabelEncoder\n",
        "\n",
        "# label encoding for sex\n",
        "\n",
        "\n",
        "\n",
        "# label encoding for smoker or not\n",
        "\n",
        "\n",
        "\n",
        "\n",
        "# label encoding for region\n",
        "\n",
        "\n"
      ],
      "execution_count": 0,
      "outputs": []
    },
    {
      "cell_type": "markdown",
      "metadata": {
        "_uuid": "000677f443ee8078ea2fd98e7db6710c596cf4de",
        "id": "IMEQd-B0M6lv",
        "colab_type": "text"
      },
      "source": [
        "A few words about coding \"region\". In general, categorical variables with large variability are best encoded using OneHotEncoder and so on.  But in this case, nothing will change, because there is no special order in which the regions would be listed. So I'm being very lazy only used the Label Encoder."
      ]
    },
    {
      "cell_type": "markdown",
      "metadata": {
        "id": "_UEEud1MM6l1",
        "colab_type": "text"
      },
      "source": [
        "### Check dependencies\n",
        "As out target variable is charges we are going to check its correlation with other variable. You can also use 'heatmap' to plot the correlation between them."
      ]
    },
    {
      "cell_type": "code",
      "metadata": {
        "trusted": true,
        "_uuid": "d3db3486b773659048a51d8c28f8788a7b198daa",
        "id": "s8EtMIJyM6l4",
        "colab_type": "code",
        "colab": {}
      },
      "source": [
        "# check correlation \n"
      ],
      "execution_count": 0,
      "outputs": []
    },
    {
      "cell_type": "code",
      "metadata": {
        "trusted": true,
        "_uuid": "cd7124870e1725dd35d464c020d29c4cb0a05a96",
        "id": "cDSSAZVHM6mO",
        "colab_type": "code",
        "colab": {}
      },
      "source": [
        "# plot heatmap for correlation between features\n"
      ],
      "execution_count": 0,
      "outputs": []
    },
    {
      "cell_type": "markdown",
      "metadata": {
        "id": "GUS4VXHzM6mi",
        "colab_type": "text"
      },
      "source": [
        "A strong correlation is observed only with the fact of smoking the patient. To be honest, I expected a higher correlation with bmi. Well. We investigate smoking in more detail. "
      ]
    },
    {
      "cell_type": "markdown",
      "metadata": {
        "_uuid": "d81b82eedfea8f1312c8a34d77c3d131edd254e8",
        "id": "bQcIYVh7M6mo",
        "colab_type": "text"
      },
      "source": [
        "First, let's look at the distribution of charges. This will help us to know how much patients spend on treatment on average.\n",
        "We're importing another useful library that we'll need a few more times. Although it's not necessary, why not :D"
      ]
    },
    {
      "cell_type": "code",
      "metadata": {
        "trusted": true,
        "_uuid": "29b7a92f162252184cfd85bcb9c2cba6b381b2cc",
        "id": "TX0y2LWaM6mt",
        "colab_type": "code",
        "colab": {}
      },
      "source": [
        "# use seaborn to plot distribution of charges\n",
        "# you can also use other libraries to plot graphs\n",
        "\n"
      ],
      "execution_count": 0,
      "outputs": []
    },
    {
      "cell_type": "markdown",
      "metadata": {
        "_uuid": "f616d144920352e4cab90b011af04c6dd2e3a519",
        "id": "Qpi2txy_M6nC",
        "colab_type": "text"
      },
      "source": [
        "Smoking patients spend more on treatment. But there is a feeling that the number of non-smoking patients is greater. Going to check it."
      ]
    },
    {
      "cell_type": "code",
      "metadata": {
        "trusted": true,
        "_uuid": "f1c4ddcc0dfe9d9391b36ba52eed0edcac0fda21",
        "id": "oiLD17h-M6nL",
        "colab_type": "code",
        "colab": {}
      },
      "source": [
        "# lets check the count of female and male smokers\n"
      ],
      "execution_count": 0,
      "outputs": []
    },
    {
      "cell_type": "markdown",
      "metadata": {
        "_uuid": "9df3ed48562ffdab96c62ef9e4320b2871781d70",
        "id": "iJ_BVRSOM6ng",
        "colab_type": "text"
      },
      "source": [
        "Please note that women are coded with the symbol \" 1 \"and men - \"0\". Thus non-smoking people and the truth more. \n",
        "Also we can notice that more male smokers than women smokers. It can be assumed that the total cost of treatment in men will be more than in women, given the impact of smoking. Maybe we'll check it out later.\n",
        "And some more useful visualizations. "
      ]
    },
    {
      "cell_type": "code",
      "metadata": {
        "trusted": true,
        "_uuid": "022152d358fce99dabbb43c75fc363f28e79beb0",
        "id": "if58zve3M6nj",
        "colab_type": "code",
        "colab": {}
      },
      "source": [
        "# lets check the charges paid for female smokers\n"
      ],
      "execution_count": 0,
      "outputs": []
    },
    {
      "cell_type": "code",
      "metadata": {
        "trusted": true,
        "_uuid": "02c802eeeae9d913d9413bf5e6f6a9e097993ff9",
        "id": "JUBnmAIbM6n4",
        "colab_type": "code",
        "colab": {}
      },
      "source": [
        "# lets check the charges paid for male smokers\n"
      ],
      "execution_count": 0,
      "outputs": []
    },
    {
      "cell_type": "markdown",
      "metadata": {
        "_uuid": "0fb53656677fc2ffd52ea44e5effd2219510621d",
        "id": "hhcF0AK3M6oQ",
        "colab_type": "text"
      },
      "source": [
        "Now let's pay attention to the age of the patients.  First, let's look at how age affects the cost of treatment, and also look at patients of what age more in our data set."
      ]
    },
    {
      "cell_type": "code",
      "metadata": {
        "trusted": true,
        "_uuid": "0405edaa9c308df8a0e952b972e87d0ba422e0c0",
        "id": "l61Q6FUMM6oS",
        "colab_type": "code",
        "colab": {}
      },
      "source": [
        "#Plot graph between age and cost of treatment\n"
      ],
      "execution_count": 0,
      "outputs": []
    },
    {
      "cell_type": "markdown",
      "metadata": {
        "_uuid": "1d164a080982be488cfea6d82b4299bd56b6006e",
        "id": "op9YTg6yM6oj",
        "colab_type": "text"
      },
      "source": [
        "We have patients under 20 in our data set. Im 18 years old. This is the minimum age of patients in our set. The maximum age is 64 years. \n",
        "My personal interest is whether there are smokers among patients 18 years."
      ]
    },
    {
      "cell_type": "code",
      "metadata": {
        "trusted": true,
        "_uuid": "42860d70d3cfc52f30228a6649955f3438349676",
        "id": "B6qzebdPM6op",
        "colab_type": "code",
        "colab": {}
      },
      "source": [
        "# plot graph for number of smokers and non-smokers of agge 18\n",
        "\n"
      ],
      "execution_count": 0,
      "outputs": []
    },
    {
      "cell_type": "markdown",
      "metadata": {
        "_uuid": "5e3a8f194993e517d4dca599a36b525ea1311e84",
        "id": "8pS5UL0xM6pB",
        "colab_type": "text"
      },
      "source": [
        "Oh. I was hoping the result would be different.\n",
        "18 years old - a very young age. Does smoking affect the cost of treatment at this age?\n"
      ]
    },
    {
      "cell_type": "code",
      "metadata": {
        "trusted": true,
        "_uuid": "41a5f87f97696e932265d01580915013bcc7f9d8",
        "id": "NRtjNbtGM6pF",
        "colab_type": "code",
        "colab": {}
      },
      "source": [
        "# lets check charges for 18 year old smokers\n"
      ],
      "execution_count": 0,
      "outputs": []
    },
    {
      "cell_type": "markdown",
      "metadata": {
        "id": "6xu4vWI_M6pV",
        "colab_type": "text"
      },
      "source": [
        "Oh. As we can see, even at the age of 18 smokers spend much more on treatment than non-smokers. Among non-smokers we are seeing some \" tails.\" I can assume that this is due to serious diseases or accidents. Now let's see how the cost of treatment depends on the age of smokers and non-smokers patients."
      ]
    },
    {
      "cell_type": "code",
      "metadata": {
        "trusted": true,
        "_uuid": "e3af3d408017c37489712b8c81699f10be96c8ed",
        "id": "HFAI5k0pM6pt",
        "colab_type": "code",
        "colab": {}
      },
      "source": [
        "# plot graph for charges paid by smoker and non-smokers according to their age.\n",
        "\n"
      ],
      "execution_count": 0,
      "outputs": []
    },
    {
      "cell_type": "markdown",
      "metadata": {
        "id": "2YyrTCn7M6qU",
        "colab_type": "text"
      },
      "source": [
        "In non-smokers, the cost of treatment increases with age. That makes sense. So take care of your health, friends! In smoking people, we do not see such dependence. I think that it is not only in smoking but also in the peculiarities of the dataset. Such a strong effect of Smoking on the cost of treatment would be more logical to judge having a set of data with a large number of records and signs. But we work with what we have! Let's pay attention to bmi."
      ]
    },
    {
      "cell_type": "code",
      "metadata": {
        "trusted": true,
        "_uuid": "1e99d617ab6aeecdd57fe6aaa5e9c51352fc7c0b",
        "id": "boGQhPJlM6qa",
        "colab_type": "code",
        "colab": {}
      },
      "source": [
        "# plot graph to check distribution of bmi\n"
      ],
      "execution_count": 0,
      "outputs": []
    },
    {
      "cell_type": "code",
      "metadata": {
        "trusted": true,
        "_uuid": "b1d737e5d5394359ec9a7dd2857ada47f011adaa",
        "id": "Oc66VPTXM6qs",
        "colab_type": "code",
        "colab": {}
      },
      "source": [
        "# lets check charges paid by patients with bmi greater than 30\n",
        "\n"
      ],
      "execution_count": 0,
      "outputs": []
    },
    {
      "cell_type": "code",
      "metadata": {
        "trusted": true,
        "_uuid": "bfc536438479016b5c4ab4ded6c7f958bfdfc6c3",
        "id": "6BklDEAeM6q6",
        "colab_type": "code",
        "colab": {}
      },
      "source": [
        "# lets check charges paid by patients with bmi less than 30\n",
        "\n"
      ],
      "execution_count": 0,
      "outputs": []
    },
    {
      "cell_type": "markdown",
      "metadata": {
        "_uuid": "55d77a8bbf74c8090069eecf361dfb2b05a4e5be",
        "id": "0AMntBj5M6rN",
        "colab_type": "text"
      },
      "source": [
        "From above graphs we can concude that patients with BMI above 30 spend more on treatment!"
      ]
    },
    {
      "cell_type": "markdown",
      "metadata": {
        "_uuid": "4a515761d57740f3790a0ff3a614661a9cfa1cb8",
        "id": "l7dR7CU1M6rQ",
        "colab_type": "text"
      },
      "source": [
        "Let's pay attention to children. First, let's see how many children our patients have.\n"
      ]
    },
    {
      "cell_type": "code",
      "metadata": {
        "trusted": true,
        "_uuid": "ba4706ad1510251d7695bb5bc8df2afce1e10584",
        "id": "PwKUFCjuM6rU",
        "colab_type": "code",
        "colab": {}
      },
      "source": [
        "# count number of childrens they have.\n"
      ],
      "execution_count": 0,
      "outputs": []
    },
    {
      "cell_type": "markdown",
      "metadata": {
        "_uuid": "0fa0708f803724ca79d558a374fb96314e6d98ab",
        "id": "R4j7NNwtM6rw",
        "colab_type": "text"
      },
      "source": [
        "Most patients do not have children. Perfectly that some have 5 children! Children are happiness:)\n",
        "Lets check wheather patients having children smoke or not."
      ]
    },
    {
      "cell_type": "code",
      "metadata": {
        "trusted": true,
        "_uuid": "2ea23d6fdabb2edec34cd7250ca9e3926e3f8614",
        "id": "2GN2ZHphM6r0",
        "colab_type": "code",
        "colab": {}
      },
      "source": [
        "# plot graph to check how many patients having children smoke\n",
        "\n"
      ],
      "execution_count": 0,
      "outputs": []
    },
    {
      "cell_type": "markdown",
      "metadata": {
        "_uuid": "e609af580cd7963b8b6fb4b93c94f2c76d4f9355",
        "id": "eQF2pOE8M6sF",
        "colab_type": "text"
      },
      "source": [
        "## Model development and Evaluation\n",
        "now we are going to predict the cost of treatment.\n",
        "Lets start with linear regression."
      ]
    },
    {
      "cell_type": "code",
      "metadata": {
        "trusted": true,
        "_uuid": "bfddef4e1586305a85bf76990885cd91f5d6c1c6",
        "id": "_aeF715sM6sT",
        "colab_type": "code",
        "colab": {}
      },
      "source": [
        "# import neccesary libraries for model development and evaluation\n",
        "from sklearn.linear_model import LinearRegression\n",
        "from sklearn.model_selection import train_test_split\n",
        "from sklearn.preprocessing import PolynomialFeatures\n",
        "from sklearn.metrics import r2_score,mean_squared_error\n"
      ],
      "execution_count": 0,
      "outputs": []
    },
    {
      "cell_type": "code",
      "metadata": {
        "trusted": true,
        "_uuid": "ef0b179e30e38a1b0b3a48de68a9418b0505e16a",
        "id": "nvFJFdFfM6sp",
        "colab_type": "code",
        "colab": {}
      },
      "source": [
        "# seperate features and target from the data\n",
        "\n",
        "\n",
        "\n",
        "# split the training and testing data\n",
        "\n",
        "\n",
        "# predict the charges \n",
        "\n"
      ],
      "execution_count": 0,
      "outputs": []
    },
    {
      "cell_type": "code",
      "metadata": {
        "id": "p5Kd9HwdWdQ9",
        "colab_type": "code",
        "colab": {}
      },
      "source": [
        "# evaluate the model"
      ],
      "execution_count": 0,
      "outputs": []
    },
    {
      "cell_type": "markdown",
      "metadata": {
        "_uuid": "8243d28c22e183d13a9bb2cd95531a877b1381dc",
        "id": "m1t6PS3BM6tZ",
        "colab_type": "text"
      },
      "source": [
        "Lets use Random Forest Regressor and evaluate the model"
      ]
    },
    {
      "cell_type": "code",
      "metadata": {
        "trusted": true,
        "_uuid": "15ab5e45c0a99fe16b72e87904297db45fd42ea1",
        "id": "VZK3Zx5wM6tc",
        "colab_type": "code",
        "colab": {}
      },
      "source": [
        "# import random forest\n",
        "from sklearn.ensemble import RandomForestRegressor\n",
        "\n",
        "# write your code here"
      ],
      "execution_count": 0,
      "outputs": []
    },
    {
      "cell_type": "markdown",
      "metadata": {
        "id": "dOvl7UE3M6ts",
        "colab_type": "text"
      },
      "source": [
        "So, now you have used Linear Regression and Random forest for predictions try using more regression algorithms and compare them."
      ]
    }
  ]
}
