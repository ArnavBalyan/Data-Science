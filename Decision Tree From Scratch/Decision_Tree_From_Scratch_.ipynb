{
  "nbformat": 4,
  "nbformat_minor": 0,
  "metadata": {
    "colab": {
      "name": "Decision Tree From Scratch .ipynb",
      "provenance": [],
      "collapsed_sections": []
    },
    "kernelspec": {
      "name": "python3",
      "display_name": "Python 3"
    }
  },
  "cells": [
    {
      "cell_type": "markdown",
      "metadata": {
        "id": "XclCCqrdjJIn",
        "colab_type": "text"
      },
      "source": [
        "## Building Decision Tree From Scratch"
      ]
    },
    {
      "cell_type": "markdown",
      "metadata": {
        "id": "-rbLG3y2jQqC",
        "colab_type": "text"
      },
      "source": [
        "### Import Libraries"
      ]
    },
    {
      "cell_type": "code",
      "metadata": {
        "id": "b2mF3M2ihpqq",
        "colab_type": "code",
        "colab": {}
      },
      "source": [
        "import pandas as pd\n",
        "import numpy as np\n",
        "import matplotlib.pyplot as plt\n",
        "import seaborn as sns\n",
        "import random\n",
        "%matplotlib inline"
      ],
      "execution_count": 0,
      "outputs": []
    },
    {
      "cell_type": "markdown",
      "metadata": {
        "id": "j7jKj3rKleuv",
        "colab_type": "text"
      },
      "source": [
        "### Read Data"
      ]
    },
    {
      "cell_type": "code",
      "metadata": {
        "id": "G9SaG48XsmYH",
        "colab_type": "code",
        "colab": {}
      },
      "source": [
        "df = pd.read_csv('/content/drive/My Drive/data_set/iris.csv')\n",
        "df = df.rename(columns={\"variety\": \"label\"})"
      ],
      "execution_count": 0,
      "outputs": []
    },
    {
      "cell_type": "markdown",
      "metadata": {
        "id": "6uSMMLLGtYGG",
        "colab_type": "text"
      },
      "source": [
        "### Train Test Split\n",
        "\n",
        "Write a function to split the dataset into traning and testing set.\n"
      ]
    },
    {
      "cell_type": "code",
      "metadata": {
        "id": "jtoIfbknqnS-",
        "colab_type": "code",
        "colab": {}
      },
      "source": [
        "def train_test_split(df, test_size):\n",
        " \n",
        "    if isinstance(test_size, float):\n",
        "        test_size = round(test_size * len(df))\n",
        "\n",
        "    indices = df.index.tolist()\n",
        "    test_indices = random.sample(population=indices, k=test_size)\n",
        "\n",
        "    test_df = df.loc[test_indices]\n",
        "    train_df = df.drop(test_indices)\n",
        "    \n",
        "    return train_df, test_df"
      ],
      "execution_count": 0,
      "outputs": []
    },
    {
      "cell_type": "code",
      "metadata": {
        "id": "WPiiOKFVqnW2",
        "colab_type": "code",
        "colab": {}
      },
      "source": [
        "#print to check if the train_test_split function is working or not\n",
        "random.seed(0)\n",
        "train_df, test_df = train_test_split(df, test_size=20)"
      ],
      "execution_count": 0,
      "outputs": []
    },
    {
      "cell_type": "markdown",
      "metadata": {
        "id": "vgHDptnZtcAF",
        "colab_type": "text"
      },
      "source": [
        "### Helper Functions\n",
        "\n",
        "The helper functions operate on a NumPy 2d-array. Therefore, let’s create a variable called “data” ."
      ]
    },
    {
      "cell_type": "code",
      "metadata": {
        "id": "sKJmSTjvqney",
        "colab_type": "code",
        "colab": {}
      },
      "source": [
        "data = train_df.values"
      ],
      "execution_count": 0,
      "outputs": []
    },
    {
      "cell_type": "markdown",
      "metadata": {
        "id": "EvwDr2YGtugW",
        "colab_type": "text"
      },
      "source": [
        "### Pure Node ?\n",
        "\n",
        "Now if in our target labels there's only one class there should not be any split and we should make our classification with just one class."
      ]
    },
    {
      "cell_type": "code",
      "metadata": {
        "id": "HswUMI6KqniU",
        "colab_type": "code",
        "colab": {}
      },
      "source": [
        "def check_purity(data):\n",
        "    label_column = data[:, -1]\n",
        "    unique_classes = np.unique(label_column)\n",
        "\n",
        "    if len(unique_classes) == 1:\n",
        "        return True\n",
        "    else:\n",
        "        return False"
      ],
      "execution_count": 0,
      "outputs": []
    },
    {
      "cell_type": "markdown",
      "metadata": {
        "id": "MHoNntP-t4OQ",
        "colab_type": "text"
      },
      "source": [
        "###Classify\n",
        "\n",
        "Now Make classification  after we have identified the pure node or the majority class present in that node."
      ]
    },
    {
      "cell_type": "code",
      "metadata": {
        "id": "akaWBfbcqnlI",
        "colab_type": "code",
        "colab": {}
      },
      "source": [
        "def classify_data(data):\n",
        "    label_column = data[:, -1]\n",
        "    unique_classes, counts_unique_classes = np.unique(label_column, return_counts=True)\n",
        "\n",
        "    index = counts_unique_classes.argmax()\n",
        "    classification = unique_classes[index]\n",
        "    \n",
        "    return classification"
      ],
      "execution_count": 0,
      "outputs": []
    },
    {
      "cell_type": "markdown",
      "metadata": {
        "id": "pDKc9rzPuG6A",
        "colab_type": "text"
      },
      "source": [
        "## Potential Split \n",
        "\n",
        "Now if the node is not pure. We should find all the potential split from our features and choose the best split. Excluding the label column."
      ]
    },
    {
      "cell_type": "code",
      "metadata": {
        "id": "FRTbV4Wcqnc0",
        "colab_type": "code",
        "colab": {}
      },
      "source": [
        "def get_potential_splits(data):\n",
        "    potential_splits = {}\n",
        "    _, n_columns = data.shape\n",
        "    for column_index in range(n_columns - 1):        # excluding the last column which is the label\n",
        "        potential_splits[column_index] = []\n",
        "        values = data[:, column_index]\n",
        "        unique_values = np.unique(values)\n",
        "\n",
        "        for index in range(len(unique_values)):\n",
        "            if index != 0:\n",
        "                current_value = unique_values[index]\n",
        "                previous_value = unique_values[index - 1]\n",
        "                potential_split = (current_value + previous_value) / 2\n",
        "                \n",
        "                potential_splits[column_index].append(potential_split)\n",
        "    \n",
        "    return potential_splits"
      ],
      "execution_count": 0,
      "outputs": []
    },
    {
      "cell_type": "markdown",
      "metadata": {
        "id": "rHXlF0QA0T3e",
        "colab_type": "text"
      },
      "source": [
        "#### Split Data\n",
        "\n",
        "Check for the different parameters for the split"
      ]
    },
    {
      "cell_type": "code",
      "metadata": {
        "id": "6oaPIi1ZuN6_",
        "colab_type": "code",
        "colab": {}
      },
      "source": [
        "def split_data(data, split_column, split_value):\n",
        "    split_column_values = data[:, split_column]\n",
        "\n",
        "    data_below = data[split_column_values <= split_value]\n",
        "    data_above = data[split_column_values >  split_value]\n",
        "    \n",
        "    return data_below, data_above"
      ],
      "execution_count": 0,
      "outputs": []
    },
    {
      "cell_type": "markdown",
      "metadata": {
        "id": "Gez2X71W00j6",
        "colab_type": "text"
      },
      "source": [
        "## Lowest Overall Entropy\n",
        "\n",
        "Calculate the entropy for every possible split and choose the one with the best split i.e low entropy."
      ]
    },
    {
      "cell_type": "code",
      "metadata": {
        "id": "zgrrcRgd0i52",
        "colab_type": "code",
        "colab": {}
      },
      "source": [
        "def calculate_entropy(data):\n",
        "    \n",
        "    label_column = data[:, -1]\n",
        "    _, counts = np.unique(label_column, return_counts=True)\n",
        "\n",
        "    probabilities = counts / counts.sum()\n",
        "    entropy = sum(probabilities * -np.log2(probabilities))\n",
        "     \n",
        "    return entropy"
      ],
      "execution_count": 0,
      "outputs": []
    },
    {
      "cell_type": "code",
      "metadata": {
        "id": "u48MYMwv1B5r",
        "colab_type": "code",
        "colab": {}
      },
      "source": [
        "def calculate_overall_entropy(data_below, data_above):\n",
        "    \n",
        "    n = len(data_below) + len(data_above)\n",
        "    p_data_below = len(data_below) / n\n",
        "    p_data_above = len(data_above) / n\n",
        "\n",
        "    overall_entropy =  (p_data_below * calculate_entropy(data_below) \n",
        "                      + p_data_above * calculate_entropy(data_above))\n",
        "    \n",
        "    return overall_entropy"
      ],
      "execution_count": 0,
      "outputs": []
    },
    {
      "cell_type": "code",
      "metadata": {
        "id": "bTTuyulr1CGi",
        "colab_type": "code",
        "colab": {}
      },
      "source": [
        "def determine_best_split(data, potential_splits):\n",
        "        \n",
        "    overall_entropy = 9999\n",
        "    for column_index in potential_splits:\n",
        "        for value in potential_splits[column_index]:\n",
        "            data_below, data_above = split_data(data, split_column=column_index, split_value=value)\n",
        "            current_overall_entropy = calculate_overall_entropy(data_below, data_above)\n",
        "\n",
        "            if current_overall_entropy <= overall_entropy:\n",
        "                overall_entropy = current_overall_entropy\n",
        "                best_split_column = column_index\n",
        "                best_split_value = value\n",
        "    \n",
        "    return best_split_column, best_split_value"
      ],
      "execution_count": 0,
      "outputs": []
    },
    {
      "cell_type": "markdown",
      "metadata": {
        "id": "dn4FoE3z1kzm",
        "colab_type": "text"
      },
      "source": [
        "##Decsision Tree Algorithm"
      ]
    },
    {
      "cell_type": "markdown",
      "metadata": {
        "id": "Z9ZyJsKU1p4T",
        "colab_type": "text"
      },
      "source": [
        "Representation of the decision tree"
      ]
    },
    {
      "cell_type": "code",
      "metadata": {
        "id": "F_U-ZZim1CzX",
        "colab_type": "code",
        "colab": {}
      },
      "source": [
        "\n",
        "sub_tree = {\"question\": [\"yes_answer\", \n",
        "                         \"no_answer\"]}"
      ],
      "execution_count": 0,
      "outputs": []
    },
    {
      "cell_type": "code",
      "metadata": {
        "id": "8MghucZK1C4f",
        "colab_type": "code",
        "colab": {}
      },
      "source": [
        "\n",
        "example_tree = {\"petal_width <= 0.8\": [\"Iris-setosa\", \n",
        "                                      {\"petal_width <= 1.65\": [{\"petal_length <= 4.9\": [\"Iris-versicolor\", \n",
        "                                                                                        \"Iris-virginica\"]}, \n",
        "                                                                \"Iris-virginica\"]}]}"
      ],
      "execution_count": 0,
      "outputs": []
    },
    {
      "cell_type": "markdown",
      "metadata": {
        "id": "6wUyDXFk2FPG",
        "colab_type": "text"
      },
      "source": [
        "## Algorithm"
      ]
    },
    {
      "cell_type": "code",
      "metadata": {
        "id": "50rxrebg17zf",
        "colab_type": "code",
        "colab": {}
      },
      "source": [
        "def decision_tree_algorithm(df, counter=0, min_samples=2, max_depth=5):\n",
        "    \n",
        "    # data preparations\n",
        "    if counter == 0:\n",
        "        global COLUMN_HEADERS\n",
        "        COLUMN_HEADERS = df.columns\n",
        "        data = df.values\n",
        "    else:\n",
        "        data = df           \n",
        "    \n",
        "    \n",
        "    # base cases\n",
        "    if (check_purity(data)) or (len(data) < min_samples) or (counter == max_depth):\n",
        "        classification = classify_data(data)\n",
        "        \n",
        "        return classification\n",
        "\n",
        "    \n",
        "    # recursive part\n",
        "    else:    \n",
        "        counter += 1\n",
        "\n",
        "        # helper functions \n",
        "        potential_splits = get_potential_splits(data)\n",
        "        split_column, split_value = determine_best_split(data, potential_splits) \n",
        "        data_below, data_above = split_data(data, split_column, split_value)  \n",
        "        \n",
        "        # instantiate sub-tree\n",
        "        \n",
        "        feature_name = COLUMN_HEADERS[split_column]\n",
        "        question = \"{} <= {}\".format(feature_name, split_value)\n",
        "        sub_tree = {question: []}\n",
        "        \n",
        "        # find answers (recursion)\n",
        "        \n",
        "        yes_answer = decision_tree_algorithm(data_below, counter, min_samples, max_depth)\n",
        "        no_answer = decision_tree_algorithm(data_above, counter, min_samples, max_depth)\n",
        "        \n",
        "        # If the answers are the same, then there is no point in asking the qestion.\n",
        "        # This could happen when the data is classified even though it is not pure\n",
        "        # yet (min_samples or max_depth base cases).\n",
        "        if yes_answer == no_answer:\n",
        "            sub_tree = yes_answer\n",
        "        else:\n",
        "            sub_tree[question].append(yes_answer)\n",
        "            sub_tree[question].append(no_answer)\n",
        "        \n",
        "        return sub_tree"
      ],
      "execution_count": 0,
      "outputs": []
    },
    {
      "cell_type": "code",
      "metadata": {
        "id": "NuHdDBSi2YO3",
        "colab_type": "code",
        "outputId": "95eb3184-1c45-4321-b7a9-837d289adb4b",
        "colab": {
          "base_uri": "https://localhost:8080/",
          "height": 34
        }
      },
      "source": [
        "tree = decision_tree_algorithm(train_df, max_depth=3)\n",
        "print(tree)"
      ],
      "execution_count": 0,
      "outputs": [
        {
          "output_type": "stream",
          "text": [
            "{'petal.width <= 0.8': ['Setosa', {'petal.width <= 1.65': [{'petal.length <= 4.95': ['Versicolor', 'Virginica']}, 'Virginica']}]}\n"
          ],
          "name": "stdout"
        }
      ]
    },
    {
      "cell_type": "markdown",
      "metadata": {
        "id": "8GGWosXO2h39",
        "colab_type": "text"
      },
      "source": [
        "###Classification\n",
        "\n"
      ]
    },
    {
      "cell_type": "code",
      "metadata": {
        "id": "Oo53tAb-2qzC",
        "colab_type": "code",
        "outputId": "f4adf389-b6d4-4c72-eafb-301a7b583fa7",
        "colab": {
          "base_uri": "https://localhost:8080/",
          "height": 119
        }
      },
      "source": [
        "\n",
        "example = test_df.iloc[0]\n",
        "example"
      ],
      "execution_count": 0,
      "outputs": [
        {
          "output_type": "execute_result",
          "data": {
            "text/plain": [
              "sepal.length           5.1\n",
              "sepal.width            2.5\n",
              "petal.length             3\n",
              "petal.width            1.1\n",
              "label           Versicolor\n",
              "Name: 98, dtype: object"
            ]
          },
          "metadata": {
            "tags": []
          },
          "execution_count": 75
        }
      ]
    },
    {
      "cell_type": "code",
      "metadata": {
        "id": "ej5tXQ832ub6",
        "colab_type": "code",
        "colab": {}
      },
      "source": [
        "\n",
        "def classify_example(example, tree):\n",
        "    question = list(tree.keys())[0]\n",
        "    feature_name, comparison_operator, value = question.split()\n",
        "\n",
        "    # ask question\n",
        "    if example[feature_name] <= float(value):\n",
        "        answer = tree[question][0]\n",
        "    else:\n",
        "        answer = tree[question][1]\n",
        "\n",
        "    # base case\n",
        "    \n",
        "    if not isinstance(answer, dict):\n",
        "        return answer\n",
        "    \n",
        "    # recursive part\n",
        "    \n",
        "    else:\n",
        "        residual_tree = answer\n",
        "        return classify_example(example, residual_tree)"
      ],
      "execution_count": 0,
      "outputs": []
    },
    {
      "cell_type": "code",
      "metadata": {
        "id": "dyIQDB-p2zfv",
        "colab_type": "code",
        "outputId": "456fc817-c4e7-48b4-987e-de2d7722e4ae",
        "colab": {
          "base_uri": "https://localhost:8080/",
          "height": 34
        }
      },
      "source": [
        "classify_example(example, tree)"
      ],
      "execution_count": 0,
      "outputs": [
        {
          "output_type": "execute_result",
          "data": {
            "text/plain": [
              "'Versicolor'"
            ]
          },
          "metadata": {
            "tags": []
          },
          "execution_count": 77
        }
      ]
    },
    {
      "cell_type": "markdown",
      "metadata": {
        "id": "8PXePebH3Ctf",
        "colab_type": "text"
      },
      "source": [
        "## Calculate Accuracy"
      ]
    },
    {
      "cell_type": "code",
      "metadata": {
        "id": "i4uc5MQx23bR",
        "colab_type": "code",
        "colab": {}
      },
      "source": [
        "def calculate_accuracy(df, tree):\n",
        "\n",
        "    df[\"classification\"] = df.apply(classify_example, axis=1, args=(tree,))\n",
        "    df[\"classification_correct\"] = df[\"classification\"] == df[\"label\"]\n",
        "    \n",
        "    accuracy = df[\"classification_correct\"].mean()\n",
        "    \n",
        "    return accuracy"
      ],
      "execution_count": 0,
      "outputs": []
    },
    {
      "cell_type": "code",
      "metadata": {
        "id": "IbbiYx1u3GKN",
        "colab_type": "code",
        "outputId": "9c527818-da7f-4f83-8e12-ebc8052da10c",
        "colab": {
          "base_uri": "https://localhost:8080/",
          "height": 34
        }
      },
      "source": [
        "accuracy = calculate_accuracy(test_df, tree)\n",
        "accuracy"
      ],
      "execution_count": 0,
      "outputs": [
        {
          "output_type": "execute_result",
          "data": {
            "text/plain": [
              "0.95"
            ]
          },
          "metadata": {
            "tags": []
          },
          "execution_count": 80
        }
      ]
    },
    {
      "cell_type": "code",
      "metadata": {
        "id": "RKaL2dti3LTI",
        "colab_type": "code",
        "colab": {}
      },
      "source": [
        ""
      ],
      "execution_count": 0,
      "outputs": []
    }
  ]
}