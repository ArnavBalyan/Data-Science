{
 "cells": [
  {
   "cell_type": "markdown",
   "metadata": {},
   "source": [
    "##  WEB-SCRAPYING"
   ]
  },
  {
   "cell_type": "markdown",
   "metadata": {},
   "source": [
    "Web scraping is a computer software technique of extracting information from websites. \n",
    "This technique mostly focuses on the transformation of unstructured data (HTML format) on the web into structured data (database or spreadsheet)."
   ]
  },
  {
   "cell_type": "markdown",
   "metadata": {},
   "source": [
    "### PROBLEM STATEMENT"
   ]
  },
  {
   "cell_type": "markdown",
   "metadata": {},
   "source": [
    "### Crawl popular websites & create a database of Indian movie celebrities with their images and details."
   ]
  },
  {
   "cell_type": "markdown",
   "metadata": {},
   "source": [
    "**Libraries used:**\n",
    "\n",
    "Requests library :https://requests.readthedocs.io/en/master/\n",
    "-  It is a Python module which can be used for fetching URLs\n",
    "\n",
    "BeautifulSoup library:https://www.crummy.com/software/BeautifulSoup/bs4/doc/\n",
    "- Beautiful Soup is a Python library for pulling data out of HTML and XML files. It works with your favorite parser to provide idiomatic ways of navigating, searching, and modifying the parse tree. "
   ]
  },
  {
   "cell_type": "markdown",
   "metadata": {},
   "source": [
    "### IMPORT LIBRARIES"
   ]
  },
  {
   "cell_type": "code",
   "execution_count": null,
   "metadata": {},
   "outputs": [],
   "source": [
    "\"\"\" lxml, re,numpy as np,pandas as pd,os, cv2,from bs4 import BeautifulSoup,from requests import get,\n",
    "    import matplotlib.pyplot as plt\n",
    "    %matplotlib inline\"\"\""
   ]
  },
  {
   "cell_type": "code",
   "execution_count": null,
   "metadata": {},
   "outputs": [],
   "source": [
    "os.getcwd()"
   ]
  },
  {
   "cell_type": "markdown",
   "metadata": {},
   "source": [
    "### Make the list of Urls "
   ]
  },
  {
   "cell_type": "code",
   "execution_count": null,
   "metadata": {},
   "outputs": [],
   "source": [
    "url1 = [\"\"\" list of urls\"\"\"]"
   ]
  },
  {
   "cell_type": "markdown",
   "metadata": {},
   "source": [
    "### Create a class to extract the details from one website"
   ]
  },
  {
   "cell_type": "code",
   "execution_count": null,
   "metadata": {},
   "outputs": [],
   "source": [
    "class IMDB(object):\n",
    "    \"\"\"docstring for IMDB\"\"\"\n",
    "    def __init__(self, url):\n",
    "        super(IMDB, self).__init__()\n",
    "        \"\"\"fetch the webpage using the url provided using the requests library\"\"\"\n",
    "        \n",
    "        \"\"\"import the Beautiful soup functions to parse the data returned from the website using lxml parser\"\"\"\n",
    "\n",
    "    def articleTitle(self):\n",
    "        \"\"\"return the title of the article by searching for class = **header** with h1 tag \"\"\"\n",
    "\n",
    "    def bodyContent(self):\n",
    "        \"\"\"return the body of the article by searching for class **lister-item mode-detail** With div tag \"\"\"\n",
    "\n",
    "    def IndiancelebData(self):\n",
    "        \"\"\"fetch the body content of the page using self.bodyContent function\"\"\"\n",
    "        \"\"\"initialise the list of features for particular page\"\"\"\n",
    "        \"\"\"create the celeb_img folder to store folder if required \n",
    "        and change the directory to that particular folder to store image\"\"\"\n",
    "\n",
    "        \n",
    "        \"\"\"searh for the box containing details of each celebrity and append the name,image Url,detail and image\"\"\"\n",
    "        \n",
    "        CelebData = [\"\"\"list of celebrity \"\"\"]\n",
    "        os.chdir(\"../\")\n",
    "        return CelebData"
   ]
  },
  {
   "cell_type": "code",
   "execution_count": null,
   "metadata": {},
   "outputs": [],
   "source": [
    "if __name__ == '__main__':\n",
    "    \"\"\"initialise a list for each feature and one new list to store the features\"\"\"\n",
    "    for i in range(len(url1)):\n",
    "        \"\"\"create an instance for each url in the url list and print the title of the page,\n",
    "        add the information extracted from the particular page onto the list initialised\n",
    "        \"\"\""
   ]
  },
  {
   "cell_type": "markdown",
   "metadata": {},
   "source": [
    "### Create the dataframe"
   ]
  },
  {
   "cell_type": "code",
   "execution_count": null,
   "metadata": {},
   "outputs": [],
   "source": [
    "\"\"\"store the data (CelebName,CelebImageurl,description ,CelebImage) in the dataframe using pandas\"\"\""
   ]
  },
  {
   "cell_type": "markdown",
   "metadata": {},
   "source": [
    "### Remove the duplicates"
   ]
  },
  {
   "cell_type": "code",
   "execution_count": 12,
   "metadata": {},
   "outputs": [],
   "source": [
    "\"\"\"print remove the duplicates based on name or even all the data\"\"\""
   ]
  },
  {
   "cell_type": "markdown",
   "metadata": {},
   "source": [
    "### Display the dataset"
   ]
  },
  {
   "cell_type": "code",
   "execution_count": null,
   "metadata": {},
   "outputs": [],
   "source": [
    "\"\"\"print actor's name\n",
    "        actors image url\n",
    "        about actor\n",
    "        image of the actor\n",
    "        \"\"\""
   ]
  },
  {
   "cell_type": "markdown",
   "metadata": {},
   "source": [
    "### Store the dataframe in csv file"
   ]
  },
  {
   "cell_type": "code",
   "execution_count": 14,
   "metadata": {},
   "outputs": [],
   "source": [
    "\"\"\"store the dataframe in csv using pandas\"\"\""
   ]
  },
  {
   "cell_type": "code",
   "execution_count": null,
   "metadata": {},
   "outputs": [],
   "source": []
  }
 ],
 "metadata": {
  "kernelspec": {
   "display_name": "Python (PES_AI_PIP)",
   "language": "python",
   "name": "pes_ai_pip"
  },
  "language_info": {
   "codemirror_mode": {
    "name": "ipython",
    "version": 3
   },
   "file_extension": ".py",
   "mimetype": "text/x-python",
   "name": "python",
   "nbconvert_exporter": "python",
   "pygments_lexer": "ipython3",
   "version": "3.7.3"
  }
 },
 "nbformat": 4,
 "nbformat_minor": 2
}
