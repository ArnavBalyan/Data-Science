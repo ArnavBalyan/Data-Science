{
 "cells": [
  {
   "cell_type": "markdown",
   "metadata": {},
   "source": [
    "## Let's analyze the data, find some insights. Let's see which countries have increasing suicide rates and decreasing suicide rates. Which Countries should be careful?\n",
    "\n",
    "## Suicide rata data of many countries from 1985-2016"
   ]
  },
  {
   "cell_type": "code",
   "execution_count": 1,
   "metadata": {},
   "outputs": [],
   "source": [
    "# import all relevant python libraries"
   ]
  },
  {
   "cell_type": "code",
   "execution_count": 2,
   "metadata": {},
   "outputs": [],
   "source": [
    "# Read the csv file using panda dataframe"
   ]
  },
  {
   "cell_type": "code",
   "execution_count": 3,
   "metadata": {},
   "outputs": [],
   "source": [
    "#check the sample shape , size and some records using summary , shape  size and sample , head  function"
   ]
  },
  {
   "cell_type": "code",
   "execution_count": 4,
   "metadata": {},
   "outputs": [],
   "source": [
    "# Check any null values \n",
    "# ignore HDI for Year coulumn when analysing data"
   ]
  },
  {
   "cell_type": "code",
   "execution_count": 5,
   "metadata": {},
   "outputs": [],
   "source": [
    "# \"Suicides/100k pop\" is correct for analyzing as it depicts, \"how many suicides occured for 100000 population?\"\n",
    "\n",
    "#first_obs = df[[\"country\",\"year\",\"sex\",\"age\",\"suicides/100k pop\"]]\n",
    "#first_obs.head()"
   ]
  },
  {
   "cell_type": "code",
   "execution_count": 6,
   "metadata": {},
   "outputs": [],
   "source": [
    "#Modifying the \"year\" attribute\n",
    "\n",
    "#print(\"Min : \",first_obs.year.min())\n",
    "#print(\"Max : \",first_obs.year.max())"
   ]
  },
  {
   "cell_type": "markdown",
   "metadata": {},
   "source": [
    "# Do some insights and see visulaizations using SEABORN LIBRARY"
   ]
  },
  {
   "cell_type": "markdown",
   "metadata": {},
   "source": [
    "#  Suicides based on Age, Gender"
   ]
  },
  {
   "cell_type": "code",
   "execution_count": 7,
   "metadata": {},
   "outputs": [],
   "source": [
    "# Write your code"
   ]
  },
  {
   "cell_type": "markdown",
   "metadata": {},
   "source": [
    "# Suicides based on Decades, Gender"
   ]
  },
  {
   "cell_type": "code",
   "execution_count": 8,
   "metadata": {},
   "outputs": [],
   "source": [
    "# Write your code"
   ]
  },
  {
   "cell_type": "markdown",
   "metadata": {},
   "source": [
    "# Draw a Barplot depicting Gender wise Suicide Rates"
   ]
  },
  {
   "cell_type": "code",
   "execution_count": 9,
   "metadata": {},
   "outputs": [],
   "source": [
    "# Write your code"
   ]
  },
  {
   "cell_type": "markdown",
   "metadata": {},
   "source": [
    "# Country wise Suicide Analysis\n",
    "\n",
    "Check which countries have less suicides ?\n",
    "Check top 10 countries with most suicides ?\n",
    "Check which countries have most/less suicides recently?\n",
    "Check countries with most suicides recently ?\n"
   ]
  },
  {
   "cell_type": "code",
   "execution_count": 10,
   "metadata": {},
   "outputs": [],
   "source": [
    "# Write your code"
   ]
  },
  {
   "cell_type": "markdown",
   "metadata": {},
   "source": [
    "# DANGER ZONE Nations vs Safe Zone Nations\n",
    "\n",
    "Danger Zone Nations are those nations,\n",
    "\n",
    "where suicides are at increasing rate for 3 successive decades, then they are classified to DANGER ZONE NATIONS\n",
    "Safe Zone Nations are those nations,\n",
    "\n",
    "where suicides are at decreasing rate for 3 successive decades, then they are classified to Safe ZONE NATIONS\n",
    "With this analysis,\n",
    "\n",
    "we can understand whether GOVT taking any initiatives for decreasing suicide rate.\n",
    "Why these specfic Nations have increasing Suicide rate?"
   ]
  },
  {
   "cell_type": "code",
   "execution_count": 11,
   "metadata": {},
   "outputs": [],
   "source": [
    "# Do zone wise analysis"
   ]
  },
  {
   "cell_type": "markdown",
   "metadata": {},
   "source": [
    "# Write your conclusions"
   ]
  }
 ],
 "metadata": {
  "kernelspec": {
   "display_name": "Python 3",
   "language": "python",
   "name": "python3"
  },
  "language_info": {
   "codemirror_mode": {
    "name": "ipython",
    "version": 3
   },
   "file_extension": ".py",
   "mimetype": "text/x-python",
   "name": "python",
   "nbconvert_exporter": "python",
   "pygments_lexer": "ipython3",
   "version": "3.8.1"
  }
 },
 "nbformat": 4,
 "nbformat_minor": 4
}
