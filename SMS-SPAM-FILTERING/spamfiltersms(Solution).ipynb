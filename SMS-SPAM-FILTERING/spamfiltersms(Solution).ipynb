{
  "nbformat": 4,
  "nbformat_minor": 0,
  "metadata": {
    "anaconda-cloud": {},
    "colab": {
      "name": "spamfiltersms(Solution).ipynb",
      "provenance": []
    },
    "kernelspec": {
      "display_name": "Python 3",
      "language": "python",
      "name": "python3"
    },
    "language_info": {
      "codemirror_mode": {
        "name": "ipython",
        "version": 3
      },
      "file_extension": ".py",
      "mimetype": "text/x-python",
      "name": "python",
      "nbconvert_exporter": "python",
      "pygments_lexer": "ipython3",
      "version": "3.7.6"
    }
  },
  "cells": [
    {
      "cell_type": "markdown",
      "metadata": {
        "_cell_guid": "f169d7cf-818b-4815-a5be-76265e99d139",
        "_uuid": "25f02ffdb0d53b9663f351fa0c0f415d2bce15b1",
        "colab_type": "text",
        "id": "9K69ojXcAMs0"
      },
      "source": [
        "## **SMS Spam classification**\n",
        "The given dataset is a set of SMS tagged messages that have been collected for SMS Spam research. It contains one set of SMS messages in English of 5,574 messages, tagged acording being ham (legitimate) or spam.\n",
        "\n",
        "**Task is to build a prediction model that will accurately classify which texts are spam**"
      ]
    },
    {
      "cell_type": "markdown",
      "metadata": {
        "_cell_guid": "8b0b431e-8d74-4a03-9858-539f067f6604",
        "_uuid": "73148e4af546e95aa951ee5cb2c9ee2728eb4401",
        "colab_type": "text",
        "id": "oX1bDrGTAMs5"
      },
      "source": [
        "## **Steps:**\n",
        "- Importing Libraries\n",
        "- Exploring the Dataset & removing unwanted columns\n",
        "- Exploratory Data Analysis\n",
        " - Univariate Analysis\n",
        " - Text Analysis \n",
        "- Feature Engineering - CountVectorisation\n",
        "- preprocessing data before loading to data \n",
        "- Predictive analysis \n",
        "- Conclusion\n"
      ]
    },
    {
      "cell_type": "markdown",
      "metadata": {
        "_cell_guid": "ba30922b-183b-4f2e-ac19-35ebc9dd865a",
        "_uuid": "e27ea858875f6d5698fcfb196b32160c8d761697",
        "colab_type": "text",
        "id": "bl8mvWGhAMs-"
      },
      "source": [
        "## **1. Importing Libraries**"
      ]
    },
    {
      "cell_type": "code",
      "metadata": {
        "_cell_guid": "77dbf249-4662-4faf-ae30-654f5f76f5b1",
        "_uuid": "5eb96b9e55cca9f7dbc74128cd5933856b39aa51",
        "colab_type": "code",
        "id": "XiWtn9OvAMtB",
        "trusted": true,
        "colab": {}
      },
      "source": [
        "#importing the necessary packages to process or plot the data\n",
        "import numpy as np\n",
        "import pandas as pd\n",
        "import matplotlib.pyplot as plt\n",
        "from collections import Counter\n",
        "from sklearn import feature_extraction, model_selection, naive_bayes, metrics, svm\n",
        "from IPython.display import Image\n",
        "import warnings\n",
        "warnings.filterwarnings(\"ignore\")\n",
        "%matplotlib inline  "
      ],
      "execution_count": 0,
      "outputs": []
    },
    {
      "cell_type": "markdown",
      "metadata": {
        "_cell_guid": "ab7471a7-9fda-4dc9-ba8b-6d4f0c1b92e1",
        "_uuid": "2a11f84b23cf786579a3beb1074c6e7375456b77",
        "colab_type": "text",
        "id": "7UxiDRygAMtV"
      },
      "source": [
        "**Read the text file with the help of pandas read_table function**"
      ]
    },
    {
      "cell_type": "code",
      "metadata": {
        "_cell_guid": "e8604809-62b9-47bd-84fa-92063d8ae5b3",
        "_uuid": "3a9038c1ea6026f8ae89cf052aa71c89bcb940dd",
        "colab_type": "code",
        "id": "vt7pZTcnAMtZ",
        "scrolled": true,
        "trusted": true,
        "colab": {}
      },
      "source": [
        "\n",
        "data = pd.read_table('/content/SMSSpamCollection',sep='\\t',names=['v1','v2'])\n"
      ],
      "execution_count": 0,
      "outputs": []
    },
    {
      "cell_type": "code",
      "metadata": {
        "trusted": true,
        "id": "v8zt1odKMcTU",
        "colab_type": "code",
        "outputId": "ffb837f8-4f8c-4b29-c318-6ea39362ec29",
        "colab": {
          "base_uri": "https://localhost:8080/",
          "height": 206
        }
      },
      "source": [
        "# using the head function see what is originlly present in the dataset\n",
        "data.head()"
      ],
      "execution_count": 67,
      "outputs": [
        {
          "output_type": "execute_result",
          "data": {
            "text/html": [
              "<div>\n",
              "<style scoped>\n",
              "    .dataframe tbody tr th:only-of-type {\n",
              "        vertical-align: middle;\n",
              "    }\n",
              "\n",
              "    .dataframe tbody tr th {\n",
              "        vertical-align: top;\n",
              "    }\n",
              "\n",
              "    .dataframe thead th {\n",
              "        text-align: right;\n",
              "    }\n",
              "</style>\n",
              "<table border=\"1\" class=\"dataframe\">\n",
              "  <thead>\n",
              "    <tr style=\"text-align: right;\">\n",
              "      <th></th>\n",
              "      <th>v1</th>\n",
              "      <th>v2</th>\n",
              "    </tr>\n",
              "  </thead>\n",
              "  <tbody>\n",
              "    <tr>\n",
              "      <th>0</th>\n",
              "      <td>ham</td>\n",
              "      <td>Go until jurong point, crazy.. Available only ...</td>\n",
              "    </tr>\n",
              "    <tr>\n",
              "      <th>1</th>\n",
              "      <td>ham</td>\n",
              "      <td>Ok lar... Joking wif u oni...</td>\n",
              "    </tr>\n",
              "    <tr>\n",
              "      <th>2</th>\n",
              "      <td>spam</td>\n",
              "      <td>Free entry in 2 a wkly comp to win FA Cup fina...</td>\n",
              "    </tr>\n",
              "    <tr>\n",
              "      <th>3</th>\n",
              "      <td>ham</td>\n",
              "      <td>U dun say so early hor... U c already then say...</td>\n",
              "    </tr>\n",
              "    <tr>\n",
              "      <th>4</th>\n",
              "      <td>ham</td>\n",
              "      <td>Nah I don't think he goes to usf, he lives aro...</td>\n",
              "    </tr>\n",
              "  </tbody>\n",
              "</table>\n",
              "</div>"
            ],
            "text/plain": [
              "     v1                                                 v2\n",
              "0   ham  Go until jurong point, crazy.. Available only ...\n",
              "1   ham                      Ok lar... Joking wif u oni...\n",
              "2  spam  Free entry in 2 a wkly comp to win FA Cup fina...\n",
              "3   ham  U dun say so early hor... U c already then say...\n",
              "4   ham  Nah I don't think he goes to usf, he lives aro..."
            ]
          },
          "metadata": {
            "tags": []
          },
          "execution_count": 67
        }
      ]
    },
    {
      "cell_type": "code",
      "metadata": {
        "id": "HZVTBKhkMcTd",
        "colab_type": "code",
        "colab": {}
      },
      "source": [
        ""
      ],
      "execution_count": 0,
      "outputs": []
    },
    {
      "cell_type": "markdown",
      "metadata": {
        "id": "4MfX4AQUMcTp",
        "colab_type": "text"
      },
      "source": [
        "**Shape of the dataset**"
      ]
    },
    {
      "cell_type": "code",
      "metadata": {
        "trusted": true,
        "id": "bH4BiyukMcTs",
        "colab_type": "code",
        "outputId": "e058b072-c1ad-479e-b477-f35db2d7ff91",
        "colab": {
          "base_uri": "https://localhost:8080/",
          "height": 34
        }
      },
      "source": [
        "# shape method gives the shape of dataframe\n",
        "data.shape"
      ],
      "execution_count": 68,
      "outputs": [
        {
          "output_type": "execute_result",
          "data": {
            "text/plain": [
              "(5572, 2)"
            ]
          },
          "metadata": {
            "tags": []
          },
          "execution_count": 68
        }
      ]
    },
    {
      "cell_type": "markdown",
      "metadata": {
        "id": "AsWDeLYpMcT2",
        "colab_type": "text"
      },
      "source": [
        ""
      ]
    },
    {
      "cell_type": "markdown",
      "metadata": {
        "id": "v-LjwJmxMcUA",
        "colab_type": "text"
      },
      "source": [
        "Again take a look at the data,run below cells"
      ]
    },
    {
      "cell_type": "code",
      "metadata": {
        "trusted": true,
        "id": "1w4HeBjqMcUC",
        "colab_type": "code",
        "outputId": "7f4f02c9-73dd-409e-fe6f-d518ad3503fd",
        "colab": {
          "base_uri": "https://localhost:8080/",
          "height": 175
        }
      },
      "source": [
        "data.describe(include='all')"
      ],
      "execution_count": 69,
      "outputs": [
        {
          "output_type": "execute_result",
          "data": {
            "text/html": [
              "<div>\n",
              "<style scoped>\n",
              "    .dataframe tbody tr th:only-of-type {\n",
              "        vertical-align: middle;\n",
              "    }\n",
              "\n",
              "    .dataframe tbody tr th {\n",
              "        vertical-align: top;\n",
              "    }\n",
              "\n",
              "    .dataframe thead th {\n",
              "        text-align: right;\n",
              "    }\n",
              "</style>\n",
              "<table border=\"1\" class=\"dataframe\">\n",
              "  <thead>\n",
              "    <tr style=\"text-align: right;\">\n",
              "      <th></th>\n",
              "      <th>v1</th>\n",
              "      <th>v2</th>\n",
              "    </tr>\n",
              "  </thead>\n",
              "  <tbody>\n",
              "    <tr>\n",
              "      <th>count</th>\n",
              "      <td>5572</td>\n",
              "      <td>5572</td>\n",
              "    </tr>\n",
              "    <tr>\n",
              "      <th>unique</th>\n",
              "      <td>2</td>\n",
              "      <td>5169</td>\n",
              "    </tr>\n",
              "    <tr>\n",
              "      <th>top</th>\n",
              "      <td>ham</td>\n",
              "      <td>Sorry, I'll call later</td>\n",
              "    </tr>\n",
              "    <tr>\n",
              "      <th>freq</th>\n",
              "      <td>4825</td>\n",
              "      <td>30</td>\n",
              "    </tr>\n",
              "  </tbody>\n",
              "</table>\n",
              "</div>"
            ],
            "text/plain": [
              "          v1                      v2\n",
              "count   5572                    5572\n",
              "unique     2                    5169\n",
              "top      ham  Sorry, I'll call later\n",
              "freq    4825                      30"
            ]
          },
          "metadata": {
            "tags": []
          },
          "execution_count": 69
        }
      ]
    },
    {
      "cell_type": "code",
      "metadata": {
        "trusted": true,
        "id": "LpaaDPBSMcUL",
        "colab_type": "code",
        "outputId": "0fc60613-8d67-4bbc-c1df-45c1293a0259",
        "colab": {
          "base_uri": "https://localhost:8080/",
          "height": 175
        }
      },
      "source": [
        "#describe data by group - use pandas groupby('v1').describe() method\n",
        "data.groupby('v1').describe()"
      ],
      "execution_count": 70,
      "outputs": [
        {
          "output_type": "execute_result",
          "data": {
            "text/html": [
              "<div>\n",
              "<style scoped>\n",
              "    .dataframe tbody tr th:only-of-type {\n",
              "        vertical-align: middle;\n",
              "    }\n",
              "\n",
              "    .dataframe tbody tr th {\n",
              "        vertical-align: top;\n",
              "    }\n",
              "\n",
              "    .dataframe thead tr th {\n",
              "        text-align: left;\n",
              "    }\n",
              "\n",
              "    .dataframe thead tr:last-of-type th {\n",
              "        text-align: right;\n",
              "    }\n",
              "</style>\n",
              "<table border=\"1\" class=\"dataframe\">\n",
              "  <thead>\n",
              "    <tr>\n",
              "      <th></th>\n",
              "      <th colspan=\"4\" halign=\"left\">v2</th>\n",
              "    </tr>\n",
              "    <tr>\n",
              "      <th></th>\n",
              "      <th>count</th>\n",
              "      <th>unique</th>\n",
              "      <th>top</th>\n",
              "      <th>freq</th>\n",
              "    </tr>\n",
              "    <tr>\n",
              "      <th>v1</th>\n",
              "      <th></th>\n",
              "      <th></th>\n",
              "      <th></th>\n",
              "      <th></th>\n",
              "    </tr>\n",
              "  </thead>\n",
              "  <tbody>\n",
              "    <tr>\n",
              "      <th>ham</th>\n",
              "      <td>4825</td>\n",
              "      <td>4516</td>\n",
              "      <td>Sorry, I'll call later</td>\n",
              "      <td>30</td>\n",
              "    </tr>\n",
              "    <tr>\n",
              "      <th>spam</th>\n",
              "      <td>747</td>\n",
              "      <td>653</td>\n",
              "      <td>Please call our customer service representativ...</td>\n",
              "      <td>4</td>\n",
              "    </tr>\n",
              "  </tbody>\n",
              "</table>\n",
              "</div>"
            ],
            "text/plain": [
              "        v2                                                               \n",
              "     count unique                                                top freq\n",
              "v1                                                                       \n",
              "ham   4825   4516                             Sorry, I'll call later   30\n",
              "spam   747    653  Please call our customer service representativ...    4"
            ]
          },
          "metadata": {
            "tags": []
          },
          "execution_count": 70
        }
      ]
    },
    {
      "cell_type": "markdown",
      "metadata": {
        "id": "jOZRFejtMcUT",
        "colab_type": "text"
      },
      "source": [
        "whats your inference??"
      ]
    },
    {
      "cell_type": "code",
      "metadata": {
        "trusted": true,
        "id": "vxOl7h4tMcUW",
        "colab_type": "code",
        "outputId": "034007cc-83cd-4f0f-ab12-d30f550729a1",
        "colab": {
          "base_uri": "https://localhost:8080/",
          "height": 206
        }
      },
      "source": [
        "#Calculating the length of all the messages\n",
        "data['length']=data['v2'].apply(len)\n",
        "data.head()\n",
        "\n"
      ],
      "execution_count": 71,
      "outputs": [
        {
          "output_type": "execute_result",
          "data": {
            "text/html": [
              "<div>\n",
              "<style scoped>\n",
              "    .dataframe tbody tr th:only-of-type {\n",
              "        vertical-align: middle;\n",
              "    }\n",
              "\n",
              "    .dataframe tbody tr th {\n",
              "        vertical-align: top;\n",
              "    }\n",
              "\n",
              "    .dataframe thead th {\n",
              "        text-align: right;\n",
              "    }\n",
              "</style>\n",
              "<table border=\"1\" class=\"dataframe\">\n",
              "  <thead>\n",
              "    <tr style=\"text-align: right;\">\n",
              "      <th></th>\n",
              "      <th>v1</th>\n",
              "      <th>v2</th>\n",
              "      <th>length</th>\n",
              "    </tr>\n",
              "  </thead>\n",
              "  <tbody>\n",
              "    <tr>\n",
              "      <th>0</th>\n",
              "      <td>ham</td>\n",
              "      <td>Go until jurong point, crazy.. Available only ...</td>\n",
              "      <td>111</td>\n",
              "    </tr>\n",
              "    <tr>\n",
              "      <th>1</th>\n",
              "      <td>ham</td>\n",
              "      <td>Ok lar... Joking wif u oni...</td>\n",
              "      <td>29</td>\n",
              "    </tr>\n",
              "    <tr>\n",
              "      <th>2</th>\n",
              "      <td>spam</td>\n",
              "      <td>Free entry in 2 a wkly comp to win FA Cup fina...</td>\n",
              "      <td>155</td>\n",
              "    </tr>\n",
              "    <tr>\n",
              "      <th>3</th>\n",
              "      <td>ham</td>\n",
              "      <td>U dun say so early hor... U c already then say...</td>\n",
              "      <td>49</td>\n",
              "    </tr>\n",
              "    <tr>\n",
              "      <th>4</th>\n",
              "      <td>ham</td>\n",
              "      <td>Nah I don't think he goes to usf, he lives aro...</td>\n",
              "      <td>61</td>\n",
              "    </tr>\n",
              "  </tbody>\n",
              "</table>\n",
              "</div>"
            ],
            "text/plain": [
              "     v1                                                 v2  length\n",
              "0   ham  Go until jurong point, crazy.. Available only ...     111\n",
              "1   ham                      Ok lar... Joking wif u oni...      29\n",
              "2  spam  Free entry in 2 a wkly comp to win FA Cup fina...     155\n",
              "3   ham  U dun say so early hor... U c already then say...      49\n",
              "4   ham  Nah I don't think he goes to usf, he lives aro...      61"
            ]
          },
          "metadata": {
            "tags": []
          },
          "execution_count": 71
        }
      ]
    },
    {
      "cell_type": "code",
      "metadata": {
        "trusted": true,
        "id": "m2j-9uOLMcUe",
        "colab_type": "code",
        "outputId": "dcae9385-e44c-4133-83e4-0bcfd8eae42b",
        "colab": {
          "base_uri": "https://localhost:8080/",
          "height": 206
        }
      },
      "source": [
        "\n",
        "data.head()"
      ],
      "execution_count": 74,
      "outputs": [
        {
          "output_type": "execute_result",
          "data": {
            "text/html": [
              "<div>\n",
              "<style scoped>\n",
              "    .dataframe tbody tr th:only-of-type {\n",
              "        vertical-align: middle;\n",
              "    }\n",
              "\n",
              "    .dataframe tbody tr th {\n",
              "        vertical-align: top;\n",
              "    }\n",
              "\n",
              "    .dataframe thead th {\n",
              "        text-align: right;\n",
              "    }\n",
              "</style>\n",
              "<table border=\"1\" class=\"dataframe\">\n",
              "  <thead>\n",
              "    <tr style=\"text-align: right;\">\n",
              "      <th></th>\n",
              "      <th>v1</th>\n",
              "      <th>v2</th>\n",
              "      <th>length</th>\n",
              "    </tr>\n",
              "  </thead>\n",
              "  <tbody>\n",
              "    <tr>\n",
              "      <th>0</th>\n",
              "      <td>ham</td>\n",
              "      <td>Go until jurong point, crazy.. Available only ...</td>\n",
              "      <td>111</td>\n",
              "    </tr>\n",
              "    <tr>\n",
              "      <th>1</th>\n",
              "      <td>ham</td>\n",
              "      <td>Ok lar... Joking wif u oni...</td>\n",
              "      <td>29</td>\n",
              "    </tr>\n",
              "    <tr>\n",
              "      <th>2</th>\n",
              "      <td>spam</td>\n",
              "      <td>Free entry in 2 a wkly comp to win FA Cup fina...</td>\n",
              "      <td>155</td>\n",
              "    </tr>\n",
              "    <tr>\n",
              "      <th>3</th>\n",
              "      <td>ham</td>\n",
              "      <td>U dun say so early hor... U c already then say...</td>\n",
              "      <td>49</td>\n",
              "    </tr>\n",
              "    <tr>\n",
              "      <th>4</th>\n",
              "      <td>ham</td>\n",
              "      <td>Nah I don't think he goes to usf, he lives aro...</td>\n",
              "      <td>61</td>\n",
              "    </tr>\n",
              "  </tbody>\n",
              "</table>\n",
              "</div>"
            ],
            "text/plain": [
              "     v1                                                 v2  length\n",
              "0   ham  Go until jurong point, crazy.. Available only ...     111\n",
              "1   ham                      Ok lar... Joking wif u oni...      29\n",
              "2  spam  Free entry in 2 a wkly comp to win FA Cup fina...     155\n",
              "3   ham  U dun say so early hor... U c already then say...      49\n",
              "4   ham  Nah I don't think he goes to usf, he lives aro...      61"
            ]
          },
          "metadata": {
            "tags": []
          },
          "execution_count": 74
        }
      ]
    },
    {
      "cell_type": "code",
      "metadata": {
        "id": "0AKFTAQwFAHE",
        "colab_type": "code",
        "colab": {
          "base_uri": "https://localhost:8080/",
          "height": 300
        },
        "outputId": "1ae8410e-dbb7-4aee-9708-309054aa3905"
      },
      "source": [
        "data.describe()"
      ],
      "execution_count": 75,
      "outputs": [
        {
          "output_type": "execute_result",
          "data": {
            "text/html": [
              "<div>\n",
              "<style scoped>\n",
              "    .dataframe tbody tr th:only-of-type {\n",
              "        vertical-align: middle;\n",
              "    }\n",
              "\n",
              "    .dataframe tbody tr th {\n",
              "        vertical-align: top;\n",
              "    }\n",
              "\n",
              "    .dataframe thead th {\n",
              "        text-align: right;\n",
              "    }\n",
              "</style>\n",
              "<table border=\"1\" class=\"dataframe\">\n",
              "  <thead>\n",
              "    <tr style=\"text-align: right;\">\n",
              "      <th></th>\n",
              "      <th>length</th>\n",
              "    </tr>\n",
              "  </thead>\n",
              "  <tbody>\n",
              "    <tr>\n",
              "      <th>count</th>\n",
              "      <td>5572.000000</td>\n",
              "    </tr>\n",
              "    <tr>\n",
              "      <th>mean</th>\n",
              "      <td>80.489950</td>\n",
              "    </tr>\n",
              "    <tr>\n",
              "      <th>std</th>\n",
              "      <td>59.942907</td>\n",
              "    </tr>\n",
              "    <tr>\n",
              "      <th>min</th>\n",
              "      <td>2.000000</td>\n",
              "    </tr>\n",
              "    <tr>\n",
              "      <th>25%</th>\n",
              "      <td>36.000000</td>\n",
              "    </tr>\n",
              "    <tr>\n",
              "      <th>50%</th>\n",
              "      <td>62.000000</td>\n",
              "    </tr>\n",
              "    <tr>\n",
              "      <th>75%</th>\n",
              "      <td>122.000000</td>\n",
              "    </tr>\n",
              "    <tr>\n",
              "      <th>max</th>\n",
              "      <td>910.000000</td>\n",
              "    </tr>\n",
              "  </tbody>\n",
              "</table>\n",
              "</div>"
            ],
            "text/plain": [
              "            length\n",
              "count  5572.000000\n",
              "mean     80.489950\n",
              "std      59.942907\n",
              "min       2.000000\n",
              "25%      36.000000\n",
              "50%      62.000000\n",
              "75%     122.000000\n",
              "max     910.000000"
            ]
          },
          "metadata": {
            "tags": []
          },
          "execution_count": 75
        }
      ]
    },
    {
      "cell_type": "markdown",
      "metadata": {
        "_cell_guid": "2ed76eea-004a-42a0-a1c9-c45c092bbb4b",
        "_uuid": "d71ec916875461c07bdb1f9d53d9b0a7210de035",
        "colab_type": "text",
        "id": "XbaV4yluAMtm"
      },
      "source": [
        "## Distribution spam/non-spam plots"
      ]
    },
    {
      "cell_type": "code",
      "metadata": {
        "_cell_guid": "74f9cf41-4793-4be5-a46e-bdb93067e973",
        "_uuid": "99a4b831313c23573b7972c65637d01dd497c6fe",
        "colab_type": "code",
        "id": "kGBccyLhAMtp",
        "outputId": "6c5af4fc-8ef4-4b7f-8cdc-4c1aa9ab6aef",
        "scrolled": true,
        "trusted": true,
        "colab": {
          "base_uri": "https://localhost:8080/",
          "height": 299
        }
      },
      "source": [
        "count_Class=pd.value_counts(data[\"v1\"], sort= True)\n",
        "count_Class.plot(kind= 'bar', color= [\"blue\", \"orange\"])\n",
        "plt.title('Bar chart')\n",
        "plt.show()"
      ],
      "execution_count": 76,
      "outputs": [
        {
          "output_type": "display_data",
          "data": {
            "image/png": "[encoded data removed]",
            "text/plain": [
              "<Figure size 432x288 with 1 Axes>"
            ]
          },
          "metadata": {
            "tags": [],
            "needs_background": "light"
          }
        }
      ]
    },
    {
      "cell_type": "code",
      "metadata": {
        "_cell_guid": "5596df63-7be7-4625-b952-c5508917a630",
        "_uuid": "f233eab105cb93e90ce37f9361616a5be6645751",
        "colab_type": "code",
        "id": "z92Dev4NAMtz",
        "outputId": "dcab7e2c-1072-4417-b57c-c807bf6ded60",
        "trusted": true,
        "colab": {
          "base_uri": "https://localhost:8080/",
          "height": 264
        }
      },
      "source": [
        "count_Class.plot(kind = 'pie',  autopct='%1.0f%%')\n",
        "plt.title('Pie chart')\n",
        "plt.show()"
      ],
      "execution_count": 77,
      "outputs": [
        {
          "output_type": "display_data",
          "data": {
            "image/png": "[encoded data removed]",
            "text/plain": [
              "<Figure size 432x288 with 1 Axes>"
            ]
          },
          "metadata": {
            "tags": []
          }
        }
      ]
    },
    {
      "cell_type": "markdown",
      "metadata": {
        "id": "-p-h5CD2McU5",
        "colab_type": "text"
      },
      "source": [
        "####"
      ]
    },
    {
      "cell_type": "markdown",
      "metadata": {
        "_cell_guid": "ff53e1a6-a37b-4a31-9b41-c959296156de",
        "_uuid": "9ec51be1879d2987eef26632bc411a3577b42ae8",
        "colab_type": "text",
        "id": "vN91x17v9i94"
      },
      "source": [
        "## **Text Analysis**\n",
        "It is an important step when dealing with text data"
      ]
    },
    {
      "cell_type": "markdown",
      "metadata": {
        "id": "3JDOc953MNFO",
        "colab_type": "text"
      },
      "source": [
        "**We want to find the frequencies of words in the spam and non-spam messages. \n",
        "We use the function Counter.**"
      ]
    },
    {
      "cell_type": "code",
      "metadata": {
        "_cell_guid": "8c750858-87e9-498c-86f5-4df7310f9e63",
        "_uuid": "03677f8369b4bb3450ffe8a9cd3de9c0b01e681d",
        "colab_type": "code",
        "trusted": true,
        "outputId": "abebda21-73e0-4eb2-a374-a07a16d01e7b",
        "id": "QnS82RsD9i-T",
        "colab": {
          "base_uri": "https://localhost:8080/",
          "height": 310
        }
      },
      "source": [
        "#import counter function\n",
        "from collections import Counter\n",
        "\n",
        "#using counter\n",
        "count1 = Counter(\" \".join(data[data['v1']=='spam'][\"v2\"]).split()).most_common(20)\n",
        "df1 = pd.DataFrame.from_dict(count1)\n",
        "df1 = df1.rename(columns={0: \"words in spam\", 1 : \"count_\"})\n",
        "df1.plot.bar(legend = False, color = 'orange')\n",
        "y_pos = np.arange(len(df1[\"words in spam\"]))\n",
        "plt.xticks(y_pos, df1[\"words in spam\"])\n",
        "plt.title('More frequent words in spam messages')\n",
        "plt.xlabel('words')\n",
        "plt.ylabel('number')\n",
        "plt.show()\n"
      ],
      "execution_count": 79,
      "outputs": [
        {
          "output_type": "display_data",
          "data": {
            "image/png": "[encoded data removed]",
            "text/plain": [
              "<Figure size 432x288 with 1 Axes>"
            ]
          },
          "metadata": {
            "tags": [],
            "needs_background": "light"
          }
        }
      ]
    },
    {
      "cell_type": "markdown",
      "metadata": {
        "id": "CAbgJHCMTPAZ",
        "colab_type": "text"
      },
      "source": [
        "<b>We can see that the majority of frequent words in msgs are **'the', 'to', 'a', 'or' and so on. These are called stop words and are a part of english grammer,but they don't really convey your message, we need to find the actual vocabulary words which contribute to the meaning**</b><p>\n",
        "With stop words we refer to the most common words in a lenguage, there is no simgle, universal list of stop words. <p>\n",
        "\n",
        "<b>Using skearn , we will import the stopwords dataset listed,and remove them from our messages and again analyse the messages</b>\n",
        "## <b>Now we will remove the stopwords and again do the analysis</b>"
      ]
    },
    {
      "cell_type": "code",
      "metadata": {
        "id": "adSZHt5ZTf6K",
        "colab_type": "code",
        "colab": {}
      },
      "source": [
        "from sklearn.feature_extraction import text\n",
        "stop = text.ENGLISH_STOP_WORDS\n",
        "#removing the stop-words from the messages(complete dataset)\n",
        "data['v2']=data['v2'].apply(lambda x: ' '.join([word for word in x.split() if word not in (stop)]))"
      ],
      "execution_count": 0,
      "outputs": []
    },
    {
      "cell_type": "code",
      "metadata": {
        "id": "36DQOMuNTu39",
        "colab_type": "code",
        "colab": {
          "base_uri": "https://localhost:8080/",
          "height": 323
        },
        "outputId": "3fec2344-6b6e-4be7-d506-7b5b65af8d1d"
      },
      "source": [
        "## todo: rewrite the counter code here, and check the most frequent words \n",
        "#using counter\n",
        "count1 = Counter(\" \".join(data[data['v1']=='spam'][\"v2\"]).split()).most_common(20)\n",
        "df1 = pd.DataFrame.from_dict(count1)\n",
        "df1 = df1.rename(columns={0: \"words in spam\", 1 : \"count_\"})\n",
        "df1.plot.bar(legend = False, color = 'orange')\n",
        "y_pos = np.arange(len(df1[\"words in spam\"]))\n",
        "plt.xticks(y_pos, df1[\"words in spam\"])\n",
        "plt.title('More frequent words in spam messages')\n",
        "plt.xlabel('words')\n",
        "plt.ylabel('number')\n",
        "plt.show()"
      ],
      "execution_count": 81,
      "outputs": [
        {
          "output_type": "display_data",
          "data": {
            "image/png": "[encoded data removed]",
            "text/plain": [
              "<Figure size 432x288 with 1 Axes>"
            ]
          },
          "metadata": {
            "tags": [],
            "needs_background": "light"
          }
        }
      ]
    },
    {
      "cell_type": "code",
      "metadata": {
        "id": "XFdDSFonZOJ7",
        "colab_type": "code",
        "colab": {}
      },
      "source": [
        ""
      ],
      "execution_count": 0,
      "outputs": []
    },
    {
      "cell_type": "markdown",
      "metadata": {
        "id": "glBVf38ZT15_",
        "colab_type": "text"
      },
      "source": [
        "<b>Above after removing the stop words , we can actually find some meaningful words, like \"Free\",\"Contact\" which can be actially found in spam mails</b>"
      ]
    },
    {
      "cell_type": "code",
      "metadata": {
        "_cell_guid": "9637faec-7114-4365-aceb-a2d74787a205",
        "_uuid": "bf9b59581db68038824724344fe937e65f5f8661",
        "colab_type": "code",
        "id": "1jWRgWQB9i_I",
        "colab": {
          "base_uri": "https://localhost:8080/",
          "height": 333
        },
        "outputId": "f25a2cfa-8b77-4cef-ac63-bb36e7181890"
      },
      "source": [
        "##todo:Do the same for finding most frequent words in Non-Spam messages:\n",
        "\n",
        "#note: stop words are already removed from all ham/spam sentences \n",
        "\n",
        "#using counter\n",
        "count2 = Counter(\" \".join(data[data['v1']=='ham'][\"v2\"]).split()).most_common(20)\n",
        "df2 = pd.DataFrame.from_dict(count2)\n",
        "df2 = df2.rename(columns={0: \"words in non-spam\", 1 : \"count_\"})\n",
        "df2.plot.bar(legend = False, color = 'blue')\n",
        "y_pos = np.arange(len(df2[\"words in non-spam\"]))\n",
        "plt.xticks(y_pos, df2[\"words in non-spam\"])\n",
        "plt.title('More frequent words in non-spam messages')\n",
        "plt.xlabel('words')\n",
        "plt.ylabel('number')\n",
        "plt.show()"
      ],
      "execution_count": 82,
      "outputs": [
        {
          "output_type": "display_data",
          "data": {
            "image/png": "[encoded data removed]",
            "text/plain": [
              "<Figure size 432x288 with 1 Axes>"
            ]
          },
          "metadata": {
            "tags": [],
            "needs_background": "light"
          }
        }
      ]
    },
    {
      "cell_type": "markdown",
      "metadata": {
        "_cell_guid": "40db40e9-aeb2-487f-9ab7-d6debf26d611",
        "_uuid": "c971edae5a8be1bfd0719e777ba92322ad897abe",
        "colab_type": "text",
        "id": "PA5qJo7bAMuf"
      },
      "source": [
        "<b>We can see that the majority of frequent words in both classes are **stop words** such as 'to', 'a', 'or' and so on.</b><p>\n",
        "With stop words we refer to the most common words in a lenguage, there is no simgle, universal list of stop words. <p>\n",
        "**In the next step,  feature engineering we will remove these stop words which don't majorly contribute in prediction**"
      ]
    },
    {
      "cell_type": "markdown",
      "metadata": {
        "id": "JvXl5VLnMNFk",
        "colab_type": "text"
      },
      "source": [
        "## **Feature engineering**"
      ]
    },
    {
      "cell_type": "markdown",
      "metadata": {
        "id": "T9yFFDf9MNFl",
        "colab_type": "text"
      },
      "source": [
        "## **First we need to understand how to Prepare Text Data for Machine Learning**\n",
        "## **1. Intution/logic:**\n",
        "- Text data requires special preparation before you can start using it for predictive modeling.\n",
        "- The text must be parsed to remove words, called tokenization. \n",
        "- Then the words need to be encoded as integers or floating point values for use as input to a machine learning algorithm, called feature extraction (or vectorization).\n",
        "-scikit-learn library offers easy-to-use tools to perform both tokenization and feature extraction of your text data\n",
        "- **Since we cannot work with words directly we convert text to fixed-length vectors of numbers - also called Bag-of-words model** \n",
        "## **So Intution is to input Vectors --> model -->output class(spam/ham)**\n",
        "-The basic idea of BoW is to take a piece of text and count the frequency of the words in that text. It is important to note that the BoW concept treats each word individually and the order in which the words occur does not matter.\n",
        "\n",
        "- Using a process which we will go through now, we can convert a collection of documents to a matrix, with each document being a row and each word(token) being the column, and the corresponding (row,column) values being the frequency of occurrence of each word or token in that document.\n",
        "\n",
        "## **2. Vectorisation:**\n",
        "- This can be done by assigning each word a unique number. \n",
        "- Then any document we see can be encoded as a fixed-length vector with the length of the vocabulary of known words. \n",
        "- The value in each position in the vector could be filled with a count or frequency of each word in the encoded document.\n",
        "- An encoded vector is returned with a length of the entire vocabulary and an integer count for the number of times each word appeared in the document.\n",
        "-  eg. he is a boy \n",
        "            attribute name assigned to words : he ->1 , is ->2 , a->3 , boy->4\n",
        "            considering the above sentence -count the occurance of each word \n",
        "            so vector is [1 1 1 1]\n",
        "-  The above logic is applied for complete corpus(text dataset)\n",
        "\n",
        "(Note: This is just a basic intution for understanding in detail pls refer <html><a href=\"https://machinelearningmastery.com/prepare-text-data-machine-learning-scikit-learn/\"><b>this link</b></a></html>) \n",
        "            \n",
        "## **3. Scikit learn Count Vectorizers:** \n",
        "- Count Vectorizers provides a simple way to both tokenize a collection of text documents and build a vocabulary of known words, but also to encode new documents using that vocabulary.    \n",
        "## Below is an example for reference:"
      ]
    },
    {
      "cell_type": "code",
      "metadata": {
        "trusted": true,
        "id": "5zCVEdtpMNFl",
        "colab_type": "code",
        "outputId": "ede17186-595b-47a6-9554-4a39c3ee2182",
        "colab": {
          "base_uri": "https://localhost:8080/",
          "height": 86
        }
      },
      "source": [
        "from sklearn.feature_extraction.text import CountVectorizer\n",
        "# list of text documents\n",
        "text = [\"The quick brown fox jumped over the lazy dog.\"]\n",
        "# create the transform\n",
        "vectorizer = CountVectorizer()\n",
        "# tokenize and build vocab\n",
        "vectorizer.fit(text)\n",
        "# summarize\n",
        "print(vectorizer.vocabulary_)\n",
        "# encode document\n",
        "vector = vectorizer.transform(text)\n",
        "# summarize encoded vector\n",
        "print(vector.shape)\n",
        "print(type(vector))\n",
        "print(vector.toarray())"
      ],
      "execution_count": 84,
      "outputs": [
        {
          "output_type": "stream",
          "text": [
            "{'the': 7, 'quick': 6, 'brown': 0, 'fox': 2, 'jumped': 3, 'over': 5, 'lazy': 4, 'dog': 1}\n",
            "(1, 8)\n",
            "<class 'scipy.sparse.csr.csr_matrix'>\n",
            "[[1 1 1 1 1 1 1 2]]\n"
          ],
          "name": "stdout"
        }
      ]
    },
    {
      "cell_type": "markdown",
      "metadata": {
        "_cell_guid": "ba58d2e5-63a4-4443-ab05-7810decb5eb7",
        "_uuid": "b3c395e8534efc8a402df3b6ac1b699b48fa09f3",
        "id": "o_-PESU2AMuC",
        "colab_type": "text"
      },
      "source": [
        "**Text preprocessing, tokenizing and filtering of stopwords are included in a high level component that is able to build a dictionary of features and transform documents to feature vectors.**\n",
        "**We remove the stop words in order to improve the analytics**"
      ]
    },
    {
      "cell_type": "markdown",
      "metadata": {
        "id": "jk_BQZkuMcVr",
        "colab_type": "text"
      },
      "source": [
        "## **TODO: Vectorize spam message data ie. data[\"v2\"]**\n",
        "## You will be amazed by looking at the vocabulary"
      ]
    },
    {
      "cell_type": "code",
      "metadata": {
        "_cell_guid": "653bfeae-e298-44e3-b92c-78c0f747b8ef",
        "_uuid": "67b9147f254e720b0641d9a171333942ef529aba",
        "colab_type": "code",
        "id": "TYwy4QajAMuk",
        "outputId": "8fcb8b44-1fe7-47eb-9d5d-6511987df3fa",
        "trusted": true,
        "colab": {
          "base_uri": "https://localhost:8080/",
          "height": 211
        }
      },
      "source": [
        "#todo : vectorise the messages\n",
        "\n",
        "from sklearn.feature_extraction.text import CountVectorizer\n",
        "# list of text documents\n",
        "text = data['v2']\n",
        "# create the transform\n",
        "vectorizer = CountVectorizer()\n",
        "# tokenize and build vocab\n",
        "vectorizer.fit(text)\n",
        "# summarize\n",
        "print(vectorizer.vocabulary_)\n",
        "# encode document\n",
        "vector = vectorizer.transform(text)\n",
        "# summarize encoded vector\n",
        "print(vector.shape)\n",
        "print(type(vector))\n",
        "print(vector.toarray())\n"
      ],
      "execution_count": 86,
      "outputs": [
        {
          "output_type": "stream",
          "text": [
            "{'go': 3554, 'jurong': 4352, 'point': 5935, 'crazy': 2329, 'available': 1310, 'bugis': 1758, 'great': 3638, 'world': 8510, 'la': 4479, 'buffet': 1756, 'cine': 2052, 'got': 3598, 'amore': 1078, 'wat': 8292, 'ok': 5515, 'lar': 4515, 'joking': 4320, 'wif': 8413, 'oni': 5544, 'free': 3358, 'entry': 2949, 'wkly': 8468, 'comp': 2169, 'win': 8426, 'fa': 3086, 'cup': 2389, 'final': 3206, 'tkts': 7763, '21st': 412, 'may': 4937, '2005': 403, 'text': 7618, '87121': 794, 'receive': 6316, 'question': 6209, 'std': 7253, 'txt': 7954, 'rate': 6261, 'apply': 1163, '08452810075over18': 77, 'dun': 2804, 'say': 6655, 'early': 2824, 'hor': 3932, 'nah': 5248, 'don': 2713, 'think': 7681, 'goes': 3562, 'usf': 8098, 'lives': 4670, 'freemsg': 3365, 'hey': 3846, 'darling': 2446, 'it': 4223, 'week': 8339, 'word': 8501, 'back': 1357, 'like': 4620, 'fun': 3422, 'still': 7276, 'tb': 7552, 'xxx': 8576, 'chgs': 2006, 'send': 6746, '50': 616, 'rcv': 6273, 'even': 2998, 'brother': 1728, 'speak': 7135, 'me': 4946, 'they': 7675, 'treat': 7885, 'aids': 1002, 'patent': 5735, 'as': 1231, 'request': 6425, 'melle': 4976, 'oru': 5605, 'minnaminunginte': 5043, 'nurungu': 5450, 'vettam': 8156, 'set': 6773, 'callertune': 1829, 'callers': 1828, 'press': 6058, 'copy': 2270, 'friends': 3382, 'winner': 8437, 'valued': 8125, 'network': 5327, 'customer': 2402, 'selected': 6732, 'receivea': 6317, '900': 826, 'prize': 6090, 'reward': 6480, 'to': 7776, 'claim': 2058, '09061701461': 224, 'code': 2124, 'kl341': 4442, 'valid': 8121, '12': 323, 'hours': 3952, 'only': 5548, 'had': 3704, 'mobile': 5097, '11': 312, 'months': 5137, 'more': 5141, 'entitled': 2946, 'update': 8059, 'latest': 4529, 'colour': 2145, 'mobiles': 5098, 'camera': 1840, 'call': 1819, 'the': 7648, 'co': 2113, '08002986030': 61, 'gonna': 3578, 'home': 3905, 'soon': 7090, 'want': 8271, 'talk': 7519, 'stuff': 7343, 'anymore': 1130, 'tonight': 7814, 've': 8140, 'cried': 2346, 'today': 7783, 'six': 6952, 'chances': 1947, 'cash': 1893, 'from': 3399, '100': 298, '20': 398, '000': 1, 'pounds': 5998, 'csh11': 2365, '87575': 799, 'cost': 2282, '150p': 352, 'day': 2462, '6days': 690, '16': 364, 'tsandcs': 7919, 'reply': 6418, 'hl': 3877, 'info': 4128, 'urgent': 8077, 'you': 8630, 'won': 8485, 'membership': 4982, 'jackpot': 4248, 'no': 5378, '81010': 747, 'www': 8558, 'dbuk': 2467, 'net': 5321, 'lccltd': 4547, 'pobox': 5914, '4403ldnw1a7rw18': 565, 'searching': 6702, 'right': 6492, 'words': 8502, 'thank': 7635, 'breather': 1697, 'promise': 6123, 'wont': 8492, 'help': 3824, 'granted': 3627, 'fulfil': 3418, 'wonderful': 8489, 'blessing': 1573, 'times': 7741, 'have': 3776, 'date': 2454, 'on': 5536, 'sunday': 7411, 'with': 8455, 'will': 8423, 'xxxmobilemovieclub': 8577, 'use': 8092, 'credit': 2336, 'click': 2081, 'wap': 8276, 'link': 4642, 'message': 5000, 'here': 3837, 'http': 3974, 'com': 2148, 'qjkgighjjgcbl': 6201, 'oh': 5510, 'watching': 8297, 'eh': 2870, 'remember': 6385, 'spell': 7150, 'name': 5254, 'yes': 8613, 'did': 2595, 'he': 3787, 'naughty': 5281, 'make': 4856, 'wet': 8376, 'fine': 3214, 'that': 7644, 'way': 8309, 'feel': 3157, 'gota': 3599, 'england': 2927, 'macedonia': 4818, 'dont': 2717, 'miss': 5059, 'goals': 3558, 'team': 7564, 'news': 5341, 'ur': 8073, 'national': 5275, '87077': 793, 'try': 7915, 'wales': 8251, 'scotland': 6681, '4txt': 608, 'ú1': 8673, 'poboxox36504w45wq': 5926, 'is': 4211, 'seriously': 6766, 'going': 3567, 'ha': 3700, 'so': 7048, 'pay': 5747, 'then': 7661, 'da': 2419, 'stock': 7279, 'comin': 2159, 'aft': 972, 'finish': 3217, 'lunch': 4784, 'str': 7304, 'lor': 4725, 'ard': 1189, 'smth': 7031, 'already': 1052, 'ffffffffff': 3177, 'alright': 1053, 'meet': 4965, 'sooner': 7091, 'just': 4354, 'forced': 3310, 'eat': 2836, 'slice': 6983, 'really': 6298, 'hungry': 3994, 'tho': 7697, 'this': 7690, 'sucks': 7380, 'mark': 4893, 'getting': 3514, 'worried': 8513, 'knows': 4453, 'sick': 6901, 'turn': 7938, 'pizza': 5869, 'lol': 4702, 'convincing': 2258, 'catch': 1903, 'bus': 1778, 'are': 1190, 'frying': 3406, 'egg': 2867, 'tea': 7558, 'eating': 2839, 'mom': 5118, 'left': 4571, 'dinner': 2626, 'do': 2677, 'love': 4747, 'amp': 1079, 'we': 8314, 're': 6277, 'packing': 5666, 'car': 1865, 'now': 5430, 'll': 4674, 'let': 4592, 'know': 4450, 'there': 7667, 'room': 6533, 'ahhh': 997, 'work': 8503, 'vaguely': 8117, 'what': 8380, 'does': 2689, 'wait': 8245, 'clear': 2075, 'sure': 7437, 'sarcastic': 6633, 'doesn': 2691, 'live': 4666, 'yeah': 8601, 'apologetic': 1150, 'fallen': 3111, 'actin': 913, 'spoilt': 7177, 'child': 2014, 'caught': 1907, 'till': 7738, 'but': 1785, 'not': 5415, 'doing': 2703, 'badly': 1362, 'cheers': 1990, 'tell': 7582, 'for': 3308, 'fear': 3149, 'fainting': 3103, 'housework': 3956, 'quick': 6212, 'cuppa': 2391, 'thanks': 7636, 'subscription': 7368, 'ringtone': 6501, 'uk': 7984, 'charged': 1959, 'month': 5134, 'please': 5894, 'confirm': 2213, 'replying': 6419, 'if': 4046, 'yup': 8657, 'look': 4713, 'timings': 7745, 'msg': 5177, 'again': 980, 'xuhui': 8572, 'learn': 4561, '2nd': 466, 'lesson': 4590, '8am': 819, 'oops': 5559, 'roommate': 6535, 'letter': 4594, 'anything': 1136, 'decide': 2485, 'hello': 3821, 'how': 3958, 'saturday': 6646, 'texting': 7626, 'decided': 2486, 'tomo': 7803, 'trying': 7917, 'invite': 4185, 'pls': 5902, 'ahead': 996, 'watts': 8305, 'wanted': 8273, 'weekend': 8341, 'abiola': 866, 'forget': 3316, 'need': 5301, 'crave': 2326, 'sweet': 7468, 'arabian': 1186, 'steed': 7260, 'mmmmmm': 5087, 'yummy': 8652, '07732584351': 30, 'rodger': 6523, 'burns': 1775, 'tried': 7894, 'sms': 7026, 'nokia': 5388, 'camcorder': 1838, '08000930705': 57, 'delivery': 2525, 'tomorrow': 7805, 'who': 8400, 'seeing': 6721, 'hope': 3923, 'man': 4866, 'endowed': 2917, 'lt': 4771, 'gt': 3667, 'inches': 4097, 'calls': 1834, 'messages': 5002, 'missed': 5061, 'didn': 2597, 'hep': 3835, 'immunisation': 4076, 'nigeria': 5355, 'fair': 3104, 'enough': 2936, 'hopefully': 3926, 'tyler': 7967, 'can': 1844, 'maybe': 4939, 'ask': 1241, 'bit': 1550, 'stubborn': 7332, 'am': 1064, 'hospital': 3939, 'kept': 4399, 'telling': 7583, 'weak': 8315, 'sucker': 7378, 'hospitals': 3940, 'suckers': 7379, 'thinked': 7682, 'first': 3231, 'time': 7740, 'saw': 6654, 'class': 2067, 'gram': 3619, 'usually': 8104, 'runs': 6576, 'half': 3716, 'eighth': 2873, 'smarter': 7006, 'gets': 3510, 'second': 6706, 'fyi': 3437, 'ride': 6491, 'morning': 5145, 'crashing': 2325, 'place': 5871, 'wow': 8529, 'realized': 6296, 'embarassed': 2898, 'accomodations': 896, 'thought': 7702, 'liked': 4621, 'best': 1506, 'happy': 3751, 'cave': 1911, 'sorry': 7100, 'give': 3535, 'offered': 5496, 'embarassing': 2899, 'ac': 882, 'sptv': 7199, 'new': 5336, 'jersey': 4290, 'devils': 2575, 'detroit': 2569, 'red': 6339, 'wings': 8435, 'play': 5885, 'ice': 4028, 'hockey': 3890, 'correct': 2275, 'incorrect': 4108, 'end': 2912, 'mallika': 4865, 'sherawat': 6824, 'yesterday': 8615, 'find': 3211, 'url': 8084, 'congrats': 2219, 'year': 8602, 'special': 7137, 'cinema': 2053, 'pass': 5724, 'yours': 8640, '09061209465': 219, 'suprman': 7435, 'matrix3': 4926, 'starwars3': 7241, 'bx420': 1800, 'ip4': 4194, '5we': 651, '150pm': 354, 'out': 5621, 'later': 4528, 'meeting': 4967, 'reached': 6280, 'gauti': 3471, 'sehwag': 6729, 'odi': 5487, 'series': 6764, 'your': 8636, 'pick': 5841, 'burger': 1770, 'move': 5163, 'pain': 5673, 'killing': 4424, 'good': 3580, 'joke': 4316, 'girls': 3532, 'situation': 6949, 'seekers': 6722, 'its': 4231, 'checking': 1984, 'iq': 4200, 'roommates': 6536, 'took': 7820, 'forever': 3313, 'come': 2154, 'double': 2732, 'check': 1980, 'hair': 3711, 'dresser': 2762, 'said': 6602, 'wun': 8557, 'cut': 2406, 'short': 6860, 'nice': 5349, 'pleased': 5895, 'advise': 955, 'following': 3290, 'recent': 6320, 'review': 6478, 'mob': 5095, 'awarded': 1327, '1500': 351, 'bonus': 1614, '09066364589': 267, 'song': 7085, 'dedicated': 2496, 'which': 8394, 'dedicate': 2495, 'valuable': 8123, 'frnds': 3391, 'rply': 6552, 'complimentary': 2188, 'trip': 7895, 'eurodisinc': 2992, 'trav': 7877, 'aco': 910, 'entry41': 2950, 'or': 5581, '1000': 299, 'dis': 2638, '18': 369, 'morefrmmob': 5142, 'shracomorsglsuplt': 6885, '10': 297, 'ls1': 4767, '3aj': 524, 'hear': 3799, 'divorce': 2667, 'barbie': 1393, 'comes': 2156, 'ken': 4397, 'plane': 5877, 'wah': 8238, 'lucky': 4778, 'save': 6650, 'money': 5125, 'hee': 3812, 'finished': 3219, 'hi': 3850, 'babe': 1348, 'im': 4064, 'at': 1267, 'wanna': 8269, 'something': 7073, 'xx': 8573, 'where': 8390, 'performed': 5785, 'waiting': 8248, 'machan': 4820, 'thats': 7647, 'cool': 2263, 'gentleman': 3497, 'dignity': 2616, 'respect': 6445, 'peoples': 5777, 'much': 5195, 'shy': 6896, 'pa': 5662, 'operate': 5566, 'looking': 4717, 'job': 4305, 'ta': 7496, 'earn': 2825, 'ah': 994, 'stop': 7289, 'urgnt': 8080, 'real': 6289, 'yo': 8625, 'tickets': 7728, 'jacket': 4247, 'done': 2715, 'used': 8093, 'multis': 5204, 'started': 7236, 'requests': 6426, 'came': 1839, 'bed': 1462, 'coins': 2130, 'factory': 3093, 'too': 7819, 'gotta': 3604, 'nitros': 5373, 'ela': 2878, 'kano': 4378, 'il': 4058, 'download': 2740, 'wen': 8359, 'stand': 7224, 'close': 2088, 'night': 5357, 'spent': 7155, 'late': 4525, 'afternoon': 975, 'casualty': 1901, 'means': 4953, 'haven': 3778, 'stuff42moro': 7344, 'includes': 4101, 'sheets': 6819, 'smile': 7014, 'pleasure': 5897, 'trouble': 7902, 'pours': 6000, 'rain': 6235, 'sum1': 7402, 'hurts': 4004, 'becoz': 1460, 'someone': 7067, 'loves': 4755, 'smiling': 7018, 'service': 6769, 'representative': 6423, '0800': 53, '169': 367, '6031': 657, '10am': 307, '9pm': 846, 'guaranteed': 3671, '5000': 618, 'havent': 3779, 'planning': 5881, 'buy': 1790, 'lido': 4605, '530': 637, 'collected': 2139, 'simply': 6923, 'password': 5731, 'mix': 5077, '85069': 780, 'verify': 8151, 'get': 3506, 'usher': 8099, 'britney': 1718, 'fml': 3281, 'po': 5912, 'box': 1648, '5249': 634, 'mk17': 5080, '92h': 831, '450ppw': 575, 'telugu': 7588, 'movie': 5166, 'abt': 877, 'see': 6719, 'when': 8387, 'loads': 4681, 'loans': 4683, 'wk': 8464, 'hols': 3903, 'run': 6574, 'forgot': 3321, 'hairdressers': 3713, 'appointment': 1166, 'shower': 6878, 'beforehand': 1476, 'cause': 1908, 'prob': 6095, 'coffee': 2125, 'animation': 1101, 'okay': 5516, 'price': 6071, 'long': 4709, 'legal': 4574, 'up': 8054, 'ave': 1314, 'ams': 1083, 'and': 1092, 'gone': 3576, '4the': 606, 'driving': 2771, 'test': 7612, 'yet': 8616, 'mean': 4949, 'guess': 3677, 'gave': 3472, 'boston': 1635, 'men': 4986, 'changed': 1949, 'search': 6701, 'location': 4686, 'nyc': 5461, 'cuz': 2413, 'signin': 6911, 'page': 5669, 'says': 6659, 'umma': 7991, 'life': 4608, 'vava': 8137, 'lot': 4733, 'dear': 2475, 'wishes': 8449, 'birthday': 1548, 'making': 4860, 'truly': 7910, 'memorable': 4983, 'aight': 1004, 'hit': 3870, 'ip': 4193, 'address': 931, 'considering': 2231, 'computer': 2194, 'isn': 4218, 'minecraft': 5037, 'server': 6768, 'grumpy': 3664, 'old': 5528, 'people': 5776, 'my': 5232, 'better': 1512, 'lying': 4798, 'jokes': 4318, 'worry': 8515, 'busy': 1784, 'plural': 5906, 'noun': 5427, 'research': 6431, 'after': 973, 'cos': 2280, 'things': 7680, 'scared': 6665, 'mah': 4843, 'loud': 4742, 'gent': 3495, 'contact': 2236, 'last': 4522, 'weekends': 8342, 'draw': 2754, 'shows': 6884, '09064012160': 243, 'k52': 4361, '12hrs': 334, '150ppm': 356, 'wa': 8233, 'openin': 5563, 'sentence': 6757, 'formal': 3325, 'anyway': 1139, 'juz': 4360, 'tt': 7925, 'eatin': 2838, 'puttin': 6191, 'weight': 8347, 'haha': 3707, 'anythin': 1135, 'happened': 3743, 'entered': 2939, 'cabin': 1807, 'boss': 1634, 'felt': 3167, 'she': 6817, 'askd': 1242, 'invited': 4186, 'apartment': 1144, 'went': 8362, 'specially': 7141, 'holiday': 3900, 'flights': 3257, 'inc': 4095, 'operator': 5567, '0871277810910p': 129, 'min': 5030, 'goodo': 3589, 'friday': 3377, 'potato': 5992, 'ratio': 6263, 'tortilla': 7837, 'needed': 5303, 'hmm': 3882, 'uncle': 8000, 'informed': 4131, 'paying': 5753, 'school': 6671, 'directly': 2632, 'food': 3298, 'private': 6087, '2004': 402, 'account': 899, 'statement': 7244, '07742676969': 32, '786': 719, 'unredeemed': 8044, 'points': 5936, '08719180248': 175, 'identifier': 4040, '45239': 577, 'expires': 3065, '2000': 400, 'caller': 1827, '03': 15, 'landline': 4502, '09064019788': 249, 'box42wr29c': 1660, 'apples': 1161, 'pairs': 5677, 'all': 1039, 'malarky': 4862, 'todays': 7784, 'voda': 8202, 'numbers': 5447, 'ending': 2914, '7548': 711, '350': 512, 'award': 1326, 'match': 4914, '08712300220': 111, 'quoting': 6223, '4041': 549, 'standard': 7225, 'rates': 6262, 'app': 1154, 'sao': 6627, 'mu': 5193, 'predict': 6032, 'buying': 1793, 'yetunde': 8618, 'hasn': 3764, 'sent': 6756, 'bother': 1638, 'sending': 6748, 'over': 5640, 'involve': 4190, 'shouldn': 6871, 'imposed': 4083, 'apologise': 1151, 'girl': 3529, 'well': 8356, 'an': 1087, 'del': 2515, 'bak': 1370, 'sum': 7401, 'lucyxx': 4781, 'tmorrow': 7769, 'accomodate': 895, 'answer': 1117, 'sunshine': 7418, 'quiz': 6219, 'sony': 7087, 'dvd': 2813, 'player': 5887, 'country': 2298, 'algarve': 1032, 'in': 4093, 'ansr': 1116, '82277': 754, 'sp': 7122, 'tyrone': 7971, 'laid': 4494, 'dogging': 2697, 'locations': 4687, 'direct': 2631, 'join': 4313, 'largest': 4519, 'bt': 1744, 'txting': 7960, 'gravel': 3632, '69888': 685, 'nt': 5437, 'ec2a': 2841, '31p': 504, 'haf': 3706, 'msn': 5184, 'yijue': 8622, 'hotmail': 3947, 'rooms': 6537, 'befor': 1474, 'activities': 919, 'msgs': 5183, 'chat': 1970, 'svc': 7453, 'hardcore': 3753, 'services': 6770, '69988': 689, 'age': 983, 'yr': 8647, 'lazy': 4546, 'type': 7968, 'lect': 4568, 'pouch': 5995, 'sir': 6938, 'mail': 4848, 'swt': 7482, 'nver': 5455, 'tired': 7749, 'little': 4665, 'lovable': 4746, 'persons': 5803, 'coz': 2311, 'somtimes': 7082, 'occupy': 5480, 'biggest': 1530, 'hearts': 3805, 'gud': 3673, 'ni8': 5347, 'open': 5560, 'ya': 8586, 'dot': 2731, 'whats': 8382, 'staff': 7216, 'taking': 7516, 'us': 8088, 'why': 8406, 'replied': 6416, 'randy': 6255, 'sexy': 6785, 'female': 3168, 'local': 4685, 'luv': 4789, 'netcollex': 5322, 'ltd': 4772, '08700621170150p': 81, 'ummma': 7993, 'our': 5618, 'begin': 1480, 'qatar': 6196, 'pray': 6027, 'hard': 3752, 'deleted': 2519, 'sindu': 6928, 'birla': 1544, 'soft': 7053, 'wine': 8433, 'flowing': 3272, 'nevering': 5333, 'thk': 7691, 'plaza': 5892, 'typical': 7970, 'dirt': 2635, 'floor': 3266, 'windows': 8430, 'shirt': 6839, 'mouth': 5162, 'dream': 2757, 'chores': 2041, 'joy': 4331, 'lots': 4735, 'tv': 7943, 'exist': 3050, 'hail': 3710, 'mist': 5069, 'one': 5542, 'aaooooright': 856, 'leaving': 4567, 'house': 3953, 'interview': 4172, 'boy': 1665, 'missing': 5063, 'annoncement': 1107, 'years': 8603, '07046744435': 24, 'arrange': 1217, '0871277810810': 128, 'keep': 4392, 'safe': 6597, 'envy': 2955, 'parents': 5706, 'hand': 3725, 'excited': 3038, 'spend': 7153, 'bootydelious': 1627, '32': 505, 'inviting': 4187, 'friend': 3381, '434': 562, 'her': 3836, 'frnd': 3390, '62468': 665, 'bangbabes': 1384, 'order': 5589, 'should': 6869, 'content': 2240, 'goto': 3603, 'bangb': 1383, 'internet': 4171, 'menu': 4993, 'cultures': 2385, 'module': 5111, '09061701939': 226, 's89': 6587, 'avoid': 1320, 'missunderstding': 5067, 'wit': 8454, 'beloved': 1497, 'escape': 2976, 'fancy': 3122, 'bridge': 1703, 'needs': 5306, 'lager': 4493, 'completely': 2184, 'form': 3324, 'clark': 2064, 'utter': 8106, 'waste': 8289, 'axis': 1335, 'bank': 1386, 'hmmm': 3883, 'hop': 3922, 'muz': 5229, 'discuss': 2651, 'liao': 4599, 'coming': 2160, 'bloody': 1587, 'hell': 3819, 'believe': 1488, 'surname': 7443, 'mr': 5172, 'ill': 4060, 'clue': 2104, 'spanish': 7129, 'begins': 1481, 'bath': 1417, 'carlos': 1882, 'mall': 4864, 'turns': 7941, 'staying': 7251, 'til': 7737, 'smoke': 7020, 'worth': 8519, 'doesnt': 2692, 'log': 4693, 'spoke': 7178, 'maneesha': 4876, 'satisfied': 6642, 'experience': 3060, 'toll': 7798, 'lifted': 4614, 'hopes': 3928, 'offer': 5495, 'especially': 2980, 'approaches': 1170, 'studying': 7341, 'anyways': 1140, 'gr8': 3612, 'trust': 7912, 'guys': 3693, 'bye': 1804, 'handsome': 3731, 'finding': 3212, 'working': 8507, 'mummy': 5208, 'boytoy': 1670, 'awesome': 1329, 'minute': 5048, 'freephone': 3366, '0808': 65, '145': 344, '4742': 581, '9am': 844, '11pm': 322, 'xmas': 8569, 'radio': 6228, 'jus': 4353, 'bathe': 1418, 'sis': 6940, 'using': 8100, 'finishes': 3220, 'unique': 8029, '30th': 500, 'august': 1296, 'areyouunique': 1196, 'joined': 4314, 'league': 4559, 'touch': 7846, 'deal': 2471, 'personal': 5800, 'finally': 3208, 'completed': 2183, 'course': 2304, 'itself': 4232, 'suggest': 7393, 'stays': 7252, 'able': 868, 'ors': 5603, 'stool': 7288, 'settled': 6777, 'wishin': 8450, 'mrng': 5174, 'hav': 3772, 'story': 7303, 'hamster': 3724, 'dead': 2470, 'tmr': 7770, '1pm': 386, 'orchard': 5588, 'mrt': 5175, 'kate': 4383, 'evening': 2999, 'babyjontet': 1353, 'found': 3337, 'enc': 2911, 'bucks': 1749, 'darlin': 2445, 'ive': 4237, 'college': 2143, 'refilled': 6349, 'successfully': 7376, 'inr': 4146, 'decimal': 2488, 'keralacircle': 4401, 'prepaid': 6043, 'balance': 1373, 'rs': 6554, 'transaction': 7867, 'id': 4034, 'kr': 4467, 'goodmorning': 3585, 'sleeping': 6977, 'ga': 3440, 'alter': 1056, 'dat': 2452, 'ericsson': 2963, 'oso': 5608, 'oredi': 5593, 'dats': 2458, 'straight': 7306, 'dogg': 2695, 'connection': 2224, 'refund': 6354, 'both': 1637, 'shoot': 6854, 'big': 1528, 'ready': 6288, 'bruv': 1739, 'break': 1688, 'rewarding': 6481, 'semester': 6742, 'study': 7340, 'noe': 5382, 'leh': 4577, 'sounds': 7112, 'heading': 3791, 'prediction': 6035, 'slept': 6982, 'past': 5733, 'nights': 5360, 'easy': 2835, 'sen': 6745, 'exam': 3033, 'march': 4888, 'atm': 1274, 'register': 6362, 'take': 7511, 'os': 5606, 'called': 1826, 'ubandu': 7975, 'installing': 4155, 'disk': 2654, 'important': 4081, 'files': 3197, 'repair': 6408, 'shop': 6855, 'of': 5488, 'happen': 3741, 'romantic': 6530, 'nite': 5371, 'scenery': 6668, '500': 617, 'must': 5223, '89545': 815, 'collect': 2138, 'tc': 7554, 'biz': 1556, '2optout': 470, '087187262701': 161, '50gbp': 622, 'mtmsg18': 5190, 'would': 8525, 'appreciate': 1168, 'partner': 5718, 'career': 1873, 'flyng': 3279, 'start': 7235, 'horo': 3935, 'followed': 3288, 'star': 7229, 'sign': 6907, 'aries': 1203, 'company': 2172, 'elama': 2882, 'mudyadhu': 5198, 'strict': 7318, 'teacher': 7560, 'bcoz': 1439, 'teaches': 7562, 'conducts': 2208, 'lessons': 4591, 'gandhipuram': 3454, 'walk': 8253, 'cross': 2350, 'road': 6513, 'street': 7311, 'rubber': 6562, 'battery': 1423, 'died': 2601, 'flirt': 3261, '10p': 309, 'sam': 6614, '25': 423, 'recd': 6313, 'thirtyeight': 7688, 'pence': 5771, 'printed': 6080, 'upstairs': 8070, 'closer': 2091, 'wil': 8419, 'reach': 6278, 'theory': 7664, 'argument': 1201, 'wins': 8440, 'loses': 4729, 'person': 5798, 'argue': 1199, 'kick': 4413, '447801259231': 568, 'secret': 6709, 'admirer': 938, 'reveal': 6474, 'thinks': 7685, '09058094597': 209, 'tomarrow': 7800, 'hearing': 3802, 'laptop': 4514, 'case': 1892, 'cant': 1856, 'pleassssssseeeeee': 5896, 'tel': 7577, 'avent': 1316, 'sportsx': 7188, 'shining': 6834, 'meant': 4954, 'signing': 6912, 'although': 1058, 'told': 7794, 'baig': 1367, 'face': 3089, 'watches': 8295, 'watch': 8293, 'fr': 3345, 'thanx': 7641, 'touched': 7847, 'commercial': 2164, 'website': 8329, 'slippers': 6989, 'asked': 1243, 'kallis': 4372, 'bat': 1414, 'innings': 4141, 'didnt': 2598, 'goodnight': 3586, 'fix': 3238, 'wake': 8249, 'dearly': 2478, 'sleep': 6975, 'congratulations': 2221, 'cd': 1917, 'vouchers': 8216, '125gift': 331, 'music': 5220, '87066': 791, 'tncs': 7775, 'ldew': 4549, 'com1win150ppmx3age16': 2149, 'ranjith': 6258, 'cal': 1813, 'drpd': 2778, 'deeraj': 2502, 'deepak': 2499, '5min': 645, 'hold': 3896, 'bcums': 1442, 'angry': 1099, 'wid': 8411, 'dnt': 2676, 'childish': 2015, 'true': 7907, 'showing': 6881, 'deep': 2498, 'affection': 963, 'care': 1870, 'kettoda': 4403, 'manda': 4872, 'ups': 8068, '3days': 526, 'also': 1055, 'shipping': 6838, 'takes': 7514, '2wks': 482, 'usps': 8102, 'lag': 4491, 'bribe': 1701, 'nipost': 5369, 'lemme': 4580, 'necessarily': 5295, 'expect': 3055, 'headin': 3790, 'mmm': 5084, 'jolt': 4322, 'suzy': 7452, 'lover': 4752, 'video': 8166, 'handset': 3730, '750': 710, 'anytime': 1138, 'networks': 5329, 'mins': 5045, 'unlimited': 8039, 'parked': 5710, 'mini': 5038, 'shopping': 6857, 'disturb': 2661, 'luton': 4788, '0125698789': 8, 'ring': 6498, 'around': 1214, 'horny': 3934, 'naked': 5251, 'hot': 3944, '69698': 681, 'unsubscribe': 8049, 'dint': 2628, 'same': 6618, 'wana': 8268, 'plan': 5876, 'sometme': 7076, 'credits': 2338, 'club4mobiles': 2100, 'choose': 2037, 'club': 2098, '87070': 792, 'club4': 2099, 'box1146': 1649, 'mk45': 5081, '2wt': 483, 'evo': 3022, 'flash': 3248, 'jealous': 4277, 'singles': 6933, 'chart': 1965, 'quality': 6203, 'charge': 1958, 'sorting': 7104, 'narcotics': 5266, 'ended': 2913, 'sunny': 7414, 'rays': 6269, 'leaves': 4566, 'worries': 8514, 'blue': 1593, 'bay': 1426, 'hmv': 3887, 'genuine': 3499, 'questions': 6211, '86688': 788, '100percent': 303, 'objection': 5473, 'bf': 1518, 'rob': 6516, 'mack': 4824, 'gf': 3516, 'theater': 7651, 'handed': 3726, 'celebrations': 1926, 'swing': 7477, 'tool': 7822, 'definitely': 2508, 'them': 7657, 'gdeve': 3483, 'far': 3127, 'okie': 5520, 'usual': 8103, 'guy': 3692, 'passed': 5726, 'ahold': 1000, 'anybody': 1129, 'throw': 7712, 'lets': 4593, 'baby': 1351, 'cruisin': 2358, 'hour': 3950, 'fone': 3294, 'jenny': 4284, 'ge': 3484, 'shall': 6802, 'tonite': 7816, 'varunnathu': 8132, 'edukkukayee': 2855, 'raksha': 6246, 'ollu': 5530, 'sense': 6752, 'gautham': 3470, 'him': 3861, 'stupid': 7349, 'cam': 1837, 'buzy': 1795, 'accidentally': 892, 'resend': 6432, 'phone': 5826, 'upgrade': 8061, 'sim': 6919, 'card': 1866, 'loyalty': 4765, '0845': 73, '021': 14, '3680': 517, 'ends': 2918, '28thfeb': 436, 'unless': 8037, 'gurl': 3690, 'appropriate': 1172, 'hurt': 4002, 'tease': 7568, 'cry': 2360, 'die': 2600, 'plz': 5909, 'rose': 6539, 'grave': 3631, 'bslvyl': 1740, 'somebody': 7065, 'high': 3855, 'diesel': 2602, 'shit': 6841, 'shocking': 6851, 'scary': 6666, 'imagine': 4068, 'def': 2503, 'crash': 2323, 'taxi': 7547, 'fridge': 3379, 'meal': 4947, 'womdarfull': 8483, 'actor': 920, 'blind': 1576, '4u': 609, 'rodds1': 6522, '21': 410, 'aberdeen': 863, 'united': 8030, 'kingdom': 4431, 'img': 4071, 'icmb3cktz8r7': 4032, 'dates': 2456, 'hide': 3852, 'remb': 6384, 'book': 1617, 'jos': 4328, 'friendship': 3384, 'hanging': 3736, 'thread': 7706, 'themob': 7660, 'newest': 5338, 'selection': 6733, 'games': 3452, 'tones': 7808, 'gossip': 3597, 'babes': 1349, 'sport': 7186, 'fit': 3235, 'funky': 3429, '82468': 756, 'garage': 3459, 'keys': 4406, 'aren': 1192, 'bookshelf': 1623, 'accept': 887, 'sister': 6941, 'dear1': 2476, 'best1': 1507, 'clos1': 2087, 'lvblefrnd': 4795, 'jstfrnd': 4337, 'cutefrnd': 2408, 'lifpartnr': 4612, 'belovd': 1496, 'swtheart': 7483, 'bstfrnd': 1743, 'enemy': 2920, 'smart': 7004, '200': 399, 'weekly': 8343, '85222': 781, 'cs': 2362, 'winnersclub': 8438, '84': 771, 'm26': 4805, '3uz': 540, 'gbp1': 3479, '2day': 442, 'normal': 5407, 'rest': 6454, 'mylife': 5234, 'wot': 8521, 'lost': 4732, 'advance': 951, 'pongal': 5951, 'kb': 4389, 'power': 6002, 'yoga': 8626, 'dunno': 2806, 'tahan': 7506, 'anot': 1113, 'lo': 4679, 'dude': 2796, 'afraid': 969, 'december': 2483, '11mths': 321, '08002986906': 62, 'cake': 1811, 'merry': 4997, 'christmas': 2046, 'kisses': 4437, 'cud': 2379, 'ppl': 6005, 'gona': 3575, 'l8': 4474, 'buses': 1780, 'gon': 3574, 'waitin': 8247, 'pete': 5809, 'guild': 3685, 'could': 2292, 'bristol': 1716, 'plans': 5882, 'flight': 3256, 'problem': 6097, 'track': 7855, 'record': 6330, 'reading': 6287, 'women': 8484, 'read': 6284, 'light': 4616, 'apo': 1149, 'return': 6469, 'immediately': 4075, 'germany': 3505, 'fixed': 3240, 'line': 4635, 'access': 888, 'number': 5446, '0844': 70, '861': 786, '85': 777, 'prepayment': 6046, 'any': 1128, 'chance': 1946, 'evaporated': 2995, 'violated': 8181, 'privacy': 6086, 'stealing': 7257, 'employer': 2909, 'paperwork': 5695, 'report': 6421, 'supervisor': 7424, 'valentines': 8120, 'lifetime': 4611, '83600': 769, 'rcvd': 6274, 'custcare': 2400, '08718720201': 157, 'daaaaa': 2420, 'wined': 8434, 'dined': 2622, 'before': 1475, 'surfing': 7440, 'calling': 1832, 'post': 5984, '1000s': 301, 'texts': 7629, 'wiv': 8462, 'caroline': 1885, 'favourite': 3147, 'bless': 1571, 'hiding': 3854, 'stranger': 7309, 'interested': 4166, 'cleared': 2076, 'round': 6542, 'gudnite': 3675, 'practice': 6014, 'huiming': 3986, 'num': 5445, 'small': 7002, 'prestige': 6061, 'shag': 6794, 'sextextuk': 6783, 'xxuk': 8575, '69876': 684, 'txts': 7962, 'jeremiah': 4286, 'iphone': 4198, 'apeshit': 1146, 'misbehaved': 5054, 'slap': 6973, 'urself': 8087, 'fault': 3141, 'basically': 1410, 'figure': 3193, 'alcohol': 1024, 'jay': 4269, 'safely': 6598, 'weed': 8338, 'ish': 4214, 'minutes': 5049, 'was': 8285, 'ago': 992, 'wtf': 8549, 'onam': 5537, 'sirji': 6939, 'remembered': 6386, 'met': 5007, 'insurance': 4161, 'insha': 4148, 'allah': 1040, 'rakhesh': 6245, 'ex': 3030, 'tata': 7540, 'aig': 1003, 'tissco': 7755, 'tayseer': 7551, 'currently': 2395, 'maximize': 4935, 'cc': 1914, '08708800282': 103, 'hg': 3848, 'suite342': 7397, '2lands': 456, 'row': 6546, 'w1j6hl': 8227, 'since': 6926, 'unemployed': 8017, 'moment': 5119, 'always': 1062, 'st': 7212, 'andrews': 1096, 'cold': 2133, 'posted': 5988, 'chikku': 2013, 'db': 2466, 'audrey': 1294, 'status': 7247, 'forward': 3334, 'dawns': 2461, 'refreshed': 6353, 'alive': 1038, 'breathe': 1695, 'air': 1007, 'update_now': 8060, 'motorola': 5158, 'sonyericsson': 7088, 'bluetooth': 1594, 'orange': 5585, 'mobileupd8': 5101, '08000839402': 56, 'call2optout': 1821, 'f4q': 3085, 'discount': 2649, 'rp176781': 6550, 'regalportfolio': 6358, '08717205546': 149, 'uniform': 8026, 'geeee': 3486, 'woke': 8480, 'wish': 8447, 'cuddling': 2382, 'spoil': 7175, 'talking': 7523, 'agree': 993, 'willing': 8424, 'reference': 6345, 't91': 7495, 'gbp': 3478, '09057039994': 200, 'seen': 6726, 'recognise': 6328, 'happening': 3745, 'lindsay': 4634, 'sighs': 6905, 'some': 7063, 'bars': 1405, 'ptbo': 6160, 'heron': 3840, 'payasam': 5748, 'rinu': 6504, 'brings': 1713, 'taught': 7544, 'becaus': 1455, 'hes': 3841, 'verifying': 8152, 'project': 6118, 'prabu': 6011, 'mistake': 5070, 'body': 1604, 'repairs': 6409, 'quite': 6216, 'slow': 6995, 'tests': 7614, 'guide': 3683, 'ovulation': 5649, 'relax': 6373, 'nothing': 5420, 'reason': 6303, 'followin': 3289, 'couple': 2301, 'wallet': 8260, 'leave': 4565, '945': 834, '6months': 695, 'phones': 5830, 'n9dx': 5242, 'owl': 5653, 'licks': 4604, 'mm': 5083, '4mths': 601, 'rental': 6404, 'mobilesdirect': 5099, '08000938767': 58, 'or2stoptxt': 5583, 'having': 3782, 'huh': 3984, 'sat': 6638, 'intro': 4178, 'pilates': 5855, 'kickboxing': 4414, 'office': 5499, 'lap': 4512, 'days': 2463, 'shut': 6895, 'bout': 1644, '30ish': 496, 'performance': 5784, 'calculated': 1814, 'current': 2394, 'period': 5789, 'actually': 922, 'rock': 6519, 'putting': 6192, 'business': 1782, 'pictures': 5848, 'ass': 1251, 'facebook': 3090, 'picture': 5847, 'al': 1019, 'salam': 6605, 'wahleykkum': 8243, 'sharing': 6812, 'by': 1802, 'grace': 3616, 'god': 3560, 'inshah': 4149, 'sometime': 7074, 'visitor': 8194, 'india': 4117, 'change': 1948, 'field': 3182, 'quickly': 6213, 'administrator': 937, '87131': 795, 'poly': 5944, 'tone': 7807, '2814032': 433, '1st': 387, '3x': 542, '150pw': 359, 'nd': 5287, 'chechi': 1979, 'cream': 2332, 'shipped': 6837, 'none': 5395, 'yep': 8611, 'loxahatchee': 4763, 'tree': 7890, 'burning': 1774, 'starts': 7238, 'stoners': 7286, 'slightly': 6987, 'disastrous': 2644, 'pm': 5910, 'fav': 3142, 'darlings': 2447, 'wld': 8472, 'stay': 7248, 'drink': 2763, 'busetop': 1781, 'sender': 6747, 'fullonsms': 3420, 'iron': 4204, 'thing': 7679, 'okies': 5521, 'yan': 8592, 'jiu': 4301, 'skip': 6964, 'den': 2530, 'blah': 1561, 'bring': 1711, 'wendy': 8360, 'dating': 2457, '09064012103': 242, 'box334sk38ch': 1655, 'whatsup': 8383, 'goal': 3557, '250': 424, 'competition': 2176, '80086': 737, 'txttowin': 7965, 'head': 3788, 'logo': 4697, 'names': 5258, 'heart': 3803, 'name1': 5255, 'name2': 5256, 'mobno': 5102, 'adam': 924, 'eve': 2996, '07123456789': 28, 'yahoo': 8588, 'pobox36504w45wq': 5921, 'txtno': 7961, 'ads': 947, 'contacted': 2237, '09111032124': 293, 'pobox12n146tf150p': 5918, 'siva': 6951, 'hostel': 3942, 'aha': 995, '09058094455': 204, 'land': 4500, '3030': 494, 'voice': 8205, 'speaking': 7136, 'expression': 3074, 'sentiment': 6759, 'rowdy': 6547, 'ful': 3417, 'attitude': 1285, 'attractive': 1287, 'funny': 3430, 'irritating': 4208, 'aathi': 857, 'urination': 8083, 'else': 2892, 'esplanade': 2981, 'mind': 5033, 'giving': 3538, 'lift': 4613, 'wnt': 8476, 'bmw': 1599, 'urgently': 8078, 'vry': 8218, 'hv': 4009, 'shortage': 6861, 'lacs': 4487, 'source': 7115, 'arng': 1211, 'amt': 1084, 'fucking': 3411, 'respond': 6448, '3650': 515, '09066382422': 272, '3mins': 533, 'vary': 8133, '300603': 491, 'bcm4284': 1437, 'ldn': 4550, 'wc1n3xx': 8313, 'booked': 1618, 'ticket': 7727, 'hillsborough': 3860, 'th': 7631, 'askin': 1244, 'dollars': 2709, 'shoul': 6868, 'iouri': 4192, 'applebees': 1160, 'journey': 4330, 'gd': 3482, 'bhaji': 1521, 'cricketer': 2344, 'sachin': 6590, 'very': 8155, 'tough': 7848, 'supposed': 7433, 'oic': 5512, 'tot': 7842, 'din': 2620, 'group': 3657, 'werethe': 8368, 'monkeespeople': 5126, 'monkeyaround': 5128, 'howdy': 3961, 'gorgeous': 3594, 'howu': 3964, 'doin': 2701, 'foundurself': 3338, 'jobyet': 4307, 'sausage': 6648, 'jen': 4282, 'blimey': 1575, 'exercise': 3045, 'kinda': 4428, 'concentration': 2201, 'hanks': 3737, 'lotsly': 4736, 'transfer': 7869, 'acc': 884, 'optimistic': 5577, 'improve': 4090, 'loan': 4682, 'purpose': 6183, '75': 709, 'homeowners': 3906, 'tenants': 7594, 'welcome': 8354, 'previously': 6069, 'refused': 6356, '1956669': 375, 'si': 6897, 'oreo': 5594, 'truffles': 7909, 'amy': 1086, 'ure': 8075, 'beautiful': 1452, 'intelligent': 4162, 'woman': 8482, 'result': 6462, 'consistently': 2232, 'kind': 4427, 'asking': 1245, 'practicum': 6016, 'links': 4643, 'ears': 2827, 'ttyl': 7926, 'isnt': 4219, 'bad': 1360, 'different': 2609, 'feeling': 3159, 'wavering': 8307, 'decisions': 2490, 'coping': 2268, 'individual': 4121, 'heal': 3795, 'never': 5332, 'each': 2819, 'gives': 3537, 'reasons': 6305, 'upgrdcentre': 8063, '0207': 10, '153': 361, '9153': 829, '26th': 430, 'july': 4346, 'opt': 5575, 'railway': 6234, 'princess': 6078, 'receiving': 6319, 'oral': 5584, 'doggy': 2698, 'style': 7350, 'fave': 3143, 'position': 5975, 'enjoy': 2929, 'roads': 6514, 'slippery': 6990, 'bike': 1531, 'language': 4509, 'okmail': 5522, 'dave': 2460, 'notice': 5421, 'tenerife': 7596, '09061743806': 229, 'tcs': 7556, 'sae': 6595, 'box326': 1653, 'cw25wx': 2414, 'screamed': 6689, 'enters': 2940, 'remove': 6397, 'flat': 3249, 'transfered': 7870, 'removed': 6398, 'banks': 1387, 'differ': 2606, 'charges': 1960, 'be': 1445, '9ja': 845, 'details': 2566, 'moan': 5094, '69888nyt': 686, 'broken': 1723, 'cum': 2386, 'infront': 4133, 'other': 5610, 'wise': 8446, '9t': 847, 'tension': 7598, 'machi': 4821, '8th': 824, 'thinking': 7684, 'mcr': 4945, 'almost': 1048, 'sec': 6705, 'taste': 7537, 'fb': 3148, 'jaykwon': 4271, 'thuglyfe': 7721, 'falconerf': 3109, 'activate': 917, 'terms': 7602, 'conditions': 2207, 'visit': 8192, '07781482378': 35, 'depends': 2543, 'boye': 1666, 'faded': 3095, 'glory': 3546, 'ralphs': 6248, 'dry': 2787, 'trade': 7857, 'reunion': 6473, 'meh': 4972, 'nope': 5401, 'monday': 5123, 'accenture': 886, 'jackson': 4249, 'rec': 6312, 'center': 1929, '7ish': 724, 'reache': 6279, 'fighting': 3190, 'lose': 4727, 'fightng': 3191, 'some1': 7064, 'dificult': 2612, 'nuerologist': 5444, 'lolnice': 4703, 'fish': 3232, 'water': 8299, '123': 328, '1450': 345, '09050002311': 193, 'b4280703': 1341, '08718727868': 166, 'bored': 1629, 'outside': 5633, 'westshore': 8375, 'hyde': 4013, 'park': 5709, 'village': 8179, 'near': 5290, 'anthony': 1125, 'bringing': 1712, 'fees': 3163, 'rent': 6403, 'significance': 6909, 'opinion': 5568, 'jada': 4251, 'kusruthi': 4471, 'silent': 6915, 'spl': 7168, 'character': 1956, 'matured': 4930, 'stylish': 7353, 'simple': 6921, 'scrounge': 6693, 'ammo': 1076, 'ak': 1016, 'prabha': 6010, 'soryda': 7107, 'realy': 6300, 'frm': 3388, 'sory': 7106, 'forgiven': 3319, 'jst': 4336, 'tat': 7539, '40gb': 552, 'ipod': 4199, 'mp3': 5170, '83355': 765, 'ibhltd': 4020, 'ldnw15h': 4551, 'mtmsgrcvd18': 5191, 'boltblue': 1610, 'mono': 5130, 'poly3': 5945, 'cha': 1937, 'slide': 6985, 'jamz': 4257, 'toxic': 7852, 'topped': 7831, 'bubbletext': 1748, 'renewal': 6400, 'pin': 5859, 'tgxxrz': 7630, 'transport': 7874, 'problematic': 6098, 'bday': 1444, 'definite': 2507, 'nos': 5411, 'booking': 1620, 'fri': 3376, 'unconscious': 8004, 'children': 2017, 'adults': 950, 'behave': 1484, 'abnormally': 869, 'ebay': 2840, 'elsewhere': 2893, 'pickle': 5844, 'were': 8365, 'tacos': 7501, 'rude': 6563, 'campus': 1842, '02': 9, '09': 183, 'attempt': 1279, '0871': 106, '872': 797, '9755': 837, 'box95qu': 1663, 'mas': 4906, '150': 350, '85023': 779, 'savamob': 6649, 'member': 4980, 'offers': 5498, '08717898035': 155, '00': 0, 'sub': 7355, 'unsub': 8048, 'pretty': 6065, 'lady': 4490, 'single': 6932, 'recieve': 6326, '24hrs': 420, 'channel': 1952, 'teletext': 7581, 'pg': 5814, 'faggot': 3096, '2003': 401, '07815296484': 43, '800': 732, 'un': 7995, 'redeemed': 6341, '08718738001': 171, '41782': 555, '04': 16, 'while': 8395, 'hoping': 3931, 'l8r': 4476, 'malaria': 4861, 'bani': 1385, 'leads': 4556, 'passionate': 5729, 'kiss': 4436, 'sea': 6700, 'probably': 6096, 'fat': 3135, 'fingers': 3216, 'buttons': 1789, 'ummmmmaah': 7994, 'many': 4882, 'returns': 6472, 'tirupur': 7753, 'applausestore': 1159, 'monthlysubscription': 5136, '50p': 623, 'max6': 4934, 'csc': 2364, 'web': 8324, 'age16': 984, '2stop': 475, 'famous': 3118, 'quote': 6222, 'develop': 2571, 'ability': 865, 'listen': 4655, 'unconditionally': 8003, 'losing': 4730, 'temper': 7591, 'self': 6734, 'confidence': 2211, 'married': 4900, 'oclock': 5484, 'mine': 5036, 'bash': 1408, 'recovery': 6335, 'cooped': 2264, 'hotel': 3945, 'invitation': 4184, 'cali': 1816, 'english': 2928, 'bloke': 1582, 'weddin': 8331, 'omw': 5535, 'btw': 1746, 'alibi': 1037, 'cutting': 2412, 'sink': 6934, 'paces': 5663, 'cage': 1810, 'cock': 2121, 'surrounded': 7447, 'reminding': 6393, 'owns': 5656, 'cuck': 2378, 'hurry': 4001, 'deficient': 2506, 'acknowledgement': 907, 'astoundingly': 1262, 'tactless': 7503, 'generally': 3492, 'faggy': 3097, 'demand': 2529, 'blood': 1586, 'oath': 5469, 'fo': 3283, 'every': 3005, 'warm': 8278, 'milk': 5025, 'magic': 4840, 'loose': 4722, 'pan': 5680, 'cheap': 1975, 'perhaps': 5787, 'silly': 6917, 'likely': 4622, 'uv': 8109, 'causes': 1909, 'mutations': 5228, 'sunscreen': 7417, 'essential': 2983, 'thesedays': 7670, 'online': 5546, 'pics': 5845, 'aiyo': 1014, 'mei': 4973, 'fast': 3132, 'workin': 8506, 'bao': 1391, 'sugardad': 7392, 'gee': 3485, 'brownie': 1732, 'geeeee': 3487, 'barely': 1396, 'fuck': 3408, '2mrw': 464, 'ninish': 5367, 'icky': 4031, 'american': 1069, 'freek': 3363, 'callin': 1831, 'oooh': 5556, 'ridden': 6490, 'ey': 3081, 'gym': 3696, 'whatever': 8381, 'smiles': 7016, 'daddy': 2424, 'scream': 6688, 'dick': 2592, 'missy': 5068, 'yar': 8593, 'mum': 5205, 'sch': 6669, 'clean': 2073, 'lab': 4483, 'goggles': 3563, 'door': 2724, 'call09050000327': 1820, 'arguing': 1200, 'claims': 2060, '09050005321': 195, 'arngd': 1212, 'marriage': 4899, 'walkin': 8256, 'unfortuntly': 8021, 'snake': 7033, 'bites': 1554, 'dancing': 2434, 'frnt': 3396, 'sayin': 6657, 'bite': 1553, 'izzit': 4242, 'textand': 7620, '08002988890': 63, 'wife': 8414, 'kids': 4419, 'jjc': 4302, 'tendencies': 7595, 'headache': 3789, 'quit': 6215, 'jazz': 4273, 'yogasana': 8627, 'em': 2895, 'meive': 4974, 'hardly': 3756, 'gotany': 3600, 'srsly': 7209, 'yi': 8620, 'spree': 7195, '80878': 746, '08715705022': 146, '1x150p': 396, 'pound': 5996, '08712402050': 117, 'lines': 4639, '10ppm': 310, 'ag': 979, 'promo': 6126, '07753741225': 33, '08715203677': 141, '42478': 559, '24': 419, 'grand': 3622, 'prix': 6088, 'stands': 7227, 'nitz': 5375, 'announcement': 1109, '542': 639, '0825': 68, 'exhausted': 3048, 'train': 7860, 'pie': 5849, 'present': 6053, 'ar': 1184, 'blastin': 1568, 'tsunamis': 7924, 'occur': 5481, 'rajnikant': 6244, 'stopped': 7295, 'swimming': 7475, 'indian': 4118, 'ocean': 5483, 'noon': 5398, 'xclusive': 8567, 'clubsaisai': 2102, '2morow': 459, '28': 432, 'soiree': 7056, 'speciale': 7138, 'zouk': 8670, 'nichols': 5350, 'paris': 5707, 'roses': 6540, 'ladies': 4489, '07946746291': 48, '07880867867': 46, 'bridgwater': 1704, 'banter': 1390, 'neva': 5330, 'imma': 4073, 'somethin': 7072, '22': 413, 'off': 5490, 'euro2004': 2991, 'results': 6463, 'daily': 2427, '83222': 762, 'valentine': 8119, 'game': 3451, 'answers': 1121, 'ques': 6208, 'suits': 7399, 'dependents': 2542, 'thanx4': 7642, 'cer': 1932, 'often': 5507, 'future': 3434, 'hundreds': 3992, 'handsomes': 3732, 'beauties': 1451, 'aunties': 1299, 'uncles': 8001, 'shock': 6850, 'shuhui': 6893, 'leona': 4585, 'reaction': 6283, 'family': 3117, 'happiness': 3750, 'snow': 7043, 'weather': 8323, 'friendships': 3385, 'grow': 3658, 'dismay': 2656, 'alex': 1030, 'his': 3868, 'fifteen': 3186, 'concerned': 2203, 'pub': 6162, 'bud': 1750, 'drinks': 2766, 'useful': 8094, 'officially': 5502, 'paid': 5672, 'market': 4894, 'tootsie': 7827, 'pop': 5961, 'longer': 4710, 'darren': 2448, 'textbuddy': 7622, 'area': 1191, '25p': 427, 'postcode': 5987, 'gaytextbuddy': 3476, '89693': 817, 'vodafone': 8203, '4882': 584, 'matches': 4916, '09064019014': 248, 'forwarded': 3335, 'seventeen': 6780, 'seven': 6779, 'ml': 5082, 'voucher': 8215, 'holder': 3897, 'weeks': 8344, 'pc': 5758, 'tlp': 7765, 'expressoffer': 3075, 'ts': 7918, '80062': 734, 'sweetheart': 7470, 'biola': 1541, 'login': 4696, 'dad': 2423, 'fetching': 3172, 'restock': 6456, 'thanksgiving': 7638, 'sound': 7110, 'effects': 2863, 'brighten': 1707, 'wee': 8337, 'thursday': 7723, 'allo': 1044, 'braved': 1682, 'taken': 7513, 'trains': 7864, 'triumphed': 7899, 'ham': 3722, 'jolly': 4321, 'cartoon': 1891, 'listening': 4658, 'temple': 7592, 'church': 2050, 'uncomfortable': 8002, '08715203694': 143, '40533': 551, '31': 501, 'email': 2896, 'rstm': 6555, 'sw7': 7454, '3ss': 539, 'sometimes': 7075, 'gentle': 3496, 'sonetimes': 7084, 'rough': 6541, 'starting': 7237, 'panic': 5684, 'tuesday': 7929, 'wesleys': 8370, 'town': 7851, 'bet': 1508, 'hella': 3820, 'drugs': 2781, 'drug': 2779, 'dealer': 2472, 'impatient': 4078, 'sun': 7409, 'earth': 2828, 'cloud': 2096, 'river': 6512, 'evng': 3021, 'wikipedia': 8418, '88800': 806, '89034': 810, 'premium': 6042, '08718711108': 156, 'under': 8009, 'lays': 4545, 'envelope': 2953, 'paper': 5693, 'repent': 6412, 'fetch': 3171, 'de': 2469, 'prepare': 6044, 'next': 5345, 'positions': 5976, 'kama': 4374, 'sutra': 7450, 'en': 2910, 'nange': 5262, 'bakra': 1371, 'kalstiya': 4373, 'lakhs': 4495, 'ho': 3889, 'belly': 1493, 'laugh': 4532, 'sun0819': 7410, 'posts': 5991, 'top': 7828, '08452810071': 75, 'ditto': 2664, 'saying': 6658, 'peace': 5761, 'knw': 4454, 'wetherspoons': 8377, 'piggy': 5854, 'awake': 1325, 'freaky': 3356, 'yelling': 8606, 'scrappy': 6685, 'lonely': 4708, 'hex': 3845, 'explain': 3067, 'sdryb8i': 6698, 'xy': 8584, 'sue': 7384, 'lapdancer': 4513, 'sex': 6781, 'bedroom': 1466, '89555': 816, 'textoperator': 7627, 'g2': 3438, '1da': 379, '150ppmsg': 358, 'king': 4430, 'once': 5540, 'crying': 2361, 'building': 1760, 'map': 4883, 'imprtant': 4092, 'tomorw': 7806, 'cherthala': 1999, 'cochin': 2120, 'bfore': 1520, 'accordingly': 898, 'tmorow': 7768, 'engaged': 2923, 'ans': 1115, 'torch': 7835, 'bold': 1607, '448712404000': 569, '08712404000': 122, 'farm': 3128, '4d': 590, '1405': 342, '1680': 366, '1843': 371, 'law': 4540, 'purchase': 6178, 'poop': 5957, 'looks': 4718, 'gpu': 3611, 'entrepreneurs': 2947, 'corporation': 2273, 'gap': 3457, 'prevent': 6066, 'dehydration': 2514, 'fluids': 3273, 'weird': 8349, 'idea': 4036, 'away': 1328, 'trek': 7891, 'harri': 3760, 'drivin': 2770, 'fantastic': 3125, 'gage': 3441, 'deck': 2491, 'cnupdates': 2112, 'newsletter': 5343, 'alerts': 1028, 'height': 3815, 'aeronautics': 958, 'professors': 6111, 'wer': 8364, 'calld': 1825, 'sit': 6943, 'aeroplane': 959, 'aftr': 978, 'ws': 8546, 'students': 7337, 'dey': 2578, 'hurried': 4000, 'datz': 2459, 'timing': 7744, 'shitstorm': 6846, 'attributed': 1289, '08714712388': 133, '7pm': 727, 'stress': 7312, 'dorm': 2726, 'sell': 6738, '449071512431': 571, '1250': 330, '09071512433': 277, 'b4': 1339, '050703': 19, 'csbcm4235wc1n3xx': 2363, 'callcost': 1823, 'mobilesvary': 5100, 'max': 4932, 'sth': 7271, 'specs': 7144, 'px3748': 6195, '08714712394': 134, 'macha': 4819, 'upset': 8069, 'assume': 1257, 'mindset': 5035, 'wondar': 8486, 'flim': 3258, 'cookies': 2261, 'jelly': 4281, 'running': 6575, 'admit': 940, 'mad': 4827, 'correction': 2276, 'scrumptious': 6694, 'wants': 8275, 'ba': 1344, 'dao': 2439, 'half8th': 3717, 'exactly': 3032, 'jide': 4300, 'visiting': 8193, 'alertfrom': 1027, 'jeri': 4287, 'stewartsize': 7269, '2kbsubject': 455, 'low': 4760, 'prescripiton': 6050, 'drvgsto': 2786, 'spring': 7196, 'yay': 8599, 'steak': 7255, 'twice': 7946, 'neglect': 5311, 'opportunity': 5571, 'add': 925, 'prayers': 6028, 'nokia6650': 5390, 'txtauction': 7958, '81151': 748, '4t': 604, 'ctxt': 2376, 'mtmsg': 5189, 'mayb': 4938, 'rite': 6510, 'faster': 3133, 'gals': 3448, 'attached': 1277, 'glad': 3539, 'hadn': 3705, 'clocks': 2086, 'shouted': 6872, 'realised': 6292, 'wahay': 8240, 'about': 870, 'shorter': 6864, 'gaze': 3477, 'eyes': 3084, '930': 832, 'subscribed': 7365, '82324': 755, 'helpline': 3830, '08706091795': 96, 'spoken': 7179, 'gist': 3533, 'realize': 6295, '40': 544, 'thousands': 7704, 'tattoos': 7542, 'premier': 6041, 'gimme': 3526, 'lip': 4649, 'caveboy': 1912, 'library': 4602, 'confused': 2217, 'holla': 3901, 'spare': 7130, 'faith': 3105, 'makes': 4857, 'possible': 5982, 'vibrate': 8160, 'acting': 914, '79': 721, '08704439680ts': 95, 'grandmas': 3625, 'hungover': 3993, 'another': 1114, 'unclaimed': 7999, '09066368327': 268, 'closingdate04': 2093, 'claimcode': 2059, 'm39m51': 4807, '50pmmorefrommobile2bremoved': 627, 'mobypobox734ls27yf': 5107, 'gua': 3668, 'mt': 5185, 'faber': 3088, 'yest': 8614, 'wishing': 8451, 'city': 2055, 'summer': 7405, 'store': 7299, '88039': 801, 'skilgme': 6958, 'tscs087147403231winawk': 7922, '50perwksub': 625, 'goin': 3565, 'meetin': 4966, 'wonder': 8488, 'tis': 7754, 'dramatic': 2752, 'schools': 6672, 'closed': 2090, 'apparently': 1155, 'drive': 2768, 'inch': 4096, 'damn': 2429, 'hunting': 3998, 'drunkard': 2784, 'wats': 8304, 'idc': 4035, 'weaseling': 8321, 'space': 7123, 'picking': 5843, 'trash': 7875, 'smokes': 7022, 'begging': 1479, 'lovely': 4750, 'sing': 6929, 'slave': 6974, 'punish': 6172, 'beerage': 1472, '0578': 20, 'randomlly': 6253, 'opening': 5564, 'couldn': 2294, 'own': 5654, 'most': 5150, 'fixes': 3242, 'spelling': 7152, 'diff': 2605, 'ever': 3004, 'living': 4671, 'perfect': 5782, 'community': 2167, '100p': 302, 'polyphonic': 5949, '087018728737': 89, 'toppoly': 7832, 'tune': 7935, 'subpoly': 7360, '81618': 750, 'pole': 5940, '08718727870': 167, 'enjoyed': 2930, 'fondly': 3293, 'bein': 1486, 'thot': 7699, 'dogbreath': 2694, 'sounding': 7111, 'jan': 4258, 'omg': 5534, 'weighed': 8346, 'woohoo': 8496, 'uncountable': 8007, 'dictionary': 2594, 'pieces': 5851, '9996': 842, '14thmarch': 348, 'availa': 1309, 'petey': 5811, 'whereare': 8391, 'friendsare': 3383, 'thekingshead': 7656, 'canlove': 1852, 'nic': 5348, 'pobox84': 5925, 'm263uz': 4806, 'appt': 1177, 'no1': 5379, '8077': 745, 'mates': 4918, 'getzed': 3515, '36504': 516, 'w45wq': 8231, 'norm150p': 5406, 'cashto': 1896, '08000407165': 54, 'getstop': 3512, '88222': 804, 'php': 5835, 'rg21': 6482, '4jx': 599, 'dled': 2672, '3d': 525, 'imp': 4077, 'ain': 1005, 'smokin': 7023, 'boooo': 1624, 'bec': 1454, 'ugh': 7978, 'nervous': 5319, 'costumes': 2287, 'gift': 3521, 'yowifes': 8645, 'hint': 3864, 'borrow': 1633, 'bag': 1364, 'outbid': 5624, 'simonwatson5120': 6920, 'shinco': 6832, 'plyr': 5908, 'bid': 1526, 'smsrewards': 7029, 'notifications': 5422, 'ones': 5543, 'model': 5109, 'youi': 8632, 'galileo': 3447, 'dobby': 2679, 'responding': 6449, 'boo': 1615, 'enjoyin': 2931, 'yourjob': 8639, 'seemed': 6725, 'gettin': 3513, 'hunny': 3996, 'llspeak': 4676, '2u': 478, 'soonlots': 7092, 'loveme': 4751, 'xxxx': 8578, 'starshine': 7234, 'ache': 904, 'sips': 6937, 'cappuccino': 1861, 'teasing': 7569, 'smsservices': 7030, 'yourinclusive': 8638, 'comuk': 2197, '3qxj9': 537, 'extra': 3078, '08702840625': 92, '220': 414, 'cm2': 2106, '9ae': 843, 'alfie': 1031, 'moon': 5139, 'm8s': 4811, 'charity': 1961, '8007': 735, 'nokias': 5391, 'polys': 5950, 'zed': 8663, '08701417012': 84, 'profit': 6114, 'bits': 1555, 'hahaha': 3708, 'brain': 1673, 'turned': 7939, 'green': 3643, 'burial': 1772, 'mojibiola': 5115, '09065174042': 253, 'cust': 2399, '07821230901': 44, 'mate': 4917, 'rv': 6581, 'hol': 3894, 'ages': 989, 'rvx': 6582, 'skyped': 6969, 'kz': 4473, 'sura': 7436, 'given': 3536, 'ultimatum': 7989, 'countin': 2296, 'aburo': 879, 'surely': 7438, 'successful': 7375, '08002888812': 60, 'inconsiderate': 4105, 'nag': 5246, 'recession': 6323, 'wed': 8330, 'soo': 7089, 'understand': 8011, '2morrow': 461, 'comprehensive': 2190, 'prashanthettan': 6025, 'mother': 5152, '09066350750': 258, 'ibiza': 4021, 'await': 1323, 'collection': 2141, 'sk3': 6955, '8wp': 825, 'ppm': 6007, 'meanwhile': 4955, 'suite': 7396, 'xavier': 8565, 'seconds': 6708, 'warning': 8282, 'samantha': 6616, 'playing': 5890, 'guitar': 3687, 'impress': 4086, 'doug': 2737, 'realizes': 6297, 'stomach': 7283, 'trauma': 7876, 'swear': 7465, 'matter': 4927, 'shoes': 6852, 'wan': 8266, 'inner': 4140, 'tigress': 7734, 'version': 8153, 'poor': 5958, 'urfeeling': 8076, 'bettersn': 1513, 'probthat': 6104, 'overdose': 5643, 'careful': 1875, 'spk': 7167, 'sn': 7032, 'lovejen': 4749, 'returned': 6470, 'fall': 3110, 'worlds': 8511, 'discreet': 2650, 'vip': 8184, '83110': 760, 'hai': 3709, 'ana': 1088, 'sathy': 6640, 'rto': 6559, 'spoons': 7184, 'named': 5257, 'tampa': 7529, 'genius': 3494, 'connections': 2225, 'two': 7952, 'sort': 7101, 'lotta': 4738, 'corvettes': 2279, 'lately': 4526, 'yrs': 8648, 'supply': 7429, 'cds': 1919, 'virgin': 8187, 'records': 6333, 'mystery': 5240, '09061104283': 218, 'smsco': 7027, '50pm': 626, 'approx': 1175, 'consider': 2230, 'walls': 8262, 'bunkers': 1767, 'peaceful': 5762, '07808': 40, 'xxxxxx': 8580, '08719899217': 180, '41685': 554, '07': 22, 'posh': 5973, 'birds': 1543, 'chaps': 1954, 'user': 8096, 'trial': 7893, 'prods': 6107, 'champneys': 1945, 'down': 2739, 'dob': 2678, 'asap': 1233, '0721072': 29, 'philosophical': 5822, 'hole': 3899, 'saved': 6651, 'drop': 2774, 'cuddle': 2380, 'nap': 5265, 'yourself': 8641, 'atleast': 1273, 'otherwise': 5612, 'shakespeare': 6800, 'shesil': 6826, '10k': 308, '5k': 644, 'travel': 7878, '09064011000': 241, 'ntt': 5440, 'cr01327bt': 2315, 'fixedline': 3241, 'castor': 1900, 'liverpool': 4669, 'played': 5886, 'mid': 5015, '09058094565': 206, '09065171142': 252, 'stopsms': 7297, '08': 52, 'reminder': 6392, 'downloaded': 2741, 'doit': 2704, 'mymoby': 5235, 'knew': 4446, 'woul': 8524, 'lead': 4553, 'wanting': 8274, 'curfew': 2392, 'gibe': 3520, 'midnight': 5017, 'getsleep': 3511, 'studdying': 7334, 'ear': 2821, 'training': 7862, 'massages': 4909, 'oil': 5513, 'sup': 7420, 'yoyyooo': 8646, 'permissions': 5793, 'mac': 4817, 'usb': 8090, 'gibbs': 3519, 'unsold': 8046, 'mike': 5021, 'hussey': 4006, 'failed': 3099, 'sad': 6594, 'unbelievable': 7997, 'faglord': 3098, 'murder': 5214, 'nutter': 5454, 'cutter': 2411, 'ctter': 2374, 'cttergg': 2375, 'cttargg': 2373, 'ctargg': 2369, 'ctagg': 2368, 'superb': 7422, 'grateful': 3630, 'happier': 3747, 'agents': 988, 'experiment': 3062, 'outstanding': 5636, 'invoices': 4189, 'teach': 7559, 'smell': 7010, 'tobacco': 7779, 'derek': 2550, 'taylor': 7550, 'assumed': 1258, 'worst': 8518, 'charles': 1962, 'lastest': 4523, 'stereophonics': 7265, 'marley': 4897, 'dizzee': 2670, 'racal': 6225, 'libertines': 4601, 'strokes': 7324, 'nookii': 5397, 'bookmark': 1621, 'plus': 5907, 'grinule': 3650, 'greet': 3644, 'white': 8398, 'fudge': 3414, 'oreos': 5595, 'stores': 7300, 'january': 4262, 'male': 4863, 'sale': 6607, 'gay': 3473, 'cheaper': 1976, '08709222922': 104, '5p': 647, '8p': 822, 'peak': 5764, '08712460324': 125, 'zaher': 8660, 'ym': 8623, 'nauseous': 5282, 'pissed': 5864, 'sweets': 7472, 'pig': 5853, 'dieting': 2604, 'chip': 2030, 'iam': 4017, 'addicted': 928, 'msging': 5179, 'wrong': 8543, 'photo': 5832, 'registered': 6363, 'yck': 8600, 'ma': 4813, 'ashley': 1236, 'avalarr': 1311, 'hollalater': 3902, 'attend': 1281, 'rounds': 6544, 'blogging': 1580, 'magicalsongs': 4842, 'blogspot': 1581, 'diet': 2603, 'ate': 1268, 'slices': 6984, 'kvb': 4472, '88600': 805, '1million': 385, 'ppt150x3': 6009, 'box403': 1658, 'w1t1jy': 8229, 'alternative': 1057, 'term': 7600, 'ore': 5592, 'mo': 5093, 'owo': 5657, 'moments': 5120, 'fro': 3397, 'samus': 6619, 'shoulders': 6870, 'matthew': 4929, '09063440451': 237, 'lux': 4792, 'ppm150': 6008, 'box334': 1654, 'sk38xh': 6956, 'wear': 8319, 'jeans': 4278, 'side': 6903, 'fever': 3173, 'vomitin': 8210, '09061749602': 233, '528': 636, 'hp20': 3967, '1yf': 397, 'made': 4831, 'stuffed': 7345, 'bleh': 1570, 'writhing': 8536, 'tons': 7817, 'paypal': 5757, 'voila': 8207, 'pockets': 5930, 'theyre': 7676, 'places': 5874, 'medical': 4961, 'folks': 3286, 'sorta': 7102, 'blown': 1591, 'recently': 6321, 'scores': 6678, 'sophas': 7096, 'secondary': 6707, 'application': 1162, 'applying': 1165, 'ogunrinde': 5509, 'expensive': 3059, 'photos': 5833, '114': 316, '14': 340, 'tcr': 7555, 'w1': 8222, 'lodging': 4692, 'chk': 2032, 'ms': 5176, 'dict': 2593, 'shb': 6815, 'truth': 7914, 'gravity': 3633, 'carefully': 1876, 'feels': 3162, 'heavy': 3810, 'bowl': 1646, 'filthy': 3204, 'stories': 7301, 'brand': 1678, 'decision': 2489, 'simpler': 6922, 'magical': 4841, 'welp': 8358, 'retired': 6467, 'natwest': 5280, '09050001808': 192, 'm95': 4812, 'valid12hrs': 8122, 'chad': 1939, 'gymnastics': 3697, 'site': 6944, 'christians': 2045, 'full': 3419, 'necklace': 5299, 'token': 7791, 'liking': 4625, 'aptitude': 1182, '15': 349, 'horse': 3937, 'racing': 6226, 'earlier': 2822, 'chicken': 2009, 'rice': 6487, 'closes': 2092, 'wrongly': 8544, 'ad': 923, 'crap': 2322, 'borin': 1630, 'boggy': 1605, 'boring': 1631, 'biatch': 1525, 'nxt': 5459, 'hesitate': 3843, 'weakness': 8316, 'notebook': 5417, 'salary': 6606, 'chocolate': 2034, 'potential': 5993, 'talent': 7517, 'reckon': 6327, 'eightish': 2874, 'carpark': 1886, '3g': 527, 'videophones': 8168, '09063458130': 239, 'videochat': 8167, 'java': 4268, 'dload': 2674, 'polyph': 5948, 'noline': 5392, 'rentl': 6406, 'fuckin': 3410, 'dropped': 2775, 'loving': 4757, 'yun': 8653, 'ubi': 7976, '67441233': 675, 'irene': 4202, 'ere': 2961, 'bus8': 1779, '65': 670, '61': 660, '66': 672, '382': 522, 'cres': 2341, 'tech': 7570, '6ph': 696, '5wkg': 652, 'èn': 8672, 'sd': 6696, 'butt': 1786, 'sore': 7097, 'relaxing': 6374, '7am': 722, 'party': 5721, '5ish': 643, 'stripes': 7322, 'skirt': 6965, 'miracle': 5051, 'jesus': 4292, 'blessed': 1572, 'escalator': 2975, 'quiet': 6214, 'beth': 1510, 'aunts': 1300, 'charlie': 1963, 'helen': 3817, 'been': 1469, 'heard': 3800, 'syllabus': 7485, 'panasonic': 5682, 'bluetoothhdset': 1595, 'doublemins': 2733, 'doubletxt': 2735, 'contract': 2247, 'anyone': 1131, '30pm': 497, 'poyyarikatur': 6004, 'kolathupalayam': 4459, 'unjalur': 8034, 'erode': 2965, 'hero': 3838, 'apt': 1181, 'kerala': 4400, 'terrible': 7605, 'fan': 3119, 'meat': 4957, 'lovers': 4754, 'supreme': 7434, 'regret': 6365, 'cudnt': 2383, 'drove': 2777, 'ctla': 2371, 'ente': 2937, 'ishtamayoo': 4215, 'bakrid': 1372, 'exe': 3043, 'glorious': 3545, 'anniversary': 1106, 'finds': 3213, 'prey': 6070, 'coaxing': 2117, 'images': 4066, 'fond': 3292, 'souveniers': 7119, 'cougar': 2289, 'pen': 5770, 'secretly': 6711, 'fancies': 3121, '09065394514': 254, 'datebox1282essexcm61xn': 2455, 'pattern': 5741, 'throat': 7710, 'scratches': 6686, 'plm': 5900, 'asleep': 1248, 'foreign': 3312, 'stamps': 7223, 'lecture': 4569, 'sheffield': 6820, 'nanny': 5263, 'raise': 6237, 'zoe': 8667, 'shitin': 6843, 'myself': 5238, 'defo': 2510, 'hardest': 3755, 'millions': 5028, 'lekdog': 4579, 'setting': 6774, 'filling': 3199, 'loverboy': 4753, 'blankets': 1567, 'sufficient': 7388, 'thx': 7724, 'nyt': 5463, 'edison': 2849, 'rightly': 6494, 'fool': 3299, 'speechless': 7145, 'viva': 8198, 'gm': 3548, 'gn': 3550, 'gnt': 3552, 'atten': 1280, 'roast': 6515, '09058097218': 214, 'ls15hb': 4768, 'into': 4176, 'because': 1456, 'concentrate': 2199, 'educational': 2854, 'flirting': 3262, 'chatting': 1974, 'walked': 8255, 'serious': 6765, 'kickoff': 4415, 'euro': 2990, 'june': 4349, '3rd': 538, 'sells': 6740, 'data': 2453, 'analysis': 1090, 'thesis': 7671, 'belligerent': 1492, 'hiya': 3876, 'april': 1179, 'les': 4587, 'rudi': 6564, 'snoring': 7041, 'drunk': 2783, 'sends': 6749, 'ink': 4137, '515': 631, 'throwing': 7714, 'deciding': 2487, 'eastenders': 2833, 'flower': 3270, 'compare': 2173, 'violet': 8183, 'tulip': 7933, 'lily': 4627, '84025': 772, 'wkent': 8466, '150p16': 353, 'technical': 7571, 'support': 7430, 'process': 6105, 'networking': 5328, 'prepared': 6045, 'finalise': 3207, 'works': 8509, 'flirtparty': 3263, 'replys150': 6420, 'bitch': 1551, 'dentist': 2536, '09058091854': 201, 'revealed': 6475, 'box385': 1656, 'm6': 4808, '6wu': 700, 'bathing': 1419, '09050003091': 194, 'c52': 1805, 'xchat': 8566, 'lul': 4783, 'juicy': 4341, 'nurses': 5449, 'shes': 6825, 'obese': 5471, 'oyea': 5659, 'oi': 5511, 'ami': 1070, 'parchi': 5703, 'na': 5243, 'kicchu': 4412, 'kaaj': 4364, 'korte': 4464, 'iccha': 4027, 'korche': 4461, 'tul': 7932, 'movies': 5167, 'copies': 2267, 'sculpture': 6695, 'convey': 2254, 'regards': 6361, 'surya': 7449, 'vijay': 8173, 'pokkiri': 5939, 'pic': 5840, 'dearer': 2477, 'dem': 2528, 'attraction': 1286, 'thoughts': 7703, 'breath': 1694, 'sorrows': 7099, 'fight': 3189, 'craziest': 2328, 'proove': 6133, 'planet': 5878, 'singing': 6931, 'praises': 6018, 'curry': 2396, 'makiing': 4858, 'sambar': 6617, 'ndship': 5288, 'needle': 5305, 'clock': 2085, 'though': 7701, 'evn': 3020, 'itz': 4235, '4few': 592, 'alwys': 1063, 'conected': 2209, 'spatula': 7134, 'hands': 3729, 'sipix': 6936, 'digital': 2614, '09061221061': 221, '28days': 434, 'box177': 1651, 'm221bp': 4803, '2yr': 486, 'warranty': 8283, '99': 841, '09061790121': 234, 'doctor': 2684, 'complexities': 2187, 'freely': 3364, 'taxes': 7546, 'outrageous': 5630, 'tomorro': 7804, 'ryder': 6585, 'subscriber': 7366, 'receipt': 6314, 'elvis': 2894, 'presleys': 6056, 'fret': 3375, 'strips': 7323, 'postal': 5985, 'gifts': 3523, 'cliff': 2082, 'ne': 5289, 'interesting': 4167, 'wrking': 8539, 'uni': 8024, 'depressed': 2546, 'sittin': 6947, 'wind': 8428, 'drops': 2776, 'black': 1558, 'aiyah': 1012, 'information': 4130, 'o2': 5467, 'urawinner': 8074, 'surprise': 7444, 'awaiting': 1324, 'hen': 3833, 'italian': 4224, 'grins': 3649, 'smoked': 7021, 'math': 4919, 'dhoni': 2582, 'rocks': 6521, 'teju': 7576, 'hourish': 3951, 'ground': 3656, 'amla': 1073, 'durban': 2808, 'convenience': 2250, 'evaluation': 2994, '449050000301': 570, '09050000301': 185, 'speed': 7146, 'speedchat': 7147, '80155': 739, 'swap': 7459, 'chatter': 1973, 'chat80155': 1971, 'rcd': 6271, 'cancel': 1848, 'cheyyamo': 2003, '08000776320': 55, 'aiyar': 1013, 'survey': 7448, '80160': 740, 'txt43': 7956, 'catching': 1905, 'throws': 7716, 'gal': 3446, 'falls': 3113, 'brothers': 1729, 'whos': 8404, 'hmv1': 3888, 'errors': 2969, 'difficulties': 2611, 'howz': 3965, 'tau': 7543, 'sar': 6629, 'piah': 5839, '1stchoice': 389, '08707808226': 101, 'wearing': 8320, 'film': 3201, 'shade': 6792, 'copied': 2266, 'notified': 5423, 'luck': 4776, 'marketing': 4895, '84122': 773, '08450542832': 74, 'raining': 6236, 'station': 7246, 'tank': 7530, 'virgins': 8188, '4fil': 593, 'sexual': 6784, 'theirs': 7655, 'cute': 2407, '69911': 687, 'sitter': 6946, 'kaitlyn': 4368, 'adult': 949, 'danger': 2437, 'peeps': 5767, 'comment': 2163, 'veggie': 8143, 'neighbors': 5314, 'computerless': 2195, 'balloon': 1376, 'silently': 6916, 'drms': 2773, 'wrc': 8530, 'rally': 6247, 'oz': 5661, 'lucozade': 4779, 'energy': 2921, 'le': 4552, '61200': 661, 'packs': 5667, 'itcould': 4225, 'melody': 4978, 'either': 2876, 'horrible': 3936, 'macs': 4826, 'toot': 7824, 'bigger': 1529, 'nw': 5458, 'hme': 3881, 'islands': 4217, 'chennai': 1996, 'velachery': 8145, 'flippin': 3260, 'breaking': 1692, 'cstore': 2367, 'annoying': 1111, 'hangin': 3735, 'makin': 4859, 'lodge': 4691, 'worrying': 8516, 'shame': 6803, 'quizzes': 6221, 'popcorn': 5962, 'jordan': 4326, 'celeb': 1922, 'pocketbabe': 5929, '087016248': 87, 'voicemail': 8206, '08719181503': 177, 'arguments': 1202, 'fed': 3154, 'himso': 3863, '2go': 450, 'neft': 5309, 'credited': 2337, 'beneficiary': 1502, 'tuition': 7931, 'understanding': 8012, 'choice': 2035, 'enter': 2938, 'subs16': 7362, '1win150ppmx3': 393, 'appreciated': 1169, 'semi': 6743, 'apart': 1143, 'delivered': 2523, 'exp': 3054, '30apr': 495, 'strong': 7325, 'arms': 1210, 'maaaan': 4814, 'guessin': 3680, 'walmart': 8263, 'ilol': 4063, 'personally': 5802, 'wuldnt': 8556, 'mite': 5073, 'creepy': 2340, 'lunchtime': 4785, 'organise': 5597, '08719181513': 178, 'complete': 2182, 'passable': 5725, 'score': 6677, 'phd': 5819, '5years': 654, 'easier': 2829, 'nok': 5387, '87021': 790, 'txtin': 7959, '4info': 598, 'prakesh': 6021, 'apps': 1176, 'rofl': 6524, 'betta': 1511, 'invest': 4182, 'anti': 1126, 'aging': 991, 'products': 6108, '1hr': 381, 'delay': 2516, 'accommodation': 893, 'various': 8130, 'global': 3544, 'phb1': 5818, 'ph': 5815, '08700435505150p': 79, 'submitting': 7359, '84128': 774, 'textcomp': 7623, '08712405020': 123, 'snatch': 7036, 'purse': 6184, 'drivby': 2767, '0quit': 296, 'edrunk': 2851, 'iff': 4047, 'pthis': 6161, 'senrd': 6751, 'dnot': 2675, 'dancce': 2431, 'drum': 2782, 'basq': 1413, 'ihave': 4053, '2nhite': 467, 'ros': 6538, 'xxxxxxx': 8581, 'morn': 5143, 'relieved': 6377, 'westonzoyland': 8374, 'greatness': 3641, 'europe': 2993, 'nobody': 5381, 'chinese': 2026, 'docs': 2683, 'songs': 7086, 'havin': 3781, 'goin2bed': 3566, 'only1more': 5549, 'mc': 4941, 'hun': 3990, '2nite': 469, 'every1': 3006, 'ava': 1308, 'goodtime': 3591, 'oli': 5529, 'rang': 6256, 'melnite': 4977, 'ifink': 4048, 'sorted': 7103, 'everythin': 3013, 'mon': 5122, 'l8rs': 4477, '08712402779': 119, 'flip': 3259, 'shun': 6894, 'bian': 1524, 'glass': 3542, 'exhibition': 3049, 'el': 2877, 'nino': 5368, 'himself': 3862, 'cbe': 1913, 'honey': 3911, 'jd': 4275, 'accounts': 901, 'executive': 3044, 'picked': 5842, 'downstem': 2745, '08718730555': 169, 'wahala': 8239, 'inperialmusic': 4144, 'listening2the': 4659, 'weirdest': 8350, 'leafcutter': 4558, 'john': 4312, 'insects': 4147, 'molested': 5117, 'plumbing': 5905, 'remixed': 6395, 'evil': 3019, 'acid': 906, 'didntgive': 2599, 'bellearlier': 1491, 'bedbut': 1463, 'thepub': 7666, 'l8tr': 4478, 'uwana': 8111, 'jenxxx': 4285, 'those': 7698, 'exact': 3031, '09096102316': 286, '2moro': 458, 'jane': 4260, 'minmoremobsemspobox45po139wa': 5042, 'tee': 7573, 'cheery': 1991, 'cell': 1927, 'thts': 7720, 'dough': 2738, 'control': 2249, '80488': 743, 'weirdo': 8351, 'mode': 5108, 'stalk': 7220, 'profiles': 6113, 'jerry': 4289, 'irritates': 4207, 'fails': 3101, 'express': 3073, 'drinkin': 2764, 'wondering': 8490, 'dog': 2693, 'tour': 7850, '5pm': 648, '95': 836, 'pax': 5746, 'deposit': 2544, 'jap': 4264, 'disappeared': 2640, 'birthdate': 1547, 'certificate': 1936, 'publish': 6164, 'dreams': 2758, 'nydc': 5462, 'wheellock': 8386, 'destination': 2563, 'fifty': 3188, 'favour': 3146, 'settling': 6778, 'happenin': 3744, 'ola': 5524, 'cocksuckers': 2122, 'ipads': 4197, 'worthless': 8520, 'garbage': 3460, 'novelty': 5428, 'items': 4226, 'fran': 3347, 'broke': 1722, 'knackered': 4443, 'janx': 4263, 'dads': 2425, 'designation': 2555, 'software': 7054, 'developer': 2573, 'jamster': 4256, 'videosound': 8170, 'gold': 3569, 'videosounds': 8171, 'logos': 4700, 'musicnews': 5222, '09701213186': 294, 'lions': 4648, 'lionm': 4646, 'lionp': 4647, 'ringtones': 6503, 'original': 5601, '3gbp': 528, 'jokin': 4319, 'spirit': 7164, 'bb': 1427, 'shattered': 6813, 'alrite': 1054, 'idiot': 4042, 'girlie': 3531, 'colours': 2147, 'darker': 2442, 'styling': 7352, 'whenevr': 8388, 'gray': 3635, 'remembr': 6388, 'listn': 4660, 'watevr': 8301, 'harry': 3761, 'potter': 5994, 'phoenix': 5825, 'readers': 6285, 'shd': 6816, 'minus': 5047, 'paragraphs': 5700, 'coveragd': 2309, 'vasai': 8134, 'retard': 6466, 'bathroom': 1420, 'sang': 6622, 'uptown': 8072, '80': 731, 'february': 3153, 'rush': 6578, 'icic': 4029, 'syria': 7490, 'canada': 1845, 'cares': 1878, 'goodnoon': 3588, 'gauge': 3469, 'patty': 5742, 'vl': 8201, 'completing': 2186, 'might': 5019, 'ax': 1333, 'chill': 2020, '6hrs': 692, 'surgical': 7441, 'emergency': 2903, 'unfolds': 8019, 'frens': 3371, 'korean': 4462, 'fredericksburg': 3357, 'que': 6205, 'pases': 5723, 'buen': 1754, 'tiempo': 7730, 'chillin': 2022, 'super': 7421, 'free2day': 3359, 'george': 3502, '89080': 812, 'saucy': 6647, '0870241182716': 90, 'theres': 7668, 'tmrw': 7771, 'compass': 2174, 'soul': 7109, 'gnun': 3553, 'way2sms': 8310, 'baaaaabe': 1347, 'misss': 5066, 'youuuuu': 8642, 'ned': 5300, 'convince': 2256, 'tht': 7719, 'witot': 8460, 'hurting': 4003, 'main': 4852, 'sweetie': 7471, 'blackberry': 1559, 'buyer': 1791, '4a': 588, 'pple': 6006, 'marry': 4901, 'becz': 1461, 'undrstndng': 8016, 'avoids': 1322, 'problems': 6099, 'chain': 1940, 'suffer': 7385, 'whn': 8399, 'arrested': 1219, 'suntec': 7419, 'steamboat': 7259, 'dance': 2432, 'moji': 5114, 'forgive': 3318, 'messenger': 5005, 'reaching': 6281, 'tp': 7854, 'fantasies': 3124, '08707509020': 99, '20p': 409, '1327': 338, 'croydon': 2353, 'cr9': 2316, '5wb': 650, '0870': 78, 'bbq': 1431, '6ish': 693, 'everyso': 3012, 'panicks': 5685, 'bar': 1392, 'write': 8535, 'put': 6189, 'cover': 2308, 'screen': 6691, 'gently': 3498, 'bears': 1449, 'nick': 5351, 'tom': 7799, 'fact': 3092, 'types': 7969, 'upload': 8064, '08718730666': 170, 'auntie': 1298, 'huai': 3976, 'juan': 4339, 'linerental': 4638, 'lf56': 4597, 'tlk': 7764, 'ideal': 4037, 'path': 5736, 'appear': 1157, 'paths': 5738, 'walking': 8257, 'arm': 1207, 'shot': 6867, 'reserve': 6435, 'thirunelvali': 7689, 'tirunelvali': 7752, 'tackle': 7500, 'storming': 7302, 'phne': 5824, 'wt': 8547, 'meaning': 4950, 'margaret': 4890, 'girlfrnd': 3530, 'grahmbell': 3618, 'invnted': 4188, 'telphone': 7587, 'moral': 5140, '4get': 594, 'popped': 5963, 'tonght': 7812, 'ploughing': 5901, 'pile': 5856, 'ironing': 4205, 'chinky': 2027, 'wi': 8407, 'nz': 5465, 'players': 5888, 'effect': 2862, 'aust': 1302, 'bk': 1557, 'cafe': 1809, 'recharged': 6325, 'kidding': 4418, 'papa': 5692, 'shld': 6848, 'stretch': 7316, 'detailed': 2565, 'sinco': 6927, 'payee': 5752, 'icicibank': 4030, 'urn': 8086, 'beware': 1517, 'frauds': 3352, 'share': 6810, 'disclose': 2646, 'vote': 8212, 'caring': 1879, 'losers': 4728, 'kaiez': 4366, 'option': 5579, 'beta': 1509, 'practicing': 6015, 'babies': 1350, 'onto': 5551, 'noncomittal': 5394, 'beneath': 1501, 'pale': 5678, 'goodnite': 3587, 'msgrcvdhg': 5182, 'snickering': 7039, 'tells': 7585, 'totally': 7844, 'chords': 2040, 'few': 3174, 'rem': 6381, 'silver': 6918, 'lmao': 4677, 'silence': 6914, 'win150ppmx3age16': 8427, 'exams': 3034, 'revision': 6479, 'boyf': 1667, 'interviw': 4174, 'exeter': 3046, 'spreadsheet': 7194, 'determine': 2567, 'entire': 2944, 'arsenal': 1224, 'dartboard': 2449, 'condition': 2206, 'doubles': 2734, 'trebles': 7889, 'coat': 2116, 'painful': 5674, 'everybody': 3007, 'recognises': 6329, 'alone': 1049, 'wisheds': 8448, 'intrepid': 4177, 'duo': 2807, 'missin': 5062, 'guilty': 3686, 'aiya': 1011, 'cardiff': 1867, 'addie': 929, 'tues': 7928, 'breeze': 1699, 'bright': 1706, 'fresh': 3373, 'twittering': 7951, 'restaurant': 6455, 'textpod': 7628, 'pod': 5932, 'ducking': 2795, 'chinchillas': 2025, 'function': 3423, 'headstart': 3794, 'desperate': 2560, 'rummer': 6572, 'flying': 3278, 'monkeys': 5129, 'certainly': 1935, 'optin': 5578, 'bbc': 1428, 'charts': 1966, 'thanks2': 7637, 'rajini': 6242, 'practical': 6013, 'summers': 7406, 'matched': 4915, 'optout': 5580, 'help08714742804': 3826, 'spys': 7201, 'mails': 4851, 'claire': 2061, '09099725823': 287, 'bought': 1642, 'costing': 2284, 'offering': 5497, 'yalru': 8590, 'lyfu': 4797, 'astne': 1261, 'innu': 4143, 'mundhe': 5211, 'lyf': 4796, 'ali': 1035, 'halla': 3719, 'ke': 4390, 'bilo': 1538, 'program': 6115, 'edhae': 2848, 'ovr': 5647, 'vargu': 8129, 'meow': 4994, 'twelve': 7945, 'aah': 854, '09066362231': 264, '07xxxxxxxxx': 51, '06': 21, 'prone': 6131, '07801543489': 39, 'latests': 4530, 'llc': 4675, 'ny': 5460, 'usa': 8089, 'msgrcvd18': 5181, 'permission': 5792, 'lucy': 4780, 'hubby': 3977, 'meetins': 4968, 'cumin': 2387, '09099726395': 288, 'minmobsmorelkpobox177hp51fl': 5041, 'wonders': 8491, '7th': 728, '6th': 698, '5th': 649, '4th': 605, 'personality': 5801, 'nature': 5279, 'dose': 2729, 'tablet': 7498, 'incomm': 4104, 'blake': 1562, 'lotr': 4734, 'keeping': 4393, 'google': 3592, 'maps': 4885, 'tiring': 7750, 'modules': 5112, 'concentrating': 2200, 'browsin': 1736, 'compulsory': 2192, 'purity': 6181, 'musthu': 5225, 'investigate': 4183, 'anywhere': 1141, 'vomit': 8209, 'aint': 1006, 'sha': 6791, 'vitamin': 8197, 'centre': 1930, 'crucial': 2354, 'jsco': 4335, '2channel': 441, 'leadership': 4554, 'skills': 6960, 'psychic': 6157, 'host': 3941, 'based': 1407, 'idps': 4044, 'linux': 4644, 'systems': 7493, 'total': 7843, 'converter': 2253, 'stars': 7233, 'karaoke': 4380, 'testing': 7613, 'sayy': 6660, 'loved': 4748, 'nit': 5370, 'leanne': 4560, 'file': 3196, 'format': 3327, 'disc': 2645, 'hows': 3963, 'champ': 1943, 'glasgow': 3541, 'lovin': 4756, 'arrive': 1221, 'shortly': 6865, 'install': 4153, 'browse': 1734, 'artists': 1226, 'corect': 2271, 'speling': 7149, 'sarcasm': 6632, '4719': 580, '523': 633, 'forum': 3332, 'ron': 6532, 'cts': 2372, 'employee': 2908, 'aunt': 1297, 'nike': 5363, 'sooo': 7093, 'screaming': 6690, 'shouting': 6873, 'dang': 2436, 'unfortunately': 8020, 'airport': 1009, '7250i': 705, 'auction': 1291, '86021': 785, 'w1jhl': 8228, 'difficult': 2610, 'earliest': 2823, 'nordstrom': 5404, 'konw': 4460, 'waht': 8244, 'rael': 6230, 'gving': 3695, 'yuo': 8655, 'exmpel': 3051, 'jsut': 4338, 'ese': 2977, 'tihs': 7735, 'evrey': 3025, 'splleing': 7174, 'wrnog': 8542, 'sitll': 6945, 'raed': 6229, 'wihtuot': 8417, 'ayn': 1337, 'mitsake': 5074, 'conference': 2210, 'ow': 5650, 'degree': 2511, 'joining': 4315, 'finance': 3209, 'prospects': 6141, 'bleak': 1569, 'filled': 3198, 'shant': 6808, 'jia': 4298, 'bishan': 1549, 'nearer': 5292, 'sux': 7451, 'raiden': 6233, 'buff': 1755, 'south': 7117, 'preferably': 6038, 'kegger': 4395, 'totes': 7845, 'pierre': 5852, 'cardin': 1868, 'costs': 2285, 'rhythm': 6486, 'establish': 2984, 'truro': 7911, 'ext': 3076, 'gas': 3466, 'gang': 3456, 'adventure': 952, 'cloth': 2094, 'pack': 5664, 'tablets': 7499, 'sunroof': 7416, 'excellent': 3035, 'finishing': 3221, 'doors': 2725, 'wifi': 8416, 'blanked': 1565, 'image': 4065, 'rumour': 6573, 'kalainar': 4370, 'thenampet': 7662, '7250': 704, 'part': 5713, 'nosy': 5414, 'idk': 4043, 'reacting': 6282, 'freaked': 3354, 'satanic': 6639, 'imposter': 4085, 'destiny': 2564, 'companion': 2171, 'chef': 1995, 'listener': 4657, 'organizer': 5598, 'boyfriend': 1668, 'sympathetic': 7487, 'athletic': 1269, 'courageous': 2303, 'determined': 2568, 'dependable': 2541, 'psychologist': 6158, 'pest': 5808, 'exterminator': 3077, 'psychiatrist': 6156, 'healer': 3796, 'stylist': 7354, 'driver': 2769, 'aaniye': 855, 'pudunga': 6166, 'venaam': 8148, 'brothas': 1727, 'chasing': 1968, 'chez': 2004, 'jules': 4343, 'eight': 2872, 'hhahhaahahah': 3849, 'nig': 5354, 'leonardo': 4586, 'kicks': 4416, '2years': 485, 'strain': 7307, 'dime': 2618, 'withdraw': 8456, 'falling': 3112, 'force': 3309, 'smeone': 7012, 'millers': 5026, 'fire': 3224, 'spark': 7132, 'flame': 3247, 'rawring': 6266, 'xoxo': 8570, 'somewhr': 7080, 'crushes': 2359, 'honeymoon': 3913, 'outfit': 5626, 'propose': 6137, '08719899230': 182, 'blame': 1563, 'gods': 3561, 'blessings': 1574, 'cheque': 1997, 'olympics': 5533, 'leo': 4584, 'haul': 3770, 'wildlife': 8422, 'want2come': 8272, 'that2worzels': 7645, 'wizzle': 8463, 'dippeditinadew': 2630, 'lovingly': 4758, 'itwhichturnedinto': 4233, 'gifted': 3522, 'tomeandsaid': 7802, 'shanghai': 6806, 'instead': 4158, 'cya': 2415, 'freezing': 3367, '645': 669, 'rt': 6556, 'pro': 6094, 'ringtoneking': 6502, '08701237397': 83, 'redeemable': 6340, 'thnx': 7696, 'sef': 6727, 'anjie': 1102, 'batch': 1415, 'fring': 3386, 'flaky': 3246, 'sooooo': 7095, 'laughing': 4534, 'winning': 8439, 'tooo': 7823, 'nte': 5438, '09058094599': 210, 'confuses': 2218, 'wating': 8302, 'british': 1717, 'hotels': 3946, 'london': 4706, '02072069400': 11, 'bx': 1799, '526': 635, 'sw73ss': 7455, 'talents': 7518, '6pm': 697, 'animal': 1100, 'buzz': 1796, 'adoring': 942, 'eerie': 2860, 'title': 7756, 'dracula': 2749, 'titles': 7757, 'ghost': 3518, 'addamsfa': 926, 'munsters': 5212, 'exorcist': 3053, 'twilight': 7948, 'brought': 1730, 'shiny': 6835, 'warming': 8279, 'constant': 2234, 'cared': 1872, 'wasn': 8287, 'surprised': 7445, 'french': 3370, 'fooled': 3300, '0a': 295, 'allow': 1045, 'companies': 2170, 'responsible': 6453, 'suppliers': 7427, 'guarantee': 3670, 'comedy': 2155, 'feelin': 3158, 'lnly': 4678, 'moby': 5106, '82242': 753, 'msg150p': 5178, '2rcv': 474, 'hlp': 3879, '08712317606': 113, 'keen': 4391, 'switch': 7479, 'dammit': 2428, 'wright': 8534, 'fly': 3277, 'somewhat': 7077, 'event': 3001, 'laden': 4488, 'wrecked': 8531, 'spontaneously': 7181, 'goodevening': 3581, 'lei': 4578, 'action': 915, '80608': 744, 'movietrivia': 5168, '08712405022': 124, 'waking': 8250, 'partnership': 5719, 'rgent': 6484, 'lookin': 4716, 'daytime': 2464, 'busty': 1783, '09099726429': 289, 'janinexx': 4261, 'inside': 4150, 'spageddies': 7126, 'phasing': 5817, 'fourth': 3340, 'dimension': 2619, 'meaningful': 4951, 'compromised': 2191, 'everything': 3014, 'mornin': 5144, '09050001295': 191, 'a21': 851, 'monthly': 5135, 'mobsi': 5104, '391784': 523, 'dub': 2792, 'je': 4276, 'toughest': 7849, 'unspoken': 8047, 'ideas': 4038, 'sight': 6906, 'remain': 6382, 'maintain': 4853, 'sh': 6790, 'jas': 4266, 'squatting': 7203, 'cramps': 2321, '0089': 4, 'digits': 2615, 'received': 6318, '09063442151': 238, 'nan': 5261, 'sonathaya': 7083, 'soladha': 7058, 'raping': 6260, 'dudes': 2797, 'poker': 5937, 'weightloss': 8348, 'mushy': 5219, 'embarrassed': 2900, 'stash': 7242, 'ran': 6251, 'priya': 6089, 'ordered': 5590, '81303': 749, 'father': 3137, 'messy': 5006, 'kilos': 4426, 'accidant': 890, 'tookplace': 7821, 'ghodbandar': 3517, 'rd': 6275, 'traffic': 7859, 'moves': 5165, 'slovely': 6994, 'slip': 6988, 'wkg': 8467, 'nus': 5451, 'sc': 6661, 'specialise': 7140, 'wad': 8236, 'likes': 4623, 'dislikes': 2655, 'keeps': 4394, 'queen': 6206, 'desparately': 2559, 'fren': 3369, 'promises': 6125, 'gotten': 3605, 'stereo': 7264, 'mi': 5012, 'unknown': 8036, 'album': 1023, '121': 326, '60p': 659, 'connect': 2222, '09094646899': 284, 'vu': 8221, 'bcm1896wc1n3xx': 1436, 'classmates': 2070, 'fires': 3228, 'boys': 1669, '2007': 405, 'pre': 6031, 'trackmarque': 7856, 'vipclub4u': 8185, 'missionary': 5064, 'hook': 3919, 'standing': 7226, 'entertaining': 2942, 'hugh': 3982, 'laurie': 4537, 'stick': 7272, 'praps': 6022, 'jon': 4323, 'bin': 1540, 'spain': 7127, 'dinero': 2623, 'bill': 1532, 'rents': 6407, '000pes': 2, '48': 583, 'james': 4255, 'maangalyam': 4815, 'alaipayuthe': 1021, 'complaining': 2179, 'mandy': 4875, 'sullivan': 7400, 'hotmix': 3948, 'fm': 3280, 'chosen': 2042, 'easter': 2834, 'telephone': 7579, '09041940223': 184, '29': 437, '05': 18, 'transferred': 7871, 'finn': 3223, 'di': 2584, 'bahamas': 1366, 'callfreefone': 1830, '08081560665': 67, 'cruise': 2357, '07786200117': 36, 'calm': 1836, 'downon': 2743, 'theacusations': 7650, 'itxt': 4234, 'iwana': 4238, 'wotu': 8522, 'thew': 7674, 'haventcn': 3780, 'up4': 8055, 'nething': 5324, 'dine': 2621, 'conacted': 2198, '09111030116': 292, 'pobox12n146tf15': 5917, 'social': 7051, 'inspection': 4151, 'nursery': 5448, 'slowly': 6998, 'becomes': 1459, 'habit': 3702, 'follow': 3287, 'panren': 5686, 'paru': 5722, 'chuckin': 2049, 'trainners': 7863, 'carryin': 1888, 'bac': 1356, 'schedule': 6670, 'dhanush': 2580, 'needing': 5304, 'stuck': 7333, 'habba': 3701, 'hw': 4012, 'dileep': 2617, 'muchand': 5196, 'contacts': 2238, 'venugopal': 8149, 'mentioned': 4990, 'remembrs': 6389, 'forgets': 3317, 'everyone': 3010, 'everytime': 3015, 'mandan': 4873, '07734396839': 31, 'ibh': 4019, 'nokia6600': 5389, 'regarding': 6360, '3230': 507, 'textbook': 7621, 'algorithms': 1034, 'edition': 2850, 'selling': 6739, 'buns': 1768, 'adore': 941, 'invaders': 4180, 'orig': 5600, 'arcade': 1187, 'console': 2233, 'settings': 6775, 'alert': 1026, '09064018838': 247, 'cro1327': 2348, 'atlanta': 1271, 'recharge': 6324, 'created': 2333, 'fills': 3200, 'gaps': 3458, 'holding': 3898, 'arun': 1230, 'transfr': 7872, 'takin': 7515, 'philosophy': 5823, 'intend': 4163, 'iwas': 4239, 'marine': 4892, 'itried2tell': 4230, 'urmom': 8085, 'careabout': 1871, 'foley': 3285, 'exciting': 3039, 'prizes': 6092, 'eye': 3082, '82050': 751, 'desparate': 2558, 'learned': 4562, 'fake': 3106, 'answering': 1120, 'iraq': 4201, 'afghanistan': 968, 'stable': 7214, 'honest': 3908, 'traveling': 7879, '1225': 327, '50award': 620, '3100': 502, 'pai': 5671, 'seh': 6728, 'beer': 1471, 'combine': 2153, 'parts': 5720, 'walsall': 8264, 'tue': 7927, 'terry': 7609, 'jess': 4291, 'sian': 6898, 'ccna': 1916, 'shrek': 6886, 'dirty': 2637, 'fellow': 3166, 'dying': 2816, 'lifting': 4615, 'teresa': 7599, 'package': 5665, 'dec': 2481, 'ld': 4548, 'bam': 1378, 'aid': 1001, 'usmle': 8101, 'squishy': 7207, 'mwahs': 5231, 'hottest': 3949, 'g696ga': 3439, 'prominent': 6122, 'cheek': 1987, 'september': 6762, 'husband': 4005, 'hack': 3703, 'backdoor': 1358, 'fraction': 3346, 'neo69': 5318, '09050280520': 197, 'subscribe': 7363, 'dps': 2747, 'bcm': 1435, '8027': 742, 'norm': 5405, 'list': 4653, 'joanna': 4304, 'comingdown': 2161, 'replacement': 6414, 'murali': 5213, 'sts': 7330, 'five': 3237, 'engalnd': 2925, 'telly': 7586, 'mia': 5013, 'elliot': 2890, 'kissing': 4438, 'upto': 8071, '12mths': 335, '2price': 472, '100txt': 304, 'mth': 5187, 'tooth': 7825, '08001950382': 59, 'd3wv': 2418, 'wipro': 8443, 'matric': 4925, '850': 778, 'toa': 7777, 'payoh': 5756, '650': 671, '08718726970': 162, 'payments': 5755, 'fedex': 3155, 'reception': 6322, 'ten': 7593, 'hate': 3767, 'consensus': 2227, 'entertain': 2941, 'delete': 2518, 'tag': 7504, 'wednesday': 8335, 'skype': 6968, 'laundry': 4536, 'underwear': 8014, 'bras': 1680, 'strewn': 7317, 'pillows': 5857, 'waheed': 8241, 'fathima': 3138, 'mmmm': 5085, 'weaknesses': 8317, 'pushes': 6187, 'knee': 4444, 'exposes': 3072, 'pulls': 6169, 'wicked': 8408, 'supports': 7431, 'srt': 7210, 'thnk': 7694, 'ps3': 6152, 'jontin': 4325, 'nearly': 5293, 'banned': 1388, 'biro': 1545, 'masters': 4912, '09058094594': 208, 'shell': 6822, 'unconsciously': 8005, 'avoiding': 1321, 'unhappy': 8023, 'excuse': 3040, 'jog': 4310, '0776xxxxxxx': 34, '18yrs': 373, '09061743811': 231, 'abta': 878, '326': 509, 'season': 6703, 'lark': 4520, '09090900040': 281, 'extreme': 3080, 'sic': 6900, '7mp': 725, '0870753331018': 100, 'fones': 3296, 'wild': 8420, 'stop2stop': 7291, 'uh': 7980, 'heads': 3792, 'lim': 4628, 'vday': 8139, 'parachute': 5697, 'placed': 5872, '80182': 741, '08452810073': 76, 'table': 7497, 'lambda': 4496, 'build': 1759, 'snowman': 7046, 'angels': 1098, 'snowball': 7044, 'fights': 3192, 'ello': 2891, 'ikea': 4055, 'ofice': 5504, 'cn': 2109, 'duffer': 2800, 'grr': 3662, 'prescription': 6051, 'pharmacy': 5816, 'cook': 2259, 'electricity': 2887, '08715500022': 145, 'rpl': 6551, 'cnl': 2110, 'fffff': 3176, 'kadeem': 4365, 'fujitsu': 3416, 'lifebook': 4609, 'scold': 6674, 'zhong': 8665, 'se': 6699, 'qing': 6200, 'act': 911, 'hypertension': 4015, 'wud': 8553, 'annoyin': 1110, '08702490080': 91, '09066358152': 259, 'prompts': 6130, 'vpod': 8217, 'carry': 1887, 'disturbing': 2663, 'avatar': 1312, 'nigro': 5362, 'scratching': 6687, 'anyplaces': 1133, 'stops': 7296, 'cleaning': 2074, 'priority': 6084, 'constantly': 2235, 'ecstasy': 2845, '09090204448': 280, 'minded': 5034, 'minapn': 5032, 'ls278bb': 4769, 'flies': 3255, 'hittng': 3875, 'reflex': 6351, 'costa': 2283, 'sol': 7057, '09050090044': 196, 'toclaim': 7782, 'pobox334': 5920, 'stockport': 7281, 'max10mins': 4933, 'lousy': 4744, 'cat': 1902, 'woken': 8481, 'hip': 3865, 'adewale': 933, 'aka': 1017, 'egbon': 2866, 'ic': 4026, 'mary': 4905, 'deduct': 2497, 'wrks': 8540, 'monkey': 5127, 'asshole': 1253, 'grab': 3615, 'sliding': 6986, '09065394973': 255, 'payback': 5749, 'honeybee': 3912, 'sweetest': 7469, 'laughed': 4533, 'havnt': 3784, 'crack': 2318, 'tescos': 7610, 'feathery': 3150, 'bowa': 1645, 'infra': 4132, 'nvm': 5456, 'gep': 3503, 'delhi': 2520, 'thinkin': 7683, '2006': 404, 'fifa': 3185, 'held': 3816, '87239': 798, 'boat': 1601, 'moms': 5121, 'shhhhh': 6828, 'related': 6369, 'arul': 1229, 'amk': 1072, '09061743810': 230, 'length': 4581, 'fringe': 3387, 'distract': 2660, 'antha': 1124, 'corrct': 2274, 'dane': 2435, 'basket': 1411, 'proof': 6132, 'rupaul': 6577, '61610': 662, '08712400602450p': 115, 'provided': 6145, 'tones2you': 7810, 'practising': 6017, 'curtsey': 2397, 'yeh': 8605, 'payed2day': 5751, 'havbeen': 3775, 'rise': 6507, '4my': 602, 'havebeen': 3777, 'preschoolco': 6048, 'ordinator': 5591, '2i': 454, 'feelingood': 3160, 'memory': 4985, 'converted': 2252, 'downloads': 2742, 'members': 4981, 'african': 971, 'soil': 7055, 'major': 4855, 'roles': 6527, 'outreach': 5631, 'mel': 4975, 'birth': 1546, '8lb': 821, '7oz': 726, 'brilliantly': 1709, 'forwarding': 3336, 'intention': 4164, 'visitors': 8195, 'rules': 6569, 'responsibility': 6452, 'bend': 1500, 'rule': 6568, 'thia': 7678, 'inlude': 4138, 'previews': 6067, 'freefone': 3362, '08006344447': 64, 'ambrith': 1068, 'madurai': 4835, 'dha': 2579, 'marrge': 4898, 'kitty': 4441, 'shaved': 6814, 'natural': 5278, 'onwards': 5553, 'tactful': 7502, 'tscs': 7920, 'skillgame': 6959, '1winaweek': 394, '150ppermesssubscription': 355, 'theatre': 7652, 'obviously': 5477, 'eggs': 2868, 'pert': 5805, 'crammed': 2320, 'satsgettin': 6644, '47per': 582, 'lie': 4606, 'apologize': 1152, 'pei': 5769, 'kid': 4417, 'boost': 1625, 'subtoitles': 7373, 'sitting': 6948, 'jot': 4329, 'cereals': 1933, 'gari': 3463, 'infernal': 4126, 'affair': 961, 'including': 4102, 'bold2': 1608, 'calicut': 1817, '09094100151': 282, 'cast': 1898, 'aom': 1142, 'gbp5': 3481, 'box61': 1662, 'm60': 4809, '1er': 380, 'thkin': 7692, 'parco': 5704, 'nb': 5285, 'resubbing': 6460, 'shadow': 6793, 'breadstick': 1687, 'ahmad': 999, 'saeed': 6596, 'hallaq': 3720, '09066362220': 263, 'box97n7qp': 1664, 'purple': 6182, 'pink': 5860, 'lyk': 4799, 'yelow': 8608, 'bck': 1434, 'brown': 1731, 'giv': 3534, 'color': 2144, 'arranging': 1218, 'eldest': 2884, 'drugdealer': 2780, 'gender': 3490, 'wither': 8457, '23f': 417, '23g': 418, 'sleepwell': 6980, 'wondarfull': 8487, 'web2mobile': 8325, 'etc': 2986, 'txt250': 7955, 'box139': 1650, 'la32wu': 4482, 'txtx': 7966, 'normally': 5408, 'onbus': 5538, 'donyt': 2722, 'latelyxxx': 4527, '85233': 782, 'mca': 4942, 'rich': 6488, 'justthought': 4358, 'sayhey': 6656, 'endof': 2916, 'offdam': 5493, 'nevamind': 5331, '2hook': 452, 'uwant': 8112, 'm8': 4810, 'official': 5501, 'flag': 3244, 'yer': 8612, '84199': 775, 'eng': 2922, 'box39822': 1657, 'w111wx': 8223, 'yor': 8628, 'stressed': 7313, 'jason': 4267, 'soooo': 7094, 'provider': 6146, 'tming': 7767, 'subs': 7361, 'cutest': 2409, 'dice': 2591, 'art': 1225, 'inclusive': 4103, '08700469649': 80, 'box420': 1659, 'howda': 3960, 'mathe': 4920, 'samachara': 6615, 'audrie': 1295, 'autocorrect': 1306, 'simulate': 6925, 'readiness': 6286, 'armand': 1208, 'vomiting': 8211, 'rub': 6561, 'feet': 3164, 'lara': 4516, 'supplies': 7428, 'clever': 2080, 'guesses': 3679, 'attach': 1276, '087123002209am': 112, 'med': 4960, 'stamped': 7222, '113': 314, 'bray': 1683, 'wicklow': 8410, 'eire': 2875, 'washob': 8286, 'nobbing': 5380, 'nickey': 5352, 'platt': 5884, 'ryan': 6584, 'vikky': 8175, 'idew': 4041, 'argh': 1198, 'spotty': 7191, 'province': 6148, 'sterling': 7266, 'looked': 4715, 'xam': 8564, 'hall': 3718, 'manage': 4867, 'hesitation': 3844, 'intha': 4175, 'ponnungale': 5952, 'ipaditan': 4196, 'rejected': 6368, 'shitload': 6845, 'diamonds': 2589, 'tessy': 7611, 'favor': 3144, 'nimya': 5366, 'shijas': 6830, 'aunty': 1301, 'china': 2023, 'noisy': 5386, 'needa': 5302, 'mcat': 4943, 'manual': 4881, 'reset': 6438, 'troubleshooting': 7903, 'b4u': 1342, '27': 431, 'marsms': 4902, 'b4utele': 1343, '08717168528': 148, 'strongly': 7326, 'sacrifice': 6593, 'beg': 1477, 'expecting': 3057, 'creativity': 2335, 'stifled': 7274, 'morphine': 5147, 'requirements': 6429, 'stayin': 7250, '2getha': 448, 'buffy': 1757, 'satisfy': 6643, 'pix': 5867, 'qlynnbv': 6202, 'help08700621170150p': 3825, '30': 488, 'cld': 2072, 'prefer': 6037, 'nosh': 5413, 'waaaat': 8235, 'lololo': 4704, 'occupied': 5479, 'kindly': 4429, 'documents': 2686, 'submitted': 7358, 'stapati': 7228, 'miles': 5024, 'cutie': 2410, 'hills': 3859, 'killed': 4423, 'colleagues': 2137, 'sed': 6718, 'mood': 5138, 'minuts': 5050, 'latr': 4531, 'kidz': 4420, 'sofa': 7052, 'honesty': 3910, 'specialisation': 7139, 'labor': 4484, 'shakara': 6798, 'beggar': 1478, 'has': 3762, 'smashed': 7008, 'dent': 2534, 'crickiting': 2345, 'imin': 4072, 'dontmatter': 2720, 'urgoin': 8081, 'outl8r': 5629, 'reallyneed': 6299, '2docd': 443, 'dontplease': 2721, 'dontignore': 2719, 'mycalls': 5233, 'thecd': 7653, 'isv': 4222, 'tome': 7801, 'yavnt': 8596, 'popping': 5964, 'ibuprofens': 4025, 'sip': 6935, 'ps': 6151, 'grown': 3660, 'chinatown': 2024, 'porridge': 5966, 'claypot': 2071, 'yam': 8591, 'fishhead': 3233, 'beehoon': 1468, 'tok': 7790, 'specific': 7142, 'jaklin': 4253, 'nearby': 5291, 'cliffs': 2083, '49': 586, 'ntwk': 5441, 'bundle': 1766, 'deals': 2474, 'avble': 1313, 'mf': 5009, 'pages': 5670, 'figures': 3194, 'ooh': 5555, '4got': 596, 'moseley': 5149, 'weds': 8336, 'thankyou': 7640, 'pending': 5773, 'thru': 7717, 'aluable': 1060, 'ffectionate': 3175, 'oveable': 5639, 'ternal': 7604, 'oble': 5474, 'ruthful': 6580, 'ntimate': 5439, 'atural': 1290, 'namous': 5260, 'textin': 7625, 'cousin': 2307, 'frndship': 3392, 'excuses': 3042, 'raji': 6241, 'legs': 4576, 'neck': 5298, 'amigos': 1071, 'burn': 1773, 'progress': 6117, 'continue': 2245, 'holy': 3904, 'weren': 8367, 'arty': 1228, 'collages': 2135, 'tryin': 7916, 'billion': 1535, 'classes': 2068, '2hrs': 453, 'waliking': 8252, 'cartons': 1890, 'shelves': 6823, '08714712379': 132, 'distance': 2659, 'mirror': 5052, 'youre': 8637, 'turning': 7940, 'freak': 3353, 'ref': 6344, 'k718': 4363, '09065069120': 250, 'jod': 4309, 'keris': 4402, 'smidgin': 7013, 'belive': 1489, 'intentions': 4165, 'slots': 6993, 'accordin': 897, 'discussed': 2652, 'knocking': 4449, 'como': 2168, 'listened2the': 4656, 'plaid': 5875, 'air1': 1008, 'hilarious': 3857, 'braindance': 1674, 'ofstuff': 5506, 'aphex': 1147, 'abel': 862, 'hav2hear': 3773, 'nelson': 5317, 'temp': 7590, 'unmits': 8040, 'display': 2658, 'newspapers': 5344, 'soup': 7114, 'yummmm': 8651, 'management': 4870, 'puzzeles': 6193, 'include': 4100, '4goten': 597, 'scammers': 6663, 'regular': 6367, 'prem': 6039, '2morro': 460, 'passion': 5728, '09099726481': 290, 'dena': 2531, 'spoiled': 7176, 'r836': 6224, '09065069154': 251, 'threats': 7707, 'sales': 6608, 'shifad': 6829, 'raised': 6238, 'complaint': 2180, 'doctors': 2685, 'reminds': 6394, 'lounge': 4743, 'lk': 4672, 'role': 6526, 'lov': 4745, 'tolerat': 7797, 'bcs': 1440, 'comfort': 2158, 'checked': 1982, 'splashmobile': 7170, 'subscrition': 7371, '300p': 493, 'dust': 2811, 'u4': 7973, '01223585334': 7, '2c': 440, 'shagged': 6795, '8552': 783, '2end': 444, '88877': 808, '88066': 802, '3pound': 536, 'watchin': 8296, 'meaningless': 4952, 'brdget': 1685, 'jones': 4324, 'inever': 4123, 'hype': 4014, '700': 702, 'studio': 7339, 'bedrm': 1465, 'unable': 7996, 'whom': 8402, 'waited': 8246, 'velly': 8146, 'wkend': 8465, 'huge': 3980, 'marking': 4896, 'letters': 4595, 'mids': 5018, 'oranges': 5586, 'upd8': 8057, '2stoptx': 476, 'annie': 1105, 'remind': 6390, '08718738034': 173, '21870000': 411, 'mailbox': 4849, 'messaging': 5003, '09056242159': 199, 'retrieve': 6468, 'va': 8114, 'hrishi': 3970, 'nothin': 5419, 'hanger': 3734, 'poem': 5933, 'cheer': 1988, 'tear': 7566, 'duchess': 2794, 'cornwall': 2272, '008704050406': 3, 'arrow': 1223, 'bags': 1365, 'blanket': 1566, '08718726971': 163, 'tddnewsletter': 7557, 'emc1': 2902, 'thedailydraw': 7654, 'dozens': 2746, 'prizeswith': 6093, 'significant': 6910, 'waqt': 8277, 'pehle': 5768, 'naseeb': 5268, 'zyada': 8671, 'kisi': 4435, 'ko': 4455, 'kuch': 4469, 'nahi': 5249, 'milta': 5029, 'zindgi': 8666, 'wo': 8477, 'jo': 4303, 'hum': 3987, 'sochte': 7050, 'jeetey': 4279, 'worse': 8517, 'stalking': 7221, 'dan': 2430, 'reminded': 6391, 'varaya': 8128, 'elaya': 2883, '09066368753': 270, '97n7qp': 839, 'anand': 1091, 'beach': 1446, 'expected': 3056, 'aww': 1331, 'jez': 4296, 'iscoming': 4213, 'todo': 7785, 'workand': 8505, 'whilltake': 8396, 'zogtorius': 8668, 'staring': 7231, 'financial': 3210, 'alian': 1036, 'or2optout': 5582, 'hv9d': 4010, 'posible': 5974, 'century': 1931, 'cm': 2105, 'frwd': 3405, 'unnecessarily': 8041, 'affectionate': 964, 'sorts': 7105, 'restrictions': 6459, 'buddys': 1752, '80082': 736, '08712402902': 120, 'owned': 5655, 'possessive': 5979, 'clarification': 2062, 'spook': 7182, 'halloween': 3721, '08701417012150p': 85, 'issue': 4220, 'weigh': 8345, 'fantasy': 3126, 'football': 3303, 'sky': 6966, 'gamestar': 3453, 'active': 918, '250k': 425, 'scoring': 6679, '88088': 803, 'coimbatore': 2127, 'expired': 3064, 'monoc': 5131, 'monos': 5132, 'polyc': 5946, 'stream': 7310, '0871212025016': 110, 'opinions': 5569, 'categories': 1906, 'measure': 4956, 'ethnicity': 2987, 'census': 1928, 'transcribing': 7868, 'propsd': 6139, 'gv': 3694, 'lv': 4794, 'lttrs': 4774, 'threw': 7708, 'thm': 7693, 'aproach': 1180, 'dt': 2790, 'truck': 7906, 'speeding': 7148, 'wn': 8474, 'instantly': 4157, 'thy': 7725, 'lived': 4667, 'happily': 3749, '2gthr': 451, 'drinking': 2765, 'evrydy': 3028, 'paragon': 5699, 'arent': 1193, 'cakes': 1812, 'bluff': 1596, 'impossible': 4084, 'draws': 2755, 'goodmate': 3584, 'sary': 6636, 'asusual': 1266, 'cheered': 1989, 'franyxxxxx': 3351, 'batt': 1422, 'added': 927, 'pussy': 6188, 'becausethey': 1457, '09058098002': 215, 'pobox1': 5915, 'w14rg': 8224, 'responce': 6447, 'happend': 3742, 'piece': 5850, 'wiskey': 8453, 'brandy': 1679, 'rum': 6570, 'gin': 3528, 'vodka': 8204, 'scotch': 6680, 'shampain': 6804, 'kudi': 4470, 'yarasu': 8594, 'dhina': 2581, 'vaazhthukkal': 8115, 'gained': 3445, 'kg': 4409, 'sugar': 7391, 'pressure': 6060, 'limits': 4632, 'dumb': 2802, 'thangam': 7634, 'okey': 5519, 'doke': 2705, 'dressed': 2761, 'laying': 4544, 'kills': 4425, 'neshanth': 5320, 'byatch': 1803, 'whassup': 8379, 'kay': 4387, 'roger': 6525, 'cl': 2057, 'nasty': 5269, 'filthyguys': 3205, 'slo': 6991, '4msgs': 600, 'wasted': 8290, 'chiong': 2029, 'christ': 2044, 'dialogue': 2587, 'reltnship': 6380, 'wipe': 8442, 'tears': 7567, 'solve': 7061, 'murdered': 5215, 'police': 5941, 'questioned': 6210, 'cooking': 2262, 'gardener': 3462, 'vegetables': 8142, 'maid': 4847, 'neighbour': 5315, 'murderer': 5216, 'brilliant': 1708, 'pose': 5972, 'comb': 2151, 'dryer': 2788, 'fps': 3344, 'computational': 2193, 'science': 6673, 'push': 6185, 'answered': 1118, 'madam': 4830, 'disturbance': 2662, 'dlf': 2673, 'premarica': 6040, 'rgds': 6483, 'gotto': 3606, '220cm2': 415, 'settle': 6776, 'err': 2967, '8pm': 823, 'bloo': 1585, 'hitter': 3874, 'offline': 5503, 'anjola': 1103, 'asjesus': 1240, 'wrote': 8545, 'indians': 4119, 'swiss': 7478, 'directors': 2634, 'lac': 4485, 'crore': 2349, 'deposited': 2545, 'taxless': 7548, 'budget': 1753, 'jobs': 4306, 'lane': 4507, 'suply': 7425, 'projects': 6119, 'citizen': 2054, 'imf': 4070, 'blocked': 1578, 'politicians': 5942, 'rights': 6495, 'corrupt': 2278, 'itna': 4229, 'karo': 4382, 'ki': 4411, 'pura': 6177, 'padhe': 5668, 'torrents': 7836, 'particularly': 5716, 'slowing': 6997, 'commit': 2165, 'random': 6252, '83370': 766, 'trivia': 7900, 'rightio': 6493, 'brum': 1738, 'donno': 2716, 'scorable': 6676, 'paranoid': 5701, 'brin': 1710, 'properly': 6135, 'sheet': 6818, 'complain': 2178, 'bettr': 1514, 'bsnl': 1742, 'offc': 5491, 'payed': 5750, 'suganya': 7390, 'dessert': 2562, 'abeg': 861, 'sponsors': 7180, 'onum': 5552, 'than': 7632, 'poet': 5934, 'imagination': 4067, 'rr': 6553, 'famamus': 3115, 'together': 7787, '630': 667, 'sry': 7211, 'furniture': 3432, 'lock': 4689, 'locks': 4690, 'key': 4404, 'jenne': 4283, 'easiest': 2830, 'barcelona': 1394, 'ru': 6560, 'sppok': 7193, '09066612661': 273, 'complementary': 2181, 'wa14': 8234, '2px': 473, 'pansy': 5687, 'jungle': 4350, 'kanji': 4377, 'srs': 7208, 'drizzling': 2772, 'appointments': 1167, 'shoving': 6875, 'papers': 5694, 'greetings': 3646, 'excused': 3041, 'drama': 2750, 'struggling': 7329, 'strange': 7308, 'ego': 2869, 'necessity': 5297, 'reppurcussions': 6422, 'released': 6375, 'cosign': 2281, 'hvae': 4011, '09061701444': 223, 'acl03530150pm': 908, 'hcl': 3785, 'requires': 6430, 'freshers': 3374, 'suman': 7403, 'telephonic': 7580, 'via': 8158, 'indyarocks': 4122, 'dai': 2426, 'resume': 6464, 'cars': 1889, 'bids': 1527, 'reliant': 6376, 'fwiw': 3436, 'afford': 967, 'happens': 3746, 'whr': 8405, 'maga': 4837, 'sq825': 7202, 'arrival': 1220, 'yunny': 8654, 'citylink': 2056, 'er': 2960, 'props': 6138, 'pleasant': 5893, 'statements': 7245, '6230': 664, '83383': 767, 'pobox114': 5916, '14tcr': 347, 'bognor': 1606, 'splendid': 7172, 'ktv': 4468, 'misplaced': 5058, 'computers': 2196, 'mmmmm': 5086, 'medicine': 4962, 'begun': 1482, 'registration': 6364, 'permanent': 5791, 'residency': 6439, 'plenty': 5899, 'relatives': 6372, 'deliver': 2522, 'risks': 6509, 'benefits': 1503, 'predicting': 6034, 'accumulation': 902, 'programs': 6116, 'belongs': 1495, 'fated': 3136, 'shoranur': 6858, 'incident': 4098, 'fuelled': 3415, 'concern': 2202, 'prior': 6083, 'grief': 3647, 'violence': 8182, 'against': 981, 'environment': 2954, 'terrific': 7606, 'text82228': 7619, 'txt82228': 7957, 'honestly': 3909, 'promptly': 6129, 'burnt': 1776, 'advice': 954, 'snap': 7034, 'quizclub': 6220, '80122300p': 738, 'rwm': 6583, '08704050406': 93, 'gmw': 3549, 'connected': 2223, 'someplace': 7069, 'goods': 3590, 'pressies': 6059, 'dr': 2748, 'superior': 7423, 'ultimately': 7988, 'tor': 7834, 'motive': 5156, 'tui': 7930, 'achieve': 905, 'korli': 4463, 'dock': 2681, 'rolled': 6528, 'newscaster': 5342, 'dabbles': 2421, 'flute': 3276, 'wheel': 8385, 'amazing': 1066, 'picsfree1': 5846, 'vid': 8165, 'keyword': 4407, 'ruin': 6566, 'erm': 2964, 'the4th': 7649, 'october': 5485, '83435': 768, 'elaborating': 2880, 'safety': 6599, 'aspects': 1250, 'issues': 4221, 'tarot': 7535, '85555': 784, 'department': 2540, 'ours': 5620, 'hr': 3969, 'conform': 2216, 'horniest': 3933, 'instructions': 4160, '3lp': 531, 'flow': 3269, 'developed': 2572, 'ovarian': 5638, 'cysts': 2417, 'bc': 1432, 'shrink': 6887, 'upping': 8067, 'grams': 3620, 'timin': 7743, 'apes': 1145, 'death': 2479, 'ibm': 4022, 'hp': 3966, 'toshiba': 7840, 'gosh': 3595, 'spose': 7189, 'rimac': 6497, 'arestaurant': 1194, 'squid': 7206, 'dosomething': 2730, 'wrk': 8537, 'dabooks': 2422, 'hrs': 3971, 'eachother': 2820, 'luckily': 4777, 'starring': 7232, 'restocked': 6457, 'knock': 4448, 'tkls': 7762, 'stoptxtstop': 7298, 'innocent': 4142, 'mental': 4988, 'smoothly': 7025, 'hoped': 3924, 'bills': 1536, 'challenging': 1942, '2marrow': 457, 'hon': 3907, 'breakfast': 1690, 'hamper': 3723, 'cc100p': 1915, 'reality': 6294, '0870737910216yrs': 97, 'unni': 8042, 'lacking': 4486, 'particular': 5715, 'dramastorm': 2751, 'forfeit': 3315, 'treated': 7886, 'digi': 2613, 'fab': 3087, 'coupla': 2300, 'wks': 8470, '077xxx': 37, '09066362206': 262, 'sundayish': 7412, 'prasad': 6023, 'tiwary': 7758, 'rcb': 6270, 'battle': 1424, 'bang': 1382, 'kochi': 4456, 'cancer': 1851, 'checkup': 1986, 'pap': 5691, 'smear': 7009, 'gobi': 3559, 'arts': 1227, 'pandy': 5683, '4w': 611, 'technologies': 7572, 'olowoyey': 5532, 'usc': 8091, 'edu': 2852, 'argentina': 1197, 'secretary': 6710, 'taxt': 7549, 'massage': 4908, 'tie': 7729, 'pos': 5971, 'lool': 4719, 'dollar': 2708, 'pull': 6167, 'spending': 7154, 'shaking': 6801, 'booty': 1626, 'lil': 4626, 'scarcasim': 6664, 'naal': 5244, 'eruku': 2971, 'w4': 8230, '5wq': 653, 'remains': 6383, 'bro': 1719, 'bros': 1725, 'impressively': 4089, 'sensible': 6754, '69696': 680, 'response': 6450, 'nalla': 5252, 'obedient': 5470, 'ft': 3407, 'combination': 2152, 'needy': 5307, 'pouts': 6001, 'stomps': 7284, 'northampton': 5410, 'abj': 867, 'serving': 6771, 'playng': 5891, 'mcfly': 4944, 'ab': 858, 'sara': 6630, 'jorge': 4327, 'smith': 7019, 'anna': 1104, 'nagar': 5247, 'yupz': 8658, 'ericson': 2962, 'der': 2549, 'luks': 4782, 'modl': 5110, 'cheesy': 1993, 'frosty': 3403, 'witin': 8459, 'sports': 7187, 'fans': 3123, '0870141701216': 86, '120p': 325, '10th': 311, 'sept': 6761, '09050000555': 188, 'ba128nnfwfly150ppm': 1345, 'shirts': 6840, 'nudist': 5443, 'themed': 7658, 'pump': 6170, 'petrol': 5812, 'feb': 3152, 'ignore': 4051, 'evr': 3024, 'signal': 6908, 'unusual': 8053, 'hugs': 3983, 'snogs': 7040, 'west': 8371, 'palm': 5679, 'printing': 6082, 'handing': 3727, 'uks': 7986, 'fastest': 3134, 'growing': 3659, '83021': 757, 'chase': 1967, 'stated': 7243, 'tariffs': 7534, '2stoptxt': 477, 'perpetual': 5794, 'dd': 2468, 'steam': 7258, 'reg': 6357, 'pract': 6012, 'flung': 3274, 'public': 6163, 'govt': 3608, 'instituitions': 4159, 'justbeen': 4355, 'overa': 5641, 'brains': 1676, 'mush': 5218, 'tunde': 7934, 'missions': 5065, 'luxury': 4793, 'canary': 1847, '20m12aq': 408, 'eh74rr': 2871, 'sleepy': 6981, 'dare': 2440, 'ben': 1499, 'mag': 4836, 'avo': 1319, 'middle': 5016, 'crashed': 2324, 'cuddled': 2381, 'chachi': 1938, 'pl': 5870, 'tiz': 7760, 'kanagu': 4375, 'prices': 6072, 'ringing': 6499, 'houseful': 3954, 'brats': 1681, 'pulling': 6168, 'diwali': 2668, 'tick': 7726, 'onion': 5545, 'derp': 2551, 'abusers': 881, 'lipo': 4650, 'netflix': 5323, 'thgt': 7677, 'clash': 2066, 'arr': 1216, 'oscar': 5607, 'rebtel': 6311, 'firefox': 3226, 'lower': 4761, '69969': 688, 'bcmsfwc1n3xx': 1438, 'impressed': 4087, 'funs': 3431, 'footy': 3307, 'stadium': 7215, 'large': 4518, 'coca': 2118, 'cola': 2131, 'dark': 2441, 'teenager': 7574, 'exhaust': 3047, 'replacing': 6415, 'mittelschmertz': 5075, 'paracetamol': 5696, 'pee': 5766, 'arrived': 1222, 'cthen': 2370, 'enuff': 2952, 'conclusion': 2205, 'contents': 2243, 'references': 6346, 'success': 7374, 'instant': 4156, '08715203028': 137, '9th': 848, 'rugby': 6565, 'affidavit': 966, 'twiggs': 7947, 'division': 2666, 'courtroom': 2306, 'creep': 2339, 'showers': 6880, 'possessiveness': 5980, 'poured': 5999, 'lies': 4607, 'golden': 3571, 'lasting': 4524, 'mobs': 5103, 'breathe1': 1696, 'crazyin': 2330, 'sleepingwith': 6978, 'finest': 3215, 'ymca': 8624, 'pobox365o4w45wq': 5922, 'wtc': 8548, 'weiyi': 8353, 'property': 6136, 'interflora': 4168, 'flowers': 3271, '505060': 619, 'teeth': 7575, 'paining': 5675, 'romcapspam': 6531, 'presence': 6052, 'outgoing': 5628, 'maggi': 4839, 'mee': 4964, '08712103738': 109, 'cough': 2290, '09058099801': 216, 'b4190604': 1340, '7876150ppm': 720, 'bbd': 1429, 'pooja': 5954, 'pimples': 5858, 'sweatter': 7467, 'ambitious': 1067, 'miiiiiiissssssssss': 5020, 'tunji': 7936, 'iz': 4241, 'yellow': 8607, 'misscall': 5060, 'frndz': 3395, '6missed': 694, 'frog': 3398, 'mad1': 4828, 'mad2': 4829, '88888': 809, 'show': 6876, 'tall': 7525, 'doubt': 2736, 'handle': 3728, 'note': 5416, 'robs': 6518, 'avenge': 1315, 'japanese': 4265, 'proverb': 6144, 'strike': 7319, 'choices': 2036, 'toss': 7841, 'coin': 2128, 'gudni8': 3674, 'dancin': 2433, 'explicitly': 3069, 'nora': 5402, 'gayle': 3474, 'crucify': 2355, 'moved': 5164, 'butting': 1788, 'freedom': 3360, 'vs': 8219, 'cedar': 1920, 'durham': 2809, 'reserved': 6436, 'seat': 6704, 'porn': 5965, '69855': 682, 'stopbcm': 7292, 'sf': 6788, 'painting': 5676, 'wall': 8259, 'printer': 6081, 'groovy': 3654, 'groovying': 3655, 'harish': 3758, 'transfred': 7873, 'acnt': 909, 'nowadays': 5432, 'showrooms': 6883, 'shaping': 6809, 'attending': 1283, 'talks': 7524, 'probs': 6103, 'doinat': 2702, 'callon': 1833, 'swatch': 7462, 'ganesh': 3455, 'dress': 2760, 'pdate_now': 5760, 'yhl': 8619, 'collecting': 2140, 'configure': 2212, 'trips': 7897, 'anal': 1089, 'pears': 5765, 'helloooo': 3823, 'welcomes': 8355, 'celebrate': 1923, 'such': 7377, 'oooooh': 5557, '09058094454': 203, '54': 638, 'resubmit': 6461, 'expiry': 3066, '2geva': 449, 'mint': 5046, 'humans': 3989, 'studyn': 7342, 'wuld': 8555, 'everyboy': 3008, 'xxxxxxxx': 8582, 'solved': 7062, '1thing': 391, 'answr': 1122, 'liquor': 4652, 'flaked': 3245, 'loko': 4701, '730': 706, 'lined': 4637, 'tm': 7766, 'ing': 4134, 'laughs': 4535, 'fireplace': 3227, 'icon': 4033, '08712400200': 114, 'fifth': 3187, 'woozles': 8499, 'weasels': 8322, '08718723815': 158, 'gary': 3465, 'machines': 4822, 'fucks': 3413, 'sake': 6603, 'ignorant': 4050, 'mys': 5237, 'bruce': 1737, 'downs': 2744, 'fletcher': 3253, '08714714011': 136, 'teaching': 7563, 'bowls': 1647, 'cozy': 2312, 'buzzzz': 1797, 'chest': 2001, 'vibrator': 8161, 'shake': 6799, 'covers': 2310, 'trends': 7892, 'pros': 6140, 'cons': 2226, 'brief': 1705, 'description': 2552, 'nuclear': 5442, 'fusion': 3433, 'history': 3869, 'iter': 4227, 'jet': 4293, 'nowhere': 5433, 'ikno': 4056, 'doesdiscount': 2690, 'shitinnit': 6844, 'jabo': 4245, 'abi': 864, 'slower': 6996, 'maniac': 4879, 'sapna': 6628, 'manege': 4877, 'hogidhe': 3891, 'chinnu': 2028, 'swalpa': 7456, 'agidhane': 990, 'mostly': 5151, 'footbl': 3304, 'crckt': 2331, 'swell': 7473, 'tim': 7739, 'bollox': 1609, 'tol': 7793, 'hang': 3733, 'ingredients': 4135, 'pocy': 5931, 'bell': 1490, 'non': 5393, '4qf2': 603, 'senor': 6750, 'giggle': 3524, 'possibly': 5983, 'person2die': 5799, 'nvq': 5457, 'professional': 6110, 'tiger': 7731, 'woods': 8495, 'reboot': 6309, 'grinder': 3648, 'pt2': 6159, 'buyers': 1792, 'figuring': 3195, 'entirely': 2945, 'understood': 8013, 'phoned': 5829, 'disconnected': 2648, 'onluy': 5547, 'matters': 4928, 'offcampus': 5492, 'improved': 4091, 'riley': 6496, 'ew': 3029, 'wesley': 8369, 'lingo': 4641, '400mins': 546, 'j5q': 4243, 'without': 8458, 'hm': 3880, '69200': 678, 'chrgd': 2043, '2exit': 445, 'salon': 6612, 'approaching': 1171, 'sankranti': 6624, 'republic': 6424, 'shivratri': 6847, 'ugadi': 7977, 'fools': 3301, 'independence': 4114, 'teachers': 7561, 'childrens': 2018, 'festival': 3170, 'dasara': 2451, 'mornings': 5146, 'afternoons': 976, 'evenings': 3000, 'rememberi': 6387, 'these': 7669, 'raj': 6239, 'joys': 4332, 'lifeis': 4610, 'daywith': 2465, 'somewheresomeone': 7079, 'tosend': 7839, 'greeting': 3645, 'selflessness': 6737, 'initiate': 4136, 'tallent': 7527, 'wasting': 8291, 'payment': 5754, 'portal': 5968, 't4get2text': 7494, 'lennon': 4583, 'bothering': 1639, 'crab': 2317, 'shore': 6859, 'waves': 8308, 'footprints': 3306, 'clearing': 2078, 'fox': 3343, 'frndsship': 3394, 'dwn': 2815, 'slaaaaave': 6971, 'summon': 7407, '33': 510, 'changes': 1950, 'appendix': 1158, 'range': 6257, 'however': 3962, 'become': 1458, 'slob': 6992, 'smiled': 7015, 'topic': 7829, 'webpage': 8328, 'yeesh': 8604, 'unsubscribed': 8050, 'hunks': 3995, 'gotbabes': 3601, 'subscriptions': 7369, 'gopalettan': 3593, 'participate': 5714, 'admin': 936, 'abroad': 872, 'xxsp': 8574, 'visionsms': 8191, 'stopcost': 7293, '08712400603': 116, 'agent': 987, 'goodies': 3583, 'mat': 4913, 'ay': 1336, 'andros': 1097, 'steal': 7256, 'isaiah': 4212, 'meets': 4969, 'foot': 3302, 'penis': 5774, 'expert': 3063, 'sigh': 6904, 'thinl': 7687, 'others': 5611, 'importantly': 4082, 'tightly': 7733, 'wnevr': 8475, 'fal': 3108, 'vth': 8220, 'books': 1622, 'fals': 3114, 'yen': 8609, 'madodu': 4832, 'nav': 5283, 'pretsorginta': 6063, 'nammanna': 5259, 'pretsovru': 6064, 'alwa': 1061, 'eveb': 2997, 'window': 8429, 'lord': 4726, 'rings': 6500, 'soundtrack': 7113, 'stdtxtrate': 7254, 'sg': 6789, 'phyhcmk': 5837, 'pc1323': 5759, 'emigrated': 2905, 'hopeful': 3925, 'olol': 5531, 'stagwood': 7218, 'winterstone': 8441, 'victors': 8164, 'hill': 3858, 'jp': 4333, 'mofo': 5113, 'pathaya': 5737, 'enketa': 2933, 'maraikara': 4886, 'priest': 6074, 'reserves': 6437, 'intrude': 4179, 'walkabout': 8254, 'cashed': 1895, 'announced': 1108, 'blog': 1579, '28th': 435, 'removal': 6396, '08708034412': 102, 'prove': 6143, 'footie': 3305, 'blow': 1589, 'phil': 5821, 'neville': 5334, 'abbey': 859, 'returning': 6471, 'knowing': 4451, 'punj': 6174, 'str8': 7305, 'classic': 2069, '200p': 406, 'thurs': 7722, 'cancelled': 1850, 'sacked': 6592, 'lookatme': 4714, 'clip': 2084, '35p': 514, 'mmsto': 5089, '32323': 508, 'barred': 1401, 'twat': 7944, 'dungerees': 2805, 'decking': 2492, 'punch': 6171, 'mentionned': 4991, 'vat': 8135, 'planned': 5880, 'grl': 3651, 'hogolo': 3893, 'kodstini': 4457, 'agalla': 982, 'madstini': 4834, 'hogli': 3892, 'mutai': 5227, 'eerulli': 2861, 'kodthini': 4458, 'thasa': 7643, 'messed': 5004, 'shudvetold': 6892, 'urgran': 8082, 'neway': 5337, 'illspeak': 4062, 'u2moro': 7972, 'tex': 7615, 'mecause': 4959, 'werebored': 8366, 'okden': 5518, 'uin': 7982, 'likeyour': 4624, 'gr8fun': 3613, 'updat': 8058, 'countinlots': 2297, 'xxxxx': 8579, 'tagged': 7505, 'count': 2295, 'challenge': 1941, 'hdd': 3786, 'casing': 1897, 'opened': 5561, '09053750005': 198, '310303': 503, '08718725756': 159, '140ppm': 343, 'asus': 1265, 'randomly': 6254, 'reformat': 6352, 'otside': 5615, 'plumbers': 5904, 'tape': 7533, 'wrench': 8532, 'bcum': 1441, 'films': 3202, 'appeal': 1156, 'thriller': 7709, 'director': 2633, 'size': 6953, 'elephant': 2888, 'shove': 6874, 'um': 7990, 'cr': 2314, 'pookie': 5955, 'wouldn': 8527, 'nri': 5436, '08712101358': 108, 'x2': 8560, 'deserve': 2554, 'tight': 7732, 'lick': 4603, 'diddy': 2596, 'neighbor': 5313, 'toothpaste': 7826, 'av': 1307, 'poking': 5938, 'everyday': 3009, 'curious': 2393, 'coccooning': 2119, 'auto': 1305, 'mus': 5217, 'newquay': 5340, 'postcard': 5986, '1im': 382, 'talkin': 7522, 'bread': 1686, 'windy': 8432, '09066358361': 260, 'y87': 8585, 'mahal': 4844, 'tirunelvai': 7751, 'dusk': 2810, 'puzzles': 6194, 'x29': 8561, '09065989180': 256, 'stairs': 7219, 'phews': 5820, 'relation': 6370, 'luvs': 4791, 'praying': 6029, 'recycling': 6338, 'earning': 2826, 'toledo': 7795, 'ding': 2624, 'tai': 7507, 'feng': 3169, 'reservations': 6434, 'swimsuit': 7476, 'allowed': 1046, 'necessary': 5296, 'watever': 8300, 'shared': 6811, 'squeeeeeze': 7204, 'hug': 3979, 'lik': 4619, 'frndshp': 3393, 'luvd': 4790, 'asks': 1246, 'volcanoes': 8208, 'erupt': 2972, 'arise': 1204, 'hurricanes': 3999, 'sway': 7463, 'aroundn': 1215, 'disasters': 2643, 'lighters': 4617, 'four': 3339, 'lasagna': 4521, 'chickened': 2010, 'messaged': 5001, 'woould': 8498, '08718726978': 164, 'deus': 2570, '44': 563, '7732584351': 717, '3510i': 513, 'deliveredtomorrow': 2524, '300': 489, 'tap': 7532, 'spile': 7160, 'broad': 1720, 'canal': 1846, 'engin': 2926, 'edge': 2847, 'raviyog': 6265, 'peripherals': 5790, 'bhayandar': 1523, 'east': 2832, 'sunoco': 7415, 'howard': 3959, 'musical': 5221, 'plate': 5883, 'leftovers': 4572, 'starving': 7240, 'cooked': 2260, 'cheat': 1977, 'fatty': 3140, 'badrith': 1363, 'owe': 5651, 'checkin': 1983, 'block': 1577, 'armenia': 1209, 'swann': 7458, '09058097189': 213, '09061221066': 222, 'fromm': 3400, '330': 511, '1120': 313, '1205': 324, 'smoking': 7024, 'wylie': 8559, 'justify': 4357, 'ruining': 6567, 'meds': 4963, 'hunt': 3997, 'in2': 4094, '5226': 632, 'hava': 3774, '1131': 315, 'rct': 6272, 'thnq': 7695, 'adrian': 945, 'vatian': 8136, 'everyones': 3011, 'babysitting': 1355, 'gonnamissu': 3579, 'buttheres': 1787, 'aboutas': 871, 'merememberin': 4996, 'asthere': 1259, 'ofsi': 5505, 'breakin': 1691, 'yaxx': 8597, 'ee': 2858, 'poortiyagi': 5960, 'odalebeku': 5486, 'hanumanji': 3740, 'hanuman': 3739, 'bajarangabali': 1369, 'maruti': 4903, 'pavanaputra': 5745, 'sankatmochan': 6623, 'ramaduth': 6249, 'mahaveer': 4845, 'janarige': 4259, 'ivatte': 4236, 'kalisidare': 4371, 'olage': 5525, 'ondu': 5541, 'keluviri': 4396, 'maretare': 4889, 'inde': 4112, 'dodda': 2687, 'problum': 6101, 'nalli': 5253, 'siguviri': 6913, 'idu': 4045, 'matra': 4924, 'neglet': 5312, 'easily': 2831, 'ijust': 4054, 'talked': 7521, 'opps': 5574, 'gei': 3488, 'tron': 7901, 'dl': 2671, 'selfish': 6736, 'spiffing': 7159, 'workage': 8504, 'craving': 2327, 'supose': 7426, 'babysit': 1354, 'spaces': 7125, 'embassy': 2901, 'lightly': 4618, 'custom': 2401, 'checkboxes': 1981, 'sac': 6589, 'hundred': 3991, 'batsman': 1421, 'yetty': 8617, 'per': 5778, 'jiayin': 4299, '09050000928': 190, 'pobox45w2tg150p': 5923, 'forgotten': 3322, 'reverse': 6477, 'cheating': 1978, 'mathematics': 4921, '2waxsto': 481, 'basic': 1409, 'emailed': 2897, 'yifeng': 8621, 'slurp': 7000, 'minimum': 5039, '3miles': 532, 'brainless': 1675, 'doll': 2707, 'vehicle': 8144, 'sariyag': 6635, 'madoke': 4833, 'barolla': 1400, '07090201529': 25, 'postponed': 5990, 'stocked': 7280, 'elaine': 2881, 'tiime': 7736, 'afternon': 974, 'interviews': 4173, 'resizing': 6440, '09066364349': 266, 'box434sk38wp150ppm18': 1661, 'opposed': 5572, 'drunken': 2785, 'billed': 1533, 'shortcode': 6863, '83332': 763, '08081263000': 66, 'refunded': 6355, 'somerset': 7070, 'overtime': 5646, 'nigpun': 5361, 'dismissial': 2657, 'screwd': 6692, '08712402972': 121, 'bull': 1763, 'floating': 3264, 'mess': 4999, '09058095201': 212, 'heehee': 3813, 'arithmetic': 1206, 'percentages': 5780, 'least': 4563, 'chillaxin': 2021, 'das': 2450, 'iknow': 4057, 'wellda': 8357, 'peril': 5788, 'studentfinancial': 7336, 'crisis': 2347, 'monster': 5133, '____': 850, 'ths': 7718, 'ias': 4018, 'obey': 5472, 'uhhhhrmm': 7981, 'mb': 4940, '600': 656, '400': 545, 'deltomorrow': 2526, '09066368470': 269, '24m': 421, 'smartcall': 7005, '68866': 676, 'subscriptn3gbp': 7370, '08448714184': 72, 'landlineonly': 4503, 'mths': 5188, 'callback': 1822, 'orno': 5602, 'fink': 3222, '09099726553': 291, 'promised': 6124, 'carlie': 1880, 'minmobsmore': 5040, 'lkpobox177hp51fl': 4673, 'youphone': 8635, 'athome': 1270, 'youwanna': 8643, 'jack': 4246, 'helpful': 3828, 'pretend': 6062, 'hypotheticalhuagauahahuagahyuhagga': 4016, 'brainy': 1677, 'occasion': 5478, 'celebrated': 1924, 'reflection': 6350, 'values': 8126, 'desires': 2556, 'affections': 965, 'traditions': 7858, 'cantdo': 1857, 'anythingtomorrow': 1137, 'myparents': 5236, 'aretaking': 1195, 'outfor': 5627, 'katexxx': 4384, 'level': 4596, 'gate': 3468, '89105': 813, 'wedding': 8332, 'lingerie': 4640, 'bridal': 1702, 'petticoatdreams': 5813, 'weddingfriend': 8333, 'board': 1600, 'overheating': 5645, 'reslove': 6441, 'inst': 4152, 'western': 8372, 'outta': 5637, 'notixiquating': 5424, 'laxinorficated': 4541, 'bambling': 1379, 'entropication': 2948, 'oblisingately': 5475, 'opted': 5576, 'masteriastering': 4911, 'amplikater': 1080, 'fidalfication': 3181, 'champlaxigating': 1944, 'atrocious': 1275, 'wotz': 8523, 'junna': 4351, 'knickers': 4447, '01223585236': 6, 'nikiyu4': 5364, 'accident': 891, 'a30': 852, 'divert': 2665, 'wadebridge': 8237, 'vill': 8177, '1030': 306, 'orc': 5587, 'bloomberg': 1588, '447797706009': 567, 'careers': 1874, 'seeking': 6723, 'priscilla': 6085, 'except': 3036, 'wisdom': 8445, 'inform': 4129, 'wherre': 8393, 'phone750': 5827, 'resolution': 6442, 'frank': 3348, 'logoff': 4698, 'parkin': 5711, 'kent': 4398, 'vale': 8118, 'cann': 1853, 'asa': 1232, '09050000878': 189, 'wan2': 8267, 'westlife': 8373, 'unbreakable': 7998, 'untamed': 8051, 'unkempt': 8035, '83049': 759, 'prince': 6076, 'charming': 1964, 'mention': 4989, 'served': 6767, 'arnt': 1213, 'xxxxxxxxxxxxxx': 8583, 'dorothy': 2728, 'kiefer': 4421, 'granite': 3626, 'explosive': 3070, 'nasdaq': 5267, 'symbol': 7486, 'cdgt': 1918, 'alle': 1043, 'mone': 5124, 'eppolum': 2957, 'allalo': 1041, 'fundamentals': 3426, 'whoever': 8401, '1mega': 384, 'pixels': 5868, '3optical': 535, '5digital': 641, 'dooms': 2723, 'noi': 5383, 'js': 4334, 'burgundy': 1771, 'captaining': 1864, 'base': 1406, 'placement': 5873, 'amrita': 1082, 'profile': 6112, 'bpo': 1671, 'nighters': 5358, 'persevered': 5795, 'regretted': 6366, 'spouse': 7192, 'pmt': 5911, 'sumthin': 7408, '4give': 595, 'shldxxxx': 6849, 'scenario': 6667, 'spun': 7200, 'wrld': 8541, 'nytho': 5464, 'tx': 7953, 'fonin': 3297, '2mwen': 465, 'frmcloud': 3389, '09071517866': 278, '150ppmpobox10183bhamb64xe': 357, 'pounded': 5997, 'lion': 4645, 'devouring': 2577, 'airtel': 1010, 'broadband': 1721, 'processed': 6106, 'installation': 4154, 'tensed': 7597, 'coughing': 2291, 'warned': 8280, 'sprint': 7198, 'prolly': 6120, 'gower': 3609, 'morrow': 5148, 'chik': 2012, 'filth': 3203, '69669': 679, 'saristar': 6634, 'e14': 2818, '9yt': 849, '08701752560': 88, '450p': 574, 'stop2': 7290, '420': 556, '9061100010': 827, 'wire3': 8444, '1st4terms': 388, 'mobcudb': 5096, 'sabarish': 6588, 'jaya': 4270, '09050000460': 187, 'j89': 4244, 'box245c2150pm': 1652, 'inpersonation': 4145, 'flea': 3252, 'forums': 3333, 'banneduk': 1389, 'highest': 3856, 'maximum': 4936, '71': 703, 'taj': 7509, 'lesser': 4589, 'known': 4452, 'facts': 3094, 'mumtaz': 5210, 'shahjahan': 6797, 'wifes': 8415, 'arises': 1205, 'hari': 3757, '69101': 677, 'rtf': 6557, 'sphosting': 7156, 'webadres': 8326, 'geting': 3509, 'incredible': 4110, 'o2fwd': 5468, '18p': 372, 'ship': 6836, 'maturity': 4931, 'confirmed': 2215, 'passport': 5730, 'multiply': 5203, 'independently': 4115, 'showed': 6877, 'twins': 7950, 'strt': 7327, 'ltdhelpdesk': 4773, '02085076972': 13, 'equally': 2959, 'uneventful': 8018, 'pesky': 5807, 'cyclists': 2416, 'adi': 934, 'entey': 2943, 'nattil': 5277, 'kittum': 4440, 'kavalan': 4386, 'hire': 3867, 'hitman': 3872, '09066660100': 275, '2309': 416, 'cps': 2313, 'causing': 1910, 'outages': 5623, 'conserve': 2229, 'voted': 8213, 'epi': 2956, 'bare': 1395, 'bhaskar': 1522, 'dubsack': 2793, 'gong': 3577, 'kaypoh': 4388, 'basketball': 1412, 'outdoors': 5625, 'macho': 4823, 'interfued': 4169, 'blank': 1564, 'listed': 4654, 'apology': 1153, 'hustle': 4007, 'forth': 3330, 'audition': 1293, 'harlem': 3759, 'workout': 8508, 'fats': 3139, 'zac': 8659, 'tonights': 7815, 'hui': 3985, 'xin': 8568, 'lib': 4600, 'difference': 2607, 'versus': 8154, 'underdtand': 8010, 'muchxxlove': 5197, 'locaxx': 4688, '07090298926': 26, '9307622': 833, 'skateboarding': 6957, 'despite': 2561, 'thrown': 7715, 'winds': 8431, 'bandages': 1381, 'html': 3973, 'gbp4': 3480, 'mfl': 5010, '1146': 317, 'hectic': 3811, 'fell': 3165, 'swoop': 7481, 'wamma': 8265, 'doggin': 2696, 'dogs': 2699, 'langport': 4508, 'virtual': 8189, 'senthil': 6758, 'apnt': 1148, 'pants': 5690, 'go2sri': 3556, 'lanka': 4510, 'merely': 4995, 'relationship': 6371, 'wherevr': 8392, 'forevr': 3314, 'gudnyt': 3676, 'cannot': 1855, 'mistakes': 5071, 'plum': 5903, 'smacks': 7001, '50s': 630, 'alot': 1051, 'formatting': 3328, 'attracts': 1288, 'promotion': 6128, '8714714': 796, 'vegas': 8141, 'lou': 4741, 'lancaster': 4499, 'soc': 7049, 'bsn': 1741, 'advising': 956, 'lobby': 4684, 'texted': 7624, 'showered': 6879, 'ything': 8650, 'vewy': 8157, 'lubly': 4775, '087147123779am': 131, 'catches': 1904, 'specify': 7143, 'domain': 2712, 'nusstu': 5452, 'bari': 1397, 'hudgi': 3978, 'yorge': 8629, 'pataistha': 5734, 'ertini': 2970, 'hasbro': 3763, 'jump': 4347, 'hoops': 3921, 'ummifying': 7992, 'associate': 1255, 'rip': 6505, 'uterus': 8105, 'pool': 5956, 'jacuzzi': 4250, 'x49': 8562, '09065989182': 257, 'txtstar': 7963, '2nights': 468, 'uve': 8110, 'wildest': 8421, 'aldrine': 1025, 'rtm': 6558, 'sources': 7116, 'unhappiness': 8022, 'necesity': 5294, 'witout': 8461, 'colleg': 2142, 'wth': 8550, 'functions': 3424, 'events': 3002, 'espe': 2979, 'irritated': 4206, '4wrd': 613, 'wthout': 8551, 'takecare': 7512, 'univ': 8032, 'rajas': 6240, 'burrito': 1777, 'disconnect': 2647, 'terrorist': 7608, 'confirmd': 2214, 'verified': 8150, 'cnn': 2111, 'ibn': 4023, 'stitch': 7278, 'trouser': 7904, '146tf150p': 346, 'cheetos': 1994, 'synced': 7489, 'shangela': 6805, 'hppnss': 3968, 'sorrow': 7098, 'goodfriend': 3582, 'passes': 5727, '08704439680': 94, 'poo': 5953, 'gloucesterroad': 3547, 'uup': 8108, 'ouch': 5617, 'stayed': 7249, 'forgiveness': 3320, 'fruit': 3404, 'stone': 7285, 'glo': 3543, '09058095107': 211, 's3xy': 6586, 'wlcome': 8471, 'eaten': 2837, 'timi': 7742, 'mila': 5022, 'age23': 985, 'blonde': 1584, 'mtalk': 5186, '69866': 683, '30pp': 498, '5free': 642, 'increments': 4111, 'help08718728876': 3827, 'fishrman': 3234, 'sack': 6591, 'stones': 7287, 'strtd': 7328, 'throwin': 7713, 'atlast': 1272, '1stone': 390, '08717895698': 154, 'mobstorequiz10ppm': 5105, 'physics': 5838, 'praveesh': 6026, 'delicious': 2521, 'salad': 6604, 'desert': 2553, 'beers': 1473, 'whore': 8403, 'funk': 3428, 'tones2u': 7809, 'twinks': 7949, 'scallies': 6662, 'skins': 6962, 'jocks': 4308, '08712466669': 126, 'nat': 5270, 'flood': 3265, 'beads': 1447, 'wishlist': 8452, 'section': 6714, 'nitro': 5372, 'sold': 7059, 'creative': 2334, 'reffering': 6348, 'getiing': 3508, 'weirdy': 8352, 'brownies': 1733, '09061701851': 225, 'k61': 4362, '12hours': 333, 'restrict': 6458, 'funeral': 3427, 'vivek': 8199, '74355': 708, 'tnc': 7774, 'brah': 1672, 'possession': 5978, 'greece': 3642, 'protect': 6142, 'sib': 6899, 'sensitive': 6755, 'passwords': 5732, 'recorded': 6331, 'someday': 7066, 'grandfather': 3623, 'blu': 1592, 'concert': 2204, 'november': 5429, '09061104276': 217, '75max': 712, 'yuou': 8656, 'spot': 7190, 'ipad': 4195, 'bunch': 1765, 'lotto': 4739, 'bird': 1542, 'purchases': 6179, 'authorise': 1304, '45pm': 578, 'gimmi': 3527, 'goss': 3596, 'ystrday': 8649, 'chile': 2019, 'subletting': 7357, 'ammae': 1075, 'steering': 7261, 'sleeps': 6979, 'rounder': 6543, 'required': 6428, 'lambu': 4497, 'ji': 4297, 'batchlor': 1416, 'zoom': 8669, '62220cncl': 663, 'stopcs': 7294, '08717890890': 153, 'cheese': 1992, 'tms': 7772, 'widelive': 8412, 'index': 4116, 'wml': 8473, '1b6a5ecef91ff9': 377, '37819': 520, 'true18': 7908, '0430': 17, 'jul': 4342, 'xafter': 8563, 'cst': 2366, 'chg': 2005, 'pure': 6180, 'hearted': 3804, 'enemies': 2919, 'smiley': 7017, 'gail': 3442, 'yaxxx': 8598, 'theoretically': 7663, 'hooked': 3920, 'formally': 3326, 'multimedia': 5202, 'hsbc': 3972, 'vague': 8116, 'accounting': 900, 'delayed': 2517, 'housing': 3957, 'agency': 986, 'renting': 6405, 'presents': 6054, 'nicky': 5353, 'gumby': 3688, 'alto18': 1059, 'wave': 8306, 'asp': 1249, '44345': 566, 'sized': 6954, 'tarpon': 7536, 'springs': 7197, 'cab': 1806, 'steps': 7263, 'limited': 4630, 'hf8': 3847, '09061702893': 227, '08719181259': 176, '26': 428, 'radiator': 6227, 'proper': 6134, 'tongued': 7813, 'shorts': 6866, 'qi': 6199, 'suddenly': 7382, 'flurries': 3275, 'melt': 4979, 'eek': 2859, 'born': 1632, 'real1': 6290, 'pushbutton': 6186, 'dontcha': 2718, 'babygoodbye': 1352, 'golddigger': 3570, 'webeburnin': 8327, 'perform': 5783, 'cards': 1869, 'rebooting': 6310, 'nigh': 5356, 'nooooooo': 5399, 'cable': 1808, 'outage': 5622, 'sos': 7108, 'playin': 5889, 'guoyang': 3689, 'rahul': 6232, 'dengra': 2532, 'antelope': 1123, 'toplay': 7830, 'fieldof': 3183, 'selfindependence': 6735, 'contention': 2242, 'gnarls': 3551, 'barkleys': 1398, 'borderline': 1628, 'until': 8052, '545': 640, 'nightnight': 5359, 'possibility': 5981, 'grooved': 3653, 'affairs': 962, 'along': 1050, 'mising': 5057, 'secured': 6717, 'unsecured': 8045, '195': 374, '6669': 673, 'lanre': 4511, 'fakeye': 3107, 'eckankar': 2843, '3000': 490, '09061743386': 228, 'heater': 3807, 'degrees': 2512, 'dodgey': 2688, '674': 674, 'seing': 6730, 'asssssholeeee': 1256, 'ceri': 1934, 'rebel': 6308, 'dreamz': 2759, 'buddy': 1751, 'blokes': 1583, '84484': 776, 'nationwide': 5276, 'newport': 5339, 'juliana': 4344, 'nachos': 5245, 'eta': 2985, 'dizzamn': 2669, 'suitemates': 7398, 'nimbomsons': 5365, 'continent': 2244, 'housewives': 3955, '0871750': 150, '77': 716, 'landlines': 4504, '087104711148': 107, 'emerging': 2904, 'fiend': 3184, 'impede': 4079, 'hesitant': 3842, '60': 655, '400thousad': 547, 'nose': 5412, 'essay': 2982, 'everywhere': 3016, 'tram': 7865, 'vic': 8162, 'coherently': 2126, 'triple': 7896, 'echo': 2842, 'gran': 3621, 'onlyfound': 5550, 'afew': 960, 'cusoon': 2398, 'honi': 3914, 'dial': 2585, 'bx526': 1801, 'university': 8033, 'southern': 7118, 'california': 1818, 'rayan': 6267, 'macleran': 4825, 'balls': 1377, 'olave': 5526, 'mandara': 4874, 'trishul': 7898, 'woo': 8493, 'hoo': 3916, 'panties': 5689, 'thout': 7705, '09066364311': 265, 'flatter': 3250, 'pints': 5861, 'carlin': 1881, 'literally': 4663, 'ciao': 2051, 'starve': 7239, 'impression': 4088, 'motivate': 5154, 'behind': 1485, 'darkness': 2444, 'wknd': 8469, 'yalrigu': 8589, 'heltini': 3832, 'iyo': 4240, 'kothi': 4466, 'uttered': 8107, 'trusting': 7913, 'noice': 5384, 'esaplanade': 2974, 'accessible': 889, '08709501522': 105, '139': 339, 'la3': 4481, '2wu': 484, 'occurs': 5482, 'prof': 6109, 'sem': 6741, 'student': 7335, 'enna': 2934, 'kalaachutaarama': 4369, 'coco': 2123, 'sporadically': 7185, '09064017305': 246, 'pobox75ldns7': 5924, 'tbs': 7553, 'persolvo': 5797, '38': 521, 'kath': 4385, 'manchester': 4871, 'burden': 1769, 'noworriesloans': 5434, '08717111821': 147, 'actual': 921, 'harder': 3754, 'nbme': 5286, 'sickness': 6902, 'villa': 8178, 'sathya': 6641, 'gam': 3449, 'smash': 7007, 'religiously': 6378, 'heroes': 3839, 'tips': 7748, '07973788240': 50, '08715203649': 138, 'dealing': 2473, 'muhommad': 5200, 'penny': 5775, 'doc': 2680, 'fiting': 3236, 'load': 4680, 'mj': 5078, 'unconvinced': 8006, 'elaborate': 2879, 'willpower': 8425, 'value': 8124, 'absence': 873, 'answerin': 1119, 'reasonable': 6304, 'evey': 3017, 'mnth': 5091, 'prin': 6075, 'gsoh': 3666, 'spam': 7128, 'gigolo': 3525, 'mens': 4987, 'oncall': 5539, 'mjzgroup': 5079, '08714342399': 130, '50rcvd': 629, 'ashwini': 1237, '08707500020': 98, 'ukp': 7985, '09061790125': 235, 'seem': 6724, 'thet': 7673, 'skinny': 6961, 'casting': 1899, 'elections': 2886, '116': 318, 'hlday': 3878, 'camp': 1841, 'amrca': 1081, 'serena': 6763, 'prescribed': 6049, 'kappa': 4379, 'meatballs': 4958, 'approve': 1173, 'panalam': 5681, 'spjanuary': 7166, 'fortune': 3331, 'allday': 1042, 'piss': 5863, 'perf': 5781, 'outsider': 5634, 'receipts': 6315, '98321561': 840, 'familiar': 3116, 'depression': 2547, 'infact': 4124, 'simpsons': 6924, 'band': 1380, 'shite': 6842, 'kip': 4434, 'hont': 3915, 'amanda': 1065, 'regard': 6359, 'renewing': 6402, 'upgrading': 8062, 'subject': 7356, 'nannys': 5264, 'puts': 6190, 'perspective': 5804, 'conveying': 2255, 'debating': 2480, 'wtlp': 8552, 'guessing': 3681, 'jb': 4274, 'florida': 3268, 'hidden': 3851, 'royal': 6549, 'tog': 7786, 'teams': 7565, 'swhrt': 7474, '0906346330': 240, '47': 579, 'po19': 5913, '2ez': 446, 'general': 3491, 'jetton': 4294, 'cmon': 2108, 'sticky': 7273, 'replies': 6417, 'lunsford': 4786, 'enjoying': 2932, '0796xxxxxx': 49, 'prizeawaiting': 6091, 'kfc': 4408, 'meals': 4948, 'gravy': 3634, '07008009200': 23, 'attended': 1282, 'mw': 5230, 'tuth': 7942, 'eviction': 3018, 'spiral': 7163, 'michael': 5014, 'riddance': 6489, 'suffers': 7387, 'raglan': 6231, 'edward': 2856, 'cricket': 2343, 'closeby': 2089, 'skye': 6967, 'bookedthe': 1619, 'hut': 4008, 'drastic': 2753, 'indicate': 4120, '3750': 519, 'garments': 3464, 'sez': 6787, 'arab': 1185, 'evry1': 3027, 'eshxxxxxxxxxxx': 2978, 'lay': 4542, 'bimbo': 1539, 'ugo': 7979, '3lions': 530, 'portege': 5969, 'm100': 4802, 'semiobscure': 6744, 'gprs': 3610, 'repeat': 6410, 'loosu': 4724, 'careless': 1877, 'freaking': 3355, 'myspace': 5239, 'logged': 4694, 'method': 5008, 'calculation': 1815, 'blur': 1597, 'clothes': 2095, 'jewelry': 4295, 'breaker': 1689, 'deluxe': 2527, 'features': 3151, 'graphics': 3628, 'bbdeluxe': 1430, 'lush': 4787, 'fumbling': 3421, '2find': 447, 'taunton': 7545, 'weekdays': 8340, 'haiz': 3715, 'nails': 5250, 'common': 2166, 'asia': 1238, 'greatest': 3639, 'courage': 2302, 'bear': 1448, 'defeat': 2504, 'stil': 7275, 'fucked': 3409, 'tobed': 7780, '430': 561, 'beauty': 1453, 'natalja': 5274, '440': 564, 'nat27081980': 5271, 'asthma': 1260, 'attack': 1278, 'ball': 1374, 'moving': 5169, 'spin': 7161, 'haiyoh': 3714, 'million': 5027, 'prsn': 6150, 'saves': 6652, 'sunlight': 7413, 'loss': 4731, 'audiitions': 1292, 'relocate': 6379, 'pocked': 5928, 'motivating': 5155, 'brison': 1715, 'spelled': 7151, 'caps': 1862, 'bullshit': 1764, 'less': 4588, 'motherfucker': 5153, 'kit': 4439, 'strip': 7321, '1013': 305, 'ig11': 4049, 'oja': 5514, '08712402578': 118, 'thesmszone': 7672, 'anonymous': 1112, 'masked': 4907, 'abuse': 880, 'woodland': 8494, 'avenue': 1317, 'somewhere': 7078, 'parish': 5708, 'magazine': 4838, 'billy': 1537, 'jogging': 4311, 'awww': 1332, 'useless': 8095, 'loo': 4712, 'ed': 2846, 'shelf': 6821, 'swollen': 7480, 'glands': 3540, 'previous': 6068, 'captain': 1863, 'bcaz': 1433, 'stu': 7331, 'truble': 7905, 'evone': 3023, 'hates': 3768, 'mokka': 5116, 'view': 8172, 'gays': 3475, 'dual': 2791, 'hostile': 3943, 'haircut': 3712, 'breezy': 1700, '09061744553': 232, 'polyh': 5947, '1apple': 376, '1tulsi': 392, 'leaf': 4557, '1lemon': 383, '1cup': 378, 'bone': 1612, 'problms': 6100, 'litres': 4664, 'watr': 8303, 'diseases': 2653, 'snd': 7037, 'lavender': 4539, 'manky': 4880, 'scouse': 6683, 'steve': 7268, 'travelling': 7881, 'inmind': 4139, 'recreation': 6337, 'epsilon': 2958, 'mesages': 4998, 'judgemental': 4340, 'fridays': 3378, 'waheeda': 8242, 'bot': 1636, 'notes': 5418, 'eventually': 3003, 'tolerance': 7796, 'hits': 3873, '0789xxxxxxx': 47, 'hellogorgeous': 3822, 'lst': 4770, 'nitw': 5374, 'texd': 7617, 'hopeu': 3930, '4ward': 612, 'jaz': 4272, '09058091870': 202, 'exorcism': 3052, 'emily': 2906, 'evry': 3026, 'emotion': 2907, 'dsn': 2789, 'prayrs': 6030, 'othrwise': 5614, 'ujhhhhhhh': 7983, 'sandiago': 6620, 'parantella': 5702, 'hugging': 3981, 'sweater': 7466, 'mango': 4878, 'massive': 4910, 'involved': 4191, 'landmark': 4505, 'bob': 1603, 'barry': 1404, '83738': 770, 'absolutly': 875, 'consent': 2228, 'forms': 3329, 'tonexs': 7811, 'renewed': 6401, 'clubzed': 2103, 'billing': 1534, 'polo': 5943, '373': 518, 'w1j': 8226, '6hl': 691, 'mathews': 4922, 'tait': 7508, 'edwards': 2857, 'anderson': 1093, 'haunt': 3771, 'promoting': 6127, 'crowd': 2352, '8000930705': 733, 'snowboarding': 7045, 'christmassy': 2047, 'recpt': 6336, 'baaaaaaaabe': 1346, 'ignoring': 4052, 'shola': 6853, 'academic': 883, 'sagamu': 6600, 'lautech': 4538, 'vital': 8196, 'completes': 2185, 'education': 2853, 'zealand': 8661, 'qet': 6198, 'browser': 1735, 'surf': 7439, 'subscribers': 7367, 'convinced': 2257, 'conversations': 2251, 'senses': 6753, 'overemphasise': 5644, 'headset': 3793, 'adp': 943, 'internal': 4170, 'extract': 3079, 'immed': 4074, 'skint': 6963, 'fancied': 3120, 'bevies': 1516, 'waz': 8311, 'othrs': 5613, 'spoon': 7183, 'watchng': 8298, 'comfey': 2157, 'quitting': 6218, 'least5times': 4564, 'wudn': 8554, 'coast': 2115, 'frequently': 3372, 'cupboard': 2390, 'route': 6545, '2mro': 463, 'floppy': 3267, 'snappy': 7035, 'risk': 6508, 'grasp': 3629, 'flavour': 3251, 'laready': 4517, 'denying': 2539, 'dom': 2711, 'ffffuuuuuuu': 3178, 'julianaland': 4345, 'oblivious': 5476, 'dehydrated': 2513, 'mapquest': 4884, 'dogwood': 2700, 'tiny': 7746, 'parking': 5712, 'suppose': 7432, 'archive': 1188, '08719839835': 179, 'mgs': 5011, '89123': 814, 'lengths': 4582, 'behalf': 1483, 'stunning': 7348, 'visa': 8190, 'gucci': 3672, 'sozi': 7121, 'culdnt': 2384, 'talkbut': 7520, 'wannatell': 8270, 'wenwecan': 8363, 'smsing': 7028, 'efficient': 2864, 'explicit': 3068, 'secs': 6713, '02073162414': 12, '15pm': 363, 'erutupalam': 2973, 'thandiyachu': 7633, 'invention': 4181, 'lyrics': 4801, 'nevr': 5335, 'unrecognized': 8043, 'somone': 7081, 'valuing': 8127, 'definitly': 2509, 'undrstnd': 8015, 'ger': 3504, 'toking': 7792, 'syd': 7484, 'khelate': 4410, 'kintu': 4432, 'opponenter': 5570, 'dhorte': 2583, 'lage': 4492, 'fried': 3380, 'spares': 7131, 'looovvve': 4721, 'warwick': 8284, 'tmw': 7773, 'canceled': 1849, 'havn': 3783, 'tops': 7833, 'grandma': 3624, 'parade': 5698, 'proze': 6149, 'norcorp': 5403, 'posting': 5989, '7cfca1a': 723, 'grumble': 3663, 'linear': 4636, 'algebra': 1033, 'decorating': 2494, 'wining': 8436, '946': 835, 'roomate': 6534, 'graduated': 3617, 'adjustable': 935, 'cooperative': 2265, 'allows': 1047, 'nottingham': 5425, '63miles': 668, '40mph': 553, 'clearly': 2079, 'thanku': 7639, 'guessed': 3678, '89938': 818, 'strings': 7320, '50ea': 621, 'otbox': 5609, '731': 707, 'la1': 4480, '7ws': 729, 'gain': 3444, 'brisk': 1714, 'walks': 8258, 'sexiest': 6782, 'dirtiest': 2636, '89070': 811, 'tellmiss': 7584, 'contribute': 2248, 'greatly': 3640, 'urgh': 8079, 'coach': 2114, 'smells': 7011, 'duvet': 2812, 'predictive': 6036, 'w8in': 8232, '4utxt': 610, '24th': 422, 'beverage': 1515, 'pist': 5865, 'surrender': 7446, 'symptoms': 7488, 'rdy': 6276, 'realise': 6291, 'backwards': 1359, 'abstract': 876, 'africa': 970, 'avin': 1318, 'chit': 2031, 'logon': 4699, '8883': 807, '4217': 558, 'w1a': 8225, '6zf': 701, '118p': 320, 'quiteamuzing': 6217, 'scool': 6675, 'probpop': 6102, 'cu': 2377, 'satthen': 6645, '4brekkie': 589, 'psxtra': 6155, 'lrg': 4766, 'portions': 5970, '1000call': 300, '09071512432': 276, '300603t': 492, 'callcost150ppmmobilesvary': 1824, 'rows': 6548, 'mnths': 5092, 'engagement': 2924, 'fixd': 3239, 'njan': 5376, 'vilikkam': 8176, 'sudn': 7383, 'maths': 4923, 'chapter': 1955, 'chop': 2039, 'noooooooo': 5400, '08718727870150ppm': 168, 'firsg': 3230, 'split': 7173, 'wasnt': 8288, 'heat': 3806, 'applyed': 1164, 'sumfing': 7404, '86888': 789, 'subscribe6gbp': 7364, '3hrs': 529, 'txtstop': 7964, 'hopeso': 3929, 'amnow': 1077, 'ithink': 4228, 'tonsolitusaswell': 7818, 'layin': 4543, 'bedreal': 1464, 'lotsof': 4737, 'hiphop': 3866, 'managed': 4869, 'oxygen': 5658, 'resort': 6444, 'roller': 6529, 'recorder': 6332, 'canname': 1854, 'capital': 1860, 'australia': 1303, 'mquiz': 5171, 'bottom': 1641, 'showr': 6882, 'acted': 912, 'upon': 8066, 'ceiling': 1921, 'presnts': 6057, 'bcz': 1443, 'mis': 5053, 'jeevithathile': 4280, 'irulinae': 4210, 'neekunna': 5308, 'prakasamanu': 6020, 'sneham': 7038, 'prakasam': 6019, 'ennal': 2935, 'mns': 5090, 'blowing': 1590, '7634': 714, '7684': 715, 'firmware': 3229, 'vijaykanth': 8174, 'anythiing': 1134, 'ripped': 6506, 'clubmoby': 2101, '08717509990': 152, 'keypad': 4405, 'btwn': 1747, 'decades': 2482, 'goverment': 3607, 'expects': 3058, 'loyal': 4764, 'customers': 2404, '09066380611': 271, 'spice': 7157, 'prasanth': 6024, 'ettans': 2989, '08718738002': 172, '48922': 585, 'appy': 1178, 'fizz': 3243, 'contains': 2239, 'genus': 3500, 'robinson': 6517, 'print': 6079, 'outs': 5632, 'soz': 7120, 'imat': 4069, 'mums': 5209, 'freinds': 3368, 'sometext': 7071, '07099833605': 27, '9280114': 830, 'chloe': 2033, 'wewa': 8378, '130': 337, 'iriver': 4203, '255': 426, '128': 332, 'bw': 1798, 'surly': 7442, '07808726822': 42, '9758': 838, 'dokey': 2706, 'mmmmmmm': 5088, 'snuggles': 7047, 'contented': 2241, 'whispers': 8397, 'error': 2968, 'healthy': 3797, '2bold': 439, 'scraped': 6684, 'barrel': 1402, 'misfits': 5056, 'sleepin': 6976, 'sections': 6715, 'clearer': 2077, 'peach': 5763, 'tasts': 7538, 'rayman': 6268, 'golf': 3573, 'activ8': 916, 'termsapply': 7603, 'minor': 5044, 'shindig': 6833, 'phonebook': 5828, 'rocking': 6520, 'ashes': 1235, 'shijutta': 6831, 'offense': 5494, 'dvg': 2814, 'vinobanagar': 8180, 'ovulate': 5648, '3wks': 541, 'woah': 8478, 'realising': 6293, 'orh': 5599, 'hides': 3853, 'secrets': 6712, 'n8': 5241, 'axel': 1334, 'akon': 1018, 'eyed': 3083, 'cashbin': 1894, 'canteen': 1858, 'stressfull': 7315, 'adds': 932, 'continued': 2246, 'president': 6055, '140': 341, '180': 370, 'pleasured': 5898, 'providing': 6147, 'assistance': 1254, 'whens': 8389, '1172': 319, 'built': 1761, 'lonlines': 4711, 'lotz': 4740, 'memories': 4984, 'gailxx': 3443, 'complacent': 2177, 'denis': 2533, 'mina': 5031, 'miwa': 5076, 'woulda': 8526, 'indeed': 4113, '09066649731from': 274, 'opposite': 5573, 'heavily': 3809, 'dolls': 2710, 'patrick': 5740, 'swayze': 7464, 'santa': 6625, '09077818151': 279, 'calls1': 1835, '50ppm': 628, '30s': 499, 'santacalling': 6626, 'miserable': 5055, 'quarter': 6204, 'fired': 3225, 'limping': 4633, 'aa': 853, '078498': 45, '08719180219': 174, 'oga': 5508, 'poorly': 5959, 'punishment': 6173, 'brb': 1684, 'kill': 4422, 'predicte': 6033, 'situations': 6950, 'loosing': 4723, 'smaller': 7003, 'capacity': 1859, 'videos': 8169, 'shsex': 6889, 'netun': 5325, 'fgkslpopw': 3180, 'fgkslpo': 3179, '0871277810710p': 127, 'defer': 2505, 'admission': 939, 'checkmate': 1985, 'chess': 2000, 'persian': 5796, 'phrase': 5836, 'shah': 6796, 'maat': 4816, 'rats': 6264, 'themes': 7659, 'photoshop': 5834, 'manageable': 4868, '08715203652': 139, '42810': 560, 'shoppin': 6856, 'increase': 4109, 'north': 5409, 'carolina': 1884, 'texas': 7616, 'gre': 3637, 'bomb': 1611, 'breathing': 1698, 'powerful': 6003, 'weapon': 8318, 'lovly': 4759, 'msgrcvd': 5180, 'customercare': 2403, '08718726270': 160, 'clas': 2065, 'lit': 4662, 'loooooool': 4720, 'couch': 2288, 'celebration': 1925, 'swashbuckling': 7460, 'terror': 7607, 'cruel': 2356, 'decent': 2484, 'joker': 4317, 'dip': 2629, 'gek1510': 3489, 'nuther': 5453, 'lyricalladie': 4800, '910': 828, 'hmmross': 3885, 'happiest': 3748, 'characters': 1957, 'differences': 2608, 'lists': 4661, 'antibiotic': 1127, 'abdomen': 860, 'gynae': 3698, 'infections': 4125, '6times': 699, 'exposed': 3071, 'chastity': 1969, 'device': 2574, 'beatings': 1450, 'uses': 8097, 'gut': 3691, 'wrenching': 8533, 'tallahassee': 7526, 'ou': 5616, 'taka': 7510, 'pobox202': 5919, 'nr31': 5435, '7zs': 730, '450pw': 576, 'ritten': 6511, 'fold': 3284, 'warner': 8281, '83118': 761, 'colin': 2134, 'farrell': 3129, 'swat': 7461, 'kiosk': 4433, 'mre': 5173, 'solihull': 7060, 'nhs': 5346, '2b': 438, 'terminated': 7601, 'inconvenience': 4106, 'dentists': 2537, 'henry': 3834, 'yards': 8595, 'bergkamp': 1505, 'margin': 4891, '78': 718, 'parent': 5705, 'snot': 7042, 'unintentional': 8027, 'nonetheless': 5396, 'hooch': 3917, 'toaday': 7778, 'splat': 7171, 'grazed': 3636, 'knees': 4445, 'deny': 2538, 'hearin': 3801, 'yah': 8587, 'torture': 7838, 'hopeing': 3927, 'sisters': 6942, 'sexychat': 6786, 'lips': 4651, 'congratulation': 2220, 'court': 2305, 'chapel': 1953, 'frontierville': 3402, 'mountain': 5159, 'deer': 2501, 'mailed': 4850, 'varma': 8131, 'secure': 6716, 'parties': 5717, 'farting': 3130, 'ortxt': 5604, 'select': 6731, 'trained': 7861, 'advisors': 957, 'dialling': 2586, '402': 548, 'woot': 8497, 'stuffing': 7346, 'ahhhh': 998, 'dining': 2625, 'experiencehttp': 3061, 'vouch4me': 8214, 'etlp': 2988, 'kaila': 4367, '09058094507': 205, 'donate': 2714, 'unicef': 8025, 'asian': 1239, 'tsunami': 7923, 'disaster': 2642, 'fund': 3425, '864233': 787, 'cme': 2107, 'hos': 3938, 'collapsed': 2136, 'cumming': 2388, 'jade': 4252, 'paul': 5743, 'barmed': 1399, 'thinkthis': 7686, 'dangerous': 2438, 'goldviking': 3572, '762': 713, 'rushing': 6579, 'coulda': 2293, 'phony': 5831, 'okday': 5517, 'buz': 1794, 'wedlunch': 8334, 'outsomewhere': 5635, 'adrink': 946, '2watershd': 480, 'fromwrk': 3401, 'bthere': 1745, 'petexxx': 5810, 'hmph': 3886, 'baller': 1375, 'punto': 6175, 'ayo': 1338, 'travelled': 7880, '125': 329, 'freeentry': 3361, 'xt': 8571, 'toyota': 7853, 'camry': 1843, 'olayiwola': 5527, 'mileage': 5023, 'landing': 4501, 'clover': 2097, 'achan': 903, 'amma': 1074, 'rencontre': 6399, 'mountains': 5160, '08714712412': 135, 'nìte': 5466, 'puppy': 6176, 'noise': 5385, 'sarasota': 6631, 'meg': 4970, '08715203685': 142, '4xx26': 614, '13': 336, 'crossing': 2351, 'deepest': 2500, 'darkest': 2443, '09094646631': 283, 'inconvenient': 4107, 'adsense': 948, 'approved': 1174, 'dudette': 2798, 'perumbavoor': 5806, 'stage': 7217, 'cherish': 1998, 'clarify': 2063, 'preponed': 6047, 'natalie': 5272, '165': 365, 'natalie2k9': 5273, 'younger': 8634, 'wallpaper': 8261, '08701213186': 82, 'liver': 4668, 'opener': 5562, 'guides': 3684, 'watched': 8294, 'loneliness': 4707, 'skyving': 6970, 'onwords': 5554, 'mtnl': 5192, 'mumbai': 5206, '83039': 758, '62735': 666, '450': 573, 'accommodationvouchers': 894, 'mustprovide': 5226, '15541': 362, 'rajitha': 6243, 'ranju': 6259, 'styles': 7351, 'tscs08714740323': 7921, '1winawk': 395, '50perweeksub': 624, 'slp': 6999, 'muah': 5194, '09066361921': 261, 'disagreeable': 2639, 'afterwards': 977, 'vivekanand': 8200, 'uawake': 7974, 'feellikw': 3161, 'justfound': 4356, 'aletter': 1029, 'thatmum': 7646, 'gotmarried': 3602, '4thnov': 607, 'ourbacks': 5619, 'fuckinnice': 3412, 'deviousbitch': 2576, 'rearrange': 6302, 'dormitory': 2727, 'astronomer': 1264, 'starer': 7230, 'election': 2885, 'recount': 6334, 'hitler': 3871, 'eleven': 2889, 'worms': 8512, 'suffering': 7386, 'dysentry': 2817, 'andre': 1094, 'virgil': 8186, 'gokila': 3568, 'shanil': 6807, 'exchanged': 3037, 'uncut': 8008, 'diamond': 2588, 'dino': 2627, 'kotees': 4465, 'panther': 5688, 'sugababes': 7389, 'zebra': 8662, 'badass': 1361, 'hoody': 3918, 'resent': 6433, 'queries': 6207, 'customersqueries': 2405, 'netvision': 5326, 'hassling': 3765, 'andres': 1095, 'haughaighgtujhyguj': 3769, 'fassyole': 3131, 'blacko': 1560, 'londn': 4705, '4eva': 591, 'responsibilities': 6451, '08715205273': 144, 'vco': 8138, 'humanities': 3988, 'reassurance': 6306, 'aslamalaikkum': 1247, 'tohar': 7788, 'beeen': 1467, 'muht': 5201, 'albi': 1022, 'mufti': 5199, 'mahfuuz': 4846, '078': 38, 'enufcredeit': 2951, 'tocall': 7781, 'ileave': 4059, 'treats': 7888, 'okors': 5523, 'ibored': 4024, 'adding': 930, 'zeros': 8664, 'savings': 6653, 'goigng': 3564, 'perfume': 5786, 'sday': 6697, 'grocers': 3652, 'pubs': 6165, 'frankie': 3349, 'bennys': 1504, 'changing': 1951, 'diapers': 2590, 'owed': 5652, 'unlike': 8038, 'patients': 5739, 'turkeys': 7937, 'helens': 3818, 'princes': 6077, 'unintentionally': 8028, 'garden': 3461, 'bulbs': 1762, 'seeds': 6720, 'scotsman': 6682, 'go2': 3555, 'notxt': 5426, 'wenever': 8361, 'stability': 7213, 'tranquility': 7866, 'vibrant': 8159, 'colourful': 2146, 'bawling': 1425, 'failure': 3102, 'failing': 3100, 'velusamy': 8147, 'facilities': 3091, 'karnan': 4381, 'bluray': 1598, 'salt': 6613, 'wounds': 8528, 'logging': 4695, 'geoenvironmental': 3501, 'implications': 4080, 'fuuuuck': 3435, 'salmon': 6611, 'uploaded': 8065, 'wrkin': 8538, 'ree': 6343, 'compensation': 2175, 'awkward': 1330, 'splash': 7169, 'leg': 4573, 'musta': 5224, 'overdid': 5642, 'telediscount': 7578, 'gastroenteritis': 3467, 'replace': 6413, 'reduce': 6342, 'limiting': 4631, 'illness': 4061, 'foned': 3295, 'chuck': 2048, 'port': 5967, 'step': 7262, 'stuffs': 7347, 'juswoke': 4359, 'boatin': 1602, 'docks': 2682, 'spinout': 7162, '08715203656': 140, '42049': 557, 'uworld': 8113, 'qbank': 6197, 'assessment': 1252, 'someonone': 7068, '09064015307': 244, 'tke': 7761, 'temales': 7589, 'finishd': 3218, '09061213237': 220, '177': 368, 'm227xy': 4804, 'dull': 2801, 'studies': 7338, 'anyones': 1132, 'treadmill': 7883, 'craigslist': 2319, 'absolutely': 874, 'swan': 7457, 'sall': 6610, 'hehe': 3814, 'shexy': 6827, 'lamp': 4498, 'foward': 3341, '09061790126': 236, 'misundrstud': 5072, '2u2': 479, 'genes': 3493, 'com1win150ppmx3age16subscription': 2150, 'resuming': 6465, 'reapply': 6301, 'treatin': 7887, 'treacle': 7882, 'mumhas': 5207, 'beendropping': 1470, 'theplace': 7665, 'adress': 944, 'favorite': 3145, 'oyster': 5660, 'sashimi': 6637, 'rumbling': 6571, 'marandratha': 4887, 'correctly': 2277, 'alaikkum': 1020, 'pride': 6073, 'respectful': 6446, 'heaven': 3808, 'pisces': 5862, 'aquarius': 1183, '2yrs': 487, 'steyn': 7270, 'wicket': 8409, 'neither': 5316, 'sterm': 7267, 'resolved': 6443, 'jam': 4254, 'hannaford': 3738, 'wheat': 8384, 'chex': 2002, 'grownup': 3661, 'costume': 2286, 'jerk': 4288, 'stink': 7277, 'follows': 3291, 'subsequent': 7372, 'openings': 5565, 'upcharge': 8056, 'guai': 3669, 'being': 1487, 'bottle': 1640, 'amused': 1085, 'astrology': 1263, 'slacking': 6972, 'mentor': 4992, 'percent': 5779, '09095350301': 285, 'erotic': 2966, 'ecstacy': 2844, 'dept': 2548, '08717507382': 151, 'coincidence': 2129, 'sane': 6621, 'helping': 3829, 'leading': 4555, '151': 360, 'pause': 5744, 'gr8prizes': 3614, '8800': 800, 'psp': 6154, 'spacebucks': 7124, '083': 69, '6089': 658, 'squeezed': 7205, 'maintaining': 4854, 'dreading': 2756, 'thou': 7700, 'suggestion': 7394, 'lands': 4506, 'helps': 3831, 'forgt': 3323, 'ajith': 1015, 'ooooooh': 5558, 'yoville': 8644, 'mega': 4971, 'asda': 1234, 'counts': 2299, 'officer': 5500, 'bffs': 1519, 'carly': 1883, 'seperated': 6760, '〨ud': 8674, 'brolly': 1724, 'franxx': 3350, 'prometazine': 6121, 'syrup': 7491, '5mls': 646, 'feed': 3156, 'shu': 6890, 'singapore': 6930, 'victoria': 8163, 'island': 4216, 'pocay': 5927, 'wocay': 8479, '2morrowxxxx': 462, 'broth': 1726, 'ramen': 6250, 'fowler': 3342, 'tats': 7541, 'flew': 3254, '09058094583': 207, 'attention': 1284, 'tix': 7759, 'fne': 3282, 'youdoing': 8631, 'worc': 8500, 'foregate': 3311, 'shrub': 6888, 'get4an18th': 3507, '32000': 506, 'legitimat': 4575, 'efreefone': 2865, 'pendent': 5772, 'toilet': 7789, 'stolen': 7282, 'cops': 2269, 'hu': 3975, 'navigate': 5284, 'through': 7711, 'choosing': 2038, 'require': 6427, 'guidance': 3682, 'chick': 2008, 'boobs': 1616, 'revealing': 6476, 'sparkling': 7133, 'breaks': 1693, '45': 572, '0121': 5, '2025050': 407, 'shortbreaks': 6862, 'org': 5596, 'gyno': 3699, 'belong': 1494, 'gamb': 3450, 'treasure': 7884, '820554ad0a1705572711': 752, '09050000332': 186, 'positive': 5977, 'negative': 5310, 'hmmmm': 3884, 'command': 2162, 'stressful': 7314, 'holby': 3895, '09064017295': 245, 'li': 4598, 'lecturer': 4570, 'repeating': 6411, 'yeovil': 8610, 'motor': 5157, 'rhode': 6485, 'bong': 1613, 'ofcourse': 5489, '2p': 471, '08448350055': 71, 'planettalkinstant': 5879, 'marvel': 4904, 'ultimate': 7987, 'spider': 7158, '83338': 764, '8ball': 820, 'tamilnadu': 7528, 'tip': 7747, '07808247860': 41, '08719899229': 181, '40411': 550, 'identification': 4039, 'limit': 4629, 'boundaries': 1643, 'endless': 2915, 'reassuring': 6307, 'young': 8633, 'referin': 6347, 'saibaba': 6601, 'colany': 2132, 'chic': 2007, 'declare': 2493, '49557': 587, 'disappointment': 2641, 'irritation': 4209, 'tantrum': 7531, 'compliments': 2189, 'system': 7492, 'adventuring': 953, 'chief': 2011, 'gsex': 3665, '2667': 429, 'wc1n': 8312, '3xx': 543, '3mobile': 534, 'chatlines': 1972, 'inclu': 4099, 'servs': 6772, 'l8er': 4475, 'bailiff': 1368, 'due': 2799, 'mouse': 5161, 'desk': 2557, 'childporn': 2016, 'jumpers': 4348, 'hat': 3766, 'belt': 1498, 'cribbs': 2342, 'spiritual': 7165, 'barring': 1403, 'sudden': 7381, 'influx': 4127, 'kane': 4376, 'shud': 6891, 'pshew': 6153, 'units': 8031, 'accent': 885, '4years': 615, 'dental': 2535, 'nmde': 5377, 'dump': 2803, 'heap': 3798, 'lowes': 4762, 'salesman': 6609, '087187272008': 165, 'now1': 5431, 'pity': 5866, 'suggestions': 7395, 'bitching': 1552}\n",
            "(5572, 8675)\n",
            "<class 'scipy.sparse.csr.csr_matrix'>\n",
            "[[0 0 0 ... 0 0 0]\n",
            " [0 0 0 ... 0 0 0]\n",
            " [0 0 0 ... 0 0 0]\n",
            " ...\n",
            " [0 0 0 ... 0 0 0]\n",
            " [0 0 0 ... 0 0 0]\n",
            " [0 0 0 ... 0 0 0]]\n"
          ],
          "name": "stdout"
        }
      ]
    },
    {
      "cell_type": "markdown",
      "metadata": {
        "_cell_guid": "205a78b4-b452-4a1a-8912-de897a798097",
        "_uuid": "35e5277996ce60e9e8725e20805b2a0d7d118764",
        "colab_type": "text",
        "id": "1EBvbbGAAMuv"
      },
      "source": [
        "We have created more than 8400 new features. The new feature $j$ in the row $i$ is equal to 1 if the word $w_{j}$ appears in the text example $i$. It is zero if not."
      ]
    },
    {
      "cell_type": "markdown",
      "metadata": {
        "_cell_guid": "448eda90-2493-46f0-a588-8e6e73b7e2d3",
        "_uuid": "1f0489faa50638217e4754ff0a8f26e5298752df",
        "colab_type": "text",
        "id": "4CMMOAGKAMuw"
      },
      "source": [
        "## **Predictive Analysis**"
      ]
    },
    {
      "cell_type": "markdown",
      "metadata": {
        "_cell_guid": "d1e8c9ef-588e-4708-8275-bfafe82c5cd8",
        "_uuid": "83edda58f114f466bf6cf6d1a278a1e5af08e651",
        "colab_type": "text",
        "id": "01YazDoiAMu0"
      },
      "source": [
        "First we transform the variable spam/non-spam into binary variable(Binary Classification), then we split our data set in training set and test set. "
      ]
    },
    {
      "cell_type": "code",
      "metadata": {
        "_cell_guid": "e5e2bee3-cdad-4ee6-9c59-f3a536195ed7",
        "_uuid": "ab65abc5fe63168bfea503db8e58e5ab03383a22",
        "colab_type": "code",
        "id": "KSDLnSDKAMu1",
        "colab": {
          "base_uri": "https://localhost:8080/",
          "height": 206
        },
        "outputId": "da2602d7-d2f1-4713-9ab6-975705b4e89b"
      },
      "source": [
        "\n",
        "data.head()"
      ],
      "execution_count": 91,
      "outputs": [
        {
          "output_type": "execute_result",
          "data": {
            "text/html": [
              "<div>\n",
              "<style scoped>\n",
              "    .dataframe tbody tr th:only-of-type {\n",
              "        vertical-align: middle;\n",
              "    }\n",
              "\n",
              "    .dataframe tbody tr th {\n",
              "        vertical-align: top;\n",
              "    }\n",
              "\n",
              "    .dataframe thead th {\n",
              "        text-align: right;\n",
              "    }\n",
              "</style>\n",
              "<table border=\"1\" class=\"dataframe\">\n",
              "  <thead>\n",
              "    <tr style=\"text-align: right;\">\n",
              "      <th></th>\n",
              "      <th>v1</th>\n",
              "      <th>v2</th>\n",
              "      <th>length</th>\n",
              "    </tr>\n",
              "  </thead>\n",
              "  <tbody>\n",
              "    <tr>\n",
              "      <th>0</th>\n",
              "      <td>ham</td>\n",
              "      <td>Go jurong point, crazy.. Available bugis n gre...</td>\n",
              "      <td>111</td>\n",
              "    </tr>\n",
              "    <tr>\n",
              "      <th>1</th>\n",
              "      <td>ham</td>\n",
              "      <td>Ok lar... Joking wif u oni...</td>\n",
              "      <td>29</td>\n",
              "    </tr>\n",
              "    <tr>\n",
              "      <th>2</th>\n",
              "      <td>spam</td>\n",
              "      <td>Free entry 2 wkly comp win FA Cup final tkts 2...</td>\n",
              "      <td>155</td>\n",
              "    </tr>\n",
              "    <tr>\n",
              "      <th>3</th>\n",
              "      <td>ham</td>\n",
              "      <td>U dun say early hor... U c say...</td>\n",
              "      <td>49</td>\n",
              "    </tr>\n",
              "    <tr>\n",
              "      <th>4</th>\n",
              "      <td>ham</td>\n",
              "      <td>Nah I don't think goes usf, lives</td>\n",
              "      <td>61</td>\n",
              "    </tr>\n",
              "  </tbody>\n",
              "</table>\n",
              "</div>"
            ],
            "text/plain": [
              "     v1                                                 v2  length\n",
              "0   ham  Go jurong point, crazy.. Available bugis n gre...     111\n",
              "1   ham                      Ok lar... Joking wif u oni...      29\n",
              "2  spam  Free entry 2 wkly comp win FA Cup final tkts 2...     155\n",
              "3   ham                  U dun say early hor... U c say...      49\n",
              "4   ham                  Nah I don't think goes usf, lives      61"
            ]
          },
          "metadata": {
            "tags": []
          },
          "execution_count": 91
        }
      ]
    },
    {
      "cell_type": "code",
      "metadata": {
        "id": "LOdef8jpFxgR",
        "colab_type": "code",
        "colab": {
          "base_uri": "https://localhost:8080/",
          "height": 206
        },
        "outputId": "e57787bd-a40c-4d75-94d0-09fb8f942655"
      },
      "source": [
        "data['label_num']=data.v1.map({'ham':0,'spam':1})\n",
        "data.head()"
      ],
      "execution_count": 92,
      "outputs": [
        {
          "output_type": "execute_result",
          "data": {
            "text/html": [
              "<div>\n",
              "<style scoped>\n",
              "    .dataframe tbody tr th:only-of-type {\n",
              "        vertical-align: middle;\n",
              "    }\n",
              "\n",
              "    .dataframe tbody tr th {\n",
              "        vertical-align: top;\n",
              "    }\n",
              "\n",
              "    .dataframe thead th {\n",
              "        text-align: right;\n",
              "    }\n",
              "</style>\n",
              "<table border=\"1\" class=\"dataframe\">\n",
              "  <thead>\n",
              "    <tr style=\"text-align: right;\">\n",
              "      <th></th>\n",
              "      <th>v1</th>\n",
              "      <th>v2</th>\n",
              "      <th>length</th>\n",
              "      <th>label_num</th>\n",
              "    </tr>\n",
              "  </thead>\n",
              "  <tbody>\n",
              "    <tr>\n",
              "      <th>0</th>\n",
              "      <td>ham</td>\n",
              "      <td>Go jurong point, crazy.. Available bugis n gre...</td>\n",
              "      <td>111</td>\n",
              "      <td>0</td>\n",
              "    </tr>\n",
              "    <tr>\n",
              "      <th>1</th>\n",
              "      <td>ham</td>\n",
              "      <td>Ok lar... Joking wif u oni...</td>\n",
              "      <td>29</td>\n",
              "      <td>0</td>\n",
              "    </tr>\n",
              "    <tr>\n",
              "      <th>2</th>\n",
              "      <td>spam</td>\n",
              "      <td>Free entry 2 wkly comp win FA Cup final tkts 2...</td>\n",
              "      <td>155</td>\n",
              "      <td>1</td>\n",
              "    </tr>\n",
              "    <tr>\n",
              "      <th>3</th>\n",
              "      <td>ham</td>\n",
              "      <td>U dun say early hor... U c say...</td>\n",
              "      <td>49</td>\n",
              "      <td>0</td>\n",
              "    </tr>\n",
              "    <tr>\n",
              "      <th>4</th>\n",
              "      <td>ham</td>\n",
              "      <td>Nah I don't think goes usf, lives</td>\n",
              "      <td>61</td>\n",
              "      <td>0</td>\n",
              "    </tr>\n",
              "  </tbody>\n",
              "</table>\n",
              "</div>"
            ],
            "text/plain": [
              "     v1                                                 v2  length  label_num\n",
              "0   ham  Go jurong point, crazy.. Available bugis n gre...     111          0\n",
              "1   ham                      Ok lar... Joking wif u oni...      29          0\n",
              "2  spam  Free entry 2 wkly comp win FA Cup final tkts 2...     155          1\n",
              "3   ham                  U dun say early hor... U c say...      49          0\n",
              "4   ham                  Nah I don't think goes usf, lives      61          0"
            ]
          },
          "metadata": {
            "tags": []
          },
          "execution_count": 92
        }
      ]
    },
    {
      "cell_type": "markdown",
      "metadata": {
        "id": "5JR9UXHRMcWS",
        "colab_type": "text"
      },
      "source": [
        "**train-test split**\n"
      ]
    },
    {
      "cell_type": "code",
      "metadata": {
        "id": "BzB0NbZdMcWT",
        "colab_type": "code",
        "colab": {
          "base_uri": "https://localhost:8080/",
          "height": 34
        },
        "outputId": "6e8a2122-5a2d-40ec-bb6c-5f7dec505e56"
      },
      "source": [
        "X_train, X_test, y_train, y_test = model_selection.train_test_split(X, data['label_num'], test_size=0.33, random_state=42)\n",
        "print([np.shape(X_train), np.shape(X_test)])"
      ],
      "execution_count": 93,
      "outputs": [
        {
          "output_type": "stream",
          "text": [
            "[(3733, 8675), (1839, 8675)]\n"
          ],
          "name": "stdout"
        }
      ]
    },
    {
      "cell_type": "code",
      "metadata": {
        "id": "yAYF9zxoB4YT",
        "colab_type": "code",
        "colab": {
          "base_uri": "https://localhost:8080/",
          "height": 121
        },
        "outputId": "754ddc6b-4a8c-4247-c7be-69a77676cdf4"
      },
      "source": [
        "print(y_train[:5])"
      ],
      "execution_count": 94,
      "outputs": [
        {
          "output_type": "stream",
          "text": [
            "3235    0\n",
            "945     0\n",
            "5319    0\n",
            "5528    0\n",
            "247     0\n",
            "Name: label_num, dtype: int64\n"
          ],
          "name": "stdout"
        }
      ]
    },
    {
      "cell_type": "code",
      "metadata": {
        "id": "TSku_sVQA42w",
        "colab_type": "code",
        "colab": {}
      },
      "source": [
        "from sklearn.naive_bayes import MultinomialNB,GaussianNB\n",
        "from sklearn.svm import SVC\n",
        "from sklearn.linear_model import LogisticRegression\n",
        "from sklearn.ensemble import RandomForestClassifier\n",
        "from sklearn.ensemble import AdaBoostClassifier\n",
        "from sklearn.metrics import accuracy_score\n",
        "from sklearn.metrics import precision_score\n",
        "from sklearn.metrics import recall_score\n",
        "from sklearn.metrics import f1_score\n"
      ],
      "execution_count": 0,
      "outputs": []
    },
    {
      "cell_type": "code",
      "metadata": {
        "id": "XSGv7Htt9QY9",
        "colab_type": "code",
        "colab": {}
      },
      "source": [
        "#Loading all classifier\n",
        "svc = SVC(kernel = 'linear')\n",
        "mnb = MultinomialNB(alpha =0.2)\n",
        "gnb  = GaussianNB()\n",
        "lr = LogisticRegression(solver='liblinear', penalty='l1')\n",
        "rfc = RandomForestClassifier(n_estimators=100,random_state=11)\n",
        "abc = AdaBoostClassifier(n_estimators =100,random_state=11)"
      ],
      "execution_count": 0,
      "outputs": []
    },
    {
      "cell_type": "code",
      "metadata": {
        "id": "qZ_qY4oH9QZF",
        "colab_type": "code",
        "colab": {}
      },
      "source": [
        "#defining functions for training and testing data\n",
        "\n",
        "def training(clf,X_train,y_train):\n",
        "    clf.fit(X_train,y_train)\n",
        "    \n",
        "#function for predicting labels\n",
        "\n",
        "def predict(clf,X_test):\n",
        "    return clf.predict(X_test)"
      ],
      "execution_count": 0,
      "outputs": []
    },
    {
      "cell_type": "code",
      "metadata": {
        "id": "mVJ3IWoI9QZL",
        "colab_type": "code",
        "colab": {}
      },
      "source": [
        "#defining a dictionary of classifier\n",
        "classifier={'SVM': svc , 'MultinomialNB': mnb,'GaussianNB': gnb,'logistic': lr,'RandomForest': rfc,'Adaboost': abc}"
      ],
      "execution_count": 0,
      "outputs": []
    },
    {
      "cell_type": "code",
      "metadata": {
        "id": "tjUhuJO09QZU",
        "colab_type": "code",
        "colab": {}
      },
      "source": [
        "#predict and storing score of each classifier\n",
        "score = []\n",
        "for n,c in classifier.items():\n",
        "    training(c,X_train.toarray(),y_train)\n",
        "    pred = predict(c,X_test.toarray())\n",
        "    score.append((n,accuracy_score(y_test,pred),precision_score(y_test,pred),recall_score(y_test,pred),f1_score(y_test,pred)))\n"
      ],
      "execution_count": 0,
      "outputs": []
    },
    {
      "cell_type": "code",
      "metadata": {
        "id": "WtwdyRTBIOkw",
        "colab_type": "code",
        "colab": {
          "base_uri": "https://localhost:8080/",
          "height": 54
        },
        "outputId": "1e6a3dad-e7fc-4e45-f796-2f0bb1179b24"
      },
      "source": [
        "print(score)"
      ],
      "execution_count": 138,
      "outputs": [
        {
          "output_type": "stream",
          "text": [
            "[('SVM', 0.9891245241979336, 0.9956140350877193, 0.9227642276422764, 0.9578059071729957), ('MultinomialNB', 0.9804241435562806, 0.8917910447761194, 0.9715447154471545, 0.9299610894941633), ('GaussianNB', 0.9053833605220228, 0.5932642487046632, 0.9308943089430894, 0.7246835443037974), ('logistic', 0.9809679173463839, 0.9606986899563319, 0.8943089430894309, 0.9263157894736842), ('RandomForest', 0.977705274605764, 1.0, 0.8333333333333334, 0.9090909090909091), ('Adaboost', 0.9766177270255574, 0.9432314410480349, 0.8780487804878049, 0.9094736842105263)]\n"
          ],
          "name": "stdout"
        }
      ]
    },
    {
      "cell_type": "code",
      "metadata": {
        "id": "7NGewwg99QZZ",
        "colab_type": "code",
        "outputId": "6c8a66a3-b142-4385-c71f-7da47d576696",
        "colab": {
          "base_uri": "https://localhost:8080/",
          "height": 238
        }
      },
      "source": [
        "score_df=pd.DataFrame(score,columns=['classifier','acc','precision','recall','f1_score'])\n",
        "#Adding accuracy column\n",
        "score_df['Accuracy (%)']=score_df['acc']*100\n",
        "score_df"
      ],
      "execution_count": 139,
      "outputs": [
        {
          "output_type": "execute_result",
          "data": {
            "text/html": [
              "<div>\n",
              "<style scoped>\n",
              "    .dataframe tbody tr th:only-of-type {\n",
              "        vertical-align: middle;\n",
              "    }\n",
              "\n",
              "    .dataframe tbody tr th {\n",
              "        vertical-align: top;\n",
              "    }\n",
              "\n",
              "    .dataframe thead th {\n",
              "        text-align: right;\n",
              "    }\n",
              "</style>\n",
              "<table border=\"1\" class=\"dataframe\">\n",
              "  <thead>\n",
              "    <tr style=\"text-align: right;\">\n",
              "      <th></th>\n",
              "      <th>classifier</th>\n",
              "      <th>acc</th>\n",
              "      <th>precision</th>\n",
              "      <th>recall</th>\n",
              "      <th>f1_score</th>\n",
              "      <th>Accuracy (%)</th>\n",
              "    </tr>\n",
              "  </thead>\n",
              "  <tbody>\n",
              "    <tr>\n",
              "      <th>0</th>\n",
              "      <td>SVM</td>\n",
              "      <td>0.989125</td>\n",
              "      <td>0.995614</td>\n",
              "      <td>0.922764</td>\n",
              "      <td>0.957806</td>\n",
              "      <td>98.912452</td>\n",
              "    </tr>\n",
              "    <tr>\n",
              "      <th>1</th>\n",
              "      <td>MultinomialNB</td>\n",
              "      <td>0.980424</td>\n",
              "      <td>0.891791</td>\n",
              "      <td>0.971545</td>\n",
              "      <td>0.929961</td>\n",
              "      <td>98.042414</td>\n",
              "    </tr>\n",
              "    <tr>\n",
              "      <th>2</th>\n",
              "      <td>GaussianNB</td>\n",
              "      <td>0.905383</td>\n",
              "      <td>0.593264</td>\n",
              "      <td>0.930894</td>\n",
              "      <td>0.724684</td>\n",
              "      <td>90.538336</td>\n",
              "    </tr>\n",
              "    <tr>\n",
              "      <th>3</th>\n",
              "      <td>logistic</td>\n",
              "      <td>0.980968</td>\n",
              "      <td>0.960699</td>\n",
              "      <td>0.894309</td>\n",
              "      <td>0.926316</td>\n",
              "      <td>98.096792</td>\n",
              "    </tr>\n",
              "    <tr>\n",
              "      <th>4</th>\n",
              "      <td>RandomForest</td>\n",
              "      <td>0.977705</td>\n",
              "      <td>1.000000</td>\n",
              "      <td>0.833333</td>\n",
              "      <td>0.909091</td>\n",
              "      <td>97.770527</td>\n",
              "    </tr>\n",
              "    <tr>\n",
              "      <th>5</th>\n",
              "      <td>Adaboost</td>\n",
              "      <td>0.976618</td>\n",
              "      <td>0.943231</td>\n",
              "      <td>0.878049</td>\n",
              "      <td>0.909474</td>\n",
              "      <td>97.661773</td>\n",
              "    </tr>\n",
              "  </tbody>\n",
              "</table>\n",
              "</div>"
            ],
            "text/plain": [
              "      classifier       acc  precision    recall  f1_score  Accuracy (%)\n",
              "0            SVM  0.989125   0.995614  0.922764  0.957806     98.912452\n",
              "1  MultinomialNB  0.980424   0.891791  0.971545  0.929961     98.042414\n",
              "2     GaussianNB  0.905383   0.593264  0.930894  0.724684     90.538336\n",
              "3       logistic  0.980968   0.960699  0.894309  0.926316     98.096792\n",
              "4   RandomForest  0.977705   1.000000  0.833333  0.909091     97.770527\n",
              "5       Adaboost  0.976618   0.943231  0.878049  0.909474     97.661773"
            ]
          },
          "metadata": {
            "tags": []
          },
          "execution_count": 139
        }
      ]
    },
    {
      "cell_type": "code",
      "metadata": {
        "id": "v6odJY-FAob_",
        "colab_type": "code",
        "colab": {}
      },
      "source": [
        "# Extra : You can also use GridSearch for fine tuning the models."
      ],
      "execution_count": 0,
      "outputs": []
    },
    {
      "cell_type": "markdown",
      "metadata": {
        "_cell_guid": "08cb6d81-fb1d-4e11-95a6-7922d19d082b",
        "_uuid": "790cff4e431937d762bbe8db39911bf0d87dc53d",
        "colab_type": "text",
        "id": "Sr0ufnXHAMwg"
      },
      "source": [
        "Between these models with the highest possible precision, we are going to select the one which has more test accuracy. Clearly SVM is a WINNER"
      ]
    },
    {
      "cell_type": "markdown",
      "metadata": {
        "_cell_guid": "d41fbc97-15f5-4963-9d5f-1452b2efe7ab",
        "_uuid": "dd004721e1b6171488e1acf4c2a14235fc7f9700",
        "colab_type": "text",
        "id": "iTTqvFoYAMwp"
      },
      "source": [
        "#### Confusion matrix with support vector machine classifier."
      ]
    },
    {
      "cell_type": "code",
      "metadata": {
        "_cell_guid": "bf03b698-42e2-407f-a3da-dcc4acc36221",
        "_uuid": "77005bd9a0fd6de323ada9206468c0598fa9c476",
        "colab_type": "code",
        "id": "lq8k7nEeAMwr",
        "colab": {
          "base_uri": "https://localhost:8080/",
          "height": 112
        },
        "outputId": "dfb8ca34-073e-4167-d03d-2aff069c82aa"
      },
      "source": [
        "m_confusion_test = metrics.confusion_matrix(y_test, svc.predict(X_test.toarray()))\n",
        "pd.DataFrame(data = m_confusion_test, columns = ['Predicted 0(ham)', 'Predicted 1(spam)'],\n",
        "            index = ['Actual 0(ham)', 'Actual 1(spam)'])"
      ],
      "execution_count": 141,
      "outputs": [
        {
          "output_type": "execute_result",
          "data": {
            "text/html": [
              "<div>\n",
              "<style scoped>\n",
              "    .dataframe tbody tr th:only-of-type {\n",
              "        vertical-align: middle;\n",
              "    }\n",
              "\n",
              "    .dataframe tbody tr th {\n",
              "        vertical-align: top;\n",
              "    }\n",
              "\n",
              "    .dataframe thead th {\n",
              "        text-align: right;\n",
              "    }\n",
              "</style>\n",
              "<table border=\"1\" class=\"dataframe\">\n",
              "  <thead>\n",
              "    <tr style=\"text-align: right;\">\n",
              "      <th></th>\n",
              "      <th>Predicted 0(ham)</th>\n",
              "      <th>Predicted 1(spam)</th>\n",
              "    </tr>\n",
              "  </thead>\n",
              "  <tbody>\n",
              "    <tr>\n",
              "      <th>Actual 0(ham)</th>\n",
              "      <td>1592</td>\n",
              "      <td>1</td>\n",
              "    </tr>\n",
              "    <tr>\n",
              "      <th>Actual 1(spam)</th>\n",
              "      <td>19</td>\n",
              "      <td>227</td>\n",
              "    </tr>\n",
              "  </tbody>\n",
              "</table>\n",
              "</div>"
            ],
            "text/plain": [
              "                Predicted 0(ham)  Predicted 1(spam)\n",
              "Actual 0(ham)               1592                  1\n",
              "Actual 1(spam)                19                227"
            ]
          },
          "metadata": {
            "tags": []
          },
          "execution_count": 141
        }
      ]
    },
    {
      "cell_type": "markdown",
      "metadata": {
        "_cell_guid": "44c24499-7357-41f3-af6f-2d05f2b988b4",
        "_uuid": "5190739594c1136056c12e2539889e38a9827641",
        "colab_type": "text",
        "id": "WYyv7OE2AMwy"
      },
      "source": [
        "#### We misclassify 19 spam as non-spam messages whereas only 1 ham(non-spam) message is misclassified."
      ]
    },
    {
      "cell_type": "markdown",
      "metadata": {
        "_cell_guid": "8535b776-3be3-45de-b17f-d2ca39ee3036",
        "_uuid": "1fb3ac434f7fd2b82cfb11e67cef5f9a369046cf",
        "colab_type": "text",
        "id": "SkvWIqZOAMwz"
      },
      "source": [
        "## Conclusion"
      ]
    },
    {
      "cell_type": "markdown",
      "metadata": {
        "_cell_guid": "4e7d0e4d-52a7-4cba-b5f2-4fe363a8db26",
        "_uuid": "d338aab6355df361ab8445d67e6b76bbcd5770b4",
        "colab_type": "text",
        "id": "Jh_I6Vo_AMw1"
      },
      "source": [
        "**The best model found is support vector machine with 98.9% validation accuracy.** <p>\n",
        "**It classifies 99.5% non-spam message correctly (Model precision)** <p> \n",
        "**It classifies the 92.2% of spam messages correctly (Model recall)**<p>"
      ]
    },
    {
      "cell_type": "code",
      "metadata": {
        "id": "Jk3SX02iTilq",
        "colab_type": "code",
        "colab": {}
      },
      "source": [
        ""
      ],
      "execution_count": 0,
      "outputs": []
    }
  ]
}