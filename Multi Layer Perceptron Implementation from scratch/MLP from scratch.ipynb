{
 "cells": [
  {
   "cell_type": "markdown",
   "metadata": {},
   "source": [
    "# Building A Multilayer Perceptron (from Scratch)\n",
    "## Load in necessary packages\n",
    "These are the packages that I will be using within this Neural Network model."
   ]
  },
  {
   "cell_type": "code",
   "execution_count": 6,
   "metadata": {},
   "outputs": [],
   "source": [
    "import numpy as np\n",
    "import pandas as pd\n",
    "import requests\n",
    "from sklearn.model_selection import train_test_split\n",
    "import matplotlib.pyplot as plt\n",
    "from numpy import array\n",
    "from numpy import argmax\n",
    "from sklearn.preprocessing import LabelEncoder\n",
    "from sklearn.preprocessing import OneHotEncoder\n",
    "import seaborn as sns\n",
    "%matplotlib inline\n"
   ]
  },
  {
   "cell_type": "markdown",
   "metadata": {},
   "source": [
    "\n",
    "## Establish and modify input parameters\n",
    "Modify the parameters to correlate with the input dataset."
   ]
  },
  {
   "cell_type": "code",
   "execution_count": 7,
   "metadata": {},
   "outputs": [],
   "source": [
    "# load the dataset\n",
    "iris=pd.read_csv('IRIS.csv')\n",
    "iris.head()"
   ]
  },
  {
   "cell_type": "code",
   "execution_count": 8,
   "metadata": {},
   "outputs": [
    {
     "data": {
      "text/html": [
       "<div>\n",
       "<style scoped>\n",
       "    .dataframe tbody tr th:only-of-type {\n",
       "        vertical-align: middle;\n",
       "    }\n",
       "\n",
       "    .dataframe tbody tr th {\n",
       "        vertical-align: top;\n",
       "    }\n",
       "\n",
       "    .dataframe thead th {\n",
       "        text-align: right;\n",
       "    }\n",
       "</style>\n",
       "<table border=\"1\" class=\"dataframe\">\n",
       "  <thead>\n",
       "    <tr style=\"text-align: right;\">\n",
       "      <th></th>\n",
       "      <th>sepal_length</th>\n",
       "      <th>sepal_width</th>\n",
       "      <th>petal_length</th>\n",
       "      <th>petal_width</th>\n",
       "      <th>species</th>\n",
       "    </tr>\n",
       "  </thead>\n",
       "  <tbody>\n",
       "    <tr>\n",
       "      <th>0</th>\n",
       "      <td>5.1</td>\n",
       "      <td>3.5</td>\n",
       "      <td>1.4</td>\n",
       "      <td>0.2</td>\n",
       "      <td>Iris-setosa</td>\n",
       "    </tr>\n",
       "    <tr>\n",
       "      <th>1</th>\n",
       "      <td>4.9</td>\n",
       "      <td>3.0</td>\n",
       "      <td>1.4</td>\n",
       "      <td>0.2</td>\n",
       "      <td>Iris-setosa</td>\n",
       "    </tr>\n",
       "    <tr>\n",
       "      <th>2</th>\n",
       "      <td>4.7</td>\n",
       "      <td>3.2</td>\n",
       "      <td>1.3</td>\n",
       "      <td>0.2</td>\n",
       "      <td>Iris-setosa</td>\n",
       "    </tr>\n",
       "    <tr>\n",
       "      <th>3</th>\n",
       "      <td>4.6</td>\n",
       "      <td>3.1</td>\n",
       "      <td>1.5</td>\n",
       "      <td>0.2</td>\n",
       "      <td>Iris-setosa</td>\n",
       "    </tr>\n",
       "    <tr>\n",
       "      <th>4</th>\n",
       "      <td>5.0</td>\n",
       "      <td>3.6</td>\n",
       "      <td>1.4</td>\n",
       "      <td>0.2</td>\n",
       "      <td>Iris-setosa</td>\n",
       "    </tr>\n",
       "  </tbody>\n",
       "</table>\n",
       "</div>"
      ],
      "text/plain": [
       "   sepal_length  sepal_width  petal_length  petal_width      species\n",
       "0           5.1          3.5           1.4          0.2  Iris-setosa\n",
       "1           4.9          3.0           1.4          0.2  Iris-setosa\n",
       "2           4.7          3.2           1.3          0.2  Iris-setosa\n",
       "3           4.6          3.1           1.5          0.2  Iris-setosa\n",
       "4           5.0          3.6           1.4          0.2  Iris-setosa"
      ]
     },
     "execution_count": 8,
     "metadata": {},
     "output_type": "execute_result"
    }
   ],
   "source": []
  },
  {
   "cell_type": "code",
   "execution_count": 37,
   "metadata": {},
   "outputs": [],
   "source": [
    "# Split Dataset up into feature and label vectors\n",
    "X = iris.iloc[:,0:3]\n",
    "y = iris.iloc[:,4]\n",
    "\n",
    "# learning rate and initial lambda initialization\n",
    "lr = .001\n",
    "init_lam = .01\n",
    "\n",
    "# modify the epochNum, or number of iterations that our network runs\n",
    "epochNum = 100000"
   ]
  },
  {
   "cell_type": "markdown",
   "metadata": {},
   "source": [
    "## Pre-Processing\n",
    "Pre-process the data so that it can smoothly run through the Multilayer Perceptron.\n",
    "Process includes:\n",
    "1. Establishing numerical values to the label vector (y) using Sklearn's One Hot Encoder. The One Hot encoding provides a binarization of data so that the neural network does not assume a heirarchy between the classes.\n",
    "\n",
    "2. Split the data into training and testing sets for both the feature vector and label vector.\n",
    "\n",
    "3. Create total number variables for feature and label vectors in order to calculate random initial weights and biases.\n",
    "\n",
    "4. Create initial weights and biases as a starting point for the neural network. We'll need a starting point for the weights and biases so that the forward propogation process can begin with these initial values. The values will later be optimized through the backpropogation process (that is where the learning takes place)."
   ]
  },
  {
   "cell_type": "code",
   "execution_count": 38,
   "metadata": {},
   "outputs": [],
   "source": [
    "# Use Sci-Kit's one-hot encoder to transform the classes into numerical values\n",
    "# to feed into our multilayer perceptron\n",
    "numVal = array(y)\n",
    "\n",
    "# integer encode\n",
    "label_encoder = LabelEncoder()\n",
    "integer_encoded = label_encoder.fit_transform(numVal)\n",
    "\n",
    "# encode from integer to binary\n",
    "onehot_encoder = OneHotEncoder(sparse=False)\n",
    "integer_encoded = integer_encoded.reshape(len(integer_encoded), 1)\n",
    "onehot_encoded = onehot_encoder.fit_transform(integer_encoded)\n",
    "\n",
    "# splitting up training and testing data into appropriate vectors for initial \n",
    "# group\n",
    "X_train, X_test, y_train, y_test = train_test_split(X, onehot_encoded)\n",
    "\n",
    "# establish the number of labels and features\n",
    "num_labels = y_train.shape[1]\n",
    "num_features = X_train.shape[1]\n",
    "\n",
    "# set size of hidden layer\n",
    "hidden_nodes = 3 * len(X_train)\n",
    "\n",
    "# establish the arrays of weights and biases\n",
    "w1 = np.random.normal(0, 1, [num_features, hidden_nodes]) \n",
    "w2 = np.random.normal(0, 1, [hidden_nodes, num_labels]) \n",
    "\n",
    "b1 = np.zeros((1, hidden_nodes))\n",
    "b2 = np.zeros((1, num_labels))"
   ]
  },
  {
   "cell_type": "markdown",
   "metadata": {},
   "source": [
    "## Functions for the neural network\n",
    "These functions include:\n",
    "\n",
    "### * relu_activation -->**\n",
    "I have chosen the relu activation function as it has a simple implementation and is often very accurate as it solves the vanishing gradient issue with other activation functions. It simply takes the max of 0 and the input vector x. (i.e. max(x, 0))\n",
    "\n",
    "### * softmax -->\n",
    "The relu activation function only works when used as an activation function on the hidden layers of a neural network, therefore I have chosen to use the softmax activation function for the output layer. The softmax function conveniently places the output values within the range [0, 1]. Since all the probabilities that will go towards the output layer will equal 1, the softmax activation function will choose the classification with the highest probability. Easy as that!\n",
    "\n",
    "### * forward -->\n",
    "The neural network will feed forward the input data. The data will be computed at each layer using f(x) = wx + b function as w = weight values, x is input values, and b is the bias of the layer. Then after that value is calculated at each layer, it will be put through the layer's associated activation function to keep moving forward through the neural network.\n",
    "\n",
    "### * backprop -->\n",
    "This is the step of the process where the neural network learns, as it identifies the error of the output nodes. This establishes a loss value and a gradient or slope for that value at each node. When the data is fed back through the network, each value goes through gradient descent where the local minimum of its specific gradient is calculated so that it can adjust new values to the parameters of the neural networks to minimize loss the next time data is fed through the network."
   ]
  },
  {
   "cell_type": "code",
   "execution_count": 39,
   "metadata": {},
   "outputs": [],
   "source": [
    "# effective activation function of my choosing\n",
    "def relu_activation(vec):\n",
    "    return np.maximum(vec, 0)\n",
    "\n",
    "\n",
    "# returns a vector of output probabilities\n",
    "def softmax(vec):\n",
    "    # for softmax we compute input over number of choices\n",
    "    input = np.exp(vec)\n",
    "    # output is sum of all of those choices, K\n",
    "    output = np.sum(input, axis = 1, keepdims = True)\n",
    "    return input / output\n",
    "\n",
    "\n",
    "def forward(softmax_vec, onehot_labels, lam, w1, w2):\n",
    "  \n",
    "    # first we calculate softmax cross-entropy loss (refer to formula)\n",
    "    i = np.argmax(onehot_labels, axis = 1).astype(int)\n",
    "  \n",
    "    # since softmax output will be probability values (non-integer) we use function\n",
    "    # arange() \n",
    "    predicted = softmax_vec[np.arange(len(softmax_vec)), i]\n",
    "    logs = np.log(predicted)\n",
    "    loss = -np.sum(logs) / len(logs)\n",
    "    \n",
    "    # second we add regularization to the loss in order to avoid overfitting\n",
    "    w1_loss = 0.5 * lam * np.sum(w1 * w1)\n",
    "    w2_loss = 0.5 * lam * np.sum(w2 * w2)\n",
    "    return (loss + (w1_loss + w2_loss))\n",
    "  \n"
   ]
  },
  {
   "cell_type": "code",
   "execution_count": 40,
   "metadata": {},
   "outputs": [],
   "source": [
    "def backprop(w1, b1, w2, b2, lam, lr, output_vec, hidden_vec):\n",
    "    output_error = (output_vec - y_train) / output_vec.shape[0]\n",
    "\n",
    "    hidden_error = np.dot(output_error, w2.T) \n",
    "    hidden_error[hidden_vec <= 0] = 0\n",
    "\n",
    "    gw2 = np.dot(hidden_vec.T, output_error)\n",
    "    gb2 = np.sum(output_error, axis = 0, keepdims = True)\n",
    "\n",
    "    gw1 = np.dot(X_train.T, hidden_error)\n",
    "    gb1 = np.sum(hidden_error, axis = 0, keepdims = True)\n",
    "\n",
    "    gw2 += lam * w2\n",
    "    gw1 += lam * w1\n",
    "\n",
    "    w1 -= lr * gw1\n",
    "    b1 -= lr * gb1\n",
    "    w2 -= lr * gw2\n",
    "    b2 -= lr * gb2"
   ]
  },
  {
   "cell_type": "markdown",
   "metadata": {},
   "source": [
    "## Running the network\n",
    "Here, we establish the amount of iterations that we will feed the data through the network in order to train it and prepare it to make predictions on new data. epochNum in this case is the amount of iterations that we will initialize.\n",
    "\n",
    "In each iteration, there are a few things that are happening:\n",
    "\n",
    "1. The values at each layer are being established with respect to that specific layer's activation function.\n",
    "\n",
    "2. The softmax activation function (in this case) will make a decision on the classificiation it believes is correct from choosing the classification with the highest probability (since the softmax outputs values between [0, 1].)\n",
    "\n",
    "3. With these established vectors at each layer, we will first feed the data forward through forward propogation to get our output values\n",
    "\n",
    "4. Then we will adjust our network's parameters in the process of backpropogation so that the network can classify more accurately in the future."
   ]
  },
  {
   "cell_type": "code",
   "execution_count": 41,
   "metadata": {},
   "outputs": [
    {
     "name": "stderr",
     "output_type": "stream",
     "text": [
      "C:\\Users\\aKeLa\\anaconda3\\lib\\site-packages\\ipykernel_launcher.py:12: RuntimeWarning: invalid value encountered in true_divide\n",
      "  if sys.path[0] == '':\n",
      "C:\\Users\\aKeLa\\anaconda3\\lib\\site-packages\\ipykernel_launcher.py:23: RuntimeWarning: divide by zero encountered in log\n"
     ]
    }
   ],
   "source": [
    "# since we need to return the object 'epoch' in this case we will use xrange()\n",
    "# rather than range() function in python\n",
    "\n",
    "for epoch in range(1,epochNum):\n",
    "    # wx + b\n",
    "    input = np.dot(X_train, w1) + b1\n",
    "    hidden = relu_activation(input)\n",
    "    output = np.dot(hidden, w2) + b2\n",
    "    soft_output = softmax(output)\n",
    "\n",
    "    forward(soft_output, y_train, init_lam, w1, w2)\n",
    "    backprop(w1, b1, w2, b2, init_lam, lr, output, hidden)"
   ]
  },
  {
   "cell_type": "markdown",
   "metadata": {},
   "source": [
    "## It is time to test the network!\n",
    "\n",
    "I have defined an eval() function that will put the network's prediction vector up against the actual classes of the data that it was fed. This function pretty much just calculates the correctness by dividing the correct predictions against the total number of rows of data the network evaluated, or total number of predictions it had."
   ]
  },
  {
   "cell_type": "code",
   "execution_count": 36,
   "metadata": {},
   "outputs": [
    {
     "name": "stdout",
     "output_type": "stream",
     "text": [
      "Accuracy of Multilayer Perceptron: 94.73684210526316%\n"
     ]
    }
   ],
   "source": [
    "# test\n",
    "\n",
    "def eval(preds, y):\n",
    "    ifcorrect =  np.argmax(preds, 1) == np.argmax(y, 1)\n",
    "    correct_predictions = np.sum(ifcorrect)\n",
    "    return correct_predictions * 100 / preds.shape[0]\n",
    "  \n",
    "\n",
    "input = np.dot(X_test, w1)\n",
    "hidden = relu_activation(input + b1)\n",
    "scores = np.dot(hidden, w2) + b2\n",
    "probs = softmax(scores)\n",
    "print('Accuracy of Multilayer Perceptron: {0}%'.format(eval(probs, y_test)))"
   ]
  },
  {
   "cell_type": "code",
   "execution_count": null,
   "metadata": {},
   "outputs": [],
   "source": []
  }
 ],
 "metadata": {
  "kernelspec": {
   "display_name": "Python 3",
   "language": "python",
   "name": "python3"
  },
  "language_info": {
   "codemirror_mode": {
    "name": "ipython",
    "version": 3
   },
   "file_extension": ".py",
   "mimetype": "text/x-python",
   "name": "python",
   "nbconvert_exporter": "python",
   "pygments_lexer": "ipython3",
   "version": "3.7.6"
  }
 },
 "nbformat": 4,
 "nbformat_minor": 4
}
