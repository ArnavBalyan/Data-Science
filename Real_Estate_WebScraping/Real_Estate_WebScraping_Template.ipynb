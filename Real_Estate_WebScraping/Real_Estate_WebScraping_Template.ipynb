{
  "nbformat": 4,
  "nbformat_minor": 0,
  "metadata": {
    "colab": {
      "name": "Real_Estate_WebScraping_Template.ipynb",
      "provenance": [],
      "collapsed_sections": []
    },
    "kernelspec": {
      "name": "python3",
      "display_name": "Python 3"
    }
  },
  "cells": [
    {
      "cell_type": "markdown",
      "metadata": {
        "id": "JhpjCQevqtAM",
        "colab_type": "text"
      },
      "source": [
        "\n",
        "\n",
        "---\n",
        "The 70 % time of a Data Scientist goes into collecting and cleaning the Data. Till now we have taken the data from different repositories and used it for our analysis. What if the data that we are looking for is not present in any repositories and we find it on a website. How will you go about collecting the data ? We can either manually copy paste the data or automate the process. If we manually copy and paste the data it will take much time . We can automate this process using web scraping.\n",
        "\n",
        "\n",
        "---\n",
        "\n",
        "Web Scrraping is a technique to scrape the data present of the web. \n",
        "\n",
        "\n",
        "We will be scraping the real estate data from **Makaan.com**  for the \n",
        "properties listed for sale in Hyderabad. We will scrape the first 500 pages of the listing. Each page has 20 listing so after scraping the website we should have 10,000 listings records.\n",
        "\n",
        "Libaries used :\n",
        " * Pandas\n",
        " * Requests\n",
        " * BeautifulSoup\n",
        " * Time\n",
        " * Random\n",
        "\n",
        " Link to the listing - [Apartments in Hyderabad](https://www.makaan.com/hyderabad-residential-property/buy-property-in-hyderabad-city?budget=,&page=1)"
      ]
    },
    {
      "cell_type": "markdown",
      "metadata": {
        "id": "SRqrVADjuyTC",
        "colab_type": "text"
      },
      "source": [
        "\n",
        "\n",
        "---\n"
      ]
    },
    {
      "cell_type": "markdown",
      "metadata": {
        "id": "-E3r7mBItWmL",
        "colab_type": "text"
      },
      "source": [
        "\n",
        "Web Scraping Workflow - \n",
        "\n",
        "\n",
        "<a href=\"https://imgur.com/2yHeAam\"><img src=\"https://imgur.com/2yHeAam.png\" title=\"source: imgur.com\" /></a>"
      ]
    },
    {
      "cell_type": "code",
      "metadata": {
        "id": "_NuWB-XqtV6W",
        "colab_type": "code",
        "colab": {}
      },
      "source": [
        ""
      ],
      "execution_count": 0,
      "outputs": []
    },
    {
      "cell_type": "code",
      "metadata": {
        "id": "lf7SsYcZg4cH",
        "colab_type": "code",
        "colab": {}
      },
      "source": [
        "#import pandas, requests, beautifulsoup, time and random\n",
        "\n",
        "import pandas as pd \n",
        "import requests\n",
        "from bs4 import BeautifulSoup\n",
        "from time import time   \n",
        "from time import sleep \n",
        "from IPython.core.display import clear_output\n",
        "from random import randint"
      ],
      "execution_count": 0,
      "outputs": []
    },
    {
      "cell_type": "markdown",
      "metadata": {
        "id": "I9uACKIu6kcg",
        "colab_type": "text"
      },
      "source": [
        "## Building the Scraper"
      ]
    },
    {
      "cell_type": "code",
      "metadata": {
        "id": "LcInmkpQP0-z",
        "colab_type": "code",
        "colab": {}
      },
      "source": [
        "Agent = []                    #Name of the agent\n",
        "BHK_Apartment = []            #Number of BHK\n",
        "Price_in_lakhs = []           #Price of the apartment in lakhs\n",
        "Per_square_ft_price = []      #Price per square feet\n",
        "Apartment_size = []           #Size of the aprtment\n",
        "Status = []                   #Status of the apar\n",
        "\n",
        "\n",
        "#monitoring the loop\n",
        "start_time = time()\n",
        "request = 0\n",
        "\n",
        "#crawl through first 500 pages\n",
        "for pages in range(1,501):\n",
        "  response = requests.get('https://www.makaan.com/hyderabad-residential-property/buy-property-in-hyderabad-city?budget=,&page=' + str(pages))\n",
        "\n",
        "  #pause and wait for 3-6 sec\n",
        "  #TODO : Write your code here\n",
        "  \n",
        "  #Monitor the loop\n",
        "  # TODO : Write your code here to monitor the loop\n",
        "\n",
        "\n",
        "  #pass html parser and find all the 'li' tags\n",
        "  #TODO : Write code to find all li elements\n",
        "\n",
        "\n",
        "  #iterate through all the list (<li>) elements\n",
        "  for lst in property_list:\n",
        "\n",
        "    #check if property has seller info\n",
        "    # TODO : Write your code here\n",
        "\n",
        "      #find name of the seller and append it in the Agent list\n",
        "      # TODO : Write your code here\n",
        "\n",
        "      #find number of bhk and append it in BHK_Apartment\n",
        "      #TODO : Write your code here\n",
        "\n",
        "      #Find price of the apartment and append it in Price in lakhs\n",
        "      #TODO : Write your code here\n",
        "\n",
        "      #Find price per square feet and append it in per_square_ft_price\n",
        "      #TODO : Write your code here\n",
        "\n",
        "      #find size of the apartment and append it in Apartment_size\n",
        "      #TODO : Write your code here\n",
        "\n",
        "      #find the status of the apartment and append it in Status\n",
        "      # TODO : Write your code here\n"
      ],
      "execution_count": 0,
      "outputs": []
    },
    {
      "cell_type": "markdown",
      "metadata": {
        "id": "fI9cAWV26sX6",
        "colab_type": "text"
      },
      "source": [
        "## Store the scrapped Data in DataFrame"
      ]
    },
    {
      "cell_type": "code",
      "metadata": {
        "id": "_Z7c9zMjP1DA",
        "colab_type": "code",
        "colab": {}
      },
      "source": [
        "#create a dataframe with column names ---> \n",
        "  #Agent -----> Name of the agent\n",
        "  #BHK_Apartment ------> Number of BHK\n",
        "  #Price_in_lakhs -----> Price of the apartment in lakhs\n",
        "  #Per_square_ft_price ---> Price per square feet\n",
        "  #Apartment_Size ------> Size of the aprtment\n",
        "  #Status ------------> Status of the apartment (New,Re-sale,Ready to move etc)\n",
        "\n",
        "##TODO : Write your code here"
      ],
      "execution_count": 0,
      "outputs": []
    },
    {
      "cell_type": "code",
      "metadata": {
        "id": "EvQ41PMJP1Gj",
        "colab_type": "code",
        "colab": {}
      },
      "source": [
        ""
      ],
      "execution_count": 0,
      "outputs": []
    }
  ]
}