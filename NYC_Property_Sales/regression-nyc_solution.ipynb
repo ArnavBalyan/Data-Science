{
 "cells": [
  {
   "cell_type": "markdown",
   "metadata": {
    "_cell_guid": "b1076dfc-b9ad-4769-8c92-a6c4dae69d19",
    "_uuid": "8f2839f25d086af736a60e9eeb907d3b93b6e0e5"
   },
   "source": [
    "# 1.Loading libraries and Dataset"
   ]
  },
  {
   "cell_type": "code",
   "execution_count": null,
   "metadata": {
    "_cell_guid": "79c7e3d0-c299-4dcb-8224-4455121ee9b0",
    "_uuid": "d629ff2d2480ee46fbb7e2d37f6b5fab8052498a"
   },
   "outputs": [],
   "source": [
    "import pandas as pd\n",
    "import numpy as np\n",
    "import matplotlib.pyplot as plt\n",
    "%matplotlib inline\n",
    "import seaborn as sns\n",
    "import warnings\n",
    "warnings.filterwarnings('ignore')\n",
    "\n",
    "from sklearn.model_selection import KFold\n",
    "from sklearn.model_selection import train_test_split \n",
    "from sklearn.model_selection import GridSearchCV\n",
    "from sklearn.preprocessing import StandardScaler\n",
    "\n",
    "from sklearn.linear_model import LinearRegression \n",
    "from sklearn.linear_model import Lasso\n",
    "from sklearn.linear_model import Ridge\n",
    "from sklearn.ensemble import RandomForestRegressor\n",
    "from sklearn.linear_model import ElasticNet\n",
    "\n",
    "from sklearn import metrics\n",
    "from sklearn.metrics import mean_squared_error\n",
    "from sklearn.model_selection import cross_val_score\n",
    "\n",
    "from scipy import stats"
   ]
  },
  {
   "cell_type": "code",
   "execution_count": null,
   "metadata": {
    "_uuid": "23846b1e7e35e56e3c67a779c3be37323e147d77"
   },
   "outputs": [],
   "source": [
    "#Reading Dataset\n",
    "df = pd.read_csv('../input/nyc-rolling-sales.csv')"
   ]
  },
  {
   "cell_type": "code",
   "execution_count": null,
   "metadata": {
    "_uuid": "304450f67ab2911924ae0b8c5878a5685df7f2ff"
   },
   "outputs": [],
   "source": [
    "# Little peek into the dataset\n",
    "df.head()"
   ]
  },
  {
   "cell_type": "code",
   "execution_count": null,
   "metadata": {
    "_uuid": "5bcd470270e5c796baad75094c501d9d181c1dbe"
   },
   "outputs": [],
   "source": [
    "#Dropping column as it is empty\n",
    "del df['EASE-MENT']\n",
    "#Dropping as it looks like an iterator\n",
    "del df['Unnamed: 0']\n",
    "\n",
    "del df['SALE DATE']"
   ]
  },
  {
   "cell_type": "code",
   "execution_count": null,
   "metadata": {
    "_uuid": "46f6f0b19445bd1133a7b54278014b581d4fdca1"
   },
   "outputs": [],
   "source": [
    "#Checking for duplicated entries\n",
    "sum(df.duplicated(df.columns))"
   ]
  },
  {
   "cell_type": "code",
   "execution_count": null,
   "metadata": {
    "_uuid": "499152a3799e466c46868c56333f6a204de19c1a"
   },
   "outputs": [],
   "source": [
    "#Delete the duplicates and check that it worked\n",
    "df = df.drop_duplicates(df.columns, keep='last')\n",
    "sum(df.duplicated(df.columns))"
   ]
  },
  {
   "cell_type": "markdown",
   "metadata": {
    "_uuid": "9a810aed4fcae8cb3e97dbeef38888d0f2a4cb35"
   },
   "source": [
    "# 2.Data Inspection & Visualization"
   ]
  },
  {
   "cell_type": "code",
   "execution_count": null,
   "metadata": {
    "_uuid": "784a897e41c424a2c32b90d565385aa28dea4616"
   },
   "outputs": [],
   "source": [
    "#shape of dataset\n",
    "df.shape"
   ]
  },
  {
   "cell_type": "code",
   "execution_count": null,
   "metadata": {
    "_uuid": "7779daf5f3a000a62c8fb42d303f8e19ad018670"
   },
   "outputs": [],
   "source": [
    "#Description of every column\n",
    "df.info()"
   ]
  },
  {
   "cell_type": "code",
   "execution_count": null,
   "metadata": {
    "_uuid": "414e75d7633ec19f8143e4ea62af8eb1b2ac7db7"
   },
   "outputs": [],
   "source": [
    "#Let's convert some of the columns to appropriate datatype\n",
    "\n",
    "df['TAX CLASS AT TIME OF SALE'] = df['TAX CLASS AT TIME OF SALE'].astype('category')\n",
    "df['TAX CLASS AT PRESENT'] = df['TAX CLASS AT PRESENT'].astype('category')\n",
    "df['LAND SQUARE FEET'] = pd.to_numeric(df['LAND SQUARE FEET'], errors='coerce')\n",
    "df['GROSS SQUARE FEET']= pd.to_numeric(df['GROSS SQUARE FEET'], errors='coerce')\n",
    "#df['SALE DATE'] = pd.to_datetime(df['SALE DATE'], errors='coerce')\n",
    "df['SALE PRICE'] = pd.to_numeric(df['SALE PRICE'], errors='coerce')\n",
    "df['BOROUGH'] = df['BOROUGH'].astype('category')"
   ]
  },
  {
   "cell_type": "code",
   "execution_count": null,
   "metadata": {
    "_uuid": "c4193eedb120741d5bd7d0771f5f45be8dc93ab9"
   },
   "outputs": [],
   "source": [
    "#checking missing values\n",
    "\n",
    "df.columns[df.isnull().any()]"
   ]
  },
  {
   "cell_type": "code",
   "execution_count": null,
   "metadata": {
    "_uuid": "1fa92d4699ef398d2fe39722fed576a80f507b03"
   },
   "outputs": [],
   "source": [
    "miss=df.isnull().sum()/len(df)\n",
    "miss=miss[miss>0]\n",
    "miss.sort_values(inplace=True)\n",
    "miss"
   ]
  },
  {
   "cell_type": "code",
   "execution_count": null,
   "metadata": {
    "_uuid": "70740c697d9db921d9877ecc094e16e473268565"
   },
   "outputs": [],
   "source": [
    "miss=miss.to_frame()\n",
    "miss.columns=['count']\n",
    "miss.index.names=['Name']\n",
    "miss['Name']=miss.index\n",
    "miss"
   ]
  },
  {
   "cell_type": "code",
   "execution_count": null,
   "metadata": {
    "_uuid": "31f11e728b8d8c268bcde61afcf17ddc5770e907"
   },
   "outputs": [],
   "source": [
    "#plot the missing values\n",
    "sns.set(style='whitegrid',color_codes=True)\n",
    "sns.barplot(x='Name', y='count',data=miss)\n",
    "plt.xticks(rotation=90)\n",
    "sns"
   ]
  },
  {
   "cell_type": "markdown",
   "metadata": {
    "_uuid": "f3a66b78a8b9cdef3773f95097ce8bf97bfc9725"
   },
   "source": [
    "There are many missing values in the columns : \n",
    "* LAND SQUARE FEET\n",
    "* GROSS SQUARE FEET\n",
    "* SALE PRICE\n",
    "\n",
    "We can drop the rows with missing values or we can fill them up with their mean, median or any other relation.\n",
    "\n",
    "For time being, let's fill these up with mean values.<br>\n",
    "Further, We will try to predict the value of SALE PRICE as test data."
   ]
  },
  {
   "cell_type": "code",
   "execution_count": null,
   "metadata": {
    "_uuid": "17ff7d95ed2e7c0db85370c093bb61efa8a80658"
   },
   "outputs": [],
   "source": [
    "# For time being, let's fill these up with mean values.\n",
    "df['LAND SQUARE FEET']=df['LAND SQUARE FEET'].fillna(df['LAND SQUARE FEET'].mean())\n",
    "df['GROSS SQUARE FEET']=df['GROSS SQUARE FEET'].fillna(df['GROSS SQUARE FEET'].mean())"
   ]
  },
  {
   "cell_type": "code",
   "execution_count": null,
   "metadata": {
    "_uuid": "286744ff7482eeee78433c25de81ae2470a52b90"
   },
   "outputs": [],
   "source": [
    "# Splitting dataset \n",
    "test=df[df['SALE PRICE'].isna()]\n",
    "data=df[~df['SALE PRICE'].isna()]"
   ]
  },
  {
   "cell_type": "code",
   "execution_count": null,
   "metadata": {
    "_uuid": "beefd8fc863ad15d3f41d560babcb55a22d70567"
   },
   "outputs": [],
   "source": [
    "test = test.drop(columns='SALE PRICE')"
   ]
  },
  {
   "cell_type": "code",
   "execution_count": null,
   "metadata": {
    "_uuid": "00eb47939f05dbeb788dfd89ad575e64f7c987fa"
   },
   "outputs": [],
   "source": [
    "# Print first 5 rows of test\n",
    "print(test.shape)\n",
    "test.head()"
   ]
  },
  {
   "cell_type": "code",
   "execution_count": null,
   "metadata": {
    "_uuid": "d6cc17d2c3de81c60f6b533682bda6bc55351a48"
   },
   "outputs": [],
   "source": [
    "#Printing first rows of our data\n",
    "print(data.shape)\n",
    "data.head(10)"
   ]
  },
  {
   "cell_type": "code",
   "execution_count": null,
   "metadata": {
    "_uuid": "60d709238ea06ee441c12034d11048f54922c1c9"
   },
   "outputs": [],
   "source": [
    "#correlation between the features\n",
    "corr = data.corr()\n",
    "sns.heatmap(corr)"
   ]
  },
  {
   "cell_type": "markdown",
   "metadata": {
    "_uuid": "bbdfe1b421a44c32f3bd27951b37fd0eabc4ab40"
   },
   "source": [
    "Last row represents the correlation of different features with SALE PRICE"
   ]
  },
  {
   "cell_type": "code",
   "execution_count": null,
   "metadata": {
    "_uuid": "774d8460cef5233eb007fac0a6a2f29c7f4e53fb"
   },
   "outputs": [],
   "source": [
    "#numeric correlation\n",
    "corr['SALE PRICE'].sort_values(ascending=False)"
   ]
  },
  {
   "cell_type": "code",
   "execution_count": null,
   "metadata": {
    "_uuid": "57ab241ae7499d7718d7873ade1238dcf71756f9"
   },
   "outputs": [],
   "source": [
    "numeric_data=data.select_dtypes(include=[np.number])\n",
    "numeric_data.describe()"
   ]
  },
  {
   "cell_type": "markdown",
   "metadata": {
    "_uuid": "f1ef2834575ebeccb203c7a592235cffab2fbead"
   },
   "source": [
    "\n",
    "**SALE PRICE**"
   ]
  },
  {
   "cell_type": "code",
   "execution_count": null,
   "metadata": {
    "_uuid": "26eebb4a81835476fed360e91bb568d98a04e9d0"
   },
   "outputs": [],
   "source": [
    "plt.figure(figsize=(15,6))\n",
    "\n",
    "sns.boxplot(x='SALE PRICE', data=data)\n",
    "plt.ticklabel_format(style='plain', axis='x')\n",
    "plt.title('Boxplot of SALE PRICE in USD')\n",
    "plt.show()"
   ]
  },
  {
   "cell_type": "code",
   "execution_count": null,
   "metadata": {
    "_uuid": "ffd117af5b9a5ee4cb9963072b594ff78adade37"
   },
   "outputs": [],
   "source": [
    "sns.distplot(data['SALE PRICE'])"
   ]
  },
  {
   "cell_type": "code",
   "execution_count": null,
   "metadata": {
    "_uuid": "2f7249cd56a7627b08f44f346cd4a088f0841fcf"
   },
   "outputs": [],
   "source": [
    "# Remove observations that fall outside those caps\n",
    "data = data[(data['SALE PRICE'] > 100000) & (data['SALE PRICE'] < 5000000)]"
   ]
  },
  {
   "cell_type": "markdown",
   "metadata": {
    "_uuid": "dee6aae179cd197d14aaea0f85437169166857ae"
   },
   "source": [
    "Let's Check Again"
   ]
  },
  {
   "cell_type": "code",
   "execution_count": null,
   "metadata": {
    "_uuid": "72b69c2a6088543e5b78b800d4efc14d5b04645c"
   },
   "outputs": [],
   "source": [
    "sns.distplot(data['SALE PRICE'])"
   ]
  },
  {
   "cell_type": "code",
   "execution_count": null,
   "metadata": {
    "_uuid": "32b7704ff533b0d27eca7fd12a7ef7111781d169"
   },
   "outputs": [],
   "source": [
    "#skewness of SalePrice\n",
    "data['SALE PRICE'].skew()"
   ]
  },
  {
   "cell_type": "markdown",
   "metadata": {
    "_uuid": "bc5669bdd09eddbb907e7f24b2937f8164060434"
   },
   "source": [
    "SALE PRICE is highly right skewed. So, we will log transform it so that it give better results."
   ]
  },
  {
   "cell_type": "code",
   "execution_count": null,
   "metadata": {
    "_uuid": "fc49e43b070b6a3963a04d2c8e3eea874d9e54c4"
   },
   "outputs": [],
   "source": [
    "sales=np.log(data['SALE PRICE'])\n",
    "print(sales.skew())\n",
    "sns.distplot(sales)"
   ]
  },
  {
   "cell_type": "markdown",
   "metadata": {
    "_uuid": "27ad846ff714f69babc77ffb6797d32421d297fa"
   },
   "source": [
    "Well now we can see the symmetry and thus it is normalised."
   ]
  },
  {
   "cell_type": "markdown",
   "metadata": {
    "_uuid": "254f123fd525bbb846e98a4d2b43685bee558dab"
   },
   "source": [
    "**Let's Visualize Numerical data**"
   ]
  },
  {
   "cell_type": "markdown",
   "metadata": {
    "_uuid": "aa874793ed0790965f437df72a48fcfa94bd3ecd"
   },
   "source": [
    "**SQUARE FEET**"
   ]
  },
  {
   "cell_type": "code",
   "execution_count": null,
   "metadata": {
    "_uuid": "62baebbfc15064e0eda3c87a5ba6c22d8efdbc6a"
   },
   "outputs": [],
   "source": [
    "plt.figure(figsize=(10,6))\n",
    "sns.boxplot(x='GROSS SQUARE FEET', data=data,showfliers=False)"
   ]
  },
  {
   "cell_type": "code",
   "execution_count": null,
   "metadata": {
    "_uuid": "c0b8b33844b9d877ddfcae5a57cf8fe1adf8c9ad"
   },
   "outputs": [],
   "source": [
    "plt.figure(figsize=(10,6))\n",
    "sns.boxplot(x='LAND SQUARE FEET', data=data,showfliers=False)"
   ]
  },
  {
   "cell_type": "code",
   "execution_count": null,
   "metadata": {
    "_uuid": "0435eb34bbbb3aa912940358d844120c7974a35a"
   },
   "outputs": [],
   "source": [
    "data = data[data['GROSS SQUARE FEET'] < 10000]\n",
    "data = data[data['LAND SQUARE FEET'] < 10000]"
   ]
  },
  {
   "cell_type": "code",
   "execution_count": null,
   "metadata": {
    "_uuid": "1adaf161823d75b2fa32380c02638db991e7ccf7"
   },
   "outputs": [],
   "source": [
    "plt.figure(figsize=(10,6))\n",
    "sns.regplot(x='GROSS SQUARE FEET', y='SALE PRICE', data=data, fit_reg=False, scatter_kws={'alpha':0.3})"
   ]
  },
  {
   "cell_type": "code",
   "execution_count": null,
   "metadata": {
    "_uuid": "e237243768b981a9ebeb7dc137db2f1a91a24348"
   },
   "outputs": [],
   "source": [
    "plt.figure(figsize=(10,6))\n",
    "sns.regplot(x='LAND SQUARE FEET', y='SALE PRICE', data=data, fit_reg=False, scatter_kws={'alpha':0.3})"
   ]
  },
  {
   "cell_type": "markdown",
   "metadata": {
    "_uuid": "84a024a2168f661f447360b35f7aeb5c6e127d67"
   },
   "source": [
    "**Total Units, Commercial Units, Residential Units**"
   ]
  },
  {
   "cell_type": "code",
   "execution_count": null,
   "metadata": {
    "_uuid": "8726644b46eb3c1cadb51f124a05937c0de170f1"
   },
   "outputs": [],
   "source": [
    "data[[\"TOTAL UNITS\", \"SALE PRICE\"]].groupby(['TOTAL UNITS'], as_index=False).count().sort_values(by='SALE PRICE', ascending=False)"
   ]
  },
  {
   "cell_type": "markdown",
   "metadata": {
    "_uuid": "31e18bb5285913206213468f429ea55c5f4fa1bb"
   },
   "source": [
    "Removing rows with TOTAL UNITS == 0 and one outlier with 2261 units"
   ]
  },
  {
   "cell_type": "code",
   "execution_count": null,
   "metadata": {
    "_uuid": "60f80ca612c77a86d61edc2402c2b5225871492d"
   },
   "outputs": [],
   "source": [
    "data = data[(data['TOTAL UNITS'] > 0) & (data['TOTAL UNITS'] != 2261)] "
   ]
  },
  {
   "cell_type": "code",
   "execution_count": null,
   "metadata": {
    "_uuid": "b45006cdce21d7a73cde79a2c1581bba1c3585ff"
   },
   "outputs": [],
   "source": [
    "plt.figure(figsize=(10,6))\n",
    "sns.boxplot(x='TOTAL UNITS', y='SALE PRICE', data=data)\n",
    "plt.title('Total Units vs Sale Price')\n",
    "plt.show()"
   ]
  },
  {
   "cell_type": "code",
   "execution_count": null,
   "metadata": {
    "_uuid": "de535155c5df578d4751f86e1717180c24b94b5e"
   },
   "outputs": [],
   "source": [
    "plt.figure(figsize=(10,6))\n",
    "sns.boxplot(x='COMMERCIAL UNITS', y='SALE PRICE', data=data)\n",
    "plt.title('Commercial Units vs Sale Price')\n",
    "plt.show()"
   ]
  },
  {
   "cell_type": "code",
   "execution_count": null,
   "metadata": {
    "_uuid": "df6cf3a34f89e449e71a4e57818217fc2c623769"
   },
   "outputs": [],
   "source": [
    "plt.figure(figsize=(10,6))\n",
    "sns.boxplot(x='RESIDENTIAL UNITS', y='SALE PRICE', data=data)\n",
    "plt.title('Residential Units vs Sale Price')\n",
    "plt.show()"
   ]
  },
  {
   "cell_type": "markdown",
   "metadata": {
    "_uuid": "199e6c47d09348b254d37dc31bdd0ed634eb94ab"
   },
   "source": [
    "**Let's Visualize categorical data**"
   ]
  },
  {
   "cell_type": "code",
   "execution_count": null,
   "metadata": {
    "_uuid": "9f2abe891422c1d61e7ac13e25158c4c005e2e52"
   },
   "outputs": [],
   "source": [
    "cat_data=data.select_dtypes(exclude=[np.number])\n",
    "cat_data.describe()"
   ]
  },
  {
   "cell_type": "markdown",
   "metadata": {
    "_uuid": "462bffe0e69d83690ed808a02c61cfa4e24cfe5d"
   },
   "source": [
    "**TAX CLASS AT PRESENT**"
   ]
  },
  {
   "cell_type": "code",
   "execution_count": null,
   "metadata": {
    "_uuid": "14f9193d2b5b1250d33e680173948cb14ac6a405"
   },
   "outputs": [],
   "source": [
    "# Starting with TAX CLASS AT PRESENT\n",
    "data['TAX CLASS AT PRESENT'].unique()"
   ]
  },
  {
   "cell_type": "code",
   "execution_count": null,
   "metadata": {
    "_uuid": "bfaf8dce4c86d4027359c290b78ac6fac9224bfc"
   },
   "outputs": [],
   "source": [
    "pivot=data.pivot_table(index='TAX CLASS AT PRESENT', values='SALE PRICE', aggfunc=np.median)\n",
    "pivot"
   ]
  },
  {
   "cell_type": "code",
   "execution_count": null,
   "metadata": {
    "_uuid": "d86719c2ba9682190ab710cf754b2fe911426a58"
   },
   "outputs": [],
   "source": [
    "pivot.plot(kind='bar', color='black')"
   ]
  },
  {
   "cell_type": "markdown",
   "metadata": {
    "_uuid": "f8a50f8ac35335d73fbdf1b4632b9d975bcb963a"
   },
   "source": [
    "**TAX CLASS AT TIME OF SALE**"
   ]
  },
  {
   "cell_type": "code",
   "execution_count": null,
   "metadata": {
    "_uuid": "af74d73a07c485e16582bf6e9e2c058a0aa9663f"
   },
   "outputs": [],
   "source": [
    "#  TAX CLASS AT TIME OF SALE\n",
    "data['TAX CLASS AT TIME OF SALE'].unique()"
   ]
  },
  {
   "cell_type": "code",
   "execution_count": null,
   "metadata": {
    "_uuid": "c77d950092fb9dc35a2d5e36b1d8c4515f2b1c19"
   },
   "outputs": [],
   "source": [
    "pivot=data.pivot_table(index='TAX CLASS AT TIME OF SALE', values='SALE PRICE', aggfunc=np.median)\n",
    "pivot"
   ]
  },
  {
   "cell_type": "code",
   "execution_count": null,
   "metadata": {
    "_uuid": "64325af399337164e2aecc69a6c31ef959cd5359"
   },
   "outputs": [],
   "source": [
    "pivot.plot(kind='bar', color='red')"
   ]
  },
  {
   "cell_type": "markdown",
   "metadata": {
    "_uuid": "465904ca32d604b6d2f4d187038f0c0594ac35e5"
   },
   "source": [
    "**BOROUGH**"
   ]
  },
  {
   "cell_type": "code",
   "execution_count": null,
   "metadata": {
    "_uuid": "25fd514970e2643d4e16a66f4ee9485b9aabefa8"
   },
   "outputs": [],
   "source": [
    "# BOROUGH\n",
    "data['BOROUGH'].unique()"
   ]
  },
  {
   "cell_type": "code",
   "execution_count": null,
   "metadata": {
    "_uuid": "ca76f4bc494a62e27c82fa165d8427d747630bf7"
   },
   "outputs": [],
   "source": [
    "pivot=data.pivot_table(index='BOROUGH', values='SALE PRICE', aggfunc=np.median)\n",
    "pivot"
   ]
  },
  {
   "cell_type": "code",
   "execution_count": null,
   "metadata": {
    "_uuid": "58eb7d70779d4891991129da1cc7977caac8967d"
   },
   "outputs": [],
   "source": [
    "pivot.plot(kind='bar', color='blue')"
   ]
  },
  {
   "cell_type": "markdown",
   "metadata": {
    "_uuid": "4f434893bccea233ca512ccbc9068aa9f03426aa"
   },
   "source": [
    "***It means max sale price is of BOROUGH==1 that is Manhattan.***"
   ]
  },
  {
   "cell_type": "markdown",
   "metadata": {
    "_uuid": "de9d5f35c74a256c49a5d36e96b15afa9dc66f37"
   },
   "source": [
    "**BUILDING CLASS CATEGORY**"
   ]
  },
  {
   "cell_type": "code",
   "execution_count": null,
   "metadata": {
    "_uuid": "beb6de6973b90ddfb7602d44711d178268cd637c"
   },
   "outputs": [],
   "source": [
    "# BUILDING CLASS CATEGORY\n",
    "print(data['BUILDING CLASS CATEGORY'].nunique())\n",
    "\n",
    "pivot=data.pivot_table(index='BUILDING CLASS CATEGORY', values='SALE PRICE', aggfunc=np.median)\n",
    "pivot"
   ]
  },
  {
   "cell_type": "code",
   "execution_count": null,
   "metadata": {
    "_uuid": "aea17bb27cee3ede95d8c9195a848babcf2e0d57"
   },
   "outputs": [],
   "source": [
    "pivot.plot(kind='bar', color='Green')"
   ]
  },
  {
   "cell_type": "markdown",
   "metadata": {
    "_uuid": "3ae56a5588514aacd52943c033d02138122dc80a"
   },
   "source": [
    "# 3. Data Pre Processing"
   ]
  },
  {
   "cell_type": "markdown",
   "metadata": {
    "_uuid": "685690c5b280f843ab8169b143f43d23247468c8"
   },
   "source": [
    "**Let's see our dataset again**"
   ]
  },
  {
   "cell_type": "code",
   "execution_count": null,
   "metadata": {
    "_uuid": "9ee0205d0e9b3e10bce9b6212c3b027883527dee"
   },
   "outputs": [],
   "source": [
    "del data['ADDRESS']\n",
    "del data['APARTMENT NUMBER']"
   ]
  },
  {
   "cell_type": "code",
   "execution_count": null,
   "metadata": {
    "_uuid": "ae3adf12c7283985bab2712c439881d5ef6dcc4a"
   },
   "outputs": [],
   "source": [
    "data.info()"
   ]
  },
  {
   "cell_type": "markdown",
   "metadata": {
    "_uuid": "64578665d342a13f387c06fdf34d41c4c8ad93db"
   },
   "source": [
    "**Normalising and Transforming Numerical columns**"
   ]
  },
  {
   "cell_type": "code",
   "execution_count": null,
   "metadata": {
    "_uuid": "c28a3d220e0dadd82353c6d9a7160e70fd643a8f"
   },
   "outputs": [],
   "source": [
    "numeric_data.columns"
   ]
  },
  {
   "cell_type": "code",
   "execution_count": null,
   "metadata": {
    "_uuid": "68eee22fa18ec02227c9442acca7ebc8f81d9513"
   },
   "outputs": [],
   "source": [
    "#transform the numeric features using log(x + 1)\n",
    "from scipy.stats import skew\n",
    "skewed = data[numeric_data.columns].apply(lambda x: skew(x.dropna().astype(float)))\n",
    "skewed = skewed[skewed > 0.75]\n",
    "skewed = skewed.index\n",
    "data[skewed] = np.log1p(data[skewed])"
   ]
  },
  {
   "cell_type": "code",
   "execution_count": null,
   "metadata": {
    "_uuid": "7a67d3188edc3c69321e6c7d4b3b0de2af8846d9"
   },
   "outputs": [],
   "source": [
    "\n",
    "scaler = StandardScaler()\n",
    "scaler.fit(data[numeric_data.columns])\n",
    "scaled = scaler.transform(data[numeric_data.columns])\n",
    "\n",
    "for i, col in enumerate(numeric_data.columns):\n",
    "       data[col] = scaled[:,i]"
   ]
  },
  {
   "cell_type": "code",
   "execution_count": null,
   "metadata": {
    "_uuid": "4f057fd9912cf3ed3327dc4bfde249b197cf7dc5"
   },
   "outputs": [],
   "source": [
    "data.head()"
   ]
  },
  {
   "cell_type": "code",
   "execution_count": null,
   "metadata": {
    "_uuid": "df13cd36c40866aad5abeff46dfad649a3ebc19f"
   },
   "outputs": [],
   "source": [
    "#Dropping few columns\n",
    "del data['BUILDING CLASS AT PRESENT']\n",
    "del data['BUILDING CLASS AT TIME OF SALE']\n",
    "del data['NEIGHBORHOOD']"
   ]
  },
  {
   "cell_type": "markdown",
   "metadata": {
    "_uuid": "b2e83a56fb5a97234ee93fbcbd0fb767832fdf4b"
   },
   "source": [
    "**One hot encoding categorical columns**"
   ]
  },
  {
   "cell_type": "code",
   "execution_count": null,
   "metadata": {
    "_uuid": "823fb4b89a19a3a5659a79268a61519728eb9c86"
   },
   "outputs": [],
   "source": [
    "#Select the variables to be one-hot encoded\n",
    "one_hot_features = ['BOROUGH', 'BUILDING CLASS CATEGORY','TAX CLASS AT PRESENT','TAX CLASS AT TIME OF SALE']\n"
   ]
  },
  {
   "cell_type": "code",
   "execution_count": null,
   "metadata": {
    "_uuid": "f78ad421020078cb0e7428c21dd9e80a7275bc0f"
   },
   "outputs": [],
   "source": [
    "# Convert categorical variables into dummy/indicator variables (i.e. one-hot encoding).\n",
    "one_hot_encoded = pd.get_dummies(data[one_hot_features])\n",
    "one_hot_encoded.info(verbose=True, memory_usage=True, null_counts=True)"
   ]
  },
  {
   "cell_type": "code",
   "execution_count": null,
   "metadata": {
    "_uuid": "17320ca853afa8b0c57a2097b3845b1c620dac2e"
   },
   "outputs": [],
   "source": [
    "# Replacing categorical columns with dummies\n",
    "fdf = data.drop(one_hot_features,axis=1)\n",
    "fdf = pd.concat([fdf, one_hot_encoded] ,axis=1)"
   ]
  },
  {
   "cell_type": "code",
   "execution_count": null,
   "metadata": {
    "_uuid": "87efa9c35c9627de3cc094cca354448f106bcbe0"
   },
   "outputs": [],
   "source": [
    "fdf.info()"
   ]
  },
  {
   "cell_type": "markdown",
   "metadata": {
    "_uuid": "b7ec70bb14076f1a66a6b93ab214fcac22c973e6"
   },
   "source": [
    "## Train/Test Split"
   ]
  },
  {
   "cell_type": "code",
   "execution_count": null,
   "metadata": {
    "_uuid": "1b6e83f998336c1fdac320624abb805367b28804"
   },
   "outputs": [],
   "source": [
    "Y_fdf = fdf['SALE PRICE']\n",
    "X_fdf = fdf.drop('SALE PRICE', axis=1)\n",
    "\n",
    "X_fdf.shape , Y_fdf.shape"
   ]
  },
  {
   "cell_type": "code",
   "execution_count": null,
   "metadata": {
    "_uuid": "6a94594673a88df506ae12a66bc5bf415cf82444"
   },
   "outputs": [],
   "source": [
    "X_train ,X_test, Y_train , Y_test = train_test_split(X_fdf , Y_fdf , test_size = 0.3 , random_state =34)"
   ]
  },
  {
   "cell_type": "code",
   "execution_count": null,
   "metadata": {
    "_uuid": "2fe239f89c667026ca90619bd0118de78a79d499"
   },
   "outputs": [],
   "source": [
    "# Training set\n",
    "X_train.shape , Y_train.shape"
   ]
  },
  {
   "cell_type": "code",
   "execution_count": null,
   "metadata": {
    "_uuid": "35e3a9bbce05061c71732f3fec2c5f7d816a2781"
   },
   "outputs": [],
   "source": [
    "#Testing set\n",
    "X_test.shape , Y_test.shape"
   ]
  },
  {
   "cell_type": "markdown",
   "metadata": {
    "_uuid": "971fb647e5ff02faf3333c457688ad0a1c42508c"
   },
   "source": [
    "# 4. Modelling"
   ]
  },
  {
   "cell_type": "code",
   "execution_count": null,
   "metadata": {
    "_uuid": "d17d3bf101c3e38a62ba53473cba9855ccdabbb9"
   },
   "outputs": [],
   "source": [
    "# RMSE\n",
    "def rmse(y_test,y_pred):\n",
    "      return np.sqrt(mean_squared_error(y_test,y_pred))"
   ]
  },
  {
   "cell_type": "markdown",
   "metadata": {
    "_uuid": "6a0865caae503603e50e05d04a8a58118a150d5d"
   },
   "source": [
    "### 4.1 Linear Regression"
   ]
  },
  {
   "cell_type": "code",
   "execution_count": null,
   "metadata": {
    "_uuid": "8e83644b36371655e5c55c020082a17b5a489c2b"
   },
   "outputs": [],
   "source": [
    "linreg = LinearRegression()\n",
    "linreg.fit(X_train, Y_train)\n",
    "Y_pred_lin = linreg.predict(X_test)\n",
    "rmse(Y_test,Y_pred_lin)"
   ]
  },
  {
   "cell_type": "markdown",
   "metadata": {
    "_uuid": "f6f96ecc045b532ba32e8ef3eab6e86792648d0b"
   },
   "source": [
    "### 4.2. Lasso Regression"
   ]
  },
  {
   "cell_type": "code",
   "execution_count": null,
   "metadata": {
    "_uuid": "69859b8554943003324d2e4c96835223ef514f8b"
   },
   "outputs": [],
   "source": [
    "alpha=0.00099\n",
    "lasso_regr=Lasso(alpha=alpha,max_iter=50000)\n",
    "lasso_regr.fit(X_train, Y_train)\n",
    "Y_pred_lasso=lasso_regr.predict(X_test)\n",
    "rmse(Y_test,Y_pred_lasso)"
   ]
  },
  {
   "cell_type": "markdown",
   "metadata": {
    "_uuid": "3ba205ff69876a60407375dbf06d6a93fc0deadb"
   },
   "source": [
    "### 4.3. Ridge Regression"
   ]
  },
  {
   "cell_type": "code",
   "execution_count": null,
   "metadata": {
    "_uuid": "4d1fe99520bc0ec07ebd00be2c6d681bba651f9a"
   },
   "outputs": [],
   "source": [
    "ridge = Ridge(alpha=0.01, normalize=True)\n",
    "ridge.fit(X_train, Y_train)\n",
    "Y_pred_ridge = ridge.predict(X_test)\n",
    "rmse(Y_test,Y_pred_ridge)"
   ]
  },
  {
   "cell_type": "markdown",
   "metadata": {
    "_uuid": "9865cd21c5092ef847c6261582ac6aeac5b966e4"
   },
   "source": [
    "### 4.4. RandomForest Regressor"
   ]
  },
  {
   "cell_type": "code",
   "execution_count": null,
   "metadata": {
    "_uuid": "ad86b87dced3d5c43e85f7a514fc0f152d347480",
    "scrolled": true
   },
   "outputs": [],
   "source": [
    "rf_regr = RandomForestRegressor()\n",
    "rf_regr.fit(X_train, Y_train)\n",
    "Y_pred_rf = rf_regr.predict(X_test)\n",
    "rmse(Y_test,Y_pred_rf)"
   ]
  },
  {
   "cell_type": "markdown",
   "metadata": {
    "_uuid": "5abca5fdd7f1af9e2181c9566f1ffd92c1711b22"
   },
   "source": [
    "# 5. Conclusion"
   ]
  },
  {
   "cell_type": "markdown",
   "metadata": {
    "_uuid": "ecb312c868a8113485a2582f11c6c57e503cb32b"
   },
   "source": [
    "**We can see that Random Forest Regressor works best for this dataset with RSME score of 0.588**"
   ]
  },
  {
   "cell_type": "markdown",
   "metadata": {
    "_uuid": "69ad324f3590170ddbc7d381f8db11bc03b03b3f"
   },
   "source": []
  },
  {
   "cell_type": "code",
   "execution_count": null,
   "metadata": {
    "_uuid": "6dd5e85188b97fe3b3761813ee0730c1204f995c"
   },
   "outputs": [],
   "source": []
  }
 ],
 "metadata": {
  "kernelspec": {
   "display_name": "Python 3",
   "language": "python",
   "name": "python3"
  },
  "language_info": {
   "codemirror_mode": {
    "name": "ipython",
    "version": 3
   },
   "file_extension": ".py",
   "mimetype": "text/x-python",
   "name": "python",
   "nbconvert_exporter": "python",
   "pygments_lexer": "ipython3",
   "version": "3.7.4"
  }
 },
 "nbformat": 4,
 "nbformat_minor": 1
}
