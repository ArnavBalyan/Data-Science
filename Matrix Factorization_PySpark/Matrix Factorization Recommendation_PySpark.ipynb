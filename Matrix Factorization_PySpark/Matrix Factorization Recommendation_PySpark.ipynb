{
 "cells": [
  {
   "cell_type": "markdown",
   "metadata": {},
   "source": [
    "**Matrix factorization** is a class of collaborative filtering algorithms used in recommender systems. **Matrix factorization** approximates a given rating matrix as a product of two lower-rank matrices.\n",
    "It decomposes a rating matrix R(nxm) into a product of two matrices W(nxd) and U(mxd).\n",
    "\n",
    "\\begin{equation*}\n",
    "\\mathbf{R}_{n \\times m} \\approx \\mathbf{\\hat{R}} = \n",
    "\\mathbf{V}_{n \\times k} \\times \\mathbf{V}_{m \\times k}^T\n",
    "\\end{equation*}"
   ]
  },
  {
   "cell_type": "code",
   "execution_count": 1,
   "metadata": {
    "_cell_guid": "79c7e3d0-c299-4dcb-8224-4455121ee9b0",
    "_uuid": "d629ff2d2480ee46fbb7e2d37f6b5fab8052498a"
   },
   "outputs": [
    {
     "name": "stdout",
     "output_type": "stream",
     "text": [
      "Collecting pyspark\r\n",
      "\u001b[?25l  Downloading https://files.pythonhosted.org/packages/87/21/f05c186f4ddb01d15d0ddc36ef4b7e3cedbeb6412274a41f26b55a650ee5/pyspark-2.4.4.tar.gz (215.7MB)\r\n",
      "\u001b[K     |████████████████████████████████| 215.7MB 39kB/s \r\n",
      "\u001b[?25hCollecting py4j==0.10.7\r\n",
      "\u001b[?25l  Downloading https://files.pythonhosted.org/packages/e3/53/c737818eb9a7dc32a7cd4f1396e787bd94200c3997c72c1dbe028587bd76/py4j-0.10.7-py2.py3-none-any.whl (197kB)\r\n",
      "\u001b[K     |████████████████████████████████| 204kB 38.7MB/s \r\n",
      "\u001b[?25hBuilding wheels for collected packages: pyspark\r\n",
      "  Building wheel for pyspark (setup.py) ... \u001b[?25l-\b \b\\\b \b|\b \b/\b \b-\b \b\\\b \b|\b \b/\b \b-\b \b\\\b \b|\b \b/\b \b-\b \b\\\b \b|\b \b/\b \b-\b \b\\\b \b|\b \b/\b \b-\b \b\\\b \b|\b \b/\b \b-\b \b\\\b \b|\b \b/\b \b-\b \b\\\b \b|\b \b/\b \b-\b \b\\\b \b|\b \b/\b \b-\b \b\\\b \b|\b \b/\b \b-\b \b\\\b \b|\b \b/\b \b-\b \b\\\b \b|\b \b/\b \b-\b \b\\\b \b|\b \b/\b \b-\b \b\\\b \b|\b \b/\b \b-\b \b\\\b \b|\b \bdone\r\n",
      "\u001b[?25h  Created wheel for pyspark: filename=pyspark-2.4.4-py2.py3-none-any.whl size=216131250 sha256=b80d1a6d39bb509235b86d8b767189b71c4d93498dd0c80690e954ec78475611\r\n",
      "  Stored in directory: /tmp/.cache/pip/wheels/ab/09/4d/0d184230058e654eb1b04467dbc1292f00eaa186544604b471\r\n",
      "Successfully built pyspark\r\n",
      "Installing collected packages: py4j, pyspark\r\n",
      "Successfully installed py4j-0.10.7 pyspark-2.4.4\r\n"
     ]
    }
   ],
   "source": [
    "!pip install pyspark       #installing pyspark"
   ]
  },
  {
   "cell_type": "markdown",
   "metadata": {},
   "source": [
    "#### Importing the necessary libraries"
   ]
  },
  {
   "cell_type": "code",
   "execution_count": 2,
   "metadata": {},
   "outputs": [],
   "source": [
    "from pyspark import SparkContext, SQLContext   # required for dealing with dataframes\n",
    "import numpy as np\n",
    "from pyspark.ml.recommendation import ALS      # for Matrix Factorization using ALS "
   ]
  },
  {
   "cell_type": "code",
   "execution_count": 3,
   "metadata": {},
   "outputs": [],
   "source": [
    "sc = SparkContext()      # instantiating spark context \n",
    "sqlContext = SQLContext(sc) # instantiating SQL context "
   ]
  },
  {
   "cell_type": "markdown",
   "metadata": {},
   "source": [
    "#### Step 1. Loading the data into a PySpark dataframe"
   ]
  },
  {
   "cell_type": "code",
   "execution_count": 4,
   "metadata": {},
   "outputs": [],
   "source": [
    "#Read the dataset into a dataframe\n",
    "jester_ratings_df = sqlContext.read.csv(\"/kaggle/input/jester-17m-jokes-ratings-dataset/jester_ratings.csv\",header = True, inferSchema = True)"
   ]
  },
  {
   "cell_type": "code",
   "execution_count": 5,
   "metadata": {},
   "outputs": [
    {
     "name": "stdout",
     "output_type": "stream",
     "text": [
      "+------+------+-------------------+\n",
      "|userId|jokeId|             rating|\n",
      "+------+------+-------------------+\n",
      "|     1|     5|0.21899999999999997|\n",
      "|     1|     7|             -9.281|\n",
      "|     1|     8|             -9.281|\n",
      "|     1|    13| -6.781000000000001|\n",
      "|     1|    15|              0.875|\n",
      "+------+------+-------------------+\n",
      "only showing top 5 rows\n",
      "\n"
     ]
    }
   ],
   "source": [
    "#show the ratings\n",
    "jester_ratings_df.show(5)"
   ]
  },
  {
   "cell_type": "code",
   "execution_count": 6,
   "metadata": {},
   "outputs": [
    {
     "name": "stdout",
     "output_type": "stream",
     "text": [
      "Total number of ratings:  1761439\n",
      "Number of unique users:  59132\n",
      "Number of unique jokes:  140\n"
     ]
    }
   ],
   "source": [
    "#Print total number of ratings, unique users and unique jokes.\n",
    "print(\"Total number of ratings: \", jester_ratings_df.count())\n",
    "print(\"Number of unique users: \", jester_ratings_df.select(\"userId\").distinct().count())\n",
    "print(\"Number of unique jokes: \", jester_ratings_df.select(\"jokeId\").distinct().count())"
   ]
  },
  {
   "cell_type": "markdown",
   "metadata": {},
   "source": [
    "#### Step 2. Splitting into train and test part"
   ]
  },
  {
   "cell_type": "code",
   "execution_count": 7,
   "metadata": {},
   "outputs": [],
   "source": [
    "#Split the dataset using randomSplit in a 90:10 ratio\n",
    "X_train, X_test = jester_ratings_df.randomSplit([0.9,0.1])   # 90:10 ratio"
   ]
  },
  {
   "cell_type": "code",
   "execution_count": 8,
   "metadata": {},
   "outputs": [
    {
     "name": "stdout",
     "output_type": "stream",
     "text": [
      "Training data size :  1585285\n",
      "Test data size :  176154\n"
     ]
    }
   ],
   "source": [
    "#Print the training data size and the test data size\n",
    "print(\"Training data size : \", X_train.count())\n",
    "print(\"Test data size : \", X_test.count())"
   ]
  },
  {
   "cell_type": "code",
   "execution_count": 9,
   "metadata": {},
   "outputs": [
    {
     "name": "stdout",
     "output_type": "stream",
     "text": [
      "+------+------+------------------+\n",
      "|userId|jokeId|            rating|\n",
      "+------+------+------------------+\n",
      "|     1|     7|            -9.281|\n",
      "|     1|     8|            -9.281|\n",
      "|     1|    13|-6.781000000000001|\n",
      "|     1|    15|             0.875|\n",
      "|     1|    16|            -9.656|\n",
      "+------+------+------------------+\n",
      "only showing top 5 rows\n",
      "\n"
     ]
    }
   ],
   "source": [
    "#Show the train set\n",
    "X_train.show(5)"
   ]
  },
  {
   "cell_type": "code",
   "execution_count": 10,
   "metadata": {},
   "outputs": [
    {
     "name": "stdout",
     "output_type": "stream",
     "text": [
      "+------+------+-------------------+\n",
      "|userId|jokeId|             rating|\n",
      "+------+------+-------------------+\n",
      "|     1|     5|0.21899999999999997|\n",
      "|     1|    29|              8.781|\n",
      "|     1|    50|              9.906|\n",
      "|     1|    66|  8.687999999999999|\n",
      "|     1|    69|  8.687999999999999|\n",
      "+------+------+-------------------+\n",
      "only showing top 5 rows\n",
      "\n"
     ]
    }
   ],
   "source": [
    "#Show the test set\n",
    "X_test.show(5)"
   ]
  },
  {
   "cell_type": "markdown",
   "metadata": {},
   "source": [
    "#### Step 3. Fitting an ALS model"
   ]
  },
  {
   "cell_type": "code",
   "execution_count": 11,
   "metadata": {},
   "outputs": [],
   "source": [
    "#Fit an ALS model with rank=5, maxIter=10 and Seed=0\n",
    "als = ALS(userCol=\"userId\",itemCol=\"jokeId\",ratingCol=\"rating\",rank=5, maxIter=10, seed=0, )\n",
    "model = als.fit(X_train)"
   ]
  },
  {
   "cell_type": "code",
   "execution_count": 12,
   "metadata": {},
   "outputs": [
    {
     "name": "stdout",
     "output_type": "stream",
     "text": [
      "+---+------------------------------------------------------------+\n",
      "|id |features                                                    |\n",
      "+---+------------------------------------------------------------+\n",
      "|10 |[-0.71043116, 0.5012814, -1.010544, 0.93265253, 0.47890794] |\n",
      "|40 |[0.87856364, -0.3649627, -1.7392969, -1.9242384, -0.6742972]|\n",
      "|50 |[0.5181268, -0.0895328, -1.4033533, 0.6592673, 2.206175]    |\n",
      "|60 |[-0.38699847, 0.22039635, 1.991712, -1.2445426, -4.902595]  |\n",
      "|80 |[1.082909, 2.9622498, -0.65711886, 2.8884735, 0.2750681]    |\n",
      "+---+------------------------------------------------------------+\n",
      "only showing top 5 rows\n",
      "\n"
     ]
    }
   ],
   "source": [
    "model.userFactors.show(5, truncate = False)  # displaying the latent features for five users"
   ]
  },
  {
   "cell_type": "markdown",
   "metadata": {},
   "source": [
    "#### Step 4. Making predictions"
   ]
  },
  {
   "cell_type": "code",
   "execution_count": 13,
   "metadata": {},
   "outputs": [],
   "source": [
    "predictions = model.transform(X_test[[\"userId\",\"jokeId\"]])  # passing userId and jokeId from test dataset as an argument "
   ]
  },
  {
   "cell_type": "code",
   "execution_count": 14,
   "metadata": {},
   "outputs": [
    {
     "name": "stdout",
     "output_type": "stream",
     "text": [
      "+------+------+-------------------+----------+\n",
      "|userId|jokeId|             rating|prediction|\n",
      "+------+------+-------------------+----------+\n",
      "|  5518|   148|  7.343999999999999| 7.3738794|\n",
      "| 28836|   148|              5.438| 1.5408345|\n",
      "| 32539|   148|              9.656| 3.8033004|\n",
      "| 41890|   148|-0.6559999999999999|-0.6798879|\n",
      "| 43714|   148|              1.844|  3.648929|\n",
      "+------+------+-------------------+----------+\n",
      "only showing top 5 rows\n",
      "\n"
     ]
    }
   ],
   "source": [
    "# joining X_test and prediction dataframe and also dropping the records for which no predictions made\n",
    "ratesAndPreds = X_test.join(other=predictions,on=['userId','jokeId'],how='inner').na.drop() \n",
    "ratesAndPreds.show(5)"
   ]
  },
  {
   "cell_type": "markdown",
   "metadata": {},
   "source": [
    "#### Step 5. Evaluating the model"
   ]
  },
  {
   "cell_type": "code",
   "execution_count": 15,
   "metadata": {},
   "outputs": [
    {
     "name": "stdout",
     "output_type": "stream",
     "text": [
      "RMSE :  4.383377894931288\n"
     ]
    }
   ],
   "source": [
    "# converting the columns into numpy arrays for direct and easy calculations \n",
    "rating = np.array(ratesAndPreds.select(\"rating\").collect()).ravel()\n",
    "prediction = np.array(ratesAndPreds.select(\"prediction\").collect()).ravel()\n",
    "print(\"RMSE : \", np.sqrt(np.mean((rating - prediction)**2)))"
   ]
  },
  {
   "cell_type": "markdown",
   "metadata": {},
   "source": [
    "#### Step 6. Recommending jokes"
   ]
  },
  {
   "cell_type": "code",
   "execution_count": 16,
   "metadata": {},
   "outputs": [
    {
     "name": "stdout",
     "output_type": "stream",
     "text": [
      "+------+------------------------------------------------------+\n",
      "|userId|recommendations                                       |\n",
      "+------+------------------------------------------------------+\n",
      "|148   |[[138, 13.617236], [115, 12.9109745], [80, 12.498299]]|\n",
      "|463   |[[15, 6.7115293], [16, 5.9902053], [17, 5.568451]]    |\n",
      "|471   |[[62, 5.756143], [122, 5.328079], [63, 5.1936283]]    |\n",
      "|496   |[[16, 6.6375237], [43, 6.5081167], [20, 6.137681]]    |\n",
      "|833   |[[127, 4.3381605], [80, 4.327071], [132, 4.056589]]   |\n",
      "+------+------------------------------------------------------+\n",
      "only showing top 5 rows\n",
      "\n"
     ]
    }
   ],
   "source": [
    "# recommending top 3 jokes for all the users with highest predicted rating \n",
    "model.recommendForAllUsers(3).show(5,truncate = False)"
   ]
  }
 ],
 "metadata": {
  "kernelspec": {
   "display_name": "Python 3",
   "language": "python",
   "name": "python3"
  },
  "language_info": {
   "codemirror_mode": {
    "name": "ipython",
    "version": 3
   },
   "file_extension": ".py",
   "mimetype": "text/x-python",
   "name": "python",
   "nbconvert_exporter": "python",
   "pygments_lexer": "ipython3",
   "version": "3.7.4"
  }
 },
 "nbformat": 4,
 "nbformat_minor": 1
}
