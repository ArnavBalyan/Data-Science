{
 "cells": [
  {
   "cell_type": "markdown",
   "metadata": {},
   "source": [
    "# Houses_Kc_Price_Prediction\n",
    "\n",
    "## Problem Statement:\n",
    "\n",
    "### House Data Price Prediction Using Multiple Regression and Backward Elimination Technique.\n",
    "\n",
    "\n",
    "## Concept Used: Multiple Regression & Backward Elimination Technique.\n",
    "\n",
    "## Description:\n",
    "\n",
    "#### Here in this business problem, we want to find out the prices of Houses in King County,USA. Here we are given many parameters which directly influence the prices of the houses. We need to find the best quoted value for the price considering all the dependent parameters and we need to observe which parameters plays a key role in price determination of the houses.\n",
    "\n",
    "### What is Multiple Regression and Backward Elimination Technique:\n",
    "\n",
    "#### MULTIPLE REGRESSION: Multiple regression is an extension of simple linear regression. It is used when we want to predict the value of an dependent variable based on the value of two or more other independent variables. The variable we want to predict is called the dependent variable (or sometimes, the outcome, target or criterion variable).\n",
    "\n",
    "#### BACKWARD ELIMINATION TECHNIQUE:Backward elimination is a feature selection technique while building a machine learning model. It is used to remove those features(independent variables) that do not have a significant effect on the dependent variable or prediction of output.\n",
    "\n",
    "#### Steps involved in backward Elimination Technique:\n",
    "\n",
    "1.)Select a significance level to stay in the model (eg. SL = 0.05)\n",
    "\n",
    "2.) Fit the model with all possible independent variables.\n",
    "\n",
    "3.) Consider the independent variable with the highest P-value. If P>SL, go to point 4.).\n",
    "\n",
    "4.)Remove this independent variable .\n",
    "\n",
    "5.) Fit the model without this variable and repeat the step 3.) until the condition becomes false.\n",
    "\n"
   ]
  },
  {
   "cell_type": "markdown",
   "metadata": {},
   "source": [
    "## We will explore the problem in following stages:\n",
    "\n",
    "Data Cleaning – Inputing missing values and removing null values in the data. (Cleaning the data in excel).\n",
    "\n",
    "Data Exploration - Checking which data is useful from the excel file . File the relevant parameters which are important for running regression model.\n",
    "\n",
    "Descriptive Analysis - Check which dependent parameters are correlated with each other . Try to do bivariate analysis for them to find some relationship between them.\n",
    "\n",
    "Model Building -  Apply Multiple Regression and Backward Elimination Technique.\n",
    "\n",
    "Predictive Analysis- Since this is a problem of PREDICTION ANALYSIS  use MULTIPLE REGRESSION ANALYSIS WITH BACKWARD ELIMINATION TECHNIQUE. Try to analyse the R squared value ( Cofficient of Determination ) and check p values for each independent parameters(features) to check their significance.\n",
    "\n"
   ]
  },
  {
   "cell_type": "markdown",
   "metadata": {},
   "source": [
    "# # Dataset Description\n",
    "\n",
    "The kc_house_data excel file contains our complete dataset. This data is colleceted through surveys and by estimation of analysts. We have total 21613 historical data prices for houses in USA.\n",
    "\n",
    "Independent Variables/Features: All are numerical Data\n",
    "\n",
    "id\n",
    "\n",
    "date\n",
    "\n",
    "bedrooms\n",
    "\n",
    "bathrooms\n",
    "\n",
    "sqft_living\n",
    "\n",
    "sqft_lot\n",
    "\n",
    "floors\n",
    "\n",
    "waterfront\n",
    "\n",
    "view\n",
    "\n",
    "condition\n",
    "\n",
    "grade\n",
    "\n",
    "sqft_above\n",
    "\n",
    "sqft_basement\n",
    "\n",
    "yr_built\n",
    "\n",
    "yr_renovated\n",
    "\n",
    "zipcode\n",
    "\n",
    "lat\n",
    "\n",
    "long\n",
    "\n",
    "sqft_living15\n",
    "\n",
    "sqft_lot15\n",
    "\n",
    "Dependent Variable - PRICE\n"
   ]
  },
  {
   "cell_type": "markdown",
   "metadata": {},
   "source": [
    "## Import all the necessary libraries"
   ]
  },
  {
   "cell_type": "code",
   "execution_count": 1,
   "metadata": {},
   "outputs": [],
   "source": [
    "# import the necessary packages to process or plot the data\n",
    "# i.e. pandas, numpy, matplotlib, matplotlib.pyplot, re, csv"
   ]
  },
  {
   "cell_type": "markdown",
   "metadata": {},
   "source": [
    "##  Read and see the csv file"
   ]
  },
  {
   "cell_type": "code",
   "execution_count": 2,
   "metadata": {},
   "outputs": [],
   "source": [
    "# read the file using read_csv function\n",
    "# using the head function see what is originlly present in the dataset"
   ]
  },
  {
   "cell_type": "markdown",
   "metadata": {},
   "source": [
    "## Shape of the dataset"
   ]
  },
  {
   "cell_type": "code",
   "execution_count": 3,
   "metadata": {},
   "outputs": [],
   "source": [
    "# check the shape of dataset using data.shape"
   ]
  },
  {
   "cell_type": "markdown",
   "metadata": {},
   "source": [
    "## Size of the dataset "
   ]
  },
  {
   "cell_type": "code",
   "execution_count": 4,
   "metadata": {},
   "outputs": [],
   "source": [
    "# check the shape of dataset using data.size"
   ]
  },
  {
   "cell_type": "markdown",
   "metadata": {},
   "source": [
    "## Description of all particular column of the datase"
   ]
  },
  {
   "cell_type": "code",
   "execution_count": 5,
   "metadata": {},
   "outputs": [],
   "source": [
    "# use data.describe to get details of all the columns"
   ]
  },
  {
   "cell_type": "markdown",
   "metadata": {},
   "source": [
    "## To see the datatypes for categorical data"
   ]
  },
  {
   "cell_type": "code",
   "execution_count": 6,
   "metadata": {},
   "outputs": [],
   "source": [
    "#checking for categorical data"
   ]
  },
  {
   "cell_type": "markdown",
   "metadata": {},
   "source": [
    "## Data Cleaning\n",
    "\n",
    "### To check the null values in the dataset"
   ]
  },
  {
   "cell_type": "code",
   "execution_count": 7,
   "metadata": {},
   "outputs": [],
   "source": [
    "# use issnull function to check number of nulls in each column"
   ]
  },
  {
   "cell_type": "markdown",
   "metadata": {},
   "source": [
    "## Drop id and date column as they are not relevant "
   ]
  },
  {
   "cell_type": "code",
   "execution_count": 8,
   "metadata": {},
   "outputs": [],
   "source": [
    "#dropping the id and date column using dataset.drop"
   ]
  },
  {
   "cell_type": "code",
   "execution_count": 9,
   "metadata": {},
   "outputs": [],
   "source": [
    "# print dataset to check"
   ]
  },
  {
   "cell_type": "markdown",
   "metadata": {},
   "source": [
    "## Do bivariate analysis and understand the distribution with seaborn."
   ]
  },
  {
   "cell_type": "code",
   "execution_count": 10,
   "metadata": {},
   "outputs": [],
   "source": [
    "#understanding the distribution with seaborn"
   ]
  },
  {
   "cell_type": "markdown",
   "metadata": {},
   "source": [
    "## Seprate independent and dependent variables using dataset.iloc "
   ]
  },
  {
   "cell_type": "code",
   "execution_count": 11,
   "metadata": {},
   "outputs": [],
   "source": [
    "#separating independent and dependent variable"
   ]
  },
  {
   "cell_type": "markdown",
   "metadata": {},
   "source": [
    "## Split dataset into training and testing data in a ratio of 3:1"
   ]
  },
  {
   "cell_type": "code",
   "execution_count": 12,
   "metadata": {},
   "outputs": [],
   "source": [
    "#splitting dataset into training and testing dataset using sklearn.model_selection"
   ]
  },
  {
   "cell_type": "markdown",
   "metadata": {},
   "source": [
    "## From  sklearn.linear_model import LinearRegression Module "
   ]
  },
  {
   "cell_type": "code",
   "execution_count": 13,
   "metadata": {},
   "outputs": [],
   "source": [
    "#from sklearn.linear_model import LinearRegression"
   ]
  },
  {
   "cell_type": "markdown",
   "metadata": {},
   "source": [
    "##  Apply Backward Elimination Technique to find significant independent variables(features)"
   ]
  },
  {
   "cell_type": "code",
   "execution_count": 14,
   "metadata": {},
   "outputs": [],
   "source": [
    "#Backward Elimination  (see below how to use using statsmodel)\n",
    "#import statsmodels.api as sm\n",
    "#def backwardElimination(x, SL):"
   ]
  },
  {
   "cell_type": "markdown",
   "metadata": {},
   "source": [
    "##  Check Regression Results and write a conclusion for the same"
   ]
  }
 ],
 "metadata": {
  "kernelspec": {
   "display_name": "Python 3",
   "language": "python",
   "name": "python3"
  },
  "language_info": {
   "codemirror_mode": {
    "name": "ipython",
    "version": 3
   },
   "file_extension": ".py",
   "mimetype": "text/x-python",
   "name": "python",
   "nbconvert_exporter": "python",
   "pygments_lexer": "ipython3",
   "version": "3.8.1"
  }
 },
 "nbformat": 4,
 "nbformat_minor": 4
}
