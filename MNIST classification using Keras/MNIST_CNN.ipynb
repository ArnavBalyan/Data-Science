{
 "cells": [
  {
   "cell_type": "markdown",
   "metadata": {
    "colab_type": "text",
    "id": "LxjUOqbicMOa"
   },
   "source": [
    "## MNIST Classification using CNNs\n",
    "\n",
    "MNIST (\"Modified National Institute of Standards and Technology\") is the de facto “hello world” dataset of computer vision. Since its release in 1999, this classic dataset of handwritten images has served as the basis for benchmarking classification algorithms. As new machine learning techniques emerge, MNIST remains a reliable resource for researchers and learners alike.\n",
    "\n",
    "The data files contain gray-scale images of hand-drawn digits, from zero through nine."
   ]
  },
  {
   "cell_type": "markdown",
   "metadata": {
    "colab_type": "text",
    "id": "GTQlTR2Scks4"
   },
   "source": [
    "## Importing Keras Modules\n"
   ]
  },
  {
   "cell_type": "code",
   "execution_count": 1,
   "metadata": {
    "colab": {
     "base_uri": "https://localhost:8080/",
     "height": 51
    },
    "colab_type": "code",
    "executionInfo": {
     "elapsed": 6634,
     "status": "ok",
     "timestamp": 1541158837405,
     "user": {
      "displayName": "Raghavendra Puranam",
      "photoUrl": "",
      "userId": "16027566750658215575"
     },
     "user_tz": -330
    },
    "id": "1ve46hnH315r",
    "outputId": "581a0d02-1b90-408c-d715-07849dcfd6db"
   },
   "outputs": [],
   "source": [
    "# Importing important modules\n",
    "# Hint -> MNIST dataset is a part of keras datasets modules\n",
    "\n",
    "\n",
    "\n",
    "\n",
    "\n",
    "\n"
   ]
  },
  {
   "cell_type": "markdown",
   "metadata": {
    "colab_type": "text",
    "id": "OKVkkLaLdPGU"
   },
   "source": [
    "## Loading the Dataset"
   ]
  },
  {
   "cell_type": "markdown",
   "metadata": {
    "colab_type": "text",
    "id": "JK0ZRJoxhrFe"
   },
   "source": [
    "#### Download train and test sets of  MNIST dataset"
   ]
  },
  {
   "cell_type": "code",
   "execution_count": 2,
   "metadata": {
    "colab": {},
    "colab_type": "code",
    "id": "Jv3nQR9L4WE2"
   },
   "outputs": [],
   "source": [
    "# the data, split between train and test sets. The function mnist.load_data() will provide more information about this.\n",
    "\n",
    "\n"
   ]
  },
  {
   "cell_type": "markdown",
   "metadata": {
    "colab_type": "text",
    "id": "PEcVz-OotHWM"
   },
   "source": [
    "#### Visualizing the dataset"
   ]
  },
  {
   "cell_type": "code",
   "execution_count": 3,
   "metadata": {
    "colab": {
     "base_uri": "https://localhost:8080/",
     "height": 486
    },
    "colab_type": "code",
    "executionInfo": {
     "elapsed": 10203,
     "status": "ok",
     "timestamp": 1541158851035,
     "user": {
      "displayName": "Raghavendra Puranam",
      "photoUrl": "",
      "userId": "16027566750658215575"
     },
     "user_tz": -330
    },
    "id": "dqpGua7ZqUdV",
    "outputId": "c88c4cb7-a2d7-426c-a861-e322e0b76b13"
   },
   "outputs": [],
   "source": [
    "# Hint -> Do not forget to use the magic function\n",
    "\n",
    "\n",
    "\n",
    "\n",
    "\n"
   ]
  },
  {
   "cell_type": "markdown",
   "metadata": {
    "colab_type": "text",
    "id": "0D29eowNhmU8"
   },
   "source": [
    "#### Reshape train and test sets into shapes compatible with keras models\n"
   ]
  },
  {
   "cell_type": "code",
   "execution_count": 0,
   "metadata": {
    "colab": {},
    "colab_type": "code",
    "id": "KYCYajiwdozQ"
   },
   "outputs": [],
   "source": [
    "# input image dimensions\n",
    "\n",
    "\n",
    "#Keras expects data to be in the format (N_E.N_H,N_W,N_C)\n",
    "#N_E = Number of Examples, N_H = height, N_W = Width, N_C = Number of Channels.\n",
    "\n"
   ]
  },
  {
   "cell_type": "markdown",
   "metadata": {
    "colab_type": "text",
    "id": "kMGQuoyNiqmL"
   },
   "source": [
    "## Pre-processing the dataset\n",
    "\n",
    "#### Normalizing the input"
   ]
  },
  {
   "cell_type": "code",
   "execution_count": 4,
   "metadata": {
    "colab": {
     "base_uri": "https://localhost:8080/",
     "height": 68
    },
    "colab_type": "code",
    "executionInfo": {
     "elapsed": 1408,
     "status": "ok",
     "timestamp": 1541158853967,
     "user": {
      "displayName": "Raghavendra Puranam",
      "photoUrl": "",
      "userId": "16027566750658215575"
     },
     "user_tz": -330
    },
    "id": "M1kXqqfV4d_b",
    "outputId": "180319dd-5316-4102-d16b-66b48e65f750"
   },
   "outputs": [],
   "source": [
    "#Normalizing the input\n",
    "\n",
    "\n"
   ]
  },
  {
   "cell_type": "markdown",
   "metadata": {
    "colab_type": "text",
    "id": "N8TE7MoZi_w7"
   },
   "source": [
    "#### Convert Labels from digits to one hot vectors"
   ]
  },
  {
   "cell_type": "code",
   "execution_count": 5,
   "metadata": {
    "colab": {},
    "colab_type": "code",
    "id": "cqh-cVtT4ijU"
   },
   "outputs": [],
   "source": [
    "# convert class vectors to binary class matrices\n",
    "# Hint -> Keras.utils module might come in handy\n",
    "\n",
    "\n"
   ]
  },
  {
   "cell_type": "code",
   "execution_count": null,
   "metadata": {
    "colab": {
     "base_uri": "https://localhost:8080/",
     "height": 34
    },
    "colab_type": "code",
    "executionInfo": {
     "elapsed": 2520,
     "status": "ok",
     "timestamp": 1541158862354,
     "user": {
      "displayName": "Raghavendra Puranam",
      "photoUrl": "",
      "userId": "16027566750658215575"
     },
     "user_tz": -330
    },
    "id": "yMfUrCYO5VeA",
    "outputId": "abf50cce-ddad-49f6-eb14-60bc36271f98"
   },
   "outputs": [],
   "source": []
  },
  {
   "cell_type": "markdown",
   "metadata": {
    "colab_type": "text",
    "id": "QV4R9IbjjOVT"
   },
   "source": [
    "## Building the CNN \n",
    "\n",
    "#### Define the layers of model"
   ]
  },
  {
   "cell_type": "code",
   "execution_count": 0,
   "metadata": {
    "colab": {},
    "colab_type": "code",
    "id": "7sse4G5d4lpY"
   },
   "outputs": [],
   "source": [
    "#Initialize the model\n",
    "\n",
    "\n",
    "#Add a Convolutional Layer with 32 filters of size 3X3 and activation function as 'ReLU' \n",
    "\n",
    "\n",
    "#Add a Convolutional Layer with 64 filters of size 3X3 and activation function as 'ReLU' \n",
    "\n",
    "\n",
    "#Add a MaxPooling Layer of size 2X2 \n",
    "\n",
    "\n",
    "#Apply Dropout with 0.25 probability \n",
    "\n",
    "\n",
    "#Flatten the layer\n",
    "\n",
    "\n",
    "#Add Fully Connected Layer with 128 units and activation function as 'ReLU'\n",
    "\n",
    "\n",
    "#Apply Dropout with 0.5 probability \n",
    "\n",
    "\n",
    "#Add Fully Connected Layer with 10 units and activation function as 'softmax'\n"
   ]
  },
  {
   "cell_type": "markdown",
   "metadata": {
    "colab_type": "text",
    "id": "iDYmge-AlJTX"
   },
   "source": [
    "#### Setting Optimizer and Loss function for training"
   ]
  },
  {
   "cell_type": "code",
   "execution_count": 0,
   "metadata": {
    "colab": {},
    "colab_type": "code",
    "id": "W-y6cZaL4p6R"
   },
   "outputs": [],
   "source": [
    "#To use adam optimizer for learning weights with learning rate = 0.001\n",
    "\n",
    "\n",
    "#Set the loss function and optimizer for the model training\n",
    "\n",
    "\n"
   ]
  },
  {
   "cell_type": "markdown",
   "metadata": {
    "colab_type": "text",
    "id": "wVHOojpJlvVa"
   },
   "source": [
    "## Training the CNN "
   ]
  },
  {
   "cell_type": "markdown",
   "metadata": {
    "colab_type": "text",
    "id": "Oe1YtBzrmCaL"
   },
   "source": [
    "#### Initializing Early stopping and Model chekpoint callbacks"
   ]
  },
  {
   "cell_type": "code",
   "execution_count": 7,
   "metadata": {
    "colab": {},
    "colab_type": "code",
    "id": "WJ3u9GaFl-Xl"
   },
   "outputs": [],
   "source": [
    "#Adding Early stopping callback to the fit function is going to stop the training,\n",
    "#if the val_loss is not going to change even '0.001' for more than 10 continous epochs\n",
    "\n",
    "\n",
    "#Adding Model Checkpoint callback to the fit function is going to save the weights whenever val_loss achieves a new low value. \n",
    "#Hence saving the best weights occurred during training\n",
    "\n"
   ]
  },
  {
   "cell_type": "markdown",
   "metadata": {
    "colab_type": "text",
    "id": "wJIhBhbDmZ8U"
   },
   "source": [
    "<h4>Fit the model to the dataset</h4>"
   ]
  },
  {
   "cell_type": "code",
   "execution_count": 6,
   "metadata": {
    "colab": {
     "base_uri": "https://localhost:8080/",
     "height": 887
    },
    "colab_type": "code",
    "executionInfo": {
     "elapsed": 113259,
     "status": "ok",
     "timestamp": 1541158997518,
     "user": {
      "displayName": "Raghavendra Puranam",
      "photoUrl": "",
      "userId": "16027566750658215575"
     },
     "user_tz": -330
    },
    "id": "QDBvTM2B4smP",
    "outputId": "cda97ef5-4241-4d1c-dc7a-01b874564e5f"
   },
   "outputs": [],
   "source": [
    "#Training on the dataset and adding the all the callbacks to the fit function.\n",
    "\n",
    "\n"
   ]
  },
  {
   "cell_type": "markdown",
   "metadata": {
    "colab_type": "text",
    "id": "U3WWyAm_me96"
   },
   "source": [
    "## Evaluating the CNN"
   ]
  },
  {
   "cell_type": "markdown",
   "metadata": {
    "colab_type": "text",
    "id": "_DnRZGxSmi5C"
   },
   "source": [
    "#### Evaluate trained model on the test set"
   ]
  },
  {
   "cell_type": "code",
   "execution_count": 8,
   "metadata": {
    "colab": {
     "base_uri": "https://localhost:8080/",
     "height": 68
    },
    "colab_type": "code",
    "executionInfo": {
     "elapsed": 2459,
     "status": "ok",
     "timestamp": 1541159000031,
     "user": {
      "displayName": "Raghavendra Puranam",
      "photoUrl": "",
      "userId": "16027566750658215575"
     },
     "user_tz": -330
    },
    "id": "q4oZhZm34v_R",
    "outputId": "74e82d7f-4191-45e4-de73-433549384b4b"
   },
   "outputs": [],
   "source": [
    "#Testing the model on test set\n",
    "\n",
    "\n"
   ]
  },
  {
   "cell_type": "markdown",
   "metadata": {
    "colab_type": "text",
    "id": "tWuDdzf0rgf-"
   },
   "source": [
    "#### Visualizing some predictions"
   ]
  },
  {
   "cell_type": "code",
   "execution_count": 10,
   "metadata": {
    "colab": {
     "base_uri": "https://localhost:8080/",
     "height": 812
    },
    "colab_type": "code",
    "executionInfo": {
     "elapsed": 2435,
     "status": "ok",
     "timestamp": 1541159002503,
     "user": {
      "displayName": "Raghavendra Puranam",
      "photoUrl": "",
      "userId": "16027566750658215575"
     },
     "user_tz": -330
    },
    "id": "fiT52J2Gqk2D",
    "outputId": "6f643780-1cc0-49a2-843e-b509a3cd4451"
   },
   "outputs": [],
   "source": [
    "# try to print and predict the class of the image\n",
    "\n",
    "\n",
    "\n",
    "\n"
   ]
  },
  {
   "cell_type": "markdown",
   "metadata": {
    "colab_type": "text",
    "id": "Fvl0nK6pmsmt"
   },
   "source": [
    "## Saving the CNN"
   ]
  },
  {
   "cell_type": "markdown",
   "metadata": {
    "colab_type": "text",
    "id": "xM4Ram-pmyPd"
   },
   "source": [
    "#### Save the trained weights and model in h5 files"
   ]
  },
  {
   "cell_type": "code",
   "execution_count": 9,
   "metadata": {
    "colab": {},
    "colab_type": "code",
    "id": "fhTA0qnm85kH"
   },
   "outputs": [],
   "source": [
    "#Set the path where you want to store the model and weights. \n",
    "\n",
    "\n"
   ]
  }
 ],
 "metadata": {
  "accelerator": "GPU",
  "colab": {
   "collapsed_sections": [],
   "name": "Copy of MNIST_CNN_Colab.ipynb",
   "provenance": [
    {
     "file_id": "1Lj-35z4WLgF_EqrYSnx8IoHOpeXgul_B",
     "timestamp": 1541158790903
    },
    {
     "file_id": "1aTQHl2TtZ6hgfRtT21_-IPSs4Dvfpq-R",
     "timestamp": 1541154899988
    },
    {
     "file_id": "1JkxRwvKgKyHNNN5irKy-9U4-vdc0_HjF",
     "timestamp": 1539342142738
    }
   ],
   "toc_visible": true,
   "version": "0.3.2"
  },
  "kernelspec": {
   "display_name": "Python 3",
   "language": "python",
   "name": "python3"
  },
  "language_info": {
   "codemirror_mode": {
    "name": "ipython",
    "version": 3
   },
   "file_extension": ".py",
   "mimetype": "text/x-python",
   "name": "python",
   "nbconvert_exporter": "python",
   "pygments_lexer": "ipython3",
   "version": "3.7.6"
  }
 },
 "nbformat": 4,
 "nbformat_minor": 1
}
